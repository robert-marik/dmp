{
 "cells": [
  {
   "cell_type": "markdown",
   "metadata": {},
   "source": [
    "# Obrázky, grafy"
   ]
  },
  {
   "cell_type": "code",
   "execution_count": null,
   "metadata": {},
   "outputs": [],
   "source": [
    "import matplotlib.pyplot as plt\n",
    "import numpy as np\n",
    "import pandas as pd"
   ]
  },
  {
   "cell_type": "code",
   "execution_count": null,
   "metadata": {},
   "outputs": [],
   "source": [
    "x = np.linspace(-2,2,100)\n",
    "y = x**2\n",
    "z = x**3\n"
   ]
  },
  {
   "cell_type": "code",
   "execution_count": null,
   "metadata": {},
   "outputs": [],
   "source": [
    "plt.plot(x,y)\n",
    "plt.plot(x,z)"
   ]
  },
  {
   "cell_type": "code",
   "execution_count": null,
   "metadata": {},
   "outputs": [],
   "source": [
    "fig, ax = plt.subplots(1, figsize = (10,4))\n",
    "ax.plot(x,y)\n",
    "ax.plot(x,z)\n",
    "ax.set(\n",
    "    title=\"Nadpis\",\n",
    "    xlabel=\"Popisek na ose x\",\n",
    "    ylabel=\"Popisek na ose y\",\n",
    "    xlim = (-1,None),\n",
    "    ylim = (-2,4)\n",
    ")"
   ]
  },
  {
   "cell_type": "code",
   "execution_count": null,
   "metadata": {},
   "outputs": [],
   "source": [
    "plt.plot(x,y,label=\"parabola\")\n",
    "plt.plot(x,z,label=\"kubická parabola\")\n",
    "plt.legend()\n",
    "plt.grid()"
   ]
  },
  {
   "cell_type": "code",
   "execution_count": null,
   "metadata": {},
   "outputs": [],
   "source": [
    "fig,ax = plt.subplots(2,1,sharex=True)\n",
    "ax[0].plot(x,y,label=\"parabola\")\n",
    "ax[1].plot(x,z,label=\"kubická parabola\")\n",
    "for i,j in zip(ax,[\"kvadratické\",\"kubické\"]):\n",
    "    i.legend()\n",
    "    i.set(title=\"Graf \"+j+\" funkce\")\n"
   ]
  },
  {
   "cell_type": "code",
   "execution_count": null,
   "metadata": {},
   "outputs": [],
   "source": [
    "fig,ax = plt.subplots(3,1,sharex=True)\n",
    "for i,k in enumerate([2,4,8]):\n",
    "    ax[i].plot(x,np.sin(k*x),color=f\"C{i}\",label=f\"$\\sin({k}x)$\")\n",
    "\n",
    "plt.suptitle(\"Grafy některých goniometrických funkcí\")    \n",
    "ax[2].set(xlabel=\"úhel (rad)\")\n",
    "fig.legend()"
   ]
  },
  {
   "cell_type": "code",
   "execution_count": null,
   "metadata": {},
   "outputs": [],
   "source": [
    "pocet = 100\n",
    "x = np.random.random(pocet)\n",
    "sum = np.random.random(pocet)\n",
    "y = np.exp(3*x)*(1+0.4*sum)\n",
    "fig, ax = plt.subplots(1)\n",
    "plt.plot(x,y,\".\")\n",
    "#ax.set(yscale=\"log\")"
   ]
  },
  {
   "cell_type": "code",
   "execution_count": null,
   "metadata": {},
   "outputs": [],
   "source": [
    "x = np.linspace(0,1,100)\n",
    "y = x**2\n",
    "fig,ax = plt.subplots(1)\n",
    "ax.plot(x,y)\n",
    "# ax.set(\n",
    "#     xlim=(None,None),\n",
    "#     ylim=(-1,None),\n",
    "#     title=\"Můj graf\",\n",
    "#     xlabel=\"osa x\",\n",
    "#     ylabel=\"osa y\",\n",
    "# )\n",
    "# plt.grid()\n"
   ]
  },
  {
   "cell_type": "code",
   "execution_count": null,
   "metadata": {},
   "outputs": [],
   "source": [
    "x = np.linspace(0,1,100)\n",
    "df = pd.DataFrame(index=x)\n",
    "df[\"y1\"] = x**2\n",
    "df[\"y2\"] = x**2+.5\n",
    "fig,ax = plt.subplots(1)\n",
    "df.plot(ax=ax)\n",
    "# ax.set(\n",
    "#     xlim=(None,None),\n",
    "#     ylim=(-1,None),\n",
    "#     title=\"Můj graf\",\n",
    "#     xlabel=\"osa x\",\n",
    "#     ylabel=\"osa y\",\n",
    "# )\n",
    "# plt.grid()"
   ]
  },
  {
   "cell_type": "code",
   "execution_count": null,
   "metadata": {},
   "outputs": [],
   "source": []
  },
  {
   "cell_type": "code",
   "execution_count": null,
   "metadata": {},
   "outputs": [],
   "source": []
  },
  {
   "cell_type": "code",
   "execution_count": null,
   "metadata": {},
   "outputs": [],
   "source": []
  }
 ],
 "metadata": {
  "kernelspec": {
   "display_name": "Python 3 (ipykernel)",
   "language": "python",
   "name": "python3"
  },
  "language_info": {
   "codemirror_mode": {
    "name": "ipython",
    "version": 3
   },
   "file_extension": ".py",
   "mimetype": "text/x-python",
   "name": "python",
   "nbconvert_exporter": "python",
   "pygments_lexer": "ipython3",
   "version": "3.10.10"
  },
  "vscode": {
   "interpreter": {
    "hash": "31f2aee4e71d21fbe5cf8b01ff0e069b9275f58929596ceb00d14d90e3e16cd6"
   }
  }
 },
 "nbformat": 4,
 "nbformat_minor": 4
}
