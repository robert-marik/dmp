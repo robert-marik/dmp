{
 "cells": [
  {
   "cell_type": "markdown",
   "id": "99149772",
   "metadata": {},
   "source": [
    "# Kreslení funkcí pro pokročilé\n",
    "\n",
    "Jednoduché úkoly je vhodné řešit jednoduše a nejjednodušší je data kreslit do grafu rovnou po výpočtu. Ve složitějších modelech se však data počítají dlouho a je proto nejlepší je nejprve vypočítat a potom vykreslit. K ukládání se hodí tabulky. Snadné je použití knihovny Pandas.\n",
    "\n",
    "Je dobré nejprve zavolat knihovny a nastavit proměnné, sestavit tabulku, vykreslit grafy a poté dodělat kosmetické úpravy. To je v jednotlivých políčkách. Na konci práce bude asi vhodné poslední čtyři políčka spojit. Zkontrolujte, že jste v příkazovém modu (needitujete políčko, nalevo je modrá čára a ne zelená), označte spojované buňky (shift plus šipky) a spojte (shift + M). Případně neznačujte a shift+M připojí následující buňku. Stejnou práci odvede Menu -> Edit -> Merge Cell Bellow)."
   ]
  },
  {
   "cell_type": "code",
   "execution_count": null,
   "id": "a9e2e07b",
   "metadata": {
    "ExecuteTime": {
     "end_time": "2023-02-10T10:25:41.990572Z",
     "start_time": "2023-02-10T10:25:41.047826Z"
    }
   },
   "outputs": [],
   "source": [
    "import numpy as np\n",
    "import matplotlib.pyplot as plt\n",
    "import pandas as pd"
   ]
  },
  {
   "cell_type": "code",
   "execution_count": null,
   "id": "b83ae627",
   "metadata": {
    "ExecuteTime": {
     "end_time": "2023-02-10T10:30:32.308451Z",
     "start_time": "2023-02-10T10:30:31.936877Z"
    }
   },
   "outputs": [],
   "source": [
    "N = 500\n",
    "meze = [0,1]\n",
    "lov = [0,0.1,0.2,0.3]"
   ]
  },
  {
   "cell_type": "code",
   "execution_count": null,
   "id": "0b7250c7",
   "metadata": {
    "ExecuteTime": {
     "end_time": "2023-02-10T10:30:32.308451Z",
     "start_time": "2023-02-10T10:30:31.936877Z"
    }
   },
   "outputs": [],
   "source": [
    "x = np.linspace(*meze,N)\n",
    "def logisticky_rust(x,h=0):\n",
    "    \"\"\"\n",
    "    Funkce definuje pravou stranu logisticke rovnice s pridanym lovem konstantni intenzity.\n",
    "    \"\"\"\n",
    "    r = 1\n",
    "    K = 1\n",
    "    return(x*r*(1-x/K) - h)"
   ]
  },
  {
   "cell_type": "code",
   "execution_count": null,
   "id": "8b838728",
   "metadata": {
    "ExecuteTime": {
     "end_time": "2023-02-10T10:30:32.308451Z",
     "start_time": "2023-02-10T10:30:31.936877Z"
    }
   },
   "outputs": [],
   "source": [
    "# První metoda, výpočet dat a poté vložení do tabulky\n",
    "data = [logisticky_rust(x,h=h) for h in lov]\n",
    "df = pd.DataFrame(data).T\n",
    "df.columns = lov\n",
    "df.index = x\n",
    "\n",
    "# Druhá metoda, skládání tabulky po sloupcích\n",
    "# df = pd.DataFrame()\n",
    "# df.index = x\n",
    "# for h in lov:\n",
    "#     df[h] = logisticky_rust(x,h=h)\n",
    "\n",
    "# Varianta obou, data vypočteme po sloupcích a potom sestavíme tabulku\n",
    "#\n",
    "# data = np.full([len(x),len(lov)],np.nan)\n",
    "# for i,h in enumerate(lov):\n",
    "#     data[:,i] = logisticky_rust(x,h=h)\n",
    "# df = pd.DataFrame(data, columns=lov)\n",
    "# df.index = x\n",
    "df"
   ]
  },
  {
   "cell_type": "code",
   "execution_count": null,
   "id": "d575adaf",
   "metadata": {
    "ExecuteTime": {
     "end_time": "2023-02-10T10:30:32.308451Z",
     "start_time": "2023-02-10T10:30:31.936877Z"
    }
   },
   "outputs": [],
   "source": [
    "fig, ax = plt.subplots()\n",
    "df.plot(ax=ax)"
   ]
  },
  {
   "cell_type": "code",
   "execution_count": null,
   "id": "31e212a8",
   "metadata": {
    "ExecuteTime": {
     "end_time": "2023-02-10T10:31:05.647966Z",
     "start_time": "2023-02-10T10:31:05.445974Z"
    }
   },
   "outputs": [],
   "source": [
    "ax.legend(lov, title=\"Intenzita lovu\")\n",
    "ax.set(title=\"Vliv lovu na logistický růst\", \n",
    "      xlabel=\"velikost populace\",\n",
    "      ylabel=\"rychlost růstu\", \n",
    "      ylim=(0,None))\n",
    "ax.grid()\n",
    "fig"
   ]
  },
  {
   "cell_type": "code",
   "execution_count": null,
   "id": "d179ba9d",
   "metadata": {},
   "outputs": [],
   "source": []
  }
 ],
 "metadata": {
  "kernelspec": {
   "display_name": "Python 3 (ipykernel)",
   "language": "python",
   "name": "python3"
  },
  "language_info": {
   "codemirror_mode": {
    "name": "ipython",
    "version": 3
   },
   "file_extension": ".py",
   "mimetype": "text/x-python",
   "name": "python",
   "nbconvert_exporter": "python",
   "pygments_lexer": "ipython3",
   "version": "3.10.10"
  },
  "vscode": {
   "interpreter": {
    "hash": "916dbcbb3f70747c44a77c7bcd40155683ae19c65e1c03b4aa3499c5328201f1"
   }
  }
 },
 "nbformat": 4,
 "nbformat_minor": 5
}
