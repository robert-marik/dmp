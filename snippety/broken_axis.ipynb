{
 "cells": [
  {
   "attachments": {},
   "cell_type": "markdown",
   "id": "4e8f7231",
   "metadata": {},
   "source": [
    "# Graf s přerušenou osou\n",
    "\n",
    "Někdy potřebujeme vykreslit data, která mají velký rozsah, ale rádi bychom odfiltrovali nějakou část, která nás nezajímá. Zde je ukázka. Jedna z křivek v orbázku má vysoké peaky a pokus by na svislé ose byl celý rozsah, přišli bychom o detaily mimo tyto peaky.\n",
    "\n",
    "* Jedná se o model cikád, kdy v závislosti na délce larválního stadia buď dochází nebo nedochází k masivnímu synchronizovanému výskytu. \n",
    "* Model je z publikace Murray, Mathematical biology, viz [přednáška](../prednaska/11.md)."
   ]
  },
  {
   "cell_type": "code",
   "execution_count": null,
   "id": "c2047230",
   "metadata": {
    "ExecuteTime": {
     "end_time": "2023-04-03T16:05:34.686287Z",
     "start_time": "2023-04-03T16:05:34.540932Z"
    }
   },
   "outputs": [],
   "source": [
    "import numpy as np  # knihovna pro numerické výpočty\n",
    "import matplotlib.pyplot as plt  # knihovna pro grafiku\n",
    "from brokenaxes import brokenaxes\n",
    "\n",
    "def cikady(\n",
    "    a=.042, # parametry populace (Murray)\n",
    "    f=10,\n",
    "    D=10000,\n",
    "    nu=.95,\n",
    "    mu=.95,\n",
    "    k=4, # perioda cikad\n",
    "    N = 200, # delka simulace\n",
    "    n0 = 100 # pocatecni hodnoty\n",
    "    ):\n",
    "\n",
    "    n = np.zeros(N)\n",
    "    p = np.zeros(N)\n",
    "    n[0:k] = n0\n",
    "\n",
    "    for t in range(k-1,N-1):\n",
    "        p[t+1] = nu*p[t] + a*mu**k*n[t-k]\n",
    "        c = max(\n",
    "              0,\n",
    "              D-sum([mu**(i)*n[t+1-i] for i in range(1,k)])\n",
    "              )\n",
    "        M = max(\n",
    "              0,\n",
    "              f*(mu**k*n[t+1-k]-p[t+1])\n",
    "              )\n",
    "        n[t+1] = min(M,c)\n",
    "    return n\n",
    "\n",
    "bax = brokenaxes(ylims=((0, 3), (8, 10.5)))\n",
    "bax.plot(cikady(k=17)/1000, label=\"17 let\")\n",
    "bax.plot(cikady(k=4)/1000, label=\"4 roky\")\n",
    "bax.set_ylabel(\"Velikost populace cikád (v tisících jedinců)\")\n",
    "bax.set_xlabel(\"Generace cikád\")\n",
    "bax.legend(title=\"Délka stadia larvy\",loc=\"upper center\")\n",
    "plt.title(\"Simulace dynamiky růstu různých druhů cikád\");"
   ]
  },
  {
   "attachments": {},
   "cell_type": "markdown",
   "id": "f10c33cf",
   "metadata": {},
   "source": [
    "Je možné vynechat i část vodorovné osy."
   ]
  },
  {
   "cell_type": "code",
   "execution_count": null,
   "id": "e7809bc2",
   "metadata": {},
   "outputs": [],
   "source": [
    "bax = brokenaxes(xlims=((0,40),(160,200)))\n",
    "bax.plot(cikady(k=17)/1000, label=\"17 let\")\n",
    "bax.plot(cikady(k=4)/1000, label=\"4 roky\")\n",
    "bax.set_ylabel(\"Velikost populace cikád (v tisících jedinců)\")\n",
    "bax.set_xlabel(\"Generace cikád\")\n",
    "bax.legend(title=\"Délka stadia larvy\",loc=\"upper center\")\n",
    "plt.title(\"Simulace dynamiky růstu různých druhů cikád\");"
   ]
  },
  {
   "attachments": {},
   "cell_type": "markdown",
   "id": "7cccc56b",
   "metadata": {},
   "source": [
    "Pro srovnání obrázek bez přerušené osy."
   ]
  },
  {
   "cell_type": "code",
   "execution_count": null,
   "id": "bcbdeac0",
   "metadata": {},
   "outputs": [],
   "source": [
    "plt.plot(cikady(k=17)/1000, label=\"17 let\")\n",
    "plt.plot(cikady(k=4)/1000, label=\"4 roky\")\n",
    "plt.gca().set(ylabel =\"Velikost populace cikád (v tisících jedinců)\",\n",
    "        xlabel=\"Generace cikád\")\n",
    "plt.legend(title=\"Délka stadia larvy\")\n",
    "plt.title(\"Simulace dynamiky růstu různých druhů cikád\");"
   ]
  },
  {
   "cell_type": "code",
   "execution_count": null,
   "id": "c48f819e-1d01-4c50-a99b-ccc92c1f4900",
   "metadata": {},
   "outputs": [],
   "source": []
  }
 ],
 "metadata": {
  "kernelspec": {
   "display_name": "Python 3 (ipykernel)",
   "language": "python",
   "name": "python3"
  },
  "language_info": {
   "codemirror_mode": {
    "name": "ipython",
    "version": 3
   },
   "file_extension": ".py",
   "mimetype": "text/x-python",
   "name": "python",
   "nbconvert_exporter": "python",
   "pygments_lexer": "ipython3",
   "version": "3.10.10"
  }
 },
 "nbformat": 4,
 "nbformat_minor": 5
}
