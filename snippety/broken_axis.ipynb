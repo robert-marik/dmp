{
 "cells": [
  {
   "attachments": {},
   "cell_type": "markdown",
   "id": "4e8f7231",
   "metadata": {},
   "source": [
    "# Graf s přerušenou osou\n",
    "\n",
    "Někdy potřebujeme vykreslit data, která mají velký rozsah, ale rádi bychom odfiltrovali nějakou část, která nás nezajímá. Zde je ukázka.\n",
    "\n",
    "* Načteme data o spotřebě vody.\n",
    "* Přeuspořádáme tak, aby byla data snadno vizualizovatelná.\n",
    "* Vykreslíme data. Vidíme, že jedna křivka je řádově jinde, než křivky ostatní.\n",
    "* Modifikujeme obrázek zavedením přerušené svislé osy."
   ]
  },
  {
   "cell_type": "code",
   "execution_count": null,
   "id": "c2047230",
   "metadata": {
    "ExecuteTime": {
     "end_time": "2023-04-03T16:05:34.686287Z",
     "start_time": "2023-04-03T16:05:34.540932Z"
    }
   },
   "outputs": [],
   "source": [
    "import pandas as pd\n",
    "from brokenaxes import brokenaxes\n",
    "\n",
    "df = pd.read_csv(\"data_povrchove_vody.csv\")\n",
    "df"
   ]
  },
  {
   "attachments": {},
   "cell_type": "markdown",
   "id": "cdbf0c6e",
   "metadata": {},
   "source": [
    "Jediný příkaz přetvoří z tzv. *long* formátu do *wide* formátu."
   ]
  },
  {
   "cell_type": "code",
   "execution_count": null,
   "id": "9e9b8c88",
   "metadata": {
    "ExecuteTime": {
     "end_time": "2023-04-03T16:02:45.412143Z",
     "start_time": "2023-04-03T16:02:45.390315Z"
    }
   },
   "outputs": [],
   "source": [
    "df2 = df.pivot(columns=\"Odvětví\",values=\"Hodnota\", index=\"Rok\")\n",
    "df2"
   ]
  },
  {
   "attachments": {},
   "cell_type": "markdown",
   "id": "3e103610",
   "metadata": {},
   "source": [
    "Pro základní kreslení stačí kratičký příkaz."
   ]
  },
  {
   "cell_type": "code",
   "execution_count": null,
   "id": "7ab442ba",
   "metadata": {
    "ExecuteTime": {
     "end_time": "2023-04-03T16:03:19.865863Z",
     "start_time": "2023-04-03T16:03:19.513810Z"
    }
   },
   "outputs": [],
   "source": [
    "df2.plot();"
   ]
  },
  {
   "attachments": {},
   "cell_type": "markdown",
   "id": "6f967166",
   "metadata": {},
   "source": [
    "Ani pečlivější obrázek nedá moc práce."
   ]
  },
  {
   "cell_type": "code",
   "execution_count": null,
   "id": "8efec638",
   "metadata": {
    "ExecuteTime": {
     "end_time": "2023-04-03T16:04:46.228666Z",
     "start_time": "2023-04-03T16:04:45.651380Z"
    }
   },
   "outputs": [],
   "source": [
    "bax = brokenaxes(ylims=((0, 40), (280, 400)))\n",
    "for o in df2.columns:\n",
    "    bax.plot(df2[o],label=o)\n",
    "bax.legend()\n",
    "bax.set_ylabel(\"Spotřeba vody (mil. m$^3$)\");"
   ]
  },
  {
   "cell_type": "code",
   "execution_count": null,
   "id": "bcbdeac0",
   "metadata": {},
   "outputs": [],
   "source": []
  }
 ],
 "metadata": {
  "kernelspec": {
   "display_name": "Python 3 (ipykernel)",
   "language": "python",
   "name": "python3"
  },
  "language_info": {
   "codemirror_mode": {
    "name": "ipython",
    "version": 3
   },
   "file_extension": ".py",
   "mimetype": "text/x-python",
   "name": "python",
   "nbconvert_exporter": "python",
   "pygments_lexer": "ipython3",
   "version": "3.9.7"
  }
 },
 "nbformat": 4,
 "nbformat_minor": 5
}
