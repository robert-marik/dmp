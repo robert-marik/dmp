{
 "cells": [
  {
   "cell_type": "markdown",
   "id": "99149772",
   "metadata": {},
   "source": [
    "# Diferenciální rovnice pro pokročilejší\n",
    "\n",
    "Pokročilejší dovedností je například odhalení, jak se rovnice chová při změně parametru."
   ]
  },
  {
   "cell_type": "code",
   "execution_count": null,
   "id": "53cad672",
   "metadata": {
    "ExecuteTime": {
     "end_time": "2023-02-10T11:15:27.298950Z",
     "start_time": "2023-02-10T11:15:26.085460Z"
    }
   },
   "outputs": [],
   "source": [
    "import numpy as np\n",
    "import matplotlib.pyplot as plt\n",
    "import pandas as pd\n",
    "from scipy.integrate import solve_ivp"
   ]
  },
  {
   "cell_type": "code",
   "execution_count": null,
   "id": "5fe16f55",
   "metadata": {
    "ExecuteTime": {
     "end_time": "2023-02-10T11:18:41.130507Z",
     "start_time": "2023-02-10T11:18:41.126342Z"
    }
   },
   "outputs": [],
   "source": [
    "pocatecni_podminka = [0.1]\n",
    "meze = [0,10]\n",
    "lovy = [0,0.2,0.4]\n",
    "\n",
    "def rovnice(t, x, h=0):\n",
    "    \"\"\"\n",
    "    Logistický růst a lov konstantním úsilím, tj za jednotku času se loví stále stejné procento populace.\n",
    "    \"\"\"\n",
    "    r = 1\n",
    "    K = 1\n",
    "    return r*x*(1-x/K) - h*x"
   ]
  },
  {
   "cell_type": "code",
   "execution_count": null,
   "id": "59aa4891",
   "metadata": {
    "ExecuteTime": {
     "end_time": "2023-02-10T11:18:41.293541Z",
     "start_time": "2023-02-10T11:18:41.277975Z"
    },
    "tags": []
   },
   "outputs": [],
   "source": [
    "t=np.linspace(*meze, 100)  # pole s rovnoměrně rozloženými hodnotami, použije se pro vodorovnou osu.\n",
    "reseni = {f\"h={lov:.1f}\": solve_ivp(  \n",
    "                lambda t,x:rovnice(t,x,h=lov),\n",
    "                meze,\n",
    "                pocatecni_podminka,\n",
    "                t_eval=t,\n",
    "                   ).y[0]\n",
    "          for lov in lovy }\n",
    "reseni"
   ]
  },
  {
   "cell_type": "code",
   "execution_count": null,
   "id": "4936acdc",
   "metadata": {
    "ExecuteTime": {
     "end_time": "2023-02-10T11:18:41.460776Z",
     "start_time": "2023-02-10T11:18:41.438952Z"
    },
    "tags": []
   },
   "outputs": [],
   "source": [
    "df = pd.DataFrame(reseni, index=t) # vytvoření tabulky\n",
    "df.index.name = \"Čas\"\n",
    "df"
   ]
  },
  {
   "cell_type": "code",
   "execution_count": null,
   "id": "c7017565",
   "metadata": {
    "ExecuteTime": {
     "end_time": "2023-02-10T11:18:41.882611Z",
     "start_time": "2023-02-10T11:18:41.631020Z"
    },
    "tags": []
   },
   "outputs": [],
   "source": [
    "fig,ax = plt.subplots(1)\n",
    "df.plot(ax=ax)"
   ]
  },
  {
   "cell_type": "code",
   "execution_count": null,
   "id": "855b58df",
   "metadata": {
    "ExecuteTime": {
     "end_time": "2023-02-10T11:18:42.125270Z",
     "start_time": "2023-02-10T11:18:41.934342Z"
    }
   },
   "outputs": [],
   "source": [
    "ax.set(\n",
    "    ylim = (0,1),\n",
    "    title = \"Řešení diferenciální rovnice s lovem\",\n",
    "    xlabel=r\"$t$\",\n",
    "    ylabel=r\"$x$\",\n",
    ")\n",
    "ax.legend(title=\"Úsilí lovu\")\n",
    "fig"
   ]
  },
  {
   "cell_type": "code",
   "execution_count": null,
   "id": "68cc2f93",
   "metadata": {},
   "outputs": [],
   "source": []
  }
 ],
 "metadata": {
  "kernelspec": {
   "display_name": "Python 3 (ipykernel)",
   "language": "python",
   "name": "python3"
  },
  "language_info": {
   "codemirror_mode": {
    "name": "ipython",
    "version": 3
   },
   "file_extension": ".py",
   "mimetype": "text/x-python",
   "name": "python",
   "nbconvert_exporter": "python",
   "pygments_lexer": "ipython3",
   "version": "3.10.10"
  }
 },
 "nbformat": 4,
 "nbformat_minor": 5
}
