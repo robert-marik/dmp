{
 "cells": [
  {
   "cell_type": "markdown",
   "metadata": {},
   "source": [
    "# Základní konstrukce"
   ]
  },
  {
   "cell_type": "code",
   "execution_count": null,
   "metadata": {},
   "outputs": [],
   "source": [
    "import numpy as np"
   ]
  },
  {
   "cell_type": "markdown",
   "metadata": {},
   "source": [
    "## Sestavení seznamu"
   ]
  },
  {
   "cell_type": "code",
   "execution_count": null,
   "metadata": {},
   "outputs": [],
   "source": [
    "# Sestaveni posloupnosti. Prvních pět celých čísel počínaje nulou\n",
    "# se použije k sestavení seznamu druhých mocnin. Ten se uloží do \n",
    "# nové proměnné.\n",
    "mocniny = [i**2 for i in range(5)]   "
   ]
  },
  {
   "cell_type": "code",
   "execution_count": null,
   "metadata": {},
   "outputs": [],
   "source": [
    "# Vynásobení každého čísla seznamu dvojkou a uložení nového\n",
    "# seznamu do nové proměnné.\n",
    "dvojnasobky_mocnin = [2*i for i in mocniny]"
   ]
  },
  {
   "cell_type": "code",
   "execution_count": null,
   "metadata": {},
   "outputs": [],
   "source": [
    "# Sestavení posloupnosti typu numpy.array. Na tuto posloupnost\n",
    "# můžeme přímo aplikovat matematické operace.\n",
    "seznam = np.array(range(5))\n",
    "dvojnasobky_mocnin = 2*seznam**2"
   ]
  },
  {
   "cell_type": "markdown",
   "metadata": {},
   "source": [
    "## Cyklus"
   ]
  },
  {
   "cell_type": "code",
   "execution_count": null,
   "metadata": {},
   "outputs": [],
   "source": [
    "# Cyklus. Zadaným počtem opakování se provádí odsazený blok.\n",
    "# Iterační index i nabývá hodnoty 0 až 4.\n",
    "for i in range(5):\n",
    "    pruchod = i+1\n",
    "    hlaseni = f\"{pruchod}. Toto se vytiskne petkrat.\"\n",
    "    print(hlaseni)    \n",
    "print(\"Uff, hotovo.\")\n"
   ]
  },
  {
   "cell_type": "code",
   "execution_count": null,
   "metadata": {},
   "outputs": [],
   "source": [
    "# Iterace přes dvojici seznamů současně\n",
    "druh = [\"pes\",\"kapr\",\"roháč\"]\n",
    "skupina = [\"savec\", \"vánoční jídlo\", \"brouk\"]\n",
    "for i,j in zip(druh,skupina):\n",
    "    print(f\"{i} je {j}\")"
   ]
  },
  {
   "cell_type": "code",
   "execution_count": null,
   "metadata": {},
   "outputs": [],
   "source": [
    "# Iterace přes dvojici seznamů současně. Prvním seznamem jsou indexy\n",
    "# prvků v druhém seznamu (pořadí počítáno od nuly).\n",
    "druh = [\"pes\",\"kapr\",\"roháč\"]\n",
    "for i,j in enumerate(druh):\n",
    "    print(f\"{j} je na pozici {i}\")"
   ]
  },
  {
   "cell_type": "markdown",
   "metadata": {},
   "source": [
    "## Větvení"
   ]
  },
  {
   "cell_type": "code",
   "execution_count": null,
   "metadata": {},
   "outputs": [],
   "source": [
    "# Větvení. Podle podmínky se provede přísušný odsazený blok.\n",
    "a = 2\n",
    "if a<4 :\n",
    "    print(\"Malá hodnota v proměnné a.\")\n",
    "    print(\"Podmínka je splněna.\")\n",
    "else:\n",
    "    print(\"Velká hodnota v proměné a.\")    \n",
    "    print(\"Podmínka neni splněna.\")"
   ]
  },
  {
   "cell_type": "code",
   "execution_count": null,
   "metadata": {},
   "outputs": [],
   "source": []
  }
 ],
 "metadata": {
  "kernelspec": {
   "display_name": "Python 3.10.6 64-bit",
   "language": "python",
   "name": "python3"
  },
  "language_info": {
   "codemirror_mode": {
    "name": "ipython",
    "version": 3
   },
   "file_extension": ".py",
   "mimetype": "text/x-python",
   "name": "python",
   "nbconvert_exporter": "python",
   "pygments_lexer": "ipython3",
   "version": "3.10.6"
  },
  "orig_nbformat": 4,
  "vscode": {
   "interpreter": {
    "hash": "31f2aee4e71d21fbe5cf8b01ff0e069b9275f58929596ceb00d14d90e3e16cd6"
   }
  }
 },
 "nbformat": 4,
 "nbformat_minor": 2
}
