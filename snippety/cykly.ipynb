{
 "cells": [
  {
   "cell_type": "markdown",
   "id": "157bda22",
   "metadata": {},
   "source": [
    "# Cykly\n",
    "\n",
    "\n",
    "Při opakování kódu většinou známe počet opakování a používáme cyklus `for`. Za deklarací použité proměnné pro řízení cyklu a za seznamem, přes který proměnná iteruje, je dvojtečka. Blok příkazů, které se opakují, je odsazen o čtyři mezery.\n",
    "\n",
    "Níže jsou základní techniky.\n",
    "\n",
    "## Prostá iterace"
   ]
  },
  {
   "cell_type": "code",
   "execution_count": null,
   "id": "c20d0079",
   "metadata": {
    "ExecuteTime": {
     "end_time": "2023-02-11T09:12:25.655263Z",
     "start_time": "2023-02-11T09:12:25.645617Z"
    }
   },
   "outputs": [],
   "source": [
    "for i in range(5):\n",
    "    print(\"Toto se tiskne pětkrát\")"
   ]
  },
  {
   "cell_type": "markdown",
   "id": "ff24ec38",
   "metadata": {},
   "source": [
    "## Iterace přes seznam\n",
    "\n",
    "Často iterujeme přes seznam hodnot."
   ]
  },
  {
   "cell_type": "code",
   "execution_count": null,
   "id": "d301d36e",
   "metadata": {
    "ExecuteTime": {
     "end_time": "2023-02-11T13:35:49.768078Z",
     "start_time": "2023-02-11T13:35:49.763876Z"
    }
   },
   "outputs": [],
   "source": [
    "stromy = [\"buk\", \"smrk\", \"jedle\", \"dub\"]\n",
    "for strom in stromy:\n",
    "    print(f\"Můj oblíbený strom je {strom}.\")"
   ]
  },
  {
   "cell_type": "markdown",
   "id": "11b808ba",
   "metadata": {},
   "source": [
    "V těle cyklu může být sada příkazů na libovolný počet řádků. Pokud je v těle cyklu jeden příkaz a výstup chceme uložit do seznamu, je možné použít i následující variantu. "
   ]
  },
  {
   "cell_type": "code",
   "execution_count": null,
   "id": "b98e774f",
   "metadata": {
    "ExecuteTime": {
     "end_time": "2023-02-11T13:35:56.046509Z",
     "start_time": "2023-02-11T13:35:56.034911Z"
    }
   },
   "outputs": [],
   "source": [
    "stromy = [\"buk\", \"smrk\", \"jedle\", \"dub\"]\n",
    "vysledek = [f\"Můj oblíbený strom je {strom}.\" for strom in stromy]\n",
    "vysledek"
   ]
  },
  {
   "cell_type": "markdown",
   "id": "712a57a5",
   "metadata": {},
   "source": [
    " ## Iterace přes více seznamů současně\n",
    "\n",
    "Pomocí `zip` je možné iterovat přes více seznamů současně."
   ]
  },
  {
   "cell_type": "code",
   "execution_count": null,
   "id": "1dceb2e8",
   "metadata": {
    "ExecuteTime": {
     "end_time": "2023-02-11T09:53:53.187708Z",
     "start_time": "2023-02-11T09:53:53.183281Z"
    }
   },
   "outputs": [],
   "source": [
    "stromy = [\"buk\", \"smrk\", \"tis\", \"dub\"]\n",
    "lide = [\"Jan\", \"Jana\", \"Tom\", \"Jiří\"]\n",
    "for clovek,strom in zip(lide,stromy):\n",
    "    print(f\"{clovek} má na zahrádce {strom}.\")"
   ]
  },
  {
   "cell_type": "markdown",
   "id": "6042acd3",
   "metadata": {},
   "source": [
    "## Iterace se sledováním pozice v seznamu \n",
    "\n",
    "Někdy je vhodné při iterování znát i pozici v seznamu, která je právě zpracovávána. Toho dosáhneme pomocí `enumerate`."
   ]
  },
  {
   "cell_type": "code",
   "execution_count": null,
   "id": "789bfd91",
   "metadata": {
    "ExecuteTime": {
     "end_time": "2023-02-11T10:23:17.805004Z",
     "start_time": "2023-02-11T10:23:17.800533Z"
    }
   },
   "outputs": [],
   "source": [
    "stromy = [\"buk\", \"smrk\", \"tis\", \"dub\"]\n",
    "lide = [\"Jan\", \"Mirek\", \"Tom\", \"Jiří\"]\n",
    "for i,strom in enumerate(stromy):\n",
    "    print(f\"{lide[i]} má na zahrádce {strom}.\")"
   ]
  },
  {
   "cell_type": "markdown",
   "id": "21d1efad",
   "metadata": {
    "ExecuteTime": {
     "end_time": "2023-02-11T10:12:21.597088Z",
     "start_time": "2023-02-11T10:12:21.592753Z"
    }
   },
   "source": [
    "## Praktická poznámka\n",
    "\n",
    "Zpravidla nejprve odladíme jednu otočku cyklu a potom doplníme volání cyklu a odsazení těla cyklu."
   ]
  },
  {
   "cell_type": "code",
   "execution_count": null,
   "id": "0bd42f84",
   "metadata": {
    "ExecuteTime": {
     "end_time": "2023-02-11T10:22:41.844064Z",
     "start_time": "2023-02-11T10:22:41.840027Z"
    }
   },
   "outputs": [],
   "source": [
    "clovek = \"Adam\"\n",
    "strom = \"třešeň\"\n",
    "strom = strom.capitalize()\n",
    "print(f\"{strom} zasadil {clovek}.\")"
   ]
  },
  {
   "cell_type": "code",
   "execution_count": null,
   "id": "67786cdd",
   "metadata": {
    "ExecuteTime": {
     "end_time": "2023-02-11T10:23:07.444215Z",
     "start_time": "2023-02-11T10:23:07.439770Z"
    }
   },
   "outputs": [],
   "source": [
    "stromy = [\"buk\", \"smrk\", \"tis\", \"dub\"]\n",
    "lide = [\"Jan\", \"Mirek\", \"Tom\", \"Jiří\"]\n",
    "for clovek,strom in zip(lide,stromy):\n",
    "    strom = strom.capitalize()\n",
    "    print(f\"{strom} zasadil {clovek}.\")"
   ]
  },
  {
   "cell_type": "markdown",
   "id": "9331a329",
   "metadata": {},
   "source": [
    "## Předčasné ukončení\n",
    "\n",
    "Cyklus je možno opustit i předčasně pomocí `break`. Použití má smysl uvnitř nějaké podmínky. Uvnitř podmínky je další odsazení.\n",
    "\n",
    "Příkaz `break` ukončí celý cyklus. Je možné použít i příkaz `continue`, který přeruší pouze danou otočku cyklu a přejde k další otočce v pořadí. "
   ]
  },
  {
   "cell_type": "code",
   "execution_count": null,
   "id": "c87797eb",
   "metadata": {
    "ExecuteTime": {
     "end_time": "2023-02-11T10:19:20.362319Z",
     "start_time": "2023-02-11T10:19:20.355761Z"
    }
   },
   "outputs": [],
   "source": [
    "for i in range(10):\n",
    "    druha_mocnina = i**2\n",
    "    if druha_mocnina > 30:\n",
    "        print(\"Druhá mocnina dosáhla vysokou hodnotu, končím.\")\n",
    "        # Pokud je druha mocnina cisla i vetsi nez 30, prerusime cyklus\n",
    "        break\n",
    "    print (f\"Druhá mocnina čísla {i} je {druha_mocnina}.\")\n",
    "# Kontrola, kdy se cyklus zastavil        \n",
    "i"
   ]
  },
  {
   "cell_type": "markdown",
   "id": "6eaf59eb",
   "metadata": {},
   "source": [
    "## Praktická ukázka\n",
    "\n",
    "Vyřešíme diferenciální rovnici logistického růstu pro různé hodnoty nosné kapacity. Data schováme v tabulce a nakonec je vykreslíme. Jednotlivé otočky cyklu jsou použity k vytvoření sloupců s daty. "
   ]
  },
  {
   "cell_type": "code",
   "execution_count": null,
   "id": "d5943ecb",
   "metadata": {
    "ExecuteTime": {
     "end_time": "2023-02-11T11:09:40.105886Z",
     "start_time": "2023-02-11T11:09:38.894937Z"
    }
   },
   "outputs": [],
   "source": [
    "import numpy as np\n",
    "import matplotlib.pyplot as plt\n",
    "import pandas as pd\n",
    "from scipy.integrate import solve_ivp\n"
   ]
  },
  {
   "cell_type": "code",
   "execution_count": null,
   "id": "32bef8f3",
   "metadata": {
    "ExecuteTime": {
     "end_time": "2023-02-11T11:33:35.600197Z",
     "start_time": "2023-02-11T11:33:35.203733Z"
    }
   },
   "outputs": [],
   "source": [
    "pocatecni_podminka = [0.01]\n",
    "meze = [0,10]\n",
    "pocet_hodnot = 100\n",
    "hodnoty_K = [1,1.5,2,2.5]\n",
    "\n",
    "def rovnice(t, x, r=1, K=1):\n",
    "    return r*x*(1-x/K)\n",
    "\n",
    "df = pd.DataFrame()\n",
    "df[\"t\"] = np.linspace(*meze,pocet_hodnot)\n",
    "\n",
    "for K in hodnoty_K:\n",
    "    reseni = solve_ivp(\n",
    "                   rovnice,\n",
    "                   meze,\n",
    "                   pocatecni_podminka,\n",
    "                   t_eval=df[\"t\"],\n",
    "                   args=(1,K)\n",
    "                   ).y[0]\n",
    "    df[K] = reseni\n",
    "    \n",
    "fig,ax = plt.subplots(figsize=(10,5))    \n",
    "\n",
    "df.plot(x=\"t\", ax=ax)    \n",
    "\n",
    "ax.set(\n",
    "    ylim = (0,None),\n",
    "    title = \"Řešení logistické diferenciální rovnice\",\n",
    "    xlabel=r\"$t$\",\n",
    "    ylabel=r\"$x(t)$\",\n",
    ")\n",
    "ax.legend([f\"$K={K}$\" for K in hodnoty_K], title=\"Nosná kapacita\")\n",
    "ax.grid()"
   ]
  },
  {
   "cell_type": "code",
   "execution_count": null,
   "id": "3189b705",
   "metadata": {},
   "outputs": [],
   "source": []
  }
 ],
 "metadata": {
  "kernelspec": {
   "display_name": "Python 3 (ipykernel)",
   "language": "python",
   "name": "python3"
  },
  "language_info": {
   "codemirror_mode": {
    "name": "ipython",
    "version": 3
   },
   "file_extension": ".py",
   "mimetype": "text/x-python",
   "name": "python",
   "nbconvert_exporter": "python",
   "pygments_lexer": "ipython3",
   "version": "3.10.10"
  }
 },
 "nbformat": 4,
 "nbformat_minor": 5
}
