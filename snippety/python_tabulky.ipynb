{
 "cells": [
  {
   "cell_type": "markdown",
   "metadata": {},
   "source": [
    "# Tabulky\n",
    "\n",
    "S tabulkami se pracuje pomocí knihovny Pandas. Narozdíl od Excelu při práci data v tabulce nevidíme, dokud si je nenecháme vypsat. To ale nevadí. A při rozsáhlých tabulkách to je stejně jedno."
   ]
  },
  {
   "cell_type": "code",
   "execution_count": null,
   "metadata": {
    "ExecuteTime": {
     "end_time": "2023-02-12T11:38:09.013832Z",
     "start_time": "2023-02-12T11:38:09.010562Z"
    }
   },
   "outputs": [],
   "source": [
    "import pandas as pd\n",
    "import numpy as np\n",
    "import matplotlib.pyplot as plt"
   ]
  },
  {
   "cell_type": "markdown",
   "metadata": {},
   "source": [
    "## Tabulky z externího souboru\n",
    "\n",
    "Častým zdrojem dat je externí soubor. Je možné importovat sešity Excelu, ale nejrychlejší a nejphodlnější je pracovat s csv soubory, což jsou textové soubory s daty oddělenými čárkami. Mohou být na lokálním disku nebo je možné je stáhnout z URL. Po stažení je vhodné si prohlédnout, co máme za data. "
   ]
  },
  {
   "cell_type": "code",
   "execution_count": null,
   "metadata": {
    "ExecuteTime": {
     "end_time": "2023-02-11T14:42:39.452528Z",
     "start_time": "2023-02-11T14:42:39.391883Z"
    }
   },
   "outputs": [],
   "source": [
    "zdroj = \"https://raw.githubusercontent.com/robert-marik/dmp/main/data/hudson_bay_lynx_hare.csv\"\n",
    "df = pd.read_csv(\n",
    "    zdroj,\n",
    "    skiprows = 2\n",
    ")\n",
    "df"
   ]
  },
  {
   "cell_type": "markdown",
   "metadata": {},
   "source": [
    "Používáme náhled na začátek souboru, konec souboru, nebo náhodný vzorek. Málokdy nás zajímá celá tabulka, protože může mít tisíce řádků."
   ]
  },
  {
   "cell_type": "code",
   "execution_count": null,
   "metadata": {},
   "outputs": [],
   "source": [
    "df.head() # podobne tail a sample pro konec a nahodny vyber"
   ]
  },
  {
   "cell_type": "markdown",
   "metadata": {},
   "source": [
    "Často nás zajímají základní statistiky pro sloupce tabulky, rozměry tabulky a zda tabulka obdahuje nedefinované hodnoty."
   ]
  },
  {
   "cell_type": "code",
   "execution_count": null,
   "metadata": {
    "ExecuteTime": {
     "end_time": "2023-02-11T14:39:15.098001Z",
     "start_time": "2023-02-11T14:39:15.080239Z"
    },
    "scrolled": false
   },
   "outputs": [],
   "source": [
    "df.describe()"
   ]
  },
  {
   "cell_type": "code",
   "execution_count": null,
   "metadata": {
    "ExecuteTime": {
     "end_time": "2023-02-11T14:39:15.607472Z",
     "start_time": "2023-02-11T14:39:15.603030Z"
    }
   },
   "outputs": [],
   "source": [
    "# počet řádků a sloupců\n",
    "df.shape"
   ]
  },
  {
   "cell_type": "code",
   "execution_count": null,
   "metadata": {
    "ExecuteTime": {
     "end_time": "2023-02-11T14:39:16.779436Z",
     "start_time": "2023-02-11T14:39:16.774599Z"
    }
   },
   "outputs": [],
   "source": [
    "# True, pokud nějaká hodnota v tabulce chybí\n",
    "df.isnull().values.any()"
   ]
  },
  {
   "cell_type": "markdown",
   "metadata": {},
   "source": [
    "## Grafy\n",
    "\n",
    "Dobrý přehled o datech v tabulce dávají grafy. Zpravidla jeden sloupec tabulky obsahuje data pro vodorovnou osu a další sloupce pro svislou osu."
   ]
  },
  {
   "cell_type": "code",
   "execution_count": null,
   "metadata": {
    "ExecuteTime": {
     "end_time": "2023-02-11T14:40:45.050608Z",
     "start_time": "2023-02-11T14:40:44.747284Z"
    }
   },
   "outputs": [],
   "source": [
    "df.plot(x=\"Year\")"
   ]
  },
  {
   "cell_type": "markdown",
   "metadata": {},
   "source": [
    "Někdy je vhodné ručně nastavit typ dat ve sloupcích. Například roky neni vhodné brát jako čísla, ale jako časový údaj. Popisky os jsou potom rozumnější."
   ]
  },
  {
   "cell_type": "code",
   "execution_count": null,
   "metadata": {
    "ExecuteTime": {
     "end_time": "2023-02-11T14:44:51.828611Z",
     "start_time": "2023-02-11T14:44:51.822652Z"
    }
   },
   "outputs": [],
   "source": [
    "df.dtypes"
   ]
  },
  {
   "cell_type": "code",
   "execution_count": null,
   "metadata": {
    "ExecuteTime": {
     "end_time": "2023-02-11T14:44:52.401844Z",
     "start_time": "2023-02-11T14:44:52.394685Z"
    }
   },
   "outputs": [],
   "source": [
    "# Převod čísel pro letopočty na datový typ datetime.\n",
    "df.Year = pd.to_datetime(df.Year, format='%Y')\n",
    "df.dtypes"
   ]
  },
  {
   "cell_type": "code",
   "execution_count": null,
   "metadata": {
    "ExecuteTime": {
     "end_time": "2023-02-11T14:44:57.030381Z",
     "start_time": "2023-02-11T14:44:56.692040Z"
    }
   },
   "outputs": [],
   "source": [
    "df.plot(x=\"Year\")"
   ]
  },
  {
   "cell_type": "code",
   "execution_count": null,
   "metadata": {
    "ExecuteTime": {
     "end_time": "2023-02-11T14:48:33.891118Z",
     "start_time": "2023-02-11T14:48:33.324493Z"
    }
   },
   "outputs": [],
   "source": [
    "from matplotlib.ticker import MultipleLocator\n",
    "\n",
    "ax = df.plot(x=\"Year\", subplots = True)\n",
    "for a in ax:\n",
    "    a.set(ylim=(0,None))\n",
    "    a.grid(which='both')\n",
    "    a.yaxis.set_minor_locator(MultipleLocator(5))"
   ]
  },
  {
   "cell_type": "markdown",
   "metadata": {},
   "source": [
    "## Tvorba tabulek\n",
    "\n",
    "Možností jak vytvořit tabulku je celá řada. Taždá možnost se hodí v jiné situaci. V zásadě můžeme buď přidávat sloupec po sloupci, nebo sestavit nějakou strukturu obsahující všechna data a z nich poté sestavit tabulku. Pokud uvedená struktura neumí pracovat se jmény sloupců. je nutné jména sloupců nastavit po vytvoření tabulky.\n",
    "\n",
    "#### Možnost 1\n",
    "\n",
    "Je možné nejprve vytvořit prázdnou tabulku a po sloupcích připojovat data. Sloupce musí být stejně dlouhé. Jméno sloupce definujeme při jeho vzniku."
   ]
  },
  {
   "cell_type": "code",
   "execution_count": null,
   "metadata": {
    "ExecuteTime": {
     "end_time": "2023-02-11T14:52:26.026221Z",
     "start_time": "2023-02-11T14:52:25.724860Z"
    }
   },
   "outputs": [],
   "source": [
    "x = np.linspace(0,2*np.pi,100)\n",
    "df = pd.DataFrame()\n",
    "df[\"x\"] = x\n",
    "df[\"sin\"] = np.sin(x)\n",
    "df[\"cos\"] = np.cos(x)\n",
    "df[\"soucet mocnin\"] = ( df[\"sin\"] )**2 + ( df[\"cos\"] )**2\n",
    "df.plot(x=\"x\", grid=True)\n",
    "df.sample(5)"
   ]
  },
  {
   "cell_type": "markdown",
   "metadata": {},
   "source": [
    "#### Možnost 2\n",
    "\n",
    "Další možnost je načíst data ze seznamu. Pokud jsou v seznamu data po řádcích, je nutné je převést do sloupců transponováním. Poté nastavíme jména sloupců."
   ]
  },
  {
   "cell_type": "code",
   "execution_count": null,
   "metadata": {
    "ExecuteTime": {
     "end_time": "2023-02-11T14:52:30.951988Z",
     "start_time": "2023-02-11T14:52:30.653601Z"
    }
   },
   "outputs": [],
   "source": [
    "x = np.linspace(0,2*np.pi,100)\n",
    "data = [\n",
    "    x,\n",
    "    np.sin(x),\n",
    "    np.cos(x),\n",
    "    np.sin(x)**2+np.cos(x)**2\n",
    "    ]\n",
    "df = pd.DataFrame(data).T\n",
    "df.columns = [\"x\",\"sin\",\"cos\",\"soucet mocnin\"]\n",
    "df.plot(x=\"x\", grid=True)\n",
    "df.sample(5)"
   ]
  },
  {
   "cell_type": "markdown",
   "metadata": {},
   "source": [
    "#### Možnost 3\n",
    "\n",
    "Jiná možnost je použitím datového typu dictionary. Jména sloupců nastavujeme při tvorbě dictionary. Data do dictionary je možné nastavit najednou, nebo položku po položce."
   ]
  },
  {
   "cell_type": "code",
   "execution_count": null,
   "metadata": {
    "ExecuteTime": {
     "end_time": "2023-02-11T14:53:18.256491Z",
     "start_time": "2023-02-11T14:53:17.952237Z"
    }
   },
   "outputs": [],
   "source": [
    "x = np.linspace(0,2*np.pi,100)\n",
    "data = {    \n",
    "    \"x\":x,\n",
    "    \"sin\":np.sin(x),\n",
    "    \"cos\":np.cos(x),\n",
    "    \"soucet mocnin\":np.sin(x)**2+np.cos(x)**2\n",
    "}\n",
    "df = pd.DataFrame(data)\n",
    "df.plot(x=\"x\", grid=True)\n",
    "df.sample(5)"
   ]
  },
  {
   "cell_type": "code",
   "execution_count": null,
   "metadata": {
    "ExecuteTime": {
     "end_time": "2023-02-11T15:33:04.835610Z",
     "start_time": "2023-02-11T15:33:04.526702Z"
    }
   },
   "outputs": [],
   "source": [
    "x = np.linspace(0,2*np.pi,100)\n",
    "data = {}\n",
    "data[\"x\"] = x\n",
    "data[\"sin\"] = np.sin(x)\n",
    "data[\"cos\"] = np.cos(x)\n",
    "data[\"soucet mocnin\"]=np.sin(x)**2+np.cos(x)**2\n",
    "df = pd.DataFrame(data)\n",
    "df.plot(x=\"x\", grid=True)\n",
    "\n",
    "df.sample(5)"
   ]
  }
 ],
 "metadata": {
  "kernelspec": {
   "display_name": "Python 3 (ipykernel)",
   "language": "python",
   "name": "python3"
  },
  "language_info": {
   "codemirror_mode": {
    "name": "ipython",
    "version": 3
   },
   "file_extension": ".py",
   "mimetype": "text/x-python",
   "name": "python",
   "nbconvert_exporter": "python",
   "pygments_lexer": "ipython3",
   "version": "3.9.7"
  },
  "vscode": {
   "interpreter": {
    "hash": "44789aa31bc08579881d996cd09876ea8af3ab09ee5b66b40aee952be8d87024"
   }
  }
 },
 "nbformat": 4,
 "nbformat_minor": 2
}
