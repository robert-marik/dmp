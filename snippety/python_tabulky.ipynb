{
 "cells": [
  {
   "cell_type": "markdown",
   "metadata": {},
   "source": [
    "# Tabulky\n",
    "\n",
    "S tabulkami se pracuje pomocí knihovny Pandas."
   ]
  },
  {
   "cell_type": "code",
   "execution_count": null,
   "metadata": {},
   "outputs": [],
   "source": [
    "import pandas as pd\n",
    "import numpy as np\n",
    "import matplotlib.pyplot as plt"
   ]
  },
  {
   "cell_type": "code",
   "execution_count": null,
   "metadata": {},
   "outputs": [],
   "source": [
    "zdroj = \"https://raw.githubusercontent.com/robert-marik/dmp/main/data/hudson_bay_lynx_hare.csv\"\n",
    "df = pd.read_csv(\n",
    "    zdroj,\n",
    "    skiprows = 2\n",
    ")\n",
    "df.head() # podobne tail a sample pro konec a nahodny vyber"
   ]
  },
  {
   "cell_type": "code",
   "execution_count": null,
   "metadata": {},
   "outputs": [],
   "source": [
    "df.describe()"
   ]
  },
  {
   "cell_type": "code",
   "execution_count": null,
   "metadata": {},
   "outputs": [],
   "source": [
    "# počet řádků a sloupců\n",
    "df.shape"
   ]
  },
  {
   "cell_type": "code",
   "execution_count": null,
   "metadata": {},
   "outputs": [],
   "source": [
    "df.plot(x=\"Year\")"
   ]
  },
  {
   "cell_type": "code",
   "execution_count": null,
   "metadata": {},
   "outputs": [],
   "source": [
    "df.dtypes"
   ]
  },
  {
   "cell_type": "code",
   "execution_count": null,
   "metadata": {},
   "outputs": [],
   "source": [
    "# Převod čísel pro letopočty na datový typ datetime.\n",
    "df.Year = pd.to_datetime(df.Year, format='%Y')\n",
    "df.dtypes"
   ]
  },
  {
   "cell_type": "code",
   "execution_count": null,
   "metadata": {},
   "outputs": [],
   "source": [
    "df.plot(x=\"Year\")"
   ]
  },
  {
   "cell_type": "code",
   "execution_count": null,
   "metadata": {},
   "outputs": [],
   "source": [
    "from matplotlib.ticker import MultipleLocator\n",
    "\n",
    "fig,ax = plt.subplots(2,1,sharex=True)\n",
    "df.plot(x=\"Year\", y=\"Lynx\", ax=ax[0])\n",
    "df.plot(x=\"Year\", y=\"Hare\", ax=ax[1], color=\"C1\")\n",
    "\n",
    "for a in ax:\n",
    "    a.set(ylim=(0,None))\n",
    "    a.grid(which='both')\n",
    "    a.yaxis.set_minor_locator(MultipleLocator(5))"
   ]
  },
  {
   "cell_type": "code",
   "execution_count": null,
   "metadata": {},
   "outputs": [],
   "source": [
    "x = np.linspace(0,2*np.pi,100)\n",
    "df = pd.DataFrame()\n",
    "df[\"x\"] = x\n",
    "df[\"sin\"] = np.sin(x)\n",
    "df[\"cos\"] = np.cos(x)\n",
    "df[\"soucet mocnin\"] = ( df[\"sin\"] )**2 + ( df[\"cos\"] )**2\n",
    "# df[\"soucet mocnin\"] = ( df.sin )**2 + ( df.cos )**2\n",
    "\n",
    "df.plot(x=\"x\", grid=True)\n",
    "\n"
   ]
  },
  {
   "cell_type": "code",
   "execution_count": null,
   "metadata": {},
   "outputs": [],
   "source": [
    "df"
   ]
  },
  {
   "cell_type": "code",
   "execution_count": null,
   "metadata": {},
   "outputs": [],
   "source": []
  }
 ],
 "metadata": {
  "kernelspec": {
   "display_name": "Python 3.10.6 ('jupyter')",
   "language": "python",
   "name": "python3"
  },
  "language_info": {
   "codemirror_mode": {
    "name": "ipython",
    "version": 3
   },
   "file_extension": ".py",
   "mimetype": "text/x-python",
   "name": "python",
   "nbconvert_exporter": "python",
   "pygments_lexer": "ipython3",
   "version": "3.10.6"
  },
  "orig_nbformat": 4,
  "vscode": {
   "interpreter": {
    "hash": "44789aa31bc08579881d996cd09876ea8af3ab09ee5b66b40aee952be8d87024"
   }
  }
 },
 "nbformat": 4,
 "nbformat_minor": 2
}
