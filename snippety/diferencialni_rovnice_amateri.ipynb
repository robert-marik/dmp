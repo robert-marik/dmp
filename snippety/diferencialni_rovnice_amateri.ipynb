{
 "cells": [
  {
   "cell_type": "markdown",
   "id": "99149772",
   "metadata": {},
   "source": [
    "# Diferenciální rovnice pro začátečníky\n",
    "\n"
   ]
  },
  {
   "cell_type": "code",
   "execution_count": null,
   "id": "deeefbc8",
   "metadata": {
    "ExecuteTime": {
     "end_time": "2023-02-10T10:59:02.619202Z",
     "start_time": "2023-02-10T10:59:02.615880Z"
    }
   },
   "outputs": [],
   "source": [
    "import numpy as np\n",
    "import matplotlib.pyplot as plt\n",
    "import pandas as pd\n",
    "from scipy.integrate import solve_ivp"
   ]
  },
  {
   "cell_type": "code",
   "execution_count": null,
   "id": "7cba4f38",
   "metadata": {
    "ExecuteTime": {
     "end_time": "2023-02-10T11:01:35.976488Z",
     "start_time": "2023-02-10T11:01:35.971771Z"
    }
   },
   "outputs": [],
   "source": [
    "pocatecni_podminka = [0.1]\n",
    "meze = [0,10]\n",
    "\n",
    "def rovnice(t, x, h=0):\n",
    "    r = 1\n",
    "    K = 1\n",
    "    return r*x*(1-x/K) - h"
   ]
  },
  {
   "cell_type": "code",
   "execution_count": null,
   "id": "ed962e53",
   "metadata": {
    "ExecuteTime": {
     "end_time": "2023-02-10T11:01:53.106118Z",
     "start_time": "2023-02-10T11:01:53.091357Z"
    }
   },
   "outputs": [],
   "source": [
    "reseni = solve_ivp(\n",
    "                   rovnice,\n",
    "                   meze,\n",
    "                   pocatecni_podminka,\n",
    "                   dense_output=True,\n",
    "                   # t_eval=np.linspace(*meze,500), ## zde je možné zadat pole hodnot, kde se mají určit řešení\n",
    "                   # max_step=np.Inf, ## defaultní je krok libovolné délky\n",
    "                   )\n",
    "reseni"
   ]
  },
  {
   "cell_type": "code",
   "execution_count": null,
   "id": "c418db1d",
   "metadata": {
    "ExecuteTime": {
     "end_time": "2023-02-10T11:01:36.438729Z",
     "start_time": "2023-02-10T11:01:36.434507Z"
    }
   },
   "outputs": [],
   "source": [
    "print(reseni.sol(2.3))  # reseni v case 2.3"
   ]
  },
  {
   "cell_type": "code",
   "execution_count": null,
   "id": "f46ae6c5",
   "metadata": {
    "ExecuteTime": {
     "end_time": "2023-02-10T11:01:36.888768Z",
     "start_time": "2023-02-10T11:01:36.698022Z"
    }
   },
   "outputs": [],
   "source": [
    "t=np.linspace(*meze, 100)  # graf reseni\n",
    "fig,ax = plt.subplots(1)\n",
    "ax.plot(t,reseni.sol(t).T)"
   ]
  },
  {
   "cell_type": "code",
   "execution_count": null,
   "id": "50c754ee",
   "metadata": {
    "ExecuteTime": {
     "end_time": "2023-02-10T11:01:37.139168Z",
     "start_time": "2023-02-10T11:01:36.994208Z"
    }
   },
   "outputs": [],
   "source": [
    "ax.set(\n",
    "    ylim = (0,None),\n",
    "    title = \"Řešení diferenciální rovnice\",\n",
    "    xlabel=r\"$t$\",\n",
    "    ylabel=r\"$x$\",\n",
    ")\n",
    "fig"
   ]
  },
  {
   "cell_type": "code",
   "execution_count": null,
   "id": "47c5acd8",
   "metadata": {
    "ExecuteTime": {
     "end_time": "2023-02-10T11:01:37.711343Z",
     "start_time": "2023-02-10T11:01:37.700206Z"
    }
   },
   "outputs": [],
   "source": [
    "df = pd.DataFrame() #tabulka s hodnotami řešení ve více bodech\n",
    "moje_t = np.array([3,5,7])\n",
    "df[\"t\"] = moje_t\n",
    "df[\"x\"] = reseni.sol(moje_t).T\n",
    "df"
   ]
  },
  {
   "cell_type": "code",
   "execution_count": null,
   "id": "bbdd8e93",
   "metadata": {},
   "outputs": [],
   "source": []
  }
 ],
 "metadata": {
  "kernelspec": {
   "display_name": "Python 3 (ipykernel)",
   "language": "python",
   "name": "python3"
  },
  "language_info": {
   "codemirror_mode": {
    "name": "ipython",
    "version": 3
   },
   "file_extension": ".py",
   "mimetype": "text/x-python",
   "name": "python",
   "nbconvert_exporter": "python",
   "pygments_lexer": "ipython3",
   "version": "3.10.9"
  }
 },
 "nbformat": 4,
 "nbformat_minor": 5
}
