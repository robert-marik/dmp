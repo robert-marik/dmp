{
 "cells": [
  {
   "attachments": {},
   "cell_type": "markdown",
   "metadata": {},
   "source": [
    "# Tabulky s None\n",
    "\n",
    "S tabulkami se pracuje pomocí knihovny Pandas. Nejsnazší je tvořit tabulky z\n",
    "matice nebo po sloupcích. Přitom musí mít každý sloupec stejný počet dat. Potom\n",
    "jsou všechny sloupce stejně dlouhé. Toto se však nedá zařídit vždy, někdy je\n",
    "nutno do tabulky přidat sloupec, který je kratší. Řešením je přidat do tabulky\n",
    "sloupec s libovolnými hodnotami a poté nahradit ta data, která máme k dispozici.\n",
    "Vhodnou výplní nedefinovaných dat jsou nuly nebo hodnoty `None` nebo `np.nan`."
   ]
  },
  {
   "cell_type": "code",
   "execution_count": null,
   "metadata": {
    "ExecuteTime": {
     "end_time": "2023-02-12T11:38:09.013832Z",
     "start_time": "2023-02-12T11:38:09.010562Z"
    }
   },
   "outputs": [],
   "source": [
    "import pandas as pd\n",
    "import numpy as np\n",
    "import matplotlib.pyplot as plt\n",
    "from scipy.integrate import solve_ivp\n",
    "\n",
    "N = 11\n",
    "df = pd.DataFrame()\n",
    "df[\"a\"] = np.linspace(1,20,N)\n",
    "\n",
    "# založíme prázdný sloupec a potom jeho začátek přepíšeme daty\n",
    "df[\"b\"] = np.nan\n",
    "data = np.array([2,3,4,5])\n",
    "df.loc[:len(data)-1,\"b\"] = data\n",
    "\n",
    "# jiná varianta je nejprve doplnit data a potom zakládat sloupec\n",
    "data = np.array([15,12,9])\n",
    "doplnena_data = np.append(data,np.full(N-len(data),np.nan))\n",
    "df[\"c\"] = doplnena_data\n",
    "\n",
    "df.plot()\n",
    "df"
   ]
  },
  {
   "attachments": {},
   "cell_type": "markdown",
   "metadata": {},
   "source": [
    "Ukázkou je rovnice lovu, kdy v pro některé počáteční podmínky je populace\n",
    "přelovená a dochází k její destrukci. Řešení se nemusí zastavit po dosažení\n",
    "cílového času, ale při poklesu velikosti populace na nulu. Pokud se snažíme\n",
    "zapsat dat do jedné tabulky, musíme neobsazená místa zaplnit nedefinovanými hodnotami."
   ]
  },
  {
   "cell_type": "code",
   "execution_count": null,
   "metadata": {},
   "outputs": [],
   "source": [
    "### Příprava funkcí a parametrů\n",
    "pocatecni_podminky = np.round(np.arange(0.1,1.3,0.02),2)  # počáteční podmínka nebo podmínky\n",
    "meze = [0,15]  # interval, na kterém hledáme řešení\n",
    "N = 100 # počet dělících bodů\n",
    "\n",
    "def model(t, N, r=1,K=1,h=0.2):\n",
    "    return  r*N*(1-N/K) - h\n",
    "\n",
    "def destrukce_populace(t,x,r=1,K=1,h=0.15):  # Pokud x klesne na nulu, zastavíme výpočet\n",
    "    return x\n",
    "destrukce_populace.terminal = True\n",
    "\n",
    "### Řešení modelu\n",
    "t=np.linspace(*meze, N)  # definiční obor, v těchto bodech budeme hledat řešení\n",
    "df = pd.DataFrame()\n",
    "df[\"t\"] = t\n",
    "\n",
    "for pocatecni_podminka in pocatecni_podminky:\n",
    "    reseni = solve_ivp(\n",
    "                       model,\n",
    "                       meze,\n",
    "                       [pocatecni_podminka],\n",
    "                       t_eval=t,\n",
    "                       events=destrukce_populace,\n",
    "                       )\n",
    "    data = reseni.y[0]\n",
    "    if len(data)==N:\n",
    "        df[pocatecni_podminka] = data\n",
    "    else:\n",
    "        df[pocatecni_podminka] = None\n",
    "        df.loc[:len(data)-1,pocatecni_podminka] = data\n",
    "        # jina varianta je nejprve doplnit data a potom zakladat sloupec\n",
    "        # doplnena_data = np.append(data,np.full(N-len(data),np.nan))\n",
    "        # df[pocatecni_podminka] = doplnena_data\n",
    "\n",
    "### Vizualizace řešení\n",
    "\n",
    "ax = df.plot(x=\"t\",lw=0.5,legend=False,color=\"C0\")\n",
    "ax.set(\n",
    "    ylim = (0,None),\n",
    "    title = \"Řešení diferenciální rovnice\",\n",
    "    xlabel=r\"$t$\",\n",
    "    ylabel=r\"$x$\",\n",
    ");"
   ]
  },
  {
   "attachments": {},
   "cell_type": "markdown",
   "metadata": {},
   "source": [
    "Začátek a konec tabulky s jedním předčasně končícím řešením."
   ]
  },
  {
   "cell_type": "code",
   "execution_count": null,
   "metadata": {},
   "outputs": [],
   "source": [
    "df.loc[:,[0.24,0.5,0.8]].head(n=10)"
   ]
  },
  {
   "cell_type": "code",
   "execution_count": null,
   "metadata": {},
   "outputs": [],
   "source": [
    "df.loc[:,[0.24,0.5,0.8]].tail(n=10)"
   ]
  },
  {
   "cell_type": "code",
   "execution_count": null,
   "metadata": {},
   "outputs": [],
   "source": []
  }
 ],
 "metadata": {
  "kernelspec": {
   "display_name": "Python 3.10.6 64-bit",
   "language": "python",
   "name": "python3"
  },
  "language_info": {
   "codemirror_mode": {
    "name": "ipython",
    "version": 3
   },
   "file_extension": ".py",
   "mimetype": "text/x-python",
   "name": "python",
   "nbconvert_exporter": "python",
   "pygments_lexer": "ipython3",
   "version": "3.10.6"
  },
  "vscode": {
   "interpreter": {
    "hash": "916dbcbb3f70747c44a77c7bcd40155683ae19c65e1c03b4aa3499c5328201f1"
   }
  }
 },
 "nbformat": 4,
 "nbformat_minor": 2
}
