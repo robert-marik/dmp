{
 "cells": [
  {
   "attachments": {},
   "cell_type": "markdown",
   "metadata": {},
   "source": [
    "# Tabulky s None\n",
    "\n",
    "S tabulkami se pracuje pomocí knihovny Pandas. Nejsnazší je tvořit tabulky z\n",
    "matice nebo po sloupcích. Přitom musí mít každý sloupec stejný počet dat. Potom\n",
    "jsou všechny sloupce stejně dlouhé. Toto se však nedá zařídit vždy, někdy je\n",
    "nutno do tabulky přidat sloupec, který je kratší. Řešením je přidat do tabulky\n",
    "sloupec s libovolnými hodnotami a poté nahradit ta data, která máme k dispozici.\n",
    "Vhodnou výplní nedefinovaných dat jsou nuly nebo hodnoty `None` nebo `np.nan`."
   ]
  },
  {
   "cell_type": "code",
   "execution_count": null,
   "metadata": {
    "ExecuteTime": {
     "end_time": "2023-02-12T11:38:09.013832Z",
     "start_time": "2023-02-12T11:38:09.010562Z"
    }
   },
   "outputs": [],
   "source": [
    "import pandas as pd\n",
    "import numpy as np\n",
    "import matplotlib.pyplot as plt\n",
    "from scipy.integrate import solve_ivp\n",
    "\n",
    "N = 11\n",
    "df = pd.DataFrame()\n",
    "df[\"a\"] = np.linspace(1,20,N)\n",
    "\n",
    "# založíme prázdný sloupec a potom jeho začátek přepíšeme daty\n",
    "df[\"b\"] = np.nan\n",
    "data = np.array([2,3,4,5])\n",
    "df.loc[:len(data)-1,\"b\"] = data\n",
    "\n",
    "# jiná varianta je nejprve doplnit data a potom zakládat sloupec\n",
    "data = np.array([15,12,9])\n",
    "doplnena_data = np.append(data,np.full(N-len(data),np.nan))\n",
    "df[\"c\"] = doplnena_data\n",
    "\n",
    "df.plot()\n",
    "df"
   ]
  },
  {
   "attachments": {},
   "cell_type": "markdown",
   "metadata": {},
   "source": [
    "Ukázkou je rovnice konstantního lovu v logistické rovnici, kdy pro některé počáteční podmínky je populace\n",
    "přelovená a dochází k její destrukci. Řešení se nemusí zastavit dosažením\n",
    "cílového času, ale při poklesu velikosti populace na nulu. Pokud se snažíme\n",
    "zapsat dat do jedné tabulky, musíme neobsazená místa zaplnit nedefinovanými hodnotami."
   ]
  },
  {
   "cell_type": "code",
   "execution_count": null,
   "metadata": {},
   "outputs": [],
   "source": [
    "### Příprava funkcí a parametrů\n",
    "pocatecni_podminky = np.round(np.arange(0.1,1.3,0.02),2)  # počáteční podmínka nebo podmínky\n",
    "meze = [0,15]  # interval, na kterém hledáme řešení\n",
    "N = 100 # počet dělících bodů\n",
    "\n",
    "def model(t, N, r=1,K=1,h=0.2):\n",
    "    return  r*N*(1-N/K) - h\n",
    "\n",
    "def destrukce_populace(t,x,r=1,K=1,h=0.15):  # Pokud x klesne na nulu, zastavíme výpočet\n",
    "    return x\n",
    "destrukce_populace.terminal = True\n",
    "\n",
    "### Řešení modelu\n",
    "t=np.linspace(*meze, N)  # definiční obor, v těchto bodech budeme hledat řešení\n",
    "df = pd.DataFrame()\n",
    "df[\"t\"] = t\n",
    "\n",
    "for pocatecni_podminka in pocatecni_podminky:\n",
    "    reseni = solve_ivp(\n",
    "                       model,\n",
    "                       meze,\n",
    "                       [pocatecni_podminka],\n",
    "                       t_eval=t,\n",
    "                       events=destrukce_populace,\n",
    "                       )\n",
    "    data = reseni.y[0]\n",
    "    if len(data)==N:\n",
    "        df[pocatecni_podminka] = data\n",
    "    else:\n",
    "        df[pocatecni_podminka] = None\n",
    "        df.loc[:len(data)-1,pocatecni_podminka] = data\n",
    "        # jina varianta je nejprve doplnit data a potom zakladat sloupec\n",
    "        # doplnena_data = np.append(data,np.full(N-len(data),np.nan))\n",
    "        # df[pocatecni_podminka] = doplnena_data\n",
    "\n",
    "### Vizualizace řešení\n",
    "\n",
    "ax = df.plot(x=\"t\",lw=0.5,legend=False,color=\"C0\")\n",
    "ax.set(\n",
    "    ylim = (0,None),\n",
    "    title = \"Model lovu konstantní rychlostí\",\n",
    "    xlabel=\"čas\",\n",
    "    ylabel=\"velikost populace\",\n",
    ");"
   ]
  },
  {
   "attachments": {},
   "cell_type": "markdown",
   "metadata": {},
   "source": [
    "Můžeme i barevně rozlišit, které křivky vedou k vymření přelovené populace."
   ]
  },
  {
   "cell_type": "code",
   "execution_count": null,
   "metadata": {},
   "outputs": [],
   "source": [
    "fig,ax = plt.subplots()\n",
    "plt.plot([0,0],[-1,-1])\n",
    "plt.plot([0,0],[-1,-1])\n",
    "for pocatecni_podminka in pocatecni_podminky:\n",
    "    data = np.array(df[pocatecni_podminka])\n",
    "    if pd.isna(data).any():\n",
    "        barva = \"C1\"\n",
    "    else:\n",
    "        barva = \"C0\"\n",
    "    ax.plot(t,data, color=barva, lw=0.5)\n",
    "\n",
    "ax.set(\n",
    "    ylim = (0,None),\n",
    "    title = \"Model lovu konstantní rychlostí\",\n",
    "    xlabel=\"čas\",\n",
    "    ylabel=\"velikost populace\",\n",
    ");\n",
    "plt.legend([\"trvalá udržitelnost při vysokých počátečních hodnotách\",\"přelovená populace při malých počátečních hodnotách\"])"
   ]
  },
  {
   "attachments": {},
   "cell_type": "markdown",
   "metadata": {},
   "source": [
    "Začátek a konec tabulky s jedním předčasně končícím řešením."
   ]
  },
  {
   "cell_type": "code",
   "execution_count": null,
   "metadata": {},
   "outputs": [],
   "source": [
    "df.loc[:10,[0.24,0.5,0.8]]"
   ]
  },
  {
   "cell_type": "code",
   "execution_count": null,
   "metadata": {},
   "outputs": [],
   "source": [
    "df.loc[N-10:,[0.24,0.5,0.8]]"
   ]
  },
  {
   "cell_type": "code",
   "execution_count": null,
   "metadata": {},
   "outputs": [],
   "source": []
  },
  {
   "cell_type": "code",
   "execution_count": null,
   "metadata": {},
   "outputs": [],
   "source": []
  }
 ],
 "metadata": {
  "kernelspec": {
   "display_name": "jupyter",
   "language": "python",
   "name": "python3"
  },
  "language_info": {
   "codemirror_mode": {
    "name": "ipython",
    "version": 3
   },
   "file_extension": ".py",
   "mimetype": "text/x-python",
   "name": "python",
   "nbconvert_exporter": "python",
   "pygments_lexer": "ipython3",
   "version": "3.11.0"
  },
  "vscode": {
   "interpreter": {
    "hash": "44789aa31bc08579881d996cd09876ea8af3ab09ee5b66b40aee952be8d87024"
   }
  }
 },
 "nbformat": 4,
 "nbformat_minor": 2
}
