{
 "cells": [
  {
   "cell_type": "markdown",
   "id": "3f954abd",
   "metadata": {},
   "source": [
    "# Tabulky s víceúrovňovými nadpisy sloupců\n",
    "\n",
    "\n",
    "Rovnice $$\\frac{\\mathrm dn}{\\mathrm dt}=rn\\left(1-\\frac nK\\right)-h$$\n",
    "popisuje vývoj populace o velikosti $n$ v prostředí s nosnou kapacitou $K$. Budeme pro různou intenzitu lovu vždy sledovat řešení pro několik počátečních podmínek. Všechno zaznamenáme do tabulky a data z tabulky poté vykreslíme. Sloupec bude identifikován pomocí trojice hodnot, udávajících že jde o velikosti populací (a ne čas), dále intenzitu lovu a počáteční podmínku. "
   ]
  },
  {
   "cell_type": "code",
   "execution_count": null,
   "id": "87334bda",
   "metadata": {
    "ExecuteTime": {
     "end_time": "2023-03-15T13:21:37.661579Z",
     "start_time": "2023-03-15T13:21:37.657594Z"
    }
   },
   "outputs": [],
   "source": [
    "import numpy as np\n",
    "import matplotlib.pyplot as plt\n",
    "import pandas as pd\n",
    "from scipy.integrate import solve_ivp\n"
   ]
  },
  {
   "cell_type": "code",
   "execution_count": null,
   "id": "aa5cb2b6",
   "metadata": {
    "ExecuteTime": {
     "end_time": "2023-03-15T13:28:48.341983Z",
     "start_time": "2023-03-15T13:28:48.306165Z"
    }
   },
   "outputs": [],
   "source": [
    "pocatecni_podminka = [0.4]\n",
    "meze = [0,10]\n",
    "\n",
    "def rovnice(t, x, r=1, K=1, h=0):\n",
    "    return r*x*(1-x/K) - h\n",
    "\n",
    "def destrukce_populace(t,x,r=1,K=1,h=0):  # Pokud x klesne na nulu, zastavíme výpočet\n",
    "    return x\n",
    "destrukce_populace.terminal = True\n",
    "\n",
    "t=np.linspace(*meze,101)  \n",
    "seznam_h = [0,0.1,0.15,0.2,0.25,0.28]\n",
    "seznam_pp = np.round(np.arange(0.1,1.2,0.05),2)\n",
    "\n",
    "### Definice tabulky s víceúrovňovými nadpisy sloupců, Multiindex\n",
    "empty = [[],[],[]]  # tři úrovně, na začátku prázdné\n",
    "my_index = pd.MultiIndex(levels=empty, codes=empty, names=['typ','lov', 'poč.podm.'])\n",
    "df = pd.DataFrame(index=my_index).T\n",
    "df[\"čas\"] = t\n",
    "df.T"
   ]
  },
  {
   "cell_type": "markdown",
   "id": "3e9749bb",
   "metadata": {},
   "source": [
    "Dále ve dvojitém cyklu pro každou počáteční podmínku a úroveň lovu najdeme řešení. Hledání řešení ukončíme při dosažení konce časového intervalu, nebo při dosažení nulové hodnoty pro velikost populace. Proto řešení do sloupce dosazujeme tak, že nejprve vyplníme nový sloupec nedefinovanými hodnotami `np.nan` a teprve poté vyměníme tolik položek ze začátku sloupce, kolik máme k dispozici vypočtených hodnot. \n",
    "\n",
    "Tabulku vytiskneme, pro lepší přehlednost naležato. "
   ]
  },
  {
   "cell_type": "code",
   "execution_count": null,
   "id": "c8380ca5",
   "metadata": {
    "ExecuteTime": {
     "end_time": "2023-03-15T13:29:26.377667Z",
     "start_time": "2023-03-15T13:29:25.928859Z"
    }
   },
   "outputs": [],
   "source": [
    "for h in seznam_h:\n",
    "    for pp in seznam_pp:\n",
    "        reseni = solve_ivp(\n",
    "                   lambda t,x:rovnice(t,x,h=h),\n",
    "                   meze,\n",
    "                   [pp],\n",
    "                   t_eval=t, \n",
    "                   events=destrukce_populace,            \n",
    "                   )\n",
    "        df['data',h,pp] = np.nan   # nejprve naplníme sloupec nedefinovanými hodnotami\n",
    "        a = np.array(reseni.y.T)\n",
    "        df.loc[:len(a)-1,('data',h,pp)] = a  # poté hodnoty zaměníme za vypočtené od začátku až po konec řešení\n",
    "        df = df.copy()\n",
    "df.T   # vytiskneme tabulku naležato     "
   ]
  },
  {
   "cell_type": "markdown",
   "id": "97196996",
   "metadata": {},
   "source": [
    "Na závěr tabulku vykreslíme. Například všechny křivky odpovídající stejné intenzitě lovu vykreslíme stejnou barvou."
   ]
  },
  {
   "cell_type": "code",
   "execution_count": null,
   "id": "81450d42",
   "metadata": {
    "ExecuteTime": {
     "end_time": "2023-03-15T13:34:22.178131Z",
     "start_time": "2023-03-15T13:34:20.995339Z"
    },
    "scrolled": false
   },
   "outputs": [],
   "source": [
    "for i,h in enumerate(seznam_h):        \n",
    "    plt.plot(df[\"čas\"],df[\"data\"][h],color=f\"C{i}\",label=h,alpha=0.4,lw=1) \n",
    "\n",
    "ax = plt.gca()\n",
    "ax.set(\n",
    "    title = \"Dynamika populace\\n v závislosti na intenzitě lovu a počáteční podmínce\",\n",
    "    xlabel=\"čas\",\n",
    "    ylabel=\"velikost populace\",\n",
    ")\n",
    "# Návod jak seskupit položky legendy je na https://stackoverflow.com/questions/26337493/pyplot-combine-multiple-line-labels-in-legend\n",
    "handles, labels = ax.get_legend_handles_labels()\n",
    "labels, ids = np.unique(labels, return_index=True)\n",
    "handles = [handles[i] for i in ids]\n",
    "ax.legend(handles, labels, title=\"Intenzita lovu\");\n"
   ]
  },
  {
   "cell_type": "code",
   "execution_count": null,
   "id": "581816a9",
   "metadata": {},
   "outputs": [],
   "source": []
  },
  {
   "cell_type": "code",
   "execution_count": null,
   "id": "344d9067",
   "metadata": {},
   "outputs": [],
   "source": []
  }
 ],
 "metadata": {
  "kernelspec": {
   "display_name": "Python 3 (ipykernel)",
   "language": "python",
   "name": "python3"
  },
  "language_info": {
   "codemirror_mode": {
    "name": "ipython",
    "version": 3
   },
   "file_extension": ".py",
   "mimetype": "text/x-python",
   "name": "python",
   "nbconvert_exporter": "python",
   "pygments_lexer": "ipython3",
   "version": "3.9.7"
  }
 },
 "nbformat": 4,
 "nbformat_minor": 5
}
