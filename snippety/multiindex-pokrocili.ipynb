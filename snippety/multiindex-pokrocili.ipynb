{
 "cells": [
  {
   "attachments": {},
   "cell_type": "markdown",
   "id": "1dd6d5db",
   "metadata": {},
   "source": [
    "# Hierarchický index (pokročilí)\n",
    "\n",
    "Pokročilejší práce s multiindexem (hierarchický index).\n",
    "\n",
    "* Vyřešíme soustavu rovnic. Naučíme se uložit data do tabulky, kde budou přístupné výsledky pro jednotlivá nastavení modelu (datasety) a pro vývoj jednotlivých populací. \n",
    "* Naučíme se uložená data vyvolávat a používat například pro tvorbu grafů.\n",
    "\n",
    "Nejprve import knihoven a nastavení."
   ]
  },
  {
   "cell_type": "code",
   "execution_count": null,
   "id": "62db0ecd",
   "metadata": {
    "ExecuteTime": {
     "end_time": "2023-04-01T16:24:14.324093Z",
     "start_time": "2023-04-01T16:24:13.353326Z"
    }
   },
   "outputs": [],
   "source": [
    "import numpy as np\n",
    "import matplotlib.pyplot as plt\n",
    "import pandas as pd\n",
    "from scipy.integrate import solve_ivp\n",
    "\n",
    "def konkurence(t,X,a=1,b=1,c=0.4,alpha=1,beta=.2,gamma=1):\n",
    "    x,y = X\n",
    "    return [(a-b*x-c*y)*x, (alpha-beta*x-gamma*y)*y]\n",
    "\n",
    "meze = [0,30]\n",
    "pocatecni_podminka = [0.2,0.3]\n",
    "t = np.linspace(*meze,500)"
   ]
  },
  {
   "attachments": {},
   "cell_type": "markdown",
   "id": "dfebd88d",
   "metadata": {},
   "source": [
    "## Tvorba tabulky s hierarchickým indexem\n",
    "\n",
    "Vytvoříme tabulku se sloupcovým indexem obsahujícím dvě úrovně. Pro začátek uložíme pouze sloupec s časem (v tomto případě použijeme pouze jednu úroveň). Ideální je vytvořit sloupce současně s tabulkou a poté do nich jenom vkládat data (neprázdný seznam v parametru, ale je možné sloupce vytvářet i později."
   ]
  },
  {
   "cell_type": "code",
   "execution_count": null,
   "id": "533b6d6e",
   "metadata": {
    "ExecuteTime": {
     "end_time": "2023-04-01T16:24:14.349510Z",
     "start_time": "2023-04-01T16:24:14.327182Z"
    }
   },
   "outputs": [],
   "source": [
    "my_index = pd.MultiIndex.from_tuples([], names=['dataset', 'populace'])\n",
    "df = pd.DataFrame(columns=my_index)\n",
    "df[\"t\"] = t\n",
    "df.tail()"
   ]
  },
  {
   "cell_type": "markdown",
   "id": "82182033",
   "metadata": {},
   "source": [
    "Dále vyřešíme pro jednotlivá nastavení (bez konkurence, s konkurencí a dominance jednoho a druhého druhu) a vložíme do tabulky. Vytiskneme konec tabulky."
   ]
  },
  {
   "cell_type": "code",
   "execution_count": null,
   "id": "08535c0e",
   "metadata": {
    "ExecuteTime": {
     "end_time": "2023-04-01T16:24:14.808322Z",
     "start_time": "2023-04-01T16:24:14.773064Z"
    }
   },
   "outputs": [],
   "source": [
    "datasets = [\"nezávislé populace\",\"slabá konkurence\",\"dominance x\",\"dominance y\"]  # Názvy datasetů\n",
    "druhy = [\"x\",\"y\"] # Názvy druhů\n",
    "\n",
    "for c,beta,d in zip( \n",
    "                [0,0.4,0.4,1.5],   # hodnoty pro koeficient c \n",
    "                [0,0.2,1.3,0.8],   # hodnoty pro koeficient beta\n",
    "                datasets  # názvy datasetů\n",
    "        ):\n",
    "    reseni = solve_ivp(\n",
    "                       lambda t,X:konkurence(t,X,c=c,beta=beta),\n",
    "                       meze,\n",
    "                       pocatecni_podminka,\n",
    "                       t_eval=t \n",
    "                       ).y.T   # řešení ve sloupcích\n",
    "    df[[(d,druh) for druh in druhy]]=reseni # uložení do tabulky\n",
    "df.tail() # tisk konce tabulky pro kontrolu"
   ]
  },
  {
   "cell_type": "markdown",
   "id": "ea1ef571",
   "metadata": {},
   "source": [
    "## Použití dat z tabulky\n",
    "\n",
    "Na řadě je vykreslení dat ze sloupců tak, aby byly v jednom obrázku všechna data pro jednotlivé datasety a poté v jedno obrázku všechna data pro jednotlivé populace."
   ]
  },
  {
   "cell_type": "code",
   "execution_count": null,
   "id": "1e09f1b6",
   "metadata": {
    "ExecuteTime": {
     "end_time": "2023-04-01T16:26:19.352290Z",
     "start_time": "2023-04-01T16:26:18.197550Z"
    }
   },
   "outputs": [],
   "source": [
    "fig,axs = plt.subplots(2,2,sharex=True, sharey=True)  # obrázek se čtyřmi podobrázky ve dou řadách a sloupcích\n",
    "ax = axs.ravel()  # abychom se nemuseli na podobrázky odkazovat dvojitým indexem, seřadíme je lineárně\n",
    "for a,dataset in zip(ax,datasets):  # cyklus přes podobrázky a datasety\n",
    "    a.plot(t,df.xs(key=(dataset,\"x\"),level=(0,1),axis=1))  # vykreslení datasetu do podobrázku\n",
    "    a.plot(t,df.xs(key=(dataset,\"y\"),level=(0,1),axis=1))  # vykreslení datasetu do podobrázku\n",
    "    a.set(  # nastavení nadpisu\n",
    "        title=dataset.capitalize()\n",
    "        )\n",
    "    a.grid()\n",
    "ax[0].set(ylim=(0,1.05))    # rozsah pro svislou osu\n",
    "ax[0].legend([f\"Druh {i}\" for i in druhy])  # legenda\n",
    "plt.tight_layout()  # automatické upravení mezer mezi obrázky"
   ]
  },
  {
   "cell_type": "code",
   "execution_count": null,
   "id": "4e9e7b11",
   "metadata": {
    "ExecuteTime": {
     "end_time": "2023-04-01T16:24:17.022219Z",
     "start_time": "2023-04-01T16:24:16.284102Z"
    }
   },
   "outputs": [],
   "source": [
    "fig,ax = plt.subplots(2,1,sharex=True)\n",
    "for a,populace in zip(ax,druhy):\n",
    "    a.plot(df[\"t\"],df.xs(level=1,axis=1,key=populace))\n",
    "    a.set(\n",
    "        ylim=(0,1.05),\n",
    "        title=f\"Populace ${populace}$\",\n",
    "    )\n",
    "ax[0].legend(datasets)\n",
    "plt.tight_layout()"
   ]
  },
  {
   "cell_type": "markdown",
   "id": "39a16c27",
   "metadata": {},
   "source": [
    "Mírnou modifikací kódu je možné vykreslit trajektorie řešení. (Pozor na to, jedná se o trajektorie pro čtyři různé autonomní systémy, proto trajektorie mohou vycházet z jednoho bodu por různými směry.)"
   ]
  },
  {
   "cell_type": "code",
   "execution_count": null,
   "id": "3f20988b",
   "metadata": {
    "ExecuteTime": {
     "end_time": "2023-04-01T16:24:17.381359Z",
     "start_time": "2023-04-01T16:24:17.025249Z"
    }
   },
   "outputs": [],
   "source": [
    "fig,ax = plt.subplots()\n",
    "for dataset in datasets:\n",
    "    ax.plot(df[dataset,\"x\"],df[dataset,\"y\"],label=dataset)\n",
    "ax.legend()\n",
    "ax.set(title=\"Trajektorie v modelu konkurence dvou populací\")\n",
    "plt.tight_layout()"
   ]
  },
  {
   "attachments": {},
   "cell_type": "markdown",
   "id": "8e5aa070",
   "metadata": {},
   "source": [
    "## Ukázky selekce sloupců\n",
    "\n",
    "Výběr podle hodnoty první úrově indexu je jednoduchý. Vlastně to je stejné jako pro klasické indexy. \n",
    "\n",
    "Nejprve jak vypadá naše tabulka (začátek)."
   ]
  },
  {
   "cell_type": "code",
   "execution_count": null,
   "id": "3bd1217e",
   "metadata": {},
   "outputs": [],
   "source": [
    "df.head()"
   ]
  },
  {
   "attachments": {},
   "cell_type": "markdown",
   "id": "e11de675",
   "metadata": {},
   "source": [
    "Následovně se z dat vyfiltrje vývoj systému, kdy sledujeme dvě nezávislé populace."
   ]
  },
  {
   "cell_type": "code",
   "execution_count": null,
   "id": "4cf38bf8",
   "metadata": {
    "ExecuteTime": {
     "end_time": "2023-04-01T17:12:35.182315Z",
     "start_time": "2023-04-01T17:12:35.169644Z"
    }
   },
   "outputs": [],
   "source": [
    "df[\"nezávislé populace\"]"
   ]
  },
  {
   "attachments": {},
   "cell_type": "markdown",
   "id": "92844114",
   "metadata": {},
   "source": [
    "Komplikovanější je, když na hodnotě první úrovně indexu nezáleží, ale vybíráme podle druhé úrovně. Možností je několik, jedna z nich je využití příkazu `xs`. Takto se vyberou sloupce s vývojem první populace pro jednotlivé scénáře (datasety)."
   ]
  },
  {
   "cell_type": "code",
   "execution_count": null,
   "id": "557de94f",
   "metadata": {
    "ExecuteTime": {
     "end_time": "2023-04-01T17:13:42.862791Z",
     "start_time": "2023-04-01T17:13:42.849514Z"
    }
   },
   "outputs": [],
   "source": [
    "df.xs(level=1,axis=1,key=\"x\")"
   ]
  },
  {
   "attachments": {},
   "cell_type": "markdown",
   "id": "b1e5e08d",
   "metadata": {},
   "source": [
    "Pokud vybíráme podle více kritérií, používáme n-tice."
   ]
  },
  {
   "cell_type": "code",
   "execution_count": null,
   "id": "4c918533",
   "metadata": {},
   "outputs": [],
   "source": [
    "df.xs(level=(0,1),axis=1,key=(\"slabá konkurence\",\"x\"))"
   ]
  },
  {
   "attachments": {},
   "cell_type": "markdown",
   "id": "1653193f",
   "metadata": {},
   "source": [
    "Pokud chceme jeden konkrétní sloupec, je možné předchozí kód zjednodušit. Takto se vyberou data odpovídající první populaci při slabé konkurenci. Formálně je výsledek stejný jako v minulém případě, ale protože výsledekem je jeden sloupec, je výsledek ve tvaru vektoru (přesněji řada typu `pandas.Series`). Předchozí postup pomocí `xs` vrací tabulku, která by při existenci další hierarchie ve sloupcovém indexu mohla mít více sloupců"
   ]
  },
  {
   "cell_type": "code",
   "execution_count": null,
   "id": "d3651160",
   "metadata": {},
   "outputs": [],
   "source": [
    "df[\"slabá konkurence\",\"x\"]\n"
   ]
  },
  {
   "cell_type": "code",
   "execution_count": null,
   "id": "0b51470e",
   "metadata": {},
   "outputs": [],
   "source": []
  }
 ],
 "metadata": {
  "kernelspec": {
   "display_name": "Python 3 (ipykernel)",
   "language": "python",
   "name": "python3"
  },
  "language_info": {
   "codemirror_mode": {
    "name": "ipython",
    "version": 3
   },
   "file_extension": ".py",
   "mimetype": "text/x-python",
   "name": "python",
   "nbconvert_exporter": "python",
   "pygments_lexer": "ipython3",
   "version": "3.10.9"
  }
 },
 "nbformat": 4,
 "nbformat_minor": 5
}
