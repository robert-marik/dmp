{
 "cells": [
  {
   "cell_type": "markdown",
   "id": "9b321a56-e8e4-4460-9d54-3cd3c74dcbe9",
   "metadata": {},
   "source": [
    " # Lov v populaci - fázový portrét\n",
    " \n",
    " Model $$\\frac{\\mathrm dx}{\\mathrm dt}=rx^{1+a}\\left(1-\\frac xK\\right)-h-Hx$$\n",
    " v závislosti na parametrech \n",
    " zahrnuje logistický růst, slabý Alleeho efekt (pro $a\\neq 0$), lov konstantní intenzity  (pro $h\\neq 0$) anebo lov s konstatnním úsilím  (pro $H\\neq 0$)."
   ]
  },
  {
   "cell_type": "code",
   "execution_count": null,
   "id": "d303218d-1960-42d2-b1e6-5cd28ef0e9d9",
   "metadata": {
    "tags": []
   },
   "outputs": [],
   "source": [
    "import numpy as np\n",
    "import matplotlib.pyplot as plt\n",
    "import pandas as pd\n",
    "\n",
    "def model(x,r=1,K=1,h=0, a=0, H=0):\n",
    "    return r*(x**(1+a))*(1-x/K)-h-H*x\n",
    "\n",
    "parametry =[ \n",
    "[{},\"logistický růst\"],\n",
    "[{'h':0.2},\"logistický růst s konstantním lovem\"],\n",
    "[{'H':0.2},\"logistický růst s lovem úměrným velikosti\"],\n",
    "[{'a':1, 'r':1.5},\"slabý Alleeho efekt\"],\n",
    "[{'a':1, 'r':1.5, 'H':0.2},\"slabý Alleeho efekt s lovem úměrným velikosti\"]\n",
    "]\n",
    "\n",
    "x = np.linspace(0,1,200)\n",
    "df = pd.DataFrame(index=x)\n",
    "df.index.name = \"velikost populace\"\n",
    "\n",
    "for data,popis in parametry:\n",
    "    df[popis] = model(x,**data)\n",
    "df"
   ]
  },
  {
   "cell_type": "code",
   "execution_count": null,
   "id": "fbb357bc-d996-472a-8457-785ce7853fe2",
   "metadata": {
    "tags": []
   },
   "outputs": [],
   "source": [
    "ax = df.plot()\n",
    "ax.set(ylim=(0,None));"
   ]
  },
  {
   "cell_type": "code",
   "execution_count": null,
   "id": "69f26992-4d7c-49e0-80d8-d589b506bc57",
   "metadata": {},
   "outputs": [],
   "source": [
    "# Export do Excelu\n",
    "df.to_excel('data.xlsx')"
   ]
  },
  {
   "cell_type": "markdown",
   "id": "95718423-d2e2-4b48-853e-443fe9ca93ed",
   "metadata": {},
   "source": [
    "## Cvičení\n",
    "Zkopírujte si buňky výše a pokuste se modifikovat kód tak, aby nakreslil pravou stranu logistické rovnice, poté totéž pro nosnou kapacitu navýšenou o 50 procent a do třetice totéž, ale o 50 procent bude navýšen parametr $r$. Jediné, co musít provést, je modifikovat seznam v proměnné `parametry`. "
   ]
  },
  {
   "cell_type": "code",
   "execution_count": null,
   "id": "a1556989-39ea-44f5-823a-a0f97443f70b",
   "metadata": {},
   "outputs": [],
   "source": []
  }
 ],
 "metadata": {
  "kernelspec": {
   "display_name": "Python 3 (ipykernel)",
   "language": "python",
   "name": "python3"
  },
  "language_info": {
   "codemirror_mode": {
    "name": "ipython",
    "version": 3
   },
   "file_extension": ".py",
   "mimetype": "text/x-python",
   "name": "python",
   "nbconvert_exporter": "python",
   "pygments_lexer": "ipython3",
   "version": "3.10.10"
  }
 },
 "nbformat": 4,
 "nbformat_minor": 5
}
