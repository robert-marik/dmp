{
 "cells": [
  {
   "cell_type": "markdown",
   "id": "af8e6b2b-ec66-4c3f-8743-e3542bd88d0c",
   "metadata": {
    "execution": {
     "iopub.execute_input": "2024-01-29T21:35:17.221348Z",
     "iopub.status.busy": "2024-01-29T21:35:17.220283Z",
     "iopub.status.idle": "2024-01-29T21:35:17.226189Z",
     "shell.execute_reply": "2024-01-29T21:35:17.225029Z",
     "shell.execute_reply.started": "2024-01-29T21:35:17.221300Z"
    }
   },
   "source": [
    "# Diferenciální rovnice"
   ]
  },
  {
   "cell_type": "code",
   "execution_count": 2,
   "id": "278a9330-f165-4e31-abb5-4266b4ecfc4f",
   "metadata": {
    "execution": {
     "iopub.execute_input": "2024-01-30T13:51:53.086802Z",
     "iopub.status.busy": "2024-01-30T13:51:53.085771Z",
     "iopub.status.idle": "2024-01-30T13:51:55.949647Z",
     "shell.execute_reply": "2024-01-30T13:51:55.948700Z",
     "shell.execute_reply.started": "2024-01-30T13:51:53.086767Z"
    }
   },
   "outputs": [],
   "source": [
    "import numpy as np\n",
    "import pandas  as pd\n",
    "import matplotlib.pyplot as plt\n",
    "from scipy.integrate import solve_ivp"
   ]
  },
  {
   "cell_type": "markdown",
   "id": "382c5c2b-d810-427d-9ce4-0d2686dbe9a3",
   "metadata": {},
   "source": [
    "### Řešení rovnice a vizualizace řešení. "
   ]
  },
  {
   "cell_type": "markdown",
   "id": "ed12e587-16ca-43da-b310-8c0f262aed11",
   "metadata": {},
   "source": [
    "Následující kód vyřeší rovnici $$\\frac{\\mathrm dN}{\\mathrm dt}= \\frac\n",
    "b{D(N+\\beta)}-a\\frac {N^k}S$$ dynamické rovnováhy na ostrově s nulovou počáteční\n",
    "podmínkou. \n",
    "\n",
    "\n",
    "#### Úkoly:\n",
    "\n",
    "* Vyzkoušejte si. Zkuste i zadání více počátečních podmínek, například \n",
    "  řádek `pocatecni_podminka = [0]` vyměňte za `pocatecni_podminka =\n",
    "  [0,5,10,20]`. Tím získáte řešení pro několik počátečních podmínek současně.\n",
    "* Vykopírujte text do nové buňky a opravte tak, aby zobrazoval řešení počáteční\n",
    "  úlohy $$\\frac{\\mathrm dT}{\\mathrm dt}=-0.1(T-20), \\quad T(0)=100$$ s\n",
    "  ochlazováním kávy. I zde zkuste více počátečních podmínek.\n",
    "  "
   ]
  },
  {
   "cell_type": "code",
   "execution_count": null,
   "id": "7b2af902-5230-4787-9015-8ee1d338777e",
   "metadata": {},
   "outputs": [],
   "source": [
    "### Příprava funkcí a parametrů\n",
    "pocatecni_podminka = [0]  # počáteční podmínka nebo podmínky\n",
    "meze = [0,15]  # interval, na kterém hledáme řešení\n",
    "n = 100 # počet dělících bodů\n",
    "\n",
    "def model(t, N, a=1, b=8, beta=0.2, D=0.5, k=1.3, S=20):\n",
    "    \"\"\"\n",
    "    Funkce z pravé strany modelu dynamické rovnováhy počtu druhů na ostrovech, \n",
    "    podle McArthura a Wilsona. \n",
    "    \n",
    "    Vstup:\n",
    "    -----\n",
    "    Povinnými parametry jsou čas a počet druhů, volitelnými vzdálenost \n",
    "    D od pevniny, rozloha ostrova S, další parametry modelu a konstanty \n",
    "    úměrnosti. Přednastavené hodnoty jsou pouze ilustrační, závisí na volbě\n",
    "    jednotek a konkrétním použití.\n",
    "    \n",
    "    Výstup:\n",
    "    ------\n",
    "    Hodnota funkce.\n",
    "    \"\"\"\n",
    "    kolonizace = b/(D*(N+beta))\n",
    "    vymirani = a*N**k/S \n",
    "    return  kolonizace - vymirani \n",
    "\n",
    "### Řešení modelu\n",
    "t=np.linspace(*meze, n)  # definiční obor, v těchto bodech budeme hledat řešení\n",
    "reseni = solve_ivp(\n",
    "                   model,\n",
    "                   meze,\n",
    "                   pocatecni_podminka,\n",
    "                   t_eval=t\n",
    "                   )\n",
    "\n",
    "### Vizualizace řešení\n",
    "fig,ax = plt.subplots(1)\n",
    "ax.plot(t,reseni.y.T)\n",
    "ax.set(\n",
    "    ylim = (0,None),\n",
    "    title = \"Dynamická rovnováha počtu druhů na ostrově\",\n",
    "    xlabel=\"čas\",\n",
    "    ylabel=\"počet druhů\",\n",
    ");\n"
   ]
  },
  {
   "cell_type": "markdown",
   "id": "a69c26bb-5954-480b-9ac4-12db1e9e2e04",
   "metadata": {},
   "source": [
    "### Řešení pro sadu parametrů"
   ]
  },
  {
   "cell_type": "markdown",
   "id": "ce27e581-a809-43fe-a202-791eee0b8963",
   "metadata": {
    "jp-MarkdownHeadingCollapsed": true
   },
   "source": [
    "Následující kód řeší vícekrát rovnici dynamické rovnováhy pro několik různých\n",
    "vzdálenosti ostrova od pevniny. \n",
    "\n",
    "V čem se kód změnil od předchozího? Prohlédněgte si [diff](https://gist.github.com/robert-marik/186cb003476f88526455af53d0121adc/revisions?diff=split&w=) obou kódů.\n",
    "\n",
    "* Používá se proměnná se seznamem parametrů.\n",
    "* Data se ukládají do tabulky, protože místo jednoho řešení budeme mít řešení několik.\n",
    "* Ve volání příkazu `solve_ivp` se předává hodnota parametru.\n",
    "* Příkazy pro řešení rovnice a uložení do tabulky jsou volány v cyklu.\n",
    "* Pro kreslení se dá použít metoda `plot` pro tabulky."
   ]
  },
  {
   "cell_type": "code",
   "execution_count": null,
   "id": "70ff0fd8-c414-47ec-8b36-e79e06d1ca33",
   "metadata": {},
   "outputs": [],
   "source": [
    "### Příprava funkcí a parametrů\n",
    "pocatecni_podminka = [0]  # počáteční podmínka\n",
    "meze = [0,15]  # interval, na kterém hledáme řešení\n",
    "n = 100 # počet dělících bodů\n",
    "parametry = [0.25,0.5,1,2] # seznam parametrů\n",
    "\n",
    "\n",
    "def model(t, N, a=1, b=8, beta=0.2, D=0.5, k=1.3, S=20):\n",
    "    \"\"\"\n",
    "    Funkce z pravé strany modelu dynamické rovnováhy počtu druhů na ostrovech, \n",
    "    podle McArthura a Wilsona. \n",
    "    \n",
    "    Vstup:\n",
    "    -----\n",
    "    Povinnými parametry jsou čas a počet druhů, volitelnými vzdálenost \n",
    "    D od pevniny, rozloha ostrova S, další parametry modelu a konstanty \n",
    "    úměrnosti. Přednastavené hodnoty jsou pouze ilustrační, závisí na volbě\n",
    "    jednotek a konkrétním použití.\n",
    "    \n",
    "    Výstup:\n",
    "    ------\n",
    "    Hodnota funkce.\n",
    "    \"\"\"\n",
    "    kolonizace = b/(D*(N+beta))\n",
    "    vymirani = a*N**k/S \n",
    "    return  kolonizace - vymirani \n",
    "\n",
    "### Řešení modelu\n",
    "t=np.linspace(*meze, n)  # definiční obor, v těchto bodech budeme hledat řešení\n",
    "df = pd.DataFrame(index=t, columns=parametry)      # tabulka pro výstup\n",
    "\n",
    "for parametr in parametry:\n",
    "    reseni = solve_ivp(\n",
    "                       lambda t,x:model(t,x,D=parametr),\n",
    "                       meze,\n",
    "                       pocatecni_podminka,\n",
    "                       t_eval=t\n",
    "                       )\n",
    "    df[parametr] = reseni.y.T # další sloupec tabulky\n",
    "    # lambda funkce viz https://www.w3schools.com/python/python_lambda.asp\n",
    "    # (dočasná nepojmenovaná funkce)\n",
    "\n",
    "### Vizualizace řešení\n",
    "ax = df.plot()\n",
    "ax.set(\n",
    "    ylim = (0,None),\n",
    "    title = \"Dynamická rovnováha počtu druhů na ostrově\",\n",
    "    xlabel=\"čas\",\n",
    "    ylabel=\"počet druhů\",\n",
    ")\n",
    "plt.legend(title=\"Vzdálenost ostrova\");"
   ]
  },
  {
   "cell_type": "markdown",
   "id": "20aed54b-93b2-48e8-9f6f-2b33a26b2a65",
   "metadata": {},
   "source": [
    "#### Úkoly\n",
    "\n",
    "* Vyzkoušejte si kód.\n",
    "* V nové buňce sledujte vliv rozlohy ostrova (vzdálenost je stejná) na druhovu\n",
    "  skladbu. Vykopírujte si kód a proveďte příslušnou modifikaci.\n",
    "* Před každou buňku s výpočty vložte textovou buňku popisující, co se ve výpočtu\n",
    "  odehrává, co se snažíme ukázat. Musíte vložit buňku, změnit typ z Code na\n",
    "  Markdown (vybrat buňku a stisknout M, nebo použít rozbalovací menu v toolbaru a vepsat komentář.\n",
    "* Pokud jsou veličiny $S$ a $D$ ve stále stejném poměru, je stejná i hodnota, ke\n",
    "  které konverguje řešení (viz přednáška). \n",
    "  * Znamená to, že se budou populace\n",
    "  vyvíjet stejně na daném ostrově a na ostrově, který je dvakrát větší a\n",
    "  dvakrát dále? V čem se bude situace lišit a v čem bude stejná? \n",
    "  * Odhadněte\n",
    "  odpověď a potvrďte si  hypotézu tak, že budete modelovat plnou\n",
    "  diferenciální rovnici pro obě uvažované situace. Můžete použít něco jako\n",
    "  `lambda t,x:model(t,x,D=0.5*nasobek,S=20*nasobek)` a proměnnou `nasobek` nechat iterovat přes nějaký seznam.\n",
    "  * Nepodařilo se? Potřebné modifikace jsou [zde](https://gist.github.com/robert-marik/c0ceb90311166cdf440261ee9c279816/revisions?diff=unified&w=).\n",
    "    (Jedná se o minimální modifikaci řešící úlohu, ještě je ale nutné opravit popisky.)"
   ]
  },
  {
   "cell_type": "code",
   "execution_count": null,
   "id": "09f142d5-fec6-4937-9ab1-c3dc08ed0964",
   "metadata": {},
   "outputs": [],
   "source": []
  }
 ],
 "metadata": {
  "kernelspec": {
   "display_name": "Python 3 (ipykernel)",
   "language": "python",
   "name": "python3"
  },
  "language_info": {
   "codemirror_mode": {
    "name": "ipython",
    "version": 3
   },
   "file_extension": ".py",
   "mimetype": "text/x-python",
   "name": "python",
   "nbconvert_exporter": "python",
   "pygments_lexer": "ipython3",
   "version": "3.10.10"
  }
 },
 "nbformat": 4,
 "nbformat_minor": 5
}
