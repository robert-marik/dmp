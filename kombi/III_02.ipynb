{
 "cells": [
  {
   "cell_type": "markdown",
   "id": "316bf0af-e3f8-45e3-ab5c-54e6d0d9e243",
   "metadata": {
    "execution": {
     "iopub.execute_input": "2024-02-22T12:57:09.006799Z",
     "iopub.status.busy": "2024-02-22T12:57:09.005605Z",
     "iopub.status.idle": "2024-02-22T12:57:09.013096Z",
     "shell.execute_reply": "2024-02-22T12:57:09.011480Z",
     "shell.execute_reply.started": "2024-02-22T12:57:09.006731Z"
    },
    "tags": []
   },
   "source": [
    "# Lov v populaci - časový vývoj"
   ]
  },
  {
   "cell_type": "code",
   "execution_count": null,
   "id": "f0bb0c1f-129d-41c5-9aca-4dbd64b19fae",
   "metadata": {
    "tags": []
   },
   "outputs": [],
   "source": [
    "import numpy as np\n",
    "import matplotlib.pyplot as plt\n",
    "import pandas as pd\n",
    "from scipy.integrate import solve_ivp"
   ]
  },
  {
   "cell_type": "markdown",
   "id": "1a386257-8f92-4709-ab61-5339773204a4",
   "metadata": {},
   "source": [
    "## Konstantní lov"
   ]
  },
  {
   "cell_type": "code",
   "execution_count": null,
   "id": "418bdc3f-6a2c-4b95-b261-713022554ea6",
   "metadata": {
    "tags": []
   },
   "outputs": [],
   "source": [
    "### Příprava funkcí a parametrů\n",
    "pocatecni_podminka = [0.2]  # počáteční podmínka\n",
    "meze = np.array([0,10]) # interval, na kterém hledáme řešení\n",
    "parametry = [0,0.1,0.2,0.3] # seznam parametrů\n",
    "n = 100\n",
    "\n",
    "def rovnice(t, x, r=1, K=1, h=0.15):\n",
    "    if x<0:\n",
    "        return np.nan  # pro zaporne hodnoty vraceme nedefinovany vyraz, zaporne velikosti populaci nemaji smysl\n",
    "    return r*x*(1-x/K)-h\n",
    "\n",
    "\n",
    "### Řešení modelu\n",
    "t=np.linspace(*meze, n)  # definiční obor, v těchto bodech budeme hledat řešení\n",
    "df = pd.DataFrame(index=t)      # tabulka pro výstup\n",
    "df.index.name = \"čas\"\n",
    "\n",
    "for parametr in parametry:\n",
    "    reseni = solve_ivp(\n",
    "                       lambda t,x:rovnice(t,x,h=parametr),\n",
    "                       meze,\n",
    "                       pocatecni_podminka,\n",
    "                       t_eval=t\n",
    "                       )\n",
    "    df.loc[reseni.t,parametr] = reseni.y.T # další sloupec tabulky\n",
    "    # lambda funkce viz https://www.w3schools.com/python/python_lambda.asp\n",
    "    # (dočasná nepojmenovaná funkce)\n",
    "\n",
    "### Vizualizace řešení\n",
    "ax = df.plot()\n",
    "ax.set(\n",
    "    ylim = (0,1),\n",
    "    title = \"Model konstantního lovu\",\n",
    "    ylabel=\"velikost populace\",\n",
    ")\n",
    "plt.legend(title=\"Intenzita lovu\")"
   ]
  },
  {
   "cell_type": "code",
   "execution_count": null,
   "id": "109c41d9-6460-4814-8d87-577b0695df07",
   "metadata": {
    "tags": []
   },
   "outputs": [],
   "source": [
    "df"
   ]
  },
  {
   "cell_type": "code",
   "execution_count": null,
   "id": "e31d5311-106e-4e1f-bf3a-b3feeff9d340",
   "metadata": {
    "tags": []
   },
   "outputs": [],
   "source": [
    "params = {'style':[\"-\",\"--\",\"-.\",\":\",\">-\"], 'color':['gray','C0','C1','C2','C3']}\n",
    "x = np.linspace(0,1,30)\n",
    "df = pd.DataFrame(index = x)\n",
    "df.index.name = \"velikost populace\"\n",
    "r,K = 1,1\n",
    "df[\"logistický růst\"] = r*x*(1-x/K)\n",
    "for h in parametry:\n",
    "    df[f\"lov intenzity {h}\"] = 0*x + h\n",
    "ax = df.plot(**params)\n",
    "plt.legend(loc='upper right')\n",
    "ax.set(ylabel=\"rychlost růstu a poklesu\")\n",
    "# plt.grid()\n"
   ]
  },
  {
   "cell_type": "markdown",
   "id": "a8e2101e-a220-4782-bfb4-0107872c15d6",
   "metadata": {},
   "source": [
    "## Lov konstantním úsilím"
   ]
  },
  {
   "cell_type": "code",
   "execution_count": null,
   "id": "ce666563-93bc-4f99-9678-d5ab0016ffbf",
   "metadata": {
    "tags": []
   },
   "outputs": [],
   "source": [
    "x = np.linspace(0,1)\n",
    "df = pd.DataFrame(index = x)\n",
    "df.index.name = \"velikost populace\"\n",
    "r,K = 1,1\n",
    "df[\"logistický růst\"] = r*x*(1-x/K)\n",
    "for h in parametry:\n",
    "    df[f\"lov intenzity {h}\"] = x * h\n",
    "df.plot(**params)\n",
    "plt.legend(loc='upper right')"
   ]
  },
  {
   "cell_type": "code",
   "execution_count": null,
   "id": "559ab7d2-4a1b-4d2b-9c35-de54f8aa7aa0",
   "metadata": {
    "tags": []
   },
   "outputs": [],
   "source": [
    "### Příprava funkcí a parametrů\n",
    "pocatecni_podminka = np.array([0.3])  # počáteční podmínka\n",
    "meze = np.array([0,10]) # interval, na kterém hledáme řešení\n",
    "parametry = [0,0.1,0.2,0.3] # seznam parametrů\n",
    "n = 100\n",
    "\n",
    "def rovnice(t, x, r=1, K=1, h=0.15):\n",
    "    return r*x*(1-x/K)-h*x\n",
    "\n",
    "\n",
    "### Řešení modelu\n",
    "t=np.linspace(*meze, n)  # definiční obor, v těchto bodech budeme hledat řešení\n",
    "df = pd.DataFrame()      # tabulka pro výstup\n",
    "df.index = t              # sloupec s časem\n",
    "\n",
    "for parametr in parametry:\n",
    "    reseni = solve_ivp(\n",
    "                       lambda t,x:rovnice(t,x,h=parametr),\n",
    "                       meze,\n",
    "                       pocatecni_podminka,\n",
    "                       t_eval=t\n",
    "                       )\n",
    "    df[parametr] = reseni.y.T # další sloupec tabulky\n",
    "    # lambda funkce viz https://www.w3schools.com/python/python_lambda.asp\n",
    "    # (dočasná nepojmenovaná funkce)\n",
    "\n",
    "### Vizualizace řešení\n",
    "ax = df.plot()\n",
    "ax.set(\n",
    "    ylim = (0,1),\n",
    "    title = \"Model lovu s konstantním úsilím\",\n",
    "    xlabel=\"čas\",\n",
    "    ylabel=\"velikost populace\",\n",
    ")\n",
    "plt.legend(title=\"Intenzita lovu\")"
   ]
  },
  {
   "cell_type": "markdown",
   "id": "6257a51d-e7ca-475b-a406-0871850b0de6",
   "metadata": {},
   "source": [
    "## Lov populace se slabým a silným Aleeho efektem"
   ]
  },
  {
   "cell_type": "code",
   "execution_count": null,
   "id": "3b6a0d32-7dc3-46f9-882f-33c7cd2c5926",
   "metadata": {
    "tags": []
   },
   "outputs": [],
   "source": [
    "x = np.linspace(0,1)\n",
    "df = pd.DataFrame(index = x)\n",
    "r,K = 1,1\n",
    "df[\"růst bez lovu\"] = r*x**2*(1-x/K)*1.5\n",
    "for h in parametry:\n",
    "    df[f\"lov intenzity {h}\"] = x * h\n",
    "df.plot(**params)\n",
    "plt.legend(loc='upper right')"
   ]
  },
  {
   "cell_type": "code",
   "execution_count": null,
   "id": "f9c887e5-cd16-429d-8b7f-7c19a678306b",
   "metadata": {
    "tags": []
   },
   "outputs": [],
   "source": [
    "x = np.linspace(0,1)\n",
    "df = pd.DataFrame(index = x)\n",
    "r,K = 1,1\n",
    "df[\"růst bez lovu\"] = r*x*(1-x/K)*(x/.2-1)/2\n",
    "for h in parametry:\n",
    "    df[f\"lov intenzity {h}\"] = x * h\n",
    "df.plot(**params)\n",
    "plt.legend(loc='upper right')"
   ]
  },
  {
   "cell_type": "code",
   "execution_count": null,
   "id": "a53d60f5-72b5-4739-ba1f-bcfd8a5e53b5",
   "metadata": {},
   "outputs": [],
   "source": []
  }
 ],
 "metadata": {
  "kernelspec": {
   "display_name": "Python 3 (ipykernel)",
   "language": "python",
   "name": "python3"
  },
  "language_info": {
   "codemirror_mode": {
    "name": "ipython",
    "version": 3
   },
   "file_extension": ".py",
   "mimetype": "text/x-python",
   "name": "python",
   "nbconvert_exporter": "python",
   "pygments_lexer": "ipython3",
   "version": "3.10.10"
  }
 },
 "nbformat": 4,
 "nbformat_minor": 5
}
