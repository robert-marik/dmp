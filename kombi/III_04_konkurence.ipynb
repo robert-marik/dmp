{
 "cells": [
  {
   "cell_type": "markdown",
   "id": "19e5b7b7-4d8e-42a9-b210-73c2c4bbac38",
   "metadata": {},
   "source": [
    "# Model konkurence"
   ]
  },
  {
   "cell_type": "code",
   "execution_count": null,
   "id": "4558711e-9e98-417a-ab3b-dacbff797bb1",
   "metadata": {
    "tags": []
   },
   "outputs": [],
   "source": [
    "import numpy as np\n",
    "import matplotlib.pyplot as plt\n",
    "import pandas as pd\n",
    "from scipy.integrate import solve_ivp"
   ]
  },
  {
   "cell_type": "markdown",
   "id": "7fd7369d-188e-4a55-aa18-2b2cd7f7d551",
   "metadata": {},
   "source": [
    "Následující kód modeluje chování společenství konkurence dvou populací pomocí\n",
    "soustavy rovnic\n",
    "$$\n",
    "\\begin{aligned}\n",
    "\\frac{\\mathrm dx}{\\mathrm dt}={}&(a-bx-cy)x,\\\\\n",
    "\\frac{\\mathrm dy}{\\mathrm dt}={}&(\\alpha-\\beta x-\\gamma y)y.\n",
    "\\end{aligned}\n",
    "$$\n",
    "Koeficienty mezidruhové konkurence $c$ a $\\beta$ jsou nastaveny tak, aby druh $x$ dominoval. Ostatní koeficiety jsou nastaveny na jednotkovou velikost. Pro srovnání je studován i model, kdy se populace $x$ a $y$ neovlivňují a  koeficienty mezidruhové konkurence jsou nulové."
   ]
  },
  {
   "cell_type": "code",
   "execution_count": null,
   "id": "b616958b-bd3b-48e0-a494-95a94d6b9127",
   "metadata": {
    "tags": []
   },
   "outputs": [],
   "source": [
    "def konkurence(t,X,a=1,b=1,c=0,alpha=1,beta=0,gamma=1):\n",
    "    x,y= X\n",
    "    return [(a-b*x-c*y)*x, (alpha-beta*x-gamma*y)*y]\n",
    "\n",
    "meze = [0,50]\n",
    "pocatecni_podminka = [0.1,0.5]\n",
    "t = np.linspace(*meze,500)\n",
    "\n",
    "df = pd.DataFrame(index=t)\n",
    "df.index.name =\"čas\"\n",
    "\n",
    "for c,beta,sloupce in zip( [0.8,0] , [1.2, 0] , [[\"x\",\"y\"],[\"x0\",\"y0\"]]):\n",
    "    print (f\"Řeším pro c={c}, beta={beta}, výstup do {sloupce}.\")\n",
    "    df[sloupce] = solve_ivp(\n",
    "                       lambda t,X:konkurence(t,X,c=c,beta=beta),\n",
    "                       meze,\n",
    "                       pocatecni_podminka,\n",
    "                       t_eval=t\n",
    "                       ).y.T\n",
    "df.tail()\n",
    "\n"
   ]
  },
  {
   "cell_type": "code",
   "execution_count": null,
   "id": "ad00844f-41ac-4e85-9a7c-97156d319cef",
   "metadata": {
    "tags": []
   },
   "outputs": [],
   "source": [
    "ax = df.plot(\n",
    "    subplots=[(\"x\",\"x0\"),(\"y\",\"y0\")],\n",
    "    legend=False,\n",
    "    style=[\"-\"]*2+[\"--\"]*2\n",
    ")\n",
    "ax[0].set(\n",
    "    ylabel=\"Druh $x$\",\n",
    ")\n",
    "ax[1].set(\n",
    "    xlabel=\"Čas\",\n",
    "    ylabel=\"Druh $y$\",\n",
    ")\n",
    "\n",
    "ax[0].legend([\"S konkurencí\", \"Samostatně\"])\n",
    "ax[1].legend([\"S konkurencí\", \"Samostatně\"])\n",
    "plt.suptitle(\"Model dvou populací s konkurencí a bez konkurence\")\n",
    "plt.tight_layout();"
   ]
  },
  {
   "cell_type": "markdown",
   "id": "efafaed7-45d1-4467-994d-1ec9444636fc",
   "metadata": {},
   "source": [
    "Následující kód je minimalistickým kódem pro model konkurence dvou populací a vykreslení řešení tohoto modelu."
   ]
  },
  {
   "cell_type": "code",
   "execution_count": null,
   "id": "8af78620-c4c5-4b1c-b7c2-84e52a21d560",
   "metadata": {
    "tags": []
   },
   "outputs": [],
   "source": [
    "def model(t,X,a=1,b=1,c=0.7,alpha=1,beta=1.2,gamma=1):\n",
    "    x,y = X\n",
    "    return [(a-b*x-c*y)*x, (alpha-beta*x-gamma*y)*y]\n",
    "\n",
    "meze = [0,50]\n",
    "pocatecni_podminka = [0.1,0.5]\n",
    "sloupce = [\"populace x\",\"populace y\"]\n",
    "\n",
    "t = np.linspace(*meze,500)\n",
    "df = pd.DataFrame(index=t)\n",
    "df.index.name =\"čas\"\n",
    "\n",
    "df[sloupce] = solve_ivp(\n",
    "                       model,\n",
    "                       meze,\n",
    "                       pocatecni_podminka,\n",
    "                       t_eval=t\n",
    "                       ).y.T\n",
    "ax = df.plot()\n",
    "\n",
    "ax.set(title=\"Model dvou populací s konkurencí\")\n",
    "plt.tight_layout();"
   ]
  },
  {
   "cell_type": "markdown",
   "id": "97dd6de9-2933-40df-bece-f8bdaf37f10a",
   "metadata": {},
   "source": [
    "Model upravíme\n",
    "\n",
    "* přidejte do modelu predátora\n",
    "* predátor se živí dominantní kořistí\n",
    "* ukažte, že přítomnost predátora může pomoct populaci konkurečně slabšího druhu přežít\n",
    "* model bude mít \n",
    "    * tři závislé proměnné, \n",
    "    * tři rovnice, \n",
    "    * tři počáteční podmínky, \n",
    "    * tři sloupce v tabulce s výsledky"
   ]
  },
  {
   "cell_type": "code",
   "execution_count": null,
   "id": "5bd83cda-1cd1-4831-b814-05cff5cd0732",
   "metadata": {
    "tags": []
   },
   "outputs": [],
   "source": [
    "def model(t,X,a=1,b=1,c=0.7,alpha=1,beta=1.2,gamma=1):\n",
    "    x,y = X\n",
    "    return [(a-b*x-c*y)*x, (alpha-beta*x-gamma*y)*y]\n",
    "\n",
    "meze = [0,50]\n",
    "pocatecni_podminka = [0.1,0.5]\n",
    "sloupce = [\"populace_1\",\"populace_2\"]\n",
    "\n",
    "t = np.linspace(*meze,500)\n",
    "df = pd.DataFrame(index=t)\n",
    "df.index.name =\"čas\"\n",
    "\n",
    "df[sloupce] = solve_ivp(\n",
    "                       model,\n",
    "                       meze,\n",
    "                       pocatecni_podminka,\n",
    "                       t_eval=t\n",
    "                       ).y.T\n",
    "ax = df.plot()\n",
    "\n",
    "ax.set(title=\"Model dvou konkurenčních populací v přítomnosti dravce\")\n",
    "plt.tight_layout();"
   ]
  },
  {
   "cell_type": "code",
   "execution_count": null,
   "id": "51bc5aaf-57c1-4e5f-a8f0-3599760cd95a",
   "metadata": {
    "tags": []
   },
   "outputs": [],
   "source": [
    "df.tail()"
   ]
  },
  {
   "cell_type": "code",
   "execution_count": null,
   "id": "c62d9679-b28a-4f3d-8926-0f63650ccb64",
   "metadata": {},
   "outputs": [],
   "source": []
  }
 ],
 "metadata": {
  "kernelspec": {
   "display_name": "Python 3 (ipykernel)",
   "language": "python",
   "name": "python3"
  },
  "language_info": {
   "codemirror_mode": {
    "name": "ipython",
    "version": 3
   },
   "file_extension": ".py",
   "mimetype": "text/x-python",
   "name": "python",
   "nbconvert_exporter": "python",
   "pygments_lexer": "ipython3",
   "version": "3.10.10"
  }
 },
 "nbformat": 4,
 "nbformat_minor": 5
}
