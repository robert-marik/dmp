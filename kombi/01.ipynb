{
 "cells": [
  {
   "cell_type": "markdown",
   "id": "6aa4bb9a-2951-46f3-8794-c38968a510ee",
   "metadata": {},
   "source": [
    "# Kombinovaná forma\n",
    "\n",
    "## První kroky"
   ]
  },
  {
   "cell_type": "markdown",
   "id": "79c12ec3-14a9-4b7f-a0e1-57aaa183e9bb",
   "metadata": {},
   "source": [
    "Komentáře budou jenom stručné, pokud chcete podrobné vysvětlení jednotlivých příkazů, můžete je vykopírovat do nějakého nástroje umělé inteligence, například ChatGPT nebo [ZZZ Code AI](https://zzzcode.ai/python/code-explain). Oba nástroje umí komunikovat i v češtině."
   ]
  },
  {
   "cell_type": "code",
   "execution_count": null,
   "id": "c913d239-36ef-4eaa-8dda-0ea06d2fb4f3",
   "metadata": {},
   "outputs": [],
   "source": [
    "# načtení knihoven\n",
    "import numpy as np\n",
    "import pandas as pd\n",
    "import matplotlib.pyplot as plt"
   ]
  },
  {
   "cell_type": "code",
   "execution_count": null,
   "id": "d3d61011-8e2d-401f-9ce0-fad1dd95f923",
   "metadata": {},
   "outputs": [],
   "source": [
    "# vytvoření pole pro definiční obor a vykreslení dvou goniometrickcýh funkcí\n",
    "x = np.linspace(0,10,100)\n",
    "plt.plot(x,np.sin(x))\n",
    "plt.plot(x,np.cos(x))"
   ]
  },
  {
   "cell_type": "code",
   "execution_count": null,
   "id": "b1f7fee8-4a88-4bfc-acdb-baa30ed7f970",
   "metadata": {},
   "outputs": [],
   "source": [
    "# vytvoření pole pro definiční obor a vykreslení dvou goniometrickcýh funkcí\n",
    "pocet_bodu = 100\n",
    "a,b = 0, 10\n",
    "x = np.linspace(a,b,pocet_bodu)\n",
    "plt.plot(x,np.sin(x))\n",
    "plt.plot(x,np.cos(x))"
   ]
  },
  {
   "cell_type": "markdown",
   "id": "7ea38329-2742-4064-992b-40d3bd2cdcf0",
   "metadata": {},
   "source": [
    "Při skutečné práci chceme zpravidla oddělit načtení dat, jejich zpracování a vizuální prezentaci. K tomu se hodí data ukládat do tabulek. "
   ]
  },
  {
   "cell_type": "code",
   "execution_count": null,
   "id": "9d83c55c-79aa-4504-980f-afad208e5edf",
   "metadata": {},
   "outputs": [],
   "source": [
    "df = pd.DataFrame(index=x) # Prázdná tabulka se zadanými hodnotami řádkového indexu\n",
    "df[\"sinus\"] = np.sin(x) # vytvoření sloupce s daty\n",
    "df[\"kosinus\"] = np.cos(x) # vytvoření dalšího sloupce s daty\n",
    "df"
   ]
  },
  {
   "cell_type": "code",
   "execution_count": null,
   "id": "aeceb5eb-cc33-4bb0-8902-c47c67c83a70",
   "metadata": {},
   "outputs": [],
   "source": [
    "df.plot()"
   ]
  },
  {
   "cell_type": "markdown",
   "id": "f57f1a39-50c3-440c-a043-47389df6df33",
   "metadata": {},
   "source": [
    "U velkých tabulek je efektivnější a pohodlnější nejprve vytvořit tabulku i se sloupci a poté do ní doplnit data. Následující kód připraví proměnné a prázdnou tabulku."
   ]
  },
  {
   "cell_type": "code",
   "execution_count": null,
   "id": "699ed332-45fc-4e73-8f64-8dcfab6db6b7",
   "metadata": {},
   "outputs": [],
   "source": [
    "K = 1\n",
    "r_seznam = np.array([1,2,3])\n",
    "x = np.linspace(0,1,100)\n",
    "df = pd.DataFrame(index=x, columns=r_seznam)\n",
    "df"
   ]
  },
  {
   "cell_type": "markdown",
   "id": "ce46dbe2-f190-4036-99d8-ee0526a3d473",
   "metadata": {},
   "source": [
    "Následující kód do tabulky doplní data. Postupuje se po sloupcích."
   ]
  },
  {
   "cell_type": "code",
   "execution_count": null,
   "id": "f8a76774-9a57-4204-9b03-265a7c02f3af",
   "metadata": {},
   "outputs": [],
   "source": [
    "for r in r_seznam:\n",
    "    df[r] = r * x * (1 - x/K)\n",
    "df"
   ]
  },
  {
   "cell_type": "code",
   "execution_count": null,
   "id": "16e3de55-eb3d-4d61-ab81-2247a6868d7b",
   "metadata": {},
   "outputs": [],
   "source": [
    "ax = df.plot()\n",
    "ax.legend(title = \"Hodnota r\")\n",
    "ax.set(title=\"Růst v prostředí s omezenou nosnou kapacitou\", \n",
    "       xlabel=\"Velikost populace\", \n",
    "       ylabel=\"Rychlost růstu\")"
   ]
  },
  {
   "cell_type": "markdown",
   "id": "87030df3-3b95-4e89-8acc-3d65db7c1220",
   "metadata": {},
   "source": [
    "## Simulace tepelné výměny\n",
    "\n"
   ]
  },
  {
   "cell_type": "code",
   "execution_count": null,
   "id": "7f9f6011-c7ad-4964-848c-96f4baa4b89e",
   "metadata": {},
   "outputs": [],
   "source": [
    "N = 500\n",
    "t = np.linspace(0,5,500)\n",
    "k_values = [1,2,3]\n",
    "df = pd.DataFrame(index=t, columns=k_values)\n",
    "T_okoli = 20\n",
    "\n",
    "df.iloc[0,:] = 90\n",
    "df"
   ]
  },
  {
   "cell_type": "code",
   "execution_count": null,
   "id": "208d30cc-f035-4a4d-9fe1-8fa6c5c0519f",
   "metadata": {},
   "outputs": [],
   "source": [
    "for k in k_values:\n",
    "    T = df[k].values\n",
    "    for i in range(N-1):\n",
    "        dt = t[i+1] - t[i]\n",
    "        T[i+1] = T[i] - dt*(T[i]-T_okoli)*k\n",
    "    df[k] = T\n",
    "ax = df.plot()\n",
    "ax.set(ylim=(0,None))"
   ]
  },
  {
   "cell_type": "code",
   "execution_count": null,
   "id": "88e0558d-c5c3-4a51-8aed-37da6eb59729",
   "metadata": {},
   "outputs": [],
   "source": [
    "df"
   ]
  },
  {
   "cell_type": "code",
   "execution_count": null,
   "id": "589aabc3-ab90-4977-a11c-a12f5ce88777",
   "metadata": {},
   "outputs": [],
   "source": []
  },
  {
   "cell_type": "code",
   "execution_count": null,
   "id": "c8b8edb5-383b-4c96-860b-89c8f475cb5b",
   "metadata": {},
   "outputs": [],
   "source": []
  }
 ],
 "metadata": {
  "kernelspec": {
   "display_name": "Python 3 (ipykernel)",
   "language": "python",
   "name": "python3"
  },
  "language_info": {
   "codemirror_mode": {
    "name": "ipython",
    "version": 3
   },
   "file_extension": ".py",
   "mimetype": "text/x-python",
   "name": "python",
   "nbconvert_exporter": "python",
   "pygments_lexer": "ipython3",
   "version": "3.10.10"
  }
 },
 "nbformat": 4,
 "nbformat_minor": 5
}
