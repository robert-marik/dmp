{
 "cells": [
  {
   "cell_type": "markdown",
   "id": "e3bdfc05-5a28-4b1d-b225-2ce11b9477d0",
   "metadata": {},
   "source": [
    "# Data a grafy"
   ]
  },
  {
   "cell_type": "markdown",
   "id": "c750192e-37ed-4102-bd95-81c2e5f9c8dc",
   "metadata": {},
   "source": [
    "## První kroky"
   ]
  },
  {
   "cell_type": "markdown",
   "id": "79c12ec3-14a9-4b7f-a0e1-57aaa183e9bb",
   "metadata": {},
   "source": [
    "Komentáře budou jenom stručné, pokud chcete podrobné vysvětlení jednotlivých příkazů, můžete je vykopírovat do nějakého nástroje umělé inteligence, například ChatGPT nebo [ZZZ Code AI](https://zzzcode.ai/python/code-explain). Oba nástroje umí komunikovat i v češtině.\n",
    "\n"
   ]
  },
  {
   "cell_type": "markdown",
   "id": "8f0bb7dd-f8ad-4194-b98f-06ca4ffefc9e",
   "metadata": {},
   "source": [
    "*Co googlit*\n",
    "\n",
    "Klíčová slova, která se hodí pro dotazy pro vyhledávací službu. Pro potřeby nalezení návodů, tutorilálů, tipů, uživatelského manuálu apod.\n",
    "\n",
    "|Slovo, fráze|Použití|\n",
    "|-|-|\n",
    "|Python|Programovací jazyk, který budeme používat|\n",
    "|Jupyter, JupterLab|Prostředí, ve kterém budeme Python používat nejčastěji. Prostředí pro práci je mnoho, volíme takové, které nevyžaduje instalaci na lokální PC.|\n",
    "|NumPy|Knihovna numerické výpočty.|\n",
    "|SciPy|Knihovna pro řešení diferenciálních rovnic a mnoho dalšího.|\n",
    "|`solve_ivp`|Příkaz z knihovny SciPy pro řešení diferenciálních rovnic.|\n",
    "|Matplotlib|Knihovna pro kreslení obrázků, grafů. Nejčastěji použijeme pro vizualizaci výstupu přkazu `solve_ivp`.|\n",
    "|Pandas|Knihovna pro práci s tabulkami.|\n",
    "|dataframe|Název pro tabulky používaný při práci s knihovnou Pandas.|"
   ]
  },
  {
   "cell_type": "code",
   "execution_count": null,
   "id": "c913d239-36ef-4eaa-8dda-0ea06d2fb4f3",
   "metadata": {},
   "outputs": [],
   "source": [
    "# načtení knihoven\n",
    "import numpy as np\n",
    "import pandas as pd\n",
    "import matplotlib.pyplot as plt"
   ]
  },
  {
   "cell_type": "code",
   "execution_count": null,
   "id": "d3d61011-8e2d-401f-9ce0-fad1dd95f923",
   "metadata": {},
   "outputs": [],
   "source": [
    "# vytvoření pole pro definiční obor a vykreslení dvou goniometrickcýh funkcí\n",
    "x = np.linspace(0,10,100)\n",
    "plt.plot(x,np.sin(x))\n",
    "plt.plot(x,np.cos(x))"
   ]
  },
  {
   "cell_type": "code",
   "execution_count": null,
   "id": "b1f7fee8-4a88-4bfc-acdb-baa30ed7f970",
   "metadata": {},
   "outputs": [],
   "source": [
    "# vytvoření pole pro definiční obor a vykreslení dvou goniometrickcýh funkcí\n",
    "pocet_bodu = 100\n",
    "a,b = 0, 10\n",
    "x = np.linspace(a,b,pocet_bodu)\n",
    "plt.plot(x,np.sin(x))\n",
    "plt.plot(x,np.cos(x))"
   ]
  },
  {
   "cell_type": "markdown",
   "id": "7ea38329-2742-4064-992b-40d3bd2cdcf0",
   "metadata": {},
   "source": [
    "Při skutečné práci chceme zpravidla oddělit načtení dat, jejich zpracování a vizuální prezentaci. K tomu se hodí data ukládat do tabulek. "
   ]
  },
  {
   "cell_type": "code",
   "execution_count": null,
   "id": "9d83c55c-79aa-4504-980f-afad208e5edf",
   "metadata": {},
   "outputs": [],
   "source": [
    "df = pd.DataFrame(index=x) # Prázdná tabulka se zadanými hodnotami řádkového indexu\n",
    "df[\"sinus\"] = np.sin(x) # vytvoření sloupce s daty\n",
    "df[\"kosinus\"] = np.cos(x) # vytvoření dalšího sloupce s daty\n",
    "df"
   ]
  },
  {
   "cell_type": "code",
   "execution_count": null,
   "id": "aeceb5eb-cc33-4bb0-8902-c47c67c83a70",
   "metadata": {},
   "outputs": [],
   "source": [
    "df.plot()"
   ]
  },
  {
   "cell_type": "markdown",
   "id": "f57f1a39-50c3-440c-a043-47389df6df33",
   "metadata": {},
   "source": [
    "U velkých tabulek je efektivnější a pohodlnější nejprve vytvořit tabulku i se sloupci a poté do ní doplnit data. Následující kód připraví proměnné a prázdnou tabulku."
   ]
  },
  {
   "cell_type": "code",
   "execution_count": null,
   "id": "699ed332-45fc-4e73-8f64-8dcfab6db6b7",
   "metadata": {},
   "outputs": [],
   "source": [
    "K = 1\n",
    "r_seznam = np.array([1,2,3])\n",
    "x = np.linspace(0,1,100)\n",
    "df = pd.DataFrame(index=x, columns=r_seznam)\n",
    "df"
   ]
  },
  {
   "cell_type": "markdown",
   "id": "ce46dbe2-f190-4036-99d8-ee0526a3d473",
   "metadata": {},
   "source": [
    "Následující kód do tabulky doplní data. Postupuje se po sloupcích."
   ]
  },
  {
   "cell_type": "code",
   "execution_count": null,
   "id": "f8a76774-9a57-4204-9b03-265a7c02f3af",
   "metadata": {},
   "outputs": [],
   "source": [
    "for r in r_seznam:\n",
    "    df[r] = r * x * (1 - x/K)\n",
    "df"
   ]
  },
  {
   "cell_type": "code",
   "execution_count": null,
   "id": "16e3de55-eb3d-4d61-ab81-2247a6868d7b",
   "metadata": {},
   "outputs": [],
   "source": [
    "ax = df.plot()\n",
    "ax.legend(title = \"Hodnota r\")\n",
    "ax.set(title=\"Růst v prostředí s omezenou nosnou kapacitou\", \n",
    "       xlabel=\"Velikost populace\", \n",
    "       ylabel=\"Rychlost růstu\")"
   ]
  },
  {
   "cell_type": "markdown",
   "id": "f9d7fcdd-e38c-4c37-b3c3-3a7a2222f0b6",
   "metadata": {},
   "source": [
    "## Simulace ochlazování"
   ]
  },
  {
   "cell_type": "markdown",
   "id": "1d25c2ba-8c7f-450c-8e8c-2eae4e12bfed",
   "metadata": {
    "jp-MarkdownHeadingCollapsed": true
   },
   "source": [
    "Následující kód vytvoří tabulku se třemi sloupci pro tři řešení. Řádkový index bude obsahovat časové údaje."
   ]
  },
  {
   "cell_type": "code",
   "execution_count": null,
   "id": "7f9f6011-c7ad-4964-848c-96f4baa4b89e",
   "metadata": {},
   "outputs": [],
   "source": [
    "N = 500\n",
    "t = np.linspace(0,5,500)\n",
    "k_values = [1,2,3]\n",
    "df = pd.DataFrame(index=t, columns=k_values)\n",
    "T_okoli = 20\n",
    "\n",
    "df.iloc[0,:] = 90\n",
    "df"
   ]
  },
  {
   "cell_type": "markdown",
   "id": "336a94b0-0550-4d5d-a5dc-c9f8a6348491",
   "metadata": {},
   "source": [
    "Následující kód vyřízne z tabulky sloupec s indexem 1. Ten odpovídá jednomu řešení. S tímto vektorem budeme pracovat a až najdeme všechny hodnoty, vrátíme je do tabulky."
   ]
  },
  {
   "cell_type": "code",
   "execution_count": null,
   "id": "bf762c7e-9043-443c-8ee6-a8beb11147ff",
   "metadata": {},
   "outputs": [],
   "source": [
    "T = df[1].values\n",
    "T"
   ]
  },
  {
   "cell_type": "markdown",
   "id": "885a06bc-a94f-460d-8ce5-6202bc534c0e",
   "metadata": {},
   "source": [
    "Ukázka přístupu k hodnotám. Pomocí hranaté závorky a řádkového indexu."
   ]
  },
  {
   "cell_type": "code",
   "execution_count": null,
   "id": "adf2bbcd-ee84-4ed6-b904-b6797c626994",
   "metadata": {},
   "outputs": [],
   "source": [
    "T[0]"
   ]
  },
  {
   "cell_type": "markdown",
   "id": "3bb27622-7b98-47f8-a901-d62bee57e6d1",
   "metadata": {},
   "source": [
    "Řádkový index jsou časové značky, ty si uložíme do proměnné `t`. K jednotlivýám časovým značkám je možno přistupovat pomocí `t[n]`, kde `n` je pořadí hodnoty ve vektoru `t`, číslováno od nuly."
   ]
  },
  {
   "cell_type": "code",
   "execution_count": null,
   "id": "8e06299c-5fbb-483a-b81a-99b46e1e66a1",
   "metadata": {},
   "outputs": [],
   "source": [
    "t = df.index\n",
    "t"
   ]
  },
  {
   "cell_type": "markdown",
   "id": "f40f84d2-8ea5-45c4-8ea3-4074181b5318",
   "metadata": {},
   "source": [
    "Takto nastavíme teplotu ve druhém časovém okamžiku (tj. index času je 1, protože se indexuje od nuly) na konkrétní hodnotu."
   ]
  },
  {
   "cell_type": "code",
   "execution_count": null,
   "id": "1f4977ae-7910-4596-b8e6-bed34e508a0a",
   "metadata": {},
   "outputs": [],
   "source": [
    "T[1] = 50\n",
    "T"
   ]
  },
  {
   "cell_type": "markdown",
   "id": "50fb0fa6-4f87-44f3-90a6-10d2b42435ae",
   "metadata": {},
   "source": [
    "Proměnná `T` je odkazem na stejná data, jako jsou v tabulce. Proto se automaticky změní i hodnota v tabulce."
   ]
  },
  {
   "cell_type": "code",
   "execution_count": null,
   "id": "2d8b5f3d-e1db-4cb1-9b6b-6c73a310071e",
   "metadata": {},
   "outputs": [],
   "source": [
    "df"
   ]
  },
  {
   "cell_type": "markdown",
   "id": "7eaa741e-5cfa-40e3-bb33-d6b98c562187",
   "metadata": {},
   "source": [
    "A nyní totéž uděláme v cyklu přes všechny časy a přes všechny počáteční hodnoty."
   ]
  },
  {
   "cell_type": "code",
   "execution_count": null,
   "id": "208d30cc-f035-4a4d-9fe1-8fa6c5c0519f",
   "metadata": {},
   "outputs": [],
   "source": [
    "for k in k_values:\n",
    "    T = df[k].values\n",
    "    for i in range(N-1):\n",
    "        dt = t[i+1] - t[i]\n",
    "        T[i+1] = T[i] - dt*(T[i]-T_okoli)*k\n",
    "ax = df.plot()\n",
    "ax.set(ylim=(0,None))"
   ]
  },
  {
   "cell_type": "code",
   "execution_count": null,
   "id": "88e0558d-c5c3-4a51-8aed-37da6eb59729",
   "metadata": {},
   "outputs": [],
   "source": [
    "df"
   ]
  },
  {
   "cell_type": "markdown",
   "id": "8c95d54b-721c-4195-9d63-ad0f2fad7cc3",
   "metadata": {},
   "source": [
    "Nakonec je vhodné všechny části seskupit do jedné buňky. Zpravidla totiž pojmenováváme objekty pořád stejně, aby se daly recyklovat útržky kódu (tabulka -> dataframe -> `df`, osy -> axes -> `ax`, obrázek -> figure -> `fig`) a takto nedojde ke kolizi mezi názvy."
   ]
  },
  {
   "cell_type": "code",
   "execution_count": null,
   "id": "a99659bf-90dc-4754-a55d-e12bf1b3356d",
   "metadata": {},
   "outputs": [],
   "source": [
    "N = 500\n",
    "t = np.linspace(0,5,500)\n",
    "k_values = [1,2,3]\n",
    "T_okoli = 20\n",
    "\n",
    "df = pd.DataFrame(index=t, columns=k_values)\n",
    "df.iloc[0,:] = 90\n",
    "for k in k_values:\n",
    "    T = df[k].values\n",
    "    for i in range(N-1):\n",
    "        dt = t[i+1] - t[i]\n",
    "        T[i+1] = T[i] - dt*(T[i]-T_okoli)*k\n",
    "ax = df.plot()\n",
    "ax.set(ylim=(0,None), title=\"Model ochlazování\")\n",
    "ax.legend(title=\"Parametr k\")\n",
    "df.to_excel(\"data.xlsx\")\n",
    "df"
   ]
  },
  {
   "cell_type": "code",
   "execution_count": null,
   "id": "a91aced0-5318-4340-ac34-3718480f90af",
   "metadata": {},
   "outputs": [],
   "source": []
  }
 ],
 "metadata": {
  "kernelspec": {
   "display_name": "Python 3 (ipykernel)",
   "language": "python",
   "name": "python3"
  },
  "language_info": {
   "codemirror_mode": {
    "name": "ipython",
    "version": 3
   },
   "file_extension": ".py",
   "mimetype": "text/x-python",
   "name": "python",
   "nbconvert_exporter": "python",
   "pygments_lexer": "ipython3",
   "version": "3.10.10"
  }
 },
 "nbformat": 4,
 "nbformat_minor": 5
}
