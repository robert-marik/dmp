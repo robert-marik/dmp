{
 "cells": [
  {
   "cell_type": "code",
   "execution_count": null,
   "id": "b02dd70b-b55c-493a-82b7-10a7bd64b885",
   "metadata": {},
   "outputs": [],
   "source": [
    "! pip install myst_nb sphinx_comments sphinx_external_toc\n",
    "! pip install sphinx_design\n"
   ]
  },
  {
   "cell_type": "code",
   "execution_count": null,
   "id": "9a4bf980-7787-41ef-b076-aa05c594d3b2",
   "metadata": {},
   "outputs": [],
   "source": []
  },
  {
   "cell_type": "code",
   "execution_count": null,
   "id": "1987be73-3f31-4a9d-abf8-dbd1865f95dd",
   "metadata": {},
   "outputs": [],
   "source": []
  }
 ],
 "metadata": {
  "kernelspec": {
   "display_name": "Python 3 (ipykernel)",
   "language": "python",
   "name": "python3"
  },
  "language_info": {
   "codemirror_mode": {
    "name": "ipython",
    "version": 3
   },
   "file_extension": ".py",
   "mimetype": "text/x-python",
   "name": "python",
   "nbconvert_exporter": "python",
   "pygments_lexer": "ipython3",
   "version": "3.10.10"
  }
 },
 "nbformat": 4,
 "nbformat_minor": 5
}
