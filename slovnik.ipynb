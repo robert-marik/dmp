{
 "cells": [
  {
   "cell_type": "markdown",
   "id": "d48b9945-289d-45a3-b27a-290171309566",
   "metadata": {},
   "source": [
    "derivace\n",
    ": Matematická operace definovaná na množině funkcí a udávající rychlost růstu této funkce. Protože funkce zpravidla udávají velikosti proměnných, mluvíme  často i o derivaci těchto proměnných. Například derivace velikosti populace podle času udává rychlost růstu populace v čase. Jedná se tedy o změnu velikosti populace za jednotku času. Zpravidla ji vyjadřujeme jako rozdíl přírůstku a úbytku za jednotku času.\n",
    "\n",
    "funkce\n",
    ": Zobrazení jedné veličiny na veličinu jinou. Například funkce udávající velikostu populace jako funkci času umožňuje dosazením času získat velikost populace v \n",
    "  uvažovaném okamžiku. \n",
    "\n",
    "funkce, trofická\n",
    ": Funkce, udávající jak se působení jednoho predátora projeví na zpomalení růstu populace kořisti. Může obecně souviset s počtem predátorů (predátoři nemusí lovit samostatně, ale ve skupinách) a s velikostí populace kořisti (u hojné kořisti má predátor zpravidla vyšší úlovky, protože nemusí kořist vyhledávat, kořist nemá tolik možností úkrytu a podobně).\n",
    "\n",
    "funkce, vektorová\n",
    ": Funkce, která nemá na výstupu jednu hodnotu, ale hodnot několik, vektor. Například funkce, udávající časovou závislost dvou populací je vektorová funkce, která má jednu nezávislou proměnnou (čas) a na výstupu dvou rozměrný vektor (obsahující velikost první a velikost druhé populace).\n",
    "\n",
    "růst, logistický\n",
    ": Model, který postuluje omezenou nosnou kapacitu prostředí $K$ a předpokládá, že rychlost růstu populace je úměrná velikosti této populace a procentu neobsazeného životního prostředí. Matematický tvar je (s použitím konstanty úměrnosti $r$) $rN\\left(1-\\frac NK\\right),$ kde $N$ je velikost populace. Tento růst souvisí s r a K životními strategiemi.\n",
    "\n",
    "úměrnost, přímá\n",
    ": Veličiny $X$ a $Y$ jsou přímo úmněrné, pokud existuje konstanta $k$ takové, že platí $Y=kX$.\n",
    "\n",
    "úměrnost, nepřímá\n",
    ": Veličiny $X$ a $Y$ jsou nepřímo úmněrné, pokud existuje konstanta $k$ takové, že platí $Y=\\frac kX$."
   ]
  },
  {
   "cell_type": "code",
   "execution_count": null,
   "id": "afb0baac-89d7-4d06-8d06-85cbe3605367",
   "metadata": {},
   "outputs": [],
   "source": []
  }
 ],
 "metadata": {
  "kernelspec": {
   "display_name": "Python 3 (ipykernel)",
   "language": "python",
   "name": "python3"
  },
  "language_info": {
   "codemirror_mode": {
    "name": "ipython",
    "version": 3
   },
   "file_extension": ".py",
   "mimetype": "text/x-python",
   "name": "python",
   "nbconvert_exporter": "python",
   "pygments_lexer": "ipython3",
   "version": "3.10.10"
  }
 },
 "nbformat": 4,
 "nbformat_minor": 5
}
