{
 "cells": [
  {
   "cell_type": "markdown",
   "id": "5164c5ba",
   "metadata": {},
   "source": [
    "# První kroky\n",
    "\n",
    "## Dva druhy políček\n",
    "\n",
    "V zápisníku jsou dva druhy políček. Políčko s textem a políčko s kódem jazyka Python.\n",
    "\n",
    "* Toto políčko je políčko s textem.\n",
    "* Formátování pomocí jazyka [Markdown](https://cs.wikipedia.org/wiki/Markdown).\n",
    "* Je možné vkládat matematické výrazy. Rovnice $$ax^2+bx+c=0$$ s neznámou $x$ má řešení $$x_{1,2}=\\frac{-b\\pm \\sqrt{b^2-4ac}}{2a}.$$\n",
    "* Je možné vkládát [odkazy](https://gist.github.com/robert-marik/0d10f2795615716d45522efd2afaa28d) a obrázky.\n",
    "* Políčko přepněte do editačního módu kliknutím myší nebo stiskem Enter.\n",
    "* Připište sem co chcete a uložte stisknutím ctrl+Enter nebo shift+Enter.\n",
    "\n",
    "Přidat text můžete jako další odstavec. Můžete přidat i další odrážku nebo začít psát jiný odrážkový seznam.\n",
    "\n",
    "Odstavce jsou odděleny prázdným řádkem."
   ]
  },
  {
   "cell_type": "markdown",
   "id": "d85b3f46",
   "metadata": {},
   "source": [
    "Následující políčko je políčko s příkazy jazyka Python. \n",
    "\n",
    "1. Otevřete políčko.\n",
    "1. Upravte podle potřeby.\n",
    "1. Spusťte pomocí Shift+Enter."
   ]
  },
  {
   "cell_type": "code",
   "execution_count": null,
   "id": "4b44a684",
   "metadata": {
    "ExecuteTime": {
     "end_time": "2023-01-20T11:39:24.023636Z",
     "start_time": "2023-01-20T11:39:24.018812Z"
    }
   },
   "outputs": [],
   "source": [
    "1.2 * 6.56 - 10"
   ]
  },
  {
   "cell_type": "markdown",
   "id": "f2ac49de",
   "metadata": {},
   "source": [
    "## Knihovny\n",
    "\n",
    "Některé funkce, konstanty a příkazy jsou přístupné v knihovnách. Knihovny musíme naimportovat a jejich název použít při volání."
   ]
  },
  {
   "cell_type": "code",
   "execution_count": null,
   "id": "4844bba7",
   "metadata": {
    "ExecuteTime": {
     "end_time": "2023-01-20T11:46:43.410344Z",
     "start_time": "2023-01-20T11:46:43.405941Z"
    }
   },
   "outputs": [],
   "source": [
    "import numpy as np\n",
    "np.pi"
   ]
  },
  {
   "cell_type": "code",
   "execution_count": null,
   "id": "ab75d654",
   "metadata": {
    "ExecuteTime": {
     "end_time": "2023-01-20T11:50:02.228871Z",
     "start_time": "2023-01-20T11:50:02.222057Z"
    }
   },
   "outputs": [],
   "source": [
    "# sinus praveho uhlu (uhel je v radianech)\n",
    "np.sin(np.pi/2)"
   ]
  },
  {
   "cell_type": "markdown",
   "id": "0b2489c3",
   "metadata": {},
   "source": [
    "## Cykly\n",
    "\n",
    "Skriptování nám umožní spouštět příkazy opakovaně ta tak se vyhnout nudným činnostem. \n",
    "Základním cyklem je cyklus `for`, který je v následující ukázce. Více možností cyklu je v [samostatné kapitole](https://robert-marik.github.io/dmp/snippety/cykly.html).\n",
    "\n",
    "Třeba dokážeme vyřešit rovnici $$x=\\cos(x)$$ opakovaným dosazením do vzorečku."
   ]
  },
  {
   "cell_type": "code",
   "execution_count": null,
   "id": "f2b4b51a",
   "metadata": {
    "ExecuteTime": {
     "end_time": "2023-01-20T11:50:14.019824Z",
     "start_time": "2023-01-20T11:50:14.014287Z"
    }
   },
   "outputs": [],
   "source": [
    "import numpy as np # není nutné, pokud už bylo naimportováno\n",
    "x = 1\n",
    "for i in range(50):\n",
    "    x = np.cos(x)\n",
    "    print(x)"
   ]
  },
  {
   "cell_type": "markdown",
   "id": "152cfe64",
   "metadata": {},
   "source": [
    "Kód můžeme modifikovat. Například následující kód je podobný a vyřeší rovnici $$x = x - \\frac{x-\\cos(x)}{1+\\sin(x)}.$$ Tato rovnice je sice ekvivalentní s předešlou rovnicí, ale čísla se ustálí mnohem rychleji."
   ]
  },
  {
   "cell_type": "code",
   "execution_count": null,
   "id": "ee29d2f0",
   "metadata": {
    "ExecuteTime": {
     "end_time": "2023-01-20T11:45:08.472997Z",
     "start_time": "2023-01-20T11:45:08.468682Z"
    }
   },
   "outputs": [],
   "source": [
    "import numpy as np # není nutné, pokud už bylo naimportováno\n",
    "x = 1\n",
    "for i in range(10):\n",
    "    x = x - (x-np.cos(x))/(1+np.sin(x))\n",
    "    print(x)"
   ]
  }
 ],
 "metadata": {
  "kernelspec": {
   "display_name": "Python 3 (ipykernel)",
   "language": "python",
   "name": "python3"
  },
  "language_info": {
   "codemirror_mode": {
    "name": "ipython",
    "version": 3
   },
   "file_extension": ".py",
   "mimetype": "text/x-python",
   "name": "python",
   "nbconvert_exporter": "python",
   "pygments_lexer": "ipython3",
   "version": "3.10.10"
  }
 },
 "nbformat": 4,
 "nbformat_minor": 5
}
