{
 "cells": [
  {
   "cell_type": "markdown",
   "id": "340db151",
   "metadata": {},
   "source": [
    "```{button-link} https://user.mendelu.cz/marik/dmp/Dynamicke_modely_populaci_text.pdf\n",
    ":color: primary\n",
    ":shadow:\n",
    ":expand:\n",
    "PDF verze\n",
    "```\n",
    "\n",
    "\n",
    "# Dynamické modely populací\n",
    "\n",
    "\n",
    "\n",
    "```{figure} ./pics/lotka-volterra.jpg\n",
    "\n",
    "Lotkův-Volterrův model dvoudruhové populace dravce a kořisti byl v první polovině dvacátého století jedním z prvních počinů při snaze využít matematické modelování k objasnění přírodních fenoménů spojených s velikostmi populací živočichů. Model vysvětlil vznik pozorovaných oscilací ve společenstvu dravce a kořisti a také poněkud překvapivou skutečnost, že omezení lovu způsobí posun rovnováhy ve prospěch dravců.\n",
    "```"
   ]
  },
  {
   "cell_type": "markdown",
   "id": "e37f4397",
   "metadata": {},
   "source": [
    "Předmět je přednášen na oboru Myslivost. Obsahuje matematický aparát používaný v\n",
    "matematické biologii k popisu vývoje populací, jejich vzájemné interakce a\n",
    "schopnosti přežívat. [Webová stránka](https://robert-marik.github.io/pages/dmp) \n",
    "obsahuje rozcestník předmětu. Neveřejné informace (popis požadavků na ukončení atd.) jsou po autentizaci v Moodle, \n",
    "ostatní informace jsou vystaveny veřejně. \n",
    "\n",
    "Budeme používat matematické postupy a zkoumat matematické modely, ale předmět\n",
    "není matematikou. Nemá tedy ambice všechny pojmy definovat přesným způsobem v\n",
    "matematice obvyklým. Přesné definice těchto pojmů je snadné najít v literatuře,\n",
    "například {cite}`liska`."
   ]
  },
  {
   "cell_type": "code",
   "execution_count": null,
   "id": "7c3777f4",
   "metadata": {},
   "outputs": [],
   "source": []
  }
 ],
 "metadata": {
  "jupytext": {
   "cell_metadata_filter": "-all",
   "formats": "md:myst",
   "text_representation": {
    "extension": ".md",
    "format_name": "myst",
    "format_version": 0.13,
    "jupytext_version": "1.16.0"
   }
  },
  "kernelspec": {
   "display_name": "Python 3 (ipykernel)",
   "language": "python",
   "name": "python3"
  },
  "language_info": {
   "codemirror_mode": {
    "name": "ipython",
    "version": 3
   },
   "file_extension": ".py",
   "mimetype": "text/x-python",
   "name": "python",
   "nbconvert_exporter": "python",
   "pygments_lexer": "ipython3",
   "version": "3.12.2"
  },
  "source_map": [
   14,
   33,
   46
  ]
 },
 "nbformat": 4,
 "nbformat_minor": 5
}