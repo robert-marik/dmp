{
 "cells": [
  {
   "cell_type": "markdown",
   "id": "dafa098b-5289-4180-a1c7-7e71892ad673",
   "metadata": {},
   "source": [
    "# Model dravce a kořisti"
   ]
  },
  {
   "cell_type": "code",
   "execution_count": null,
   "id": "51e83edc-2e1e-4b54-8e72-0ee184eef5e7",
   "metadata": {
    "tags": []
   },
   "outputs": [],
   "source": [
    "import numpy as np\n",
    "import matplotlib.pyplot as plt\n",
    "import pandas as pd\n",
    "from scipy.integrate import solve_ivp\n"
   ]
  },
  {
   "cell_type": "code",
   "execution_count": null,
   "id": "2d481f71-5b31-44fe-a93a-5f3308c0d8a3",
   "metadata": {
    "tags": []
   },
   "outputs": [],
   "source": [
    "def korist(x,y,a,b):\n",
    "    return a*x - b*x*y #- 0.1*x**2\n",
    "\n",
    "def dravec(x,y,c,d):\n",
    "    return -c*y+d*x*y\n",
    "\n",
    "def model(t,X):\n",
    "    x,y = X\n",
    "    a=1.1\n",
    "    b=1\n",
    "    c=1.2\n",
    "    d=0.45\n",
    "    return [korist(x,y,a,b),dravec(x,y,c,d)]\n",
    "\n",
    "# def model(t,X):\n",
    "#     x,y = X\n",
    "#     return [x*(1-x-1.4*y),y*(1-1.5*x-y)]\n",
    "\n",
    "t = np.linspace(0, 50, 500)\n",
    "sol = solve_ivp(\n",
    "    model, \n",
    "    [t[0], t[-1]], # interval pro reseni\n",
    "    [1, 1.5], # pocatecn podminka\n",
    "    t_eval=t\n",
    ")\n",
    "\n",
    "df = pd.DataFrame(data=sol.y.T, index=t, columns=[\"kořist\",\"dravec\"])\n",
    "df.index.name = \"čas\"\n",
    "ax = df.plot(style=[\"-\",\"--\"])\n",
    "ax.set(title='Lotkův-Volterrův model', ylim= (0,None));\n",
    "# plt.savefig(\"Lotka-Volterra_prubeh.pdf\")"
   ]
  },
  {
   "cell_type": "code",
   "execution_count": null,
   "id": "42179faf-d831-426e-9fb8-91ce1875246d",
   "metadata": {
    "tags": []
   },
   "outputs": [],
   "source": [
    "xmax = 5\n",
    "ymax = 4\n",
    "x, y = np.meshgrid(np.linspace(0.01, xmax, 15), \n",
    "                   np.linspace(0.01, ymax, 15))\n",
    "\n",
    "# Komponenty vektoroveho pole\n",
    "u,v = model(0,[x,y])\n",
    "fig,ax = plt.subplots()\n",
    "ax.quiver(x,y,u,v,color='gray',units='xy', angles='xy') # vykresleni s jednotkovou delkou\n",
    "ax.streamplot(x, y, u, v, density=1)\n",
    "# ax.plot(df['kořist'],df['dravec'])\n",
    "\n",
    "ax.set(\n",
    "xlabel=\"populace kořisti\",\n",
    "ylabel=\"populace dravce\",\n",
    "title=\"Lotkův–Volterrův model dravce a kořisti\");\n",
    "# plt.savefig(\"Lotka-Volterra_portret.pdf\")"
   ]
  },
  {
   "cell_type": "markdown",
   "id": "5b336b10-503d-45cd-971c-14f874d32050",
   "metadata": {},
   "source": [
    "Následující model je kopií předchozího. Navíc je vše spojeno v jednom poli. Předělejte jej na model konkurence dvou populací, mezi kterými je slabá konkurence. Pokuste se opravit i komentář. Může pomoci [nástroj poskytující okamžitý náhled](https://msr-latex.vsb.cz/)."
   ]
  },
  {
   "cell_type": "markdown",
   "id": "86a2f38d-9f69-4e78-9c43-101a85c4fbcf",
   "metadata": {},
   "source": [
    "Predaci je možno modelovat soustavou soustavou rovnic\n",
    "$$\\begin{aligned}\n",
    "\\frac{\\mathrm dx}{\\mathrm dt} &= ax - bxy,\\\\\n",
    "\\frac{\\mathrm dy}{\\mathrm dt} &= -cy + dxy,\n",
    "\\end{aligned}$$\n",
    "kde $x$ je velikost populace kořisti, $y$ je velikost populace predátora, $t$ je čas a ostatní proměnné jsou parametry modelu."
   ]
  },
  {
   "cell_type": "code",
   "execution_count": null,
   "id": "32048715-0f1a-453d-b760-eefbc06a1179",
   "metadata": {
    "tags": []
   },
   "outputs": [],
   "source": [
    "xmax = 4\n",
    "ymax = 4\n",
    "def model(t,X,a=1,b=1,c=1,d=0.5):\n",
    "    x,y = X\n",
    "    return [a*x - b*x*y ,-c*y+d*x*y]\n",
    "\n",
    "x, y = np.meshgrid(np.linspace(0.01, xmax, 15), \n",
    "                   np.linspace(0.01, ymax, 15))\n",
    "\n",
    "# Komponenty vektoroveho pole\n",
    "u,v = model(0,[x,y])\n",
    "fig,ax = plt.subplots()\n",
    "ax.quiver(x,y,u,v,color='gray',units='xy', angles='xy') # vykresleni s jednotkovou delkou\n",
    "ax.streamplot(x, y, u, v, density=1)\n",
    "\n",
    "ax.set(\n",
    "xlabel=\"populace x\",\n",
    "ylabel=\"populace y\",\n",
    "title=\"Model (doplňte čeho)\");"
   ]
  },
  {
   "cell_type": "code",
   "execution_count": null,
   "id": "d2881ccb-e429-4078-ba1f-011f9ac02104",
   "metadata": {},
   "outputs": [],
   "source": []
  }
 ],
 "metadata": {
  "kernelspec": {
   "display_name": "Python 3 (ipykernel)",
   "language": "python",
   "name": "python3"
  },
  "language_info": {
   "codemirror_mode": {
    "name": "ipython",
    "version": 3
   },
   "file_extension": ".py",
   "mimetype": "text/x-python",
   "name": "python",
   "nbconvert_exporter": "python",
   "pygments_lexer": "ipython3",
   "version": "3.10.10"
  }
 },
 "nbformat": 4,
 "nbformat_minor": 5
}
