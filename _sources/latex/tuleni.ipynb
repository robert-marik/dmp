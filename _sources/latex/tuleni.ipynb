{
 "cells": [
  {
   "cell_type": "code",
   "execution_count": null,
   "id": "3fdead6b-520d-428f-8833-887e9d6851d8",
   "metadata": {
    "tags": []
   },
   "outputs": [],
   "source": [
    "import numpy as np\n",
    "import matplotlib.pyplot as plt\n",
    "import pandas as pd\n",
    "np.set_printoptions(suppress=True);\n",
    "\n",
    "\n",
    "L = np.matrix([\n",
    "    0, 1.26, 2.0,\n",
    "    0.614, 0, 0,\n",
    "    0, 0.808, 0.808\n",
    "]).reshape(3,3)\n",
    "\n",
    "\n",
    "N = 10\n",
    "X = np.zeros((3,N+1))\n",
    "X[:,0] = [10,5,12]\n",
    "for i in range(N):\n",
    "    X[:,i+1] = L@X[:,i]\n",
    "\n",
    "    \n",
    "    \n",
    "    \n",
    "fig, ax = plt.subplots(1)\n",
    "cas = np.linspace(0,N,N+1) * 4\n",
    "ax.plot(cas,X.T)     \n",
    "ax.legend(\n",
    "    [\"mláďata\",\"mladí tuleni\",\"staří tuleni\"],\n",
    "    title=\"Věková kategorie\"\n",
    "    )\n",
    "ax.set(\n",
    "    ylim=(0,None),\n",
    "    title=\"Počet jedinců podle věkových kategorií\",\n",
    "    ylabel=\"Počet jedinců\",\n",
    "    xlabel=\"Čas/rok\"\n",
    "    )\n",
    "ax.grid();\n"
   ]
  },
  {
   "cell_type": "code",
   "execution_count": null,
   "id": "d932f03e-ebd5-43b6-8520-b91f2915c610",
   "metadata": {
    "tags": []
   },
   "outputs": [],
   "source": [
    "import pandas as pd\n",
    "df = pd.DataFrame(data=X.T, \n",
    "                  columns=[\"mláďata\",\"mladí tuleni\",\"staří tuleni\"], \n",
    "                  index=4*np.arange(0,X.shape[1])\n",
    "                 )\n",
    "df.index.name = \"čas/rok\"\n",
    "df.columns.name = \"věková kategorie\"\n",
    "df"
   ]
  },
  {
   "cell_type": "code",
   "execution_count": null,
   "id": "e736550e-2495-4bf4-992d-56448420c48b",
   "metadata": {
    "tags": []
   },
   "outputs": [],
   "source": [
    "df.plot(grid=True, title=\"Vývoj počtu tuleňů\", ylabel=\"počet jedinců\")\n",
    "plt.savefig(\"tuleni.pdf\")"
   ]
  },
  {
   "cell_type": "code",
   "execution_count": null,
   "id": "06a7574c-8863-4ac0-8270-ca91fce78a36",
   "metadata": {
    "tags": []
   },
   "outputs": [],
   "source": [
    "styly = [\"-\",\"--\",\"-.\"]\n",
    "fig, ax = plt.subplots(1,2, figsize=(10,5))\n",
    "df.plot(grid=True, title=\"Vývoj počtu tuleňů\",  \n",
    "        ylabel=\"počet jedinců\", \n",
    "        #logy=True, \n",
    "        ax =ax[0],\n",
    "        style = styly\n",
    "        )\n",
    "df.div(df.sum(axis=1), axis=0).mul(100).plot(\n",
    "        title=\"Procentuální zastoupení kategorií\", \n",
    "        ylabel=\"procento z celkového počtu\", \n",
    "        ax=ax[1], grid=True, legend=False, style=styly)\n",
    "# plt.suptitle(\"Vývoj počtu tuleňů\")\n",
    "plt.tight_layout()\n",
    "plt.savefig(\"tuleni2.pdf\")"
   ]
  },
  {
   "cell_type": "code",
   "execution_count": null,
   "id": "83a15a7c-4958-4110-b905-1d2e13087b3a",
   "metadata": {},
   "outputs": [],
   "source": [
    "df.plot(grid=True, title=\"Vývoj počtu tuleňů\", ylabel=\"počet jedinců\", logy=True)"
   ]
  },
  {
   "cell_type": "code",
   "execution_count": null,
   "id": "69b7b42a-2be6-4716-b187-9e50b105c66c",
   "metadata": {},
   "outputs": [],
   "source": [
    "df.plot(grid=True, title=\"Vývoj počtu tuleňů\", ylabel=\"počet jedinců\", logy=True)"
   ]
  },
  {
   "cell_type": "code",
   "execution_count": null,
   "id": "84a00f69-3c17-4be3-ac8c-f398959d3619",
   "metadata": {
    "tags": []
   },
   "outputs": [],
   "source": [
    "df.sum(axis=1)"
   ]
  },
  {
   "cell_type": "code",
   "execution_count": null,
   "id": "cbcf85b3-f48a-4f68-b75a-81044647dc5f",
   "metadata": {
    "tags": []
   },
   "outputs": [],
   "source": [
    "df.div(df.sum(axis=1), axis=0).mul(100).plot(\n",
    "        title=\"Procentuální zastoupení věkových tříd\", \n",
    "        ylabel=\"procento z celkového počtu\")"
   ]
  },
  {
   "cell_type": "code",
   "execution_count": null,
   "id": "31e77f87-ecf8-4d2b-b453-03310584b439",
   "metadata": {},
   "outputs": [],
   "source": []
  }
 ],
 "metadata": {
  "kernelspec": {
   "display_name": "Python 3 (ipykernel)",
   "language": "python",
   "name": "python3"
  },
  "language_info": {
   "codemirror_mode": {
    "name": "ipython",
    "version": 3
   },
   "file_extension": ".py",
   "mimetype": "text/x-python",
   "name": "python",
   "nbconvert_exporter": "python",
   "pygments_lexer": "ipython3",
   "version": "3.10.6"
  }
 },
 "nbformat": 4,
 "nbformat_minor": 5
}
