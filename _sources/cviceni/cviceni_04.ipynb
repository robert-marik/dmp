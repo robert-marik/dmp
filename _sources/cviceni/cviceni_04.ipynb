{
 "cells": [
  {
   "cell_type": "markdown",
   "id": "0f2e5117",
   "metadata": {},
   "source": [
    "# Diferenciální rovnice 2"
   ]
  },
  {
   "cell_type": "markdown",
   "id": "0654dbdc",
   "metadata": {
    "tags": []
   },
   "source": [
    "## Exponenciální růst\n",
    "\n",
    "Namodelujeme exponenciální růst \n",
    "$$\\frac{\\mathrm dx}{\\mathrm dt}=kx$$\n",
    "pro tři různé parametry $k$. Protože po transformaci do bezrozměrného času $\\tau = kt$ má rovnice tvar \n",
    "$$\\frac{\\mathrm dx}{\\mathrm d\\tau }=x$$\n",
    "nezávislý na $k$, ověříme, že všechna řešení po transformaci do bezrozměrného času splývají.\n"
   ]
  },
  {
   "cell_type": "markdown",
   "id": "e9588137",
   "metadata": {},
   "source": [
    "Nejprve růst pro tři různé hodnoty koeficientu $k$. Vidíme, že čím vyšší je $k$, tím rychleji velikost populace roste v čase."
   ]
  },
  {
   "cell_type": "code",
   "execution_count": null,
   "id": "a27f1068-418c-4a75-8390-1785e0e060d9",
   "metadata": {},
   "outputs": [],
   "source": [
    "import numpy as np\n",
    "import matplotlib.pyplot as plt\n",
    "import pandas as pd\n",
    "from scipy.integrate import solve_ivp\n",
    "\n",
    "### Příprava funkcí a parametrů\n",
    "pocatecni_podminka = np.array([0.1])  # počáteční podmínka\n",
    "meze = np.array([0,10]) # interval, na kterém hledáme řešení\n",
    "parametry = [1,1.5,2] # seznam parametrů\n",
    "n = 100\n",
    "def rovnice(t, x, k=1):\n",
    "    return k*x\n",
    "\n",
    "### Řešení modelu\n",
    "t=np.linspace(*meze, n)  # definiční obor, v těchto bodech budeme hledat řešení\n",
    "df = pd.DataFrame()      # tabulka pro výstup\n",
    "df.index = t              # sloupec s časem\n",
    "\n",
    "for parametr in parametry:\n",
    "    reseni = solve_ivp(\n",
    "                       lambda t,x:rovnice(t,x,k=parametr),\n",
    "                       meze,\n",
    "                       pocatecni_podminka,\n",
    "                       t_eval=t\n",
    "                       )\n",
    "    df[parametr] = reseni.y.T # další sloupec tabulky\n",
    "    # lambda funkce viz https://www.w3schools.com/python/python_lambda.asp\n",
    "    # (dočasná nepojmenovaná funkce)\n",
    "df"
   ]
  },
  {
   "cell_type": "code",
   "execution_count": null,
   "id": "aa321812-b013-4e9e-9979-cc393c2e4f81",
   "metadata": {},
   "outputs": [],
   "source": [
    "### Vizualizace řešení\n",
    "ax = df.plot()\n",
    "ax.set(\n",
    "    ylim = (0,1000),\n",
    "    title = \"Model exponenciálního růstu\",\n",
    "    xlabel=\"čas\",\n",
    "    ylabel=\"velikost populace\",\n",
    ")\n",
    "plt.legend(title=\"Hodnoty parametru\")"
   ]
  },
  {
   "cell_type": "markdown",
   "id": "abca1a15",
   "metadata": {},
   "source": [
    "### Volitelná část\n",
    "\n",
    "Po transformaci do bezrozměrného času by měly křivky splynout. Abychom to viděli graficky, budeme postupně snižovat jejich tloušťku a nastavíme částečnou průhlednost. To zajistíme volbami `lw` (zkratka za `linewidth`) a `alpha`."
   ]
  },
  {
   "cell_type": "code",
   "execution_count": null,
   "id": "d1ad16e4",
   "metadata": {},
   "outputs": [],
   "source": [
    "for k,lw in zip(parametry,[8,5,2]):\n",
    "    plt.plot(t*k,df[k],lw=lw,label=k,alpha=0.5)  # Na vodorovne ose neni cas ale bezrozmerny cas\n",
    "ax = plt.gca()\n",
    "ax.set(\n",
    "    ylim=(0,100),\n",
    "    xlim=(0,10),\n",
    "    xlabel=\"bezrozměrný čas\",\n",
    "    ylabel=\"velikost populace\",\n",
    "    title=\"Růst rychlostí úměrnou velikosti v bezrozměrném čase\"\n",
    ")\n",
    "plt.legend(title=r\"Hodnota $k$\");"
   ]
  },
  {
   "cell_type": "markdown",
   "id": "8f385a64-8a18-43c2-acec-f1f3e050ed38",
   "metadata": {},
   "source": [
    "**Poznámka:** Provnávání grafů je poměrně primitivní metoda. Lepší a jednoznačnější by bylo\n",
    "vypočítat hodnoty v časech, které si odpovídají a poté ukázat, že rozdíl je blízký nule."
   ]
  },
  {
   "cell_type": "markdown",
   "id": "aa0e9b80",
   "metadata": {},
   "source": [
    "## Exponenciální růst k vodorovné asymptotě\n",
    "\n",
    "### Úkol\n",
    "\n",
    "Nakreslete řešení rovnice růstu k vodorovné asymptotě (von Bertalanffyho růst)\n",
    "$$\\frac{\\mathrm dx}{\\mathrm dt}=k(M-x)$$\n",
    "pro tři různé hodnoty parametru $k$. Vytiskněte tabulku s výsledky, vykreslete grafy. Počáteční podmínka bude polovina hodnoty $M$.\n",
    "\n",
    "Po splnění modifikujte kód některým z následujících způsobů. Můžete využít umělou inteligenci. Například zápisníky na [Anaconda cloud](https://anaconda.cloud/)\n",
    "\n",
    "* Legendu upravte tak, aby obsahovala Vámi zadaný nadpis a popisky křivek nebyla čísla, ale řetězce \"k=x\", kde x je příslušná hodnota parametru.\n",
    "* Upravte rozsah tak, aby svislá osa začínala na nule.\n",
    "* Upravte graf tak, aby kreslil křivky pro různé hodnoty $M$.\n"
   ]
  },
  {
   "cell_type": "code",
   "execution_count": null,
   "id": "1cb88933",
   "metadata": {},
   "outputs": [],
   "source": [
    "# Sem vložte řešení."
   ]
  },
  {
   "cell_type": "code",
   "execution_count": null,
   "id": "e6db762e-df6b-440d-ba78-349c1a8e0b86",
   "metadata": {},
   "outputs": [],
   "source": []
  },
  {
   "cell_type": "markdown",
   "id": "a599a2f6",
   "metadata": {},
   "source": [
    "## Logistický růst - pro případné samostatně pracující studenty"
   ]
  },
  {
   "cell_type": "markdown",
   "id": "0ded1c0b",
   "metadata": {},
   "source": [
    "### Úkol\n",
    "\n",
    "Vykreslete řešení logistické rovnice $$\\frac{\\mathrm dx}{\\mathrm dt}=rx\\left\n",
    "(1-\\frac xK\\right)$$\n",
    "pro cca deset počátečních podmínek rovnoměrně rozmístěných mezi $0$ a $K$."
   ]
  },
  {
   "cell_type": "code",
   "execution_count": null,
   "id": "eafc86a9",
   "metadata": {},
   "outputs": [],
   "source": [
    "# Sem vložte řešení. Můžete jej rozdělit do více buněk, které si sem vložíte."
   ]
  },
  {
   "cell_type": "markdown",
   "id": "7c46509f",
   "metadata": {},
   "source": [
    "### Logistická rovnice v bezrozměrném tvaru "
   ]
  },
  {
   "cell_type": "markdown",
   "id": "377934af",
   "metadata": {},
   "source": [
    "Nyní si ukážeme, že v určitém smyslu stačí bez újmy na obecnosti studovat případ $K=1$ a $r=1$. Na rovnici \n",
    "$$\\frac{\\mathrm dy}{\\mathrm d\\tau}=y(1-y)$$\n",
    "se totiž logistická rovnice transformuje při přechodu od rovnice \n",
    "$$\\frac{\\mathrm dx}{\\mathrm d t}=rx\\left(1-\\frac xK\\right)$$\n",
    "s použitím substituce $y=\\frac xK$ a $\\tau = rt$. Najdeme $y(\\tau)$ jako řešení bezrozměrné rovnice s jednotkovými parametry a $x(t)$ jako řešení rovnice s náhodnými parametry $r$ a $K$. Poté ukážeme na několika numerických hodnotách, že platí $$y(t) = K x(rt).$$\n",
    "\n",
    "\n"
   ]
  },
  {
   "cell_type": "code",
   "execution_count": null,
   "id": "11d55bf0",
   "metadata": {},
   "outputs": [],
   "source": [
    "pocatecni_podminka = np.array([0.1])\n",
    "meze = np.array([0,10])\n",
    "def rovnice(t, x, r=1, K=1):\n",
    "    return r*x*(1-x/K)\n",
    "\n",
    "# r a K budou náhodná čísla z intervalu (0,0.2) a (0,10).\n",
    "K,r = np.array([10,0.2])*np.random.random(2)\n",
    "print(f\"r={r}, K={K}\")\n",
    "t = np.linspace(*meze,12)\n",
    "\n",
    "reseni_plne_rovnice = solve_ivp(\n",
    "                   lambda t,x:rovnice(t,x,r=r,K=K),\n",
    "                   meze,\n",
    "                   pocatecni_podminka,\n",
    "                   t_eval=t\n",
    "                   )\n",
    "\n",
    "reseni_bezrozmerne_rovnice = solve_ivp(\n",
    "                   rovnice,\n",
    "                   r*meze,  # převod mezí na bezrozměrný čas\n",
    "                   pocatecni_podminka/K,  # převod na bezrozměrnou velikost populace\n",
    "                   t_eval=r*t # vyhodnoceni v bezrozmernem case\n",
    "                   )\n",
    "\n",
    "df = pd.DataFrame()\n",
    "df.index = t\n",
    "df[\"plnohodnotna\"] = reseni_plne_rovnice.y[0]\n",
    "df[\"bezrozmerna\"] = K*reseni_bezrozmerne_rovnice.y[0] \n",
    "df[\"rozdil\"] = np.abs(df[\"bezrozmerna\"]-df[\"plnohodnotna\"])\n",
    "df[\"relativni rozdil\"] = df[\"rozdil\"]/df[\"plnohodnotna\"]\n",
    "df"
   ]
  },
  {
   "cell_type": "code",
   "execution_count": null,
   "id": "02aca234",
   "metadata": {},
   "outputs": [],
   "source": [
    "df.rozdil.max()"
   ]
  },
  {
   "cell_type": "code",
   "execution_count": null,
   "id": "86b6f014",
   "metadata": {},
   "outputs": [],
   "source": [
    "df[\"relativni rozdil\"].max()"
   ]
  },
  {
   "cell_type": "code",
   "execution_count": null,
   "id": "f1a284c6",
   "metadata": {},
   "outputs": [],
   "source": [
    "np.isclose(df[\"bezrozmerna\"],df[\"plnohodnotna\"], rtol=0.0001).all()"
   ]
  },
  {
   "cell_type": "code",
   "execution_count": null,
   "id": "de187c04-d482-4535-a97e-9170e0d2dec5",
   "metadata": {},
   "outputs": [],
   "source": []
  }
 ],
 "metadata": {
  "kernelspec": {
   "display_name": "Python 3 (ipykernel)",
   "language": "python",
   "name": "python3"
  },
  "language_info": {
   "codemirror_mode": {
    "name": "ipython",
    "version": 3
   },
   "file_extension": ".py",
   "mimetype": "text/x-python",
   "name": "python",
   "nbconvert_exporter": "python",
   "pygments_lexer": "ipython3",
   "version": "3.10.6"
  },
  "varInspector": {
   "cols": {
    "lenName": 16,
    "lenType": 16,
    "lenVar": 40
   },
   "kernels_config": {
    "python": {
     "delete_cmd_postfix": "",
     "delete_cmd_prefix": "del ",
     "library": "var_list.py",
     "varRefreshCmd": "print(var_dic_list())"
    },
    "r": {
     "delete_cmd_postfix": ") ",
     "delete_cmd_prefix": "rm(",
     "library": "var_list.r",
     "varRefreshCmd": "cat(var_dic_list()) "
    }
   },
   "types_to_exclude": [
    "module",
    "function",
    "builtin_function_or_method",
    "instance",
    "_Feature"
   ],
   "window_display": false
  },
  "vscode": {
   "interpreter": {
    "hash": "916dbcbb3f70747c44a77c7bcd40155683ae19c65e1c03b4aa3499c5328201f1"
   }
  }
 },
 "nbformat": 4,
 "nbformat_minor": 5
}
