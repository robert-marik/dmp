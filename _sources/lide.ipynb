{
 "cells": [
  {
   "cell_type": "markdown",
   "id": "03d3ee6b",
   "metadata": {},
   "source": [
    "# Významní vědci věnující se dynamice populací, eoklogii apod.\n",
    "\n",
    "* [William Ogilvy Kermack](https://en.wikipedia.org/wiki/William_Ogilvy_Kermack)\n",
    "* [Andrey Nikolaevich Kolmogorov](https://en.wikipedia.org/wiki/Andrey_Kolmogorov)\n",
    "* Lefkovich\n",
    "* [Patrick Holt Leslie](https://portal.matematickabiologie.cz/index.php?pg=analyza-a-modelovani-dynamickych-biologickych-dat--maticove-populacni-modely--prolog--leslieho-model-rustu-populace)\n",
    "* [Richard Levins](https://en.wikipedia.org/wiki/Richard_Levins)\n",
    "* [Alfred James Lotka](https://en.wikipedia.org/wiki/Alfred_J._Lotka)\n",
    "* [Robert Helmer MacArthur](https://en.wikipedia.org/wiki/Robert_H._MacArthur)\n",
    "* [Anderson Gray McKendrick](https://en.wikipedia.org/wiki/Anderson_Gray_McKendrick)\n",
    "* [Thomas Robert Malthus](https://en.wikipedia.org/wiki/Thomas_Robert_Malthus)\n",
    "* Eugene G. Munro\n",
    "* [Raymond Pearl](https://en.wikipedia.org/wiki/Raymond_Pearl)\n",
    "* Petrovskij\n",
    "* Storch\n",
    "* Tkadlec\n",
    "* Usher\n",
    "* [Pierre François\n",
    "  Verhulst](https://en.wikipedia.org/wiki/Pierre_Fran%C3%A7ois_Verhulst)\n",
    "* [Vito Volterra](https://en.wikipedia.org/wiki/Vito_Volterra)\n",
    "* [Edward Osborne Wilson](https://en.wikipedia.org/wiki/E._O._Wilson)"
   ]
  }
 ],
 "metadata": {
  "jupytext": {
   "cell_metadata_filter": "-all",
   "formats": "md:myst",
   "text_representation": {
    "extension": ".md",
    "format_name": "myst",
    "format_version": 0.13,
    "jupytext_version": "1.11.5"
   }
  },
  "kernelspec": {
   "display_name": "Python 3",
   "language": "python",
   "name": "python3"
  },
  "source_map": [
   14
  ]
 },
 "nbformat": 4,
 "nbformat_minor": 5
}