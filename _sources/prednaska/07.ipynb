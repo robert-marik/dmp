{
 "cells": [
  {
   "cell_type": "markdown",
   "id": "52e0fe7e",
   "metadata": {},
   "source": [
    "# Parciální derivace\n",
    "\n",
    "\n",
    "\n",
    "```{admonition} Co se dozvíte v tomto textu\n",
    "![](pics/muskrat.jpg)\n",
    "\n",
    "V této části se naučíme sledovat rychlosti růstu funkce dvou a více proměnných. \n",
    "\n",
    "Mezi aplikace patří ochrana ohrožených druhů, kdy při snaze podpořit růst populace musíme vybrat ze škály parametrů ovlivňujících vývoj ten, který má na růst populace nejpodstatnější vliv. Postup je možné použít i naopak a při snaze o kontrolu škůdců vytipovat parametr, který vývoj populace škůdce nejvíce postihne.\n",
    "\n",
    "Další aplikací je model šíření invazních druhů, kdy se zastoupení živočišného druhu mění v čase i v prostoru tím, jak se druh množí a rozšiřuje území, na kterém žije. \n",
    "\n",
    "*Foto: Ondatra se jako invazní druh velmi rychle rozšířila z Dobříšského panství do celé Evropy. Tato invaze byla popsána v jednom z prvním článků věnovaných invazím živočišných druhů a díky tomu se naše země dostala do většiny ekologických učebnic.  D. Gordon E. Robertson, <https://commons.wikimedia.org/>*\n",
    "```\n",
    "\n",
    "\n",
    "Pomocí derivace jsme se naučili sledovat rychlost růstu funkce jedné proměnné.\n",
    "Tato veličina je užitečná protože rychlost růstu je často determinována\n",
    "měřitelnými veličinami a je k dispozici zákon vyjadřující souvislost rychlosti\n",
    "růstu sledované veličiny s ostatními parametry systému. Často je mezi těmito\n",
    "parametry i ona sledovaná veličina, což při sestavení modelu vede na\n",
    "diferenciální rovnice. \n",
    "\n",
    "Někdy není možné si vystačit pouze s funkcemi jedné proměnné. Proto si nyní\n",
    "koncept derivace rozšíříme i na funkce více proměnných. \n",
    "\n",
    "Navážeme na [příklad s růstem populace\n",
    "tuleňů](#model-populace-tulenu).  Je-li $\\lambda$ největší reálné\n",
    "vlastní číslo matice projekce a $v$ příslušný vlastní vektor, potom\n",
    "velikost populace roste ve všech věkových kategoriích geoemtrickou\n",
    "řadou s kvocientem $\\lambda$ a poměr velikostí populace v jednotlivých\n",
    "věkových kategoriích je stejný, jako poměr velikostí komponenty\n",
    "vlastního vektoru $v$. Změna hodnot v matici, která by vyjařovala\n",
    "změnu v pravděpodobnosti přežívání nebo změnu v počtu potomků, se\n",
    "zcela jistě projeví i na dynamice růstu. Zde však je nutné si\n",
    "uvědomit, že parametrů v matici je několik a situace je tedy odlišná\n",
    "od úloh, jaké jsme řešili doposud. Dosud pomocí derivací umíme popsat\n",
    "rekci závislé proměnné, závisející na jedné nezávislé proměnné. Touto\n",
    "nezávislou proměnnou byl zpravidla čas. Nyní však je nezávislých\n",
    "proměnných hned několik. Rychlost růstu se v tkaových případech\n",
    "modeluje pomocí parciální derivace.\n",
    "\n",
    "## Zavedení parciální derivace\n",
    "\n",
    "Změna funkce více proměnných může být způsobena změnou libovolné nezávislé\n",
    "proměnné. Pokud sledujeme například rychlost růstu populace popsané Leslieho\n",
    "maticí, může nás zajímat, jak tato rychlost růstu souvisí s jednotlivými prvky\n",
    "projekční matice, tj. s plodností jednotlivých věkových tříd a s jejich\n",
    "pravděpodobností přežití. Zdá se býti rozumné oddělit jednotlivé změny a\n",
    "studovat každou samostatně. Buď v daném bodě fixovat všechny parametry až na\n",
    "jeden a sledovat například vliv pravděpodobnosti přežití u nejmladší věkové\n",
    "kategorie na celkový růst populace.\n",
    "\n",
    "Následující definice výše uvedenou myšlenku odděleného sledování změny funkce\n",
    "(závislé veličiny) jako reakce na změnu jedné jediné vstupní informace (jedné\n",
    "nezávislé veličiny) uvádí v život. Definice je stejná jako u derivace funkce\n",
    "jedné proměnné, změna je pouze v tom, že je přítomna i další proměnná.\n",
    "\n",
    "```{prf:definition} Parciální derivace funkce dvou proměnných\n",
    ":nonumber:\n",
    "Buď $f\\colon \\mathbb R^2\\to\\mathbb R$ funkce dvou proměnných,  $x$ a $y$, tj. $f(x,y)$. Výraz\n",
    "$$\\frac{\\partial f}{\\partial x}:=\\lim_{h\\to 0}\\frac{f(x+h,y)-f(x,y)}h$$ se nazývá *parciální derivace funkce $f$ podle $x$*. Podobně,\n",
    "$$\\frac{\\partial f}{\\partial y}:=\\lim_{h\\to 0}\\frac{f(x,y+h)-f(x,y)}h$$ je *parciální derivace funkce $f$ podle $y$*.\n",
    "```\n",
    "Podobně můžeme definovat parciální derivaci pro funkce libovolného konečného\n",
    "počtu proměnných. V těchto parciálních derivacích vlastně sledujeme, jak reaguje\n",
    "veličina $f$ na změny jenom v jedné proměnné. Proměnná, přes kterou se\n",
    "nederivuje, má vlastně roli parametru, nijak se nemění. \n",
    "\n",
    "Kromě $\\frac{\\partial f}{\\partial x}$ se běžně parciální derivace označuje\n",
    "symboly $f'_x$, $f_x$, $\\partial_x f$ nebo $D_x f$. \n",
    "\n",
    "Parciální derivaci $\\frac{\\partial f}{\\partial x}$ je tedy možné chápat jako rychlost s jakou se mění veličina $f$ jako funkce proměnné $x$. Ekvivalentně jako změnu veličiny $f$ při změně veličiny $x$ o jednotku. Tato hodnota bude malá, pokud se funkční hodnoty při změnách $x$ moc nemění. To by znamenalo, že rozkolísání hodnot veličiny $x$ má malý vliv na veličinu $f$. V tomto smyslu se jedná o jakousi míru citlivosti (sensitivity) a parciální derivace se používají pro citlivostní analýzu.\n",
    "\n",
    "Vektor \n",
    "$$\\nabla f=\\left(\\frac{\\partial f}{\\partial x}, \\frac{\\partial f}{\\partial x}\\right)$$\n",
    "se nazývá gradient funkce $f$. Gradient míří směrem, ve kterém roste funkce $f$\n",
    "nejrychleji a jeho délka je rovna nárůstu funkční hodnoty na jednotce délky. V\n",
    "přírodních vědách často pracujeme se záporně vzatým gradientem, který udává směr\n",
    "a intenzitu maximálního poklesu funkčních hodnot funkce $f$. \n",
    "\n",
    "## Sensitivita a elasticita projekční matice\n",
    "\n",
    "Zkoumejme model $$x(n+1)=Ax(n)$$ věkově nebo jinak strukturované populace, kde\n",
    "$A=(a_{ij})$ je projekční matice zobrazující současný stav na stav v\n",
    "následujícím časovém okamžiku. Bude nás zajímat, jak se bude měnit dynamika\n",
    "modelu při změnách parametrů. To je důležité pro nastavení správných postupů při\n",
    "ochraně živočišných druhů nebo při nastavení dlouhodobě udržitelné intenzity\n",
    "lovu či sklizně.\n",
    "\n",
    "Rychlost růstu populace je dána dominantní vlastní hodnotou matice $A$. Derivace\n",
    "$\\frac{\\partial \\lambda}{\\partial a_{ij}}$ dominantní vlastní hodnoty $\\lambda$\n",
    "podle prvku $a_{ij}$ udává, jak rychle se mění tato vlastní hodnota při změnách\n",
    "prvku $a_{ij}$. Jedná se o *citlivost* (*sensitivitu*) dominatní vlastní hodnoty\n",
    "na komponentu $a_{ij}$ projekční matice $A$. Podle {cite}`caswell` platí $$\n",
    "\\frac{\\partial \\lambda}{\\partial a_{ij}}=v_iw_j, $$ kde $w$ a $v$ jsou pravý a\n",
    "levý vlastní vektory příslušné vlastní hodnotě $\\lambda$ a jejichž skalární\n",
    "součin je roven jedné. \n",
    "\n",
    "Změna $\\Delta \\lambda$ vlastní hodnoty způsobená změnou parametru $a_{ij}$ o $\\Delta a_{ij}$ je $$\\Delta \\lambda = \\frac{\\partial \\lambda}{\\partial a_{ij}} \\Delta a_{ij}.$$\n",
    "Matice $\\left(\\frac{\\partial \\lambda}{\\partial a_{ij}}\\right)$ se nazývá *matice sensitivity* nebo *matice citlivosti dominantní vlastní hodnoty na složky projekční matice*. Matice ukazuje, jaké mají jednotlivé parametry populace vliv na celkový růst. Zpravidla ji počítáme pomocí sloupcového pravého vlastního vektoru $\\vec w$ a řádkového levého vlastního vektoru $\\vec v$ pomocí vztahu \n",
    "$$\\left(\\frac{\\partial \\lambda}{\\partial a_{ij}}\\right)=\\vec v^T \\vec w^T,$$\n",
    "přičemž tyto vektory splňují $\\vec v \\vec w = 1$ (skalární součin je roven jedné). Podmínka na skalární součin bývá splněna automaticky, pokud pokud levý vlastní vektor najdeme pomocí inverzní matice složené z pravých vlastních vektorů. \n",
    "\n",
    "Často je vhodné pracovat s relativními změnami $\\frac{\\Delta \\lambda}{\\lambda}$\n",
    "a $\\frac{\\Delta a_{ij}}{a_{ij}}$, pro které plyne vztah $$\\frac{\\Delta\n",
    "\\lambda}{\\lambda} = \\frac{\\partial \\lambda}{\\partial a_{ij}}\n",
    "\\frac{a_{ij}}{\\lambda}\\frac{\\Delta a_{ij}}{a_{ij}},$$ kde výraz $$\\frac{\\partial\n",
    "\\lambda}{\\partial a_{ij}} \\frac{a_{ij}}{\\lambda}$$ se nazývá *elasticita*\n",
    "dominantní vlastní hodnoty vzhledem ke složce $a_{ij}$. Udává, o kolik procent\n",
    "se změní maximální vlastní číslo, pokud se koeficient $a_{ij}$ změní o jedno\n",
    "procento. Součet všech elasticit je roven jedné a proto je možno elasticitu\n",
    "chápat jako míru, s jakou se jednotlivé komponenty matice projekce podílejí na\n",
    "růstu populace. Bývá výhodné elasticity uspořádat do matice $$\\left(\\frac{\\partial \\lambda}{\\partial a_{ij}}\n",
    "\\frac{a_{ij}}{\\lambda}\\right),$$ která se nazývá *matice elasticity*. \n",
    "\n",
    "Prozkoumejme matici elasticity na příkladu s populací tuleňů z minulé přednášky."
   ]
  },
  {
   "cell_type": "code",
   "execution_count": 1,
   "id": "2d20934d",
   "metadata": {
    "tags": [
     "hide-input"
    ]
   },
   "outputs": [
    {
     "data": {
      "text/plain": [
       "matrix([[0.        , 0.10157076, 0.19054952],\n",
       "        [0.29212028, 0.        , 0.        ],\n",
       "        [0.        , 0.19054952, 0.22520993]])"
      ]
     },
     "execution_count": 1,
     "metadata": {},
     "output_type": "execute_result"
    }
   ],
   "source": [
    "import numpy as np\n",
    "import matplotlib.pyplot as plt\n",
    "import pandas as pd\n",
    "np.set_printoptions(suppress=True)\n",
    "\n",
    "L = np.matrix([\n",
    "    0, 1.26, 2.0,\n",
    "    0.614, 0, 0,\n",
    "    0, 0.808, 0.808\n",
    "]).reshape(3,3)\n",
    "v,P = np.linalg.eig(L)\n",
    "l = max(v).real  # maximální vlastní hodnota\n",
    "l_index = np.argmax(v) # pozice maximální vlastní hodnoty\n",
    "\n",
    "W = P[:,l_index].real # pravý sloupcový vlastni vektor příslušný maximální vlastní hodnotě\n",
    "V = (P**(-1))[l_index:].real # levý řádkový vlastní vektor příslušný maximální vlastní hodnotě\n",
    "matice_sensitivity = V.T*W.T\n",
    "matice_elasticity = np.matrix(np.array(matice_sensitivity)*np.array(L)/l)\n",
    "matice_elasticity"
   ]
  },
  {
   "cell_type": "markdown",
   "id": "3a661376",
   "metadata": {},
   "source": [
    "Vidíme, že největší vliv na růst populace mají parametry spojené s přežíváním\n",
    "nejstarší věkové kategorie a s dospíváním mláďat, toto jsou dvě jediné hodnoty\n",
    "nad 20 procent. Pokud populace vymírá, snažíme se při ochraně tohoto druhu\n",
    "navýšit parametry s nejvyšší elasticitou. Změna těchto parametrů má totiž\n",
    "největší efekt. Fertilita jednotlivých věkových tříd (čísla v prvním řádku) nemá\n",
    "tak výrazný vliv a navíc ji zpravidla nemůžeme tak efektivně ovlivnit, jako\n",
    "koeficienty přežití.\n",
    "\n",
    "```{prf:remark} Matice elasticity v ochraně přírody\n",
    ":nonumber:\n",
    "\n",
    "Podle {cite}`tkadlec` (str. 127) by se v ochraně přírody při ochraně ohrožených\n",
    "druhů měly navyšovat ty koeficienty, které jsou spojeny s největšími\n",
    "elasticitami. Při redukci populace škůdců se také věnujeme koeficientů s\n",
    "největšími elasticitami, ale tyto koeficienty se snažíme snižovat. Pokud\n",
    "populaci hospodářsky využíváme, poté lov či sklizeň zaměříme naopak na\n",
    "kategorie, kde jsou koeficienty s nejnižšími elasticitami. V těchto případech\n",
    "totiž vnější zásahy ovlivňují populaci relativně nejméně. Vždy je však nutné\n",
    "přihlédnout k tomu, že některé koeficienty ovlivníme relativně snadno, některé\n",
    "jenom s velkými ekonomickými náklady a některé prakticky ovlivnit moc nemůžeme.  \n",
    "```\n",
    "\n",
    "Pro kontrolu můžeme vypočítat matici elasticity po složkách pomocí numerické\n",
    "aproximace derivace centrální diferencí. S každou komponentou matice posuneme o\n",
    "zvolený krok nahoru a dolů, v každém z těchto případů vypočteme dominantní\n",
    "vlastní hodnotu a určíme derivaci (rychlost změny) pomocí poměru změn a poté\n",
    "vypočteme elasticitu jako relativní rychlost změny. Přitom není nutné počítat\n",
    "derivace pro nulové komponenty matice, protože tyto derivace budou při přepočtu\n",
    "na relativní rychlost změny násobeny nulou a neuplatní se."
   ]
  },
  {
   "cell_type": "code",
   "execution_count": 2,
   "id": "50467468",
   "metadata": {
    "tags": [
     "hide-input"
    ]
   },
   "outputs": [
    {
     "data": {
      "text/plain": [
       "matrix([[0.        , 0.10157068, 0.19055025],\n",
       "        [0.29212876, 0.        , 0.        ],\n",
       "        [0.        , 0.19055404, 0.22521132]])"
      ]
     },
     "execution_count": 2,
     "metadata": {},
     "output_type": "execute_result"
    }
   ],
   "source": [
    "h = 0.01\n",
    "matice = np.zeros([3,3])\n",
    "matice\n",
    "for f1 in range(3):\n",
    "    for f2 in range(3):\n",
    "        if L[f1,f2] == 0:\n",
    "            matice[f1,f2] = 0\n",
    "        else:\n",
    "            L2 = L.copy()\n",
    "            L3 = L.copy()\n",
    "            L2[f1,f2] = L2[f1,f2] + h\n",
    "            L3[f1,f2] = L3[f1,f2] - h\n",
    "            v2 = np.linalg.eigvals(L2)\n",
    "            v3 = np.linalg.eigvals(L3)\n",
    "            matice[f1,f2] = ((max(v2)-max(v3))/(2*h)).real*L[f1,f2]/l\n",
    "matice = np.matrix(matice)\n",
    "matice"
   ]
  },
  {
   "cell_type": "markdown",
   "id": "c42553e1",
   "metadata": {},
   "source": [
    "Součet komponent matice elasticity by měl být v rámci zaokrouhlovací chyby roven jedné."
   ]
  },
  {
   "cell_type": "code",
   "execution_count": 3,
   "id": "44cccf8f",
   "metadata": {
    "tags": [
     "hide-input"
    ]
   },
   "outputs": [
    {
     "data": {
      "text/plain": [
       "1.0"
      ]
     },
     "execution_count": 3,
     "metadata": {},
     "output_type": "execute_result"
    }
   ],
   "source": [
    "np.sum(matice_elasticity)"
   ]
  },
  {
   "cell_type": "markdown",
   "id": "6c4ab29b",
   "metadata": {},
   "source": [
    "Pokud potřebujeme regulovat rychlost růstu populace, má smysl soustředit se na\n",
    "ty komponenty matice elasticity, které jsou numericky největší. Jejich změna se\n",
    "na růstu populace projeví nejvíce. (Některé koeficienty projekční matice je\n",
    "ovšem z principu těžké nebo nemožné regulovat, potom se soustředíme na ty, které\n",
    "regulovat můžeme.)\n",
    "\n",
    "Koeficienty matice elasticity můžeme navzájem sčítat a součty interpretovat jako\n",
    "agregovaný podíl na růstu populace. Například součty po sloupcích odhalí, jak se\n",
    "jednotlivé věkové kategorie podílejí na celkovém růstu."
   ]
  },
  {
   "cell_type": "code",
   "execution_count": 4,
   "id": "af3092a6",
   "metadata": {
    "tags": [
     "hide-input"
    ]
   },
   "outputs": [
    {
     "data": {
      "text/plain": [
       "matrix([[0.29212876, 0.29212473, 0.41576157]])"
      ]
     },
     "execution_count": 4,
     "metadata": {},
     "output_type": "execute_result"
    }
   ],
   "source": [
    "np.sum(matice, axis=0)"
   ]
  },
  {
   "cell_type": "markdown",
   "id": "375e0e85",
   "metadata": {},
   "source": [
    "## Lineární aproximace\n",
    "\n",
    "Jedna z úspěšných inženýrských metod je nahrazení nelineární funkce\n",
    "pomocí funkce lineární. Linearizace nám objasní, proč je v naprosté\n",
    "většině fyzikálních zákonů přímá úměrnost resp. přímá úměrnost nějaké\n",
    "mocnině. Není v tom nic složitějšího než prostá selská logika\n",
    "představená v následující poznámce.\n",
    "\n",
    "```{prf:remark} Lineární aproximace selskou logikou\n",
    ":nonumber:\n",
    "Uvažujme modelový případ populace jelenů, která má v roce 2020 celkem 1023 členů a roste rychlostí 12 jedinců za rok. (Čistý růst, tedy přírůstek snížený o úmrtí a lov.) Odhadneme velikost populace v budoucích letech. V roce $x$ je populace celkem $\\Delta x = x-2020$ let od roku 2020. V tomto roce bude velikost $N(x)$ populace dána součtem velikosti v roce 2020 a přírůstku za daný počet let. Tento přírůstek je roven přírůstku za rok vynásobenému počtem let, tedy $$\\Delta N = 12 \\Delta x.$$ Velikost populace v roce $x$ je $$N(x)=N(2020)+\\Delta N = 1023+12\\Delta x = 1023 + 12(x-2020).$$\n",
    "```\n",
    "\n",
    "V předchozím příkladě je rychlost růstu vlastně derivace velikosti populace\n",
    "podle času. Stejným postupem můžeme určit časový vývoj libovolné veličiny, u níž\n",
    "je znám výchozí stav a rychlost růstu. Má to pouze jednu vadu na kráse. Málokdy\n",
    "se totiž setkáme s tím, že rychlost růstu je konstantní. Proto uvedená myšlenka\n",
    "bude platit jenom přibližně a jenom lokálně v okolí bodu, z nějž vycházíme. To\n",
    "proto, že na krátkém intervalu se rychlost růstu funkce zpravidla nestihne\n",
    "podstatně změnit. Dostáváme následující přibližné vzorce pro změnu funkce a pro\n",
    "funkční předpis v okolí bodu aproximace.\n",
    "\n",
    "$$\\Delta f\\approx \\frac{\\mathrm {d}f}{\\mathrm {d}x}(x_0)\\Delta x $$\n",
    "\n",
    "$$f(x)\\approx f(x_0) + \\frac{\\mathrm {d}f}{\\mathrm {d}x}(x_0)(x-x_0)$$\n",
    "\n",
    "Geometricky uvedená aproximace znamená, že křivku definovanou grafem funkce\n",
    "nahrazujeme přímkou. Tímto jsou dány i meze použitelnosti: metoda výborně\n",
    "funguje pro funkce, jejichž derivace se mění pomalu a graf připomíná lineární závislost. Kvantitativně to je možno vyjádřit tak, že derivace má malou derivaci, tj. že druhá derivace je malá (ve smyslu numericky blízko k nule, tj. že absolutní hodnota druhé derivace je malá).\n",
    "\n",
    "Pokud funkce závisí na dvou nebo více proměnných, jednotlivé příspěvky ke změně\n",
    "sečteme. \n",
    "$$\\Delta f\\approx \\frac{\\partial f}{\\partial x}(x_0,y_0)\\Delta x + \\frac{\\partial f}{\\partial x}(x_0,y_0)\\Delta y $$\n",
    "\n",
    "$$f(x,y)\\approx f(x_0,y_0) + \\frac{\\partial f}{\\partial x}(x_0,y_0)(x-x_0) + \\frac{\\partial f}{\\partial x}(x_0,y_0)(y-y_0) $$\n",
    "Toto je možno zapsat vektorově pomocí gradientu a součinu řádkové a sloupcové matice ve tvaru \n",
    "$$f(x,y)\\approx f(x_0,y_0) + \\nabla f(x_0,y_0)\\begin{pmatrix}x-x_0\\\\y-y_0\\end{pmatrix}.$$\n",
    "\n",
    "\n",
    "Je-li $\\vec F(x,y)=(f_1(x,y),f_2(x,y))$ vektorová funkce dvou proměnných, je\n",
    "možné napsat linearizaci podle výše uvedeného vzorce pro každou komponentu\n",
    "samostatně a v maticovém zápisu máme\n",
    "$$\\vec F(x,y)=\\vec F(x_0,y_0) + J(x_0,y_0)\\begin{pmatrix}x-x_0\\\\y-y_0\\end{pmatrix} ,$$ kde $$ J(x,y)=\\begin{pmatrix}\\frac{\\partial f_1}{\\partial x} & \\frac{\\partial f_1}{\\partial y}\\\\\\frac{\\partial f_2}{\\partial x} & \\frac{\\partial f_2}{\\partial y}\\end{pmatrix}$$ je Jacobiho matice zobrazení $\\vec F$ \n",
    "\n",
    "Jacobiho matice má tedy v řádcích gradienty jednotlivých komponent.\n",
    "\n",
    "V praxi je často vstupem funkce nějaký podnět a výstupem odezva na\n",
    "tento podnět. Funkční závislosti tohoto typu se nazývají konstituční\n",
    "vztahy. Protože v těchto typech závislostí zpravidla platí, že bez\n",
    "podnětu není odezva, studované funkční závislosti procházejí bodem\n",
    "$[0,0]$, tj. počátkem. Lineární aproximace v tomto bodě je poté\n",
    "lineární funkce procházející počátkem a tedy přímá úměrnost. To je i\n",
    "důvod, proč se v konstitučních vztazích tak často přímá úměrnost\n",
    "vyskytuje.\n",
    "\n",
    "## Rovnice vedení tepla\n",
    "\n",
    "Rovnice vedení tepla popisuje vedení tepla v jednorozměrném objektu, například v\n",
    "tyči. Teplo se předává z teplejšího místa do místa o nižší teplotě a tím se v\n",
    "čase teplejší místo ochlazuje a chladnější otepluje.\n",
    "\n",
    "Vedení tepla je proces, který si většina z nás umí snadno představit a má s ním praktické zkušenosti. Model je však plně univerzální a hodí se pro libovolný transportní děj v přírodě. To zahrnuje nejenom transport energie ve formě tepla, ale i transport látek, například pomocí difuze nebo prouděním v pórovitém prostředí. Tím je podchyceno například šíření nečistot ze zdroje do okolí, proudění podzemní vody, sušení dřeva ale i rozšiřování chorob či invazních druhů v ekosystému. To si ukážeme později (Fisherova–KPP rovnice). \n",
    "\n",
    "Shrňme si nejprve základní fyzikální představy o vedení tepla.\n",
    "\n",
    "* Rychlost růstu teploty v čase je úměrná rychlosti, s jakou je do daného místa\n",
    "dodáváno teplo. Pokud do daného místa dodáváme teplo, teplota roste tím\n",
    "rychleji, čím více tepla dodáváme za jednotku času. \n",
    "* Rychlost, s jakou je do daného místa dodáváno teplo, se určí jako pokles toku tepla podél tyče v daném místě. \n",
    "* Tok tepla je úměrný rychlosti, s jakou klesá teplo podél tyče.\n",
    "\n",
    "Rychlost růstu je vždy vyjádřena derivací, rychlost poklesu záporně vzatou\n",
    "derivací. Pokud sledujeme, jak se veličina mění v čase, jedná se o derivaci\n",
    "podle času, pokud sledujeme změnu podél tyče, jedná se o derivaci podle polohy.\n",
    "Tímto jsme si připravili vše potřebné k formulaci matematického modelu. \n",
    "\n",
    "Teplota $T$ souvisí s polohou a s časem, jedná se tedy o funkci dvou proměnných\n",
    "a pro vyjádření rychlosti změny musíme použít parciální derivace. Parciální\n",
    "derivace teploty podle času $\\frac{\\partial T}{\\partial t}$ udává, jak rychle s\n",
    "daném místě teplota roste s časem a souvisí s rychlostí dodávání tepla. Rychlost\n",
    "dodávání tepla je možné měřit tím, jak v daném místě slábne tok tepla $q$, tj.\n",
    "jaká je záporně vzatá derivace toku tepla podle polohy. Konstanty úměrnosti dodá\n",
    "fyzika, jedná se o hustotu $\\varrho$ a měrnou tepelnou kapacitu $c$, tj. $$\n",
    "\\varrho c \\frac{\\partial T}{\\partial t}=-\\frac{\\partial q}{\\partial x}.$$\n",
    "\n",
    "Teplo teče z místa s větší teplotou do místa s menší teplotou a teče\n",
    "intenzivněji, pokud je mezi těmito místy velký teplotní rozdíl. Pokles tepla\n",
    "podél tyče je dán záporně vzatou derivací teploty podle polohy a tok je tomuto\n",
    "poklesu úměrný (s konstantou úměrnosti, která se nazývá specifická vodivost a\n",
    "značí $\\lambda$). Tedy $$ q = -\\lambda \\frac{\\partial T}{\\partial x}.$$\n",
    "\n",
    "Spojením obou vztahů dostáváme rovnici vedení tepla ve tvaru $$ \\varrho c \\frac{\\partial T}{\\partial t}=\\frac{\\partial }{\\partial x} \\left(\\lambda \\frac{\\partial T}{\\partial x}\\right). $$\n",
    "Je-li $\\lambda$ konstantní (nezávislá na teplotě a poloze), potom je možné rovnici upravit na \n",
    "$$ \\varrho c \\frac{\\partial T}{\\partial t}=\\lambda\\frac{\\partial^2 T}{\\partial x^2}, $$\n",
    "kde $\\frac{\\partial^2 T}{\\partial x^2} = \\frac{\\partial }{\\partial x}\n",
    "\\left(\\frac{\\partial T}{\\partial x}\\right)$ je druhá derivace teploty podle polohy.\n",
    "\n",
    "\n",
    "## Fisherova–KPP rovnice\n",
    "\n",
    "Analogický postup jako u vedení tepla funguje pro libovolný transportní děj. Používá se například pro model šíření živočišného druhu v životním prostředí nebo šíření genu v populaci. Ukážeme si zde lineární verzi pro jednorozměrné životní prostředí, například podél řeky. Vícerozměrné zobecnění si uvedeme na konci semestru. \n",
    "\n",
    "Tento model se nazývá Fisherova–KPP rovnice a jedná se vlastně o rovnici vedení tepla, do které jsou doplněny zdroje. \n",
    "\n",
    "```{margin}\n",
    "Poněkud kryptický název Fisherovy–KPP rovnice je podle jmen významných vědců spojených s touto rovnicích. Jsou to významný americký statistik a biolog Ronald Fisher a trojice ruských matematiků Andrey Kolmogorov, Ivan Petrovsky a Nikolai Piskunov. Oba články o této rovnici, americký i ruský, vyšly nezávisle na sobě v roce 1937.\n",
    "```\n",
    "\n",
    "Fisherova–KPP rovnice popisuje populaci, která se může šířit v prostoru. Kromě časové závislosti tedy musíme uvažovat i závislost na poloze. Tato rovnice je vyjádřena pro funkci vyjadřující hustotu populace. Hustotou populace může být například množství jedinců na jednotku délky, v případě zobecnění na více dimenzí množství jedinců na jednotku plochy. Procesy vedoucí k migraci a tedy i změně hustoty populace jsou stejné jako u vedení tepla. Populace má tendenci migrovat z míst, kde je vysoká hustota do míst, kde je hustota menší a v místě, kde převažuje imigrace nad emigrací velikost populace roste. Protože se populace může rozmnožovat, je do rovnice navíc započítán člen modelující vlastní reprodukci. Zpravidla je uvažován logistický růst a rovnice má poté tvar\n",
    "$$\\frac{\\partial u}{\\partial t}=D\\frac{\\partial^2 u}{\\partial x^2}+ru\\left(1-\\frac uK\\right).$$\n",
    "Tato rovnice byla původně navržena jako model šíření výhodného genu populací. To potvrzuje, že v rovnici máme opravdu nástroj pro šíření nebo transport různých objektů, od energie, přes molekuly nebo částice v látce či geny v populaci až po jedince invazního druhu v ekosystému."
   ]
  }
 ],
 "metadata": {
  "jupytext": {
   "cell_metadata_filter": "-all",
   "formats": "md:myst",
   "text_representation": {
    "extension": ".md",
    "format_name": "myst",
    "format_version": 0.13,
    "jupytext_version": "1.11.5"
   }
  },
  "kernelspec": {
   "display_name": "Python 3",
   "language": "python",
   "name": "python3"
  },
  "language_info": {
   "codemirror_mode": {
    "name": "ipython",
    "version": 3
   },
   "file_extension": ".py",
   "mimetype": "text/x-python",
   "name": "python",
   "nbconvert_exporter": "python",
   "pygments_lexer": "ipython3",
   "version": "3.12.2"
  },
  "source_map": [
   14,
   135,
   156,
   188,
   207,
   211,
   214,
   226,
   229
  ]
 },
 "nbformat": 4,
 "nbformat_minor": 5
}