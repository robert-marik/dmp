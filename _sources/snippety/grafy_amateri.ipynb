{
 "cells": [
  {
   "cell_type": "markdown",
   "id": "b58bb8de",
   "metadata": {
    "colab_type": "text",
    "id": "view-in-github"
   },
   "source": [
    "<a href=\"https://colab.research.google.com/github/robert-marik/dmp/blob/main/snippety/grafy_amateri.ipynb\" target=\"_parent\"><img src=\"https://colab.research.google.com/assets/colab-badge.svg\" alt=\"Open In Colab\"/></a>"
   ]
  },
  {
   "cell_type": "markdown",
   "id": "99149772",
   "metadata": {
    "id": "99149772"
   },
   "source": [
    "# Kreslení funkcí jednoduše\n",
    "\n",
    "Jednoduché úkoly je vhodné řešit jednoduše. Například pokud chceme vykreslit několik funkcí do jednoho grafu, prostě postupně voláme příkazy kreslící jednotlivé funkce.\n",
    "\n",
    "\n",
    "Je dobré nejprve zavolat knihovny a nastavit proměnné, poté vykrelist grafy a poté dodělat kosmetické úpravy. To je v jednotlivých políčkách. Na konci práce bude asi vhodné poslední čtyři políčka spojit. Zkontrolujte, že jste v příkazovém modu (needitujete políčko, nalevo je modrá čára a ne zelená), označte spojované buňky (shift plus šipky) a spojte (shift + M). Případně neznačujte a shift+M připojí následující buňku. Stejnou práci odvede Menu -> Edit -> Merge Cell Bellow)."
   ]
  },
  {
   "cell_type": "code",
   "execution_count": null,
   "id": "a9e2e07b",
   "metadata": {
    "ExecuteTime": {
     "end_time": "2023-02-10T09:53:29.240296Z",
     "start_time": "2023-02-10T09:53:29.236663Z"
    },
    "id": "a9e2e07b"
   },
   "outputs": [],
   "source": [
    "import numpy as np\n",
    "import matplotlib.pyplot as plt\n",
    "import pandas as pd"
   ]
  },
  {
   "cell_type": "code",
   "execution_count": null,
   "id": "31e212a8",
   "metadata": {
    "ExecuteTime": {
     "end_time": "2023-02-10T09:53:23.112443Z",
     "start_time": "2023-02-10T09:53:23.108996Z"
    },
    "id": "31e212a8"
   },
   "outputs": [],
   "source": [
    "N = 8\n",
    "meze = [0,1]\n",
    "lov = [0,0.1,0.2,0.3]"
   ]
  },
  {
   "cell_type": "code",
   "execution_count": null,
   "id": "0b863aec",
   "metadata": {
    "ExecuteTime": {
     "end_time": "2023-02-10T09:53:23.432779Z",
     "start_time": "2023-02-10T09:53:23.428552Z"
    },
    "id": "0b863aec"
   },
   "outputs": [],
   "source": [
    "x = np.linspace(*meze,N)\n",
    "def logisticky_rust(x,h=0):\n",
    "    \"\"\"\n",
    "    Funkce definuje pravou stranu logisticke rovnice s pridanym lovem konstantni intenzity.\n",
    "    \"\"\"\n",
    "    r = 1\n",
    "    K = 1\n",
    "    return(x*r*(1-x/K) - h)"
   ]
  },
  {
   "cell_type": "code",
   "execution_count": null,
   "id": "f53ec653",
   "metadata": {
    "ExecuteTime": {
     "end_time": "2023-02-10T09:53:23.882425Z",
     "start_time": "2023-02-10T09:53:23.667911Z"
    },
    "id": "f53ec653"
   },
   "outputs": [],
   "source": [
    "fig, ax = plt.subplots()\n",
    "for h in lov:\n",
    "    plt.plot(x,logisticky_rust(x,h=h))"
   ]
  },
  {
   "cell_type": "markdown",
   "id": "c7XZ9kQe7gg-",
   "metadata": {
    "id": "c7XZ9kQe7gg-"
   },
   "source": [
    "Poznámka: Pro rychlou orientaci jak vypadají grafy funkcí často nepotřebujeme popisky, nadpis apod. Potom není nutné použít v předchozím kódu řádek s nastavením proměnných `fig` a `ax`. Na tyto proměnné se odkazujeme při přidávání popisků, mezí pro osy apod. Alternativou, pokud bychom tyto proměnné nenastavili, je použití příkazů `plt.gca()` a `plt.gcf()` (\"get current axes\" a \"get current figure\")."
   ]
  },
  {
   "cell_type": "code",
   "execution_count": null,
   "id": "8ecf37a3",
   "metadata": {
    "ExecuteTime": {
     "end_time": "2023-02-10T09:53:24.119092Z",
     "start_time": "2023-02-10T09:53:23.916083Z"
    },
    "id": "8ecf37a3"
   },
   "outputs": [],
   "source": [
    "ax.legend(lov, title=\"Intenzita lovu\")\n",
    "ax.set(title=\"Vliv lovu na logistický růst\",\n",
    "      xlabel=\"velikost populace\",\n",
    "      ylabel=\"rychlost růstu\",\n",
    "      ylim=(0,None))\n",
    "ax.grid()\n",
    "fig"
   ]
  },
  {
   "cell_type": "code",
   "execution_count": null,
   "id": "d179ba9d",
   "metadata": {
    "id": "d179ba9d"
   },
   "outputs": [],
   "source": []
  }
 ],
 "metadata": {
  "colab": {
   "include_colab_link": true,
   "provenance": []
  },
  "kernelspec": {
   "display_name": "Python 3 (ipykernel)",
   "language": "python",
   "name": "python3"
  },
  "language_info": {
   "codemirror_mode": {
    "name": "ipython",
    "version": 3
   },
   "file_extension": ".py",
   "mimetype": "text/x-python",
   "name": "python",
   "nbconvert_exporter": "python",
   "pygments_lexer": "ipython3",
   "version": "3.10.10"
  }
 },
 "nbformat": 4,
 "nbformat_minor": 5
}
