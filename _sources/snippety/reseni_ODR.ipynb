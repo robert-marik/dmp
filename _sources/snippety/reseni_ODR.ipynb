{
 "cells": [
  {
   "cell_type": "markdown",
   "id": "a167492c",
   "metadata": {},
   "source": [
    "# Řešení diferenciální rovnice"
   ]
  },
  {
   "cell_type": "code",
   "execution_count": null,
   "id": "6e7578a4",
   "metadata": {
    "ExecuteTime": {
     "end_time": "2023-01-29T18:48:23.867331Z",
     "start_time": "2023-01-29T18:48:23.862516Z"
    }
   },
   "outputs": [],
   "source": [
    "import numpy as np\n",
    "import matplotlib.pyplot as plt\n",
    "import pandas as pd\n",
    "from scipy.integrate import solve_ivp"
   ]
  },
  {
   "cell_type": "markdown",
   "id": "bdaef79a",
   "metadata": {},
   "source": [
    "Pravou stranu rovnice je výhodné mít definovánu jako samostatnou funkci. Má první argument čas, druhý argument derivovanou veličinu, může mít parametry a tyto parametry mohou mít implicitní hodnoty. (Implicitní hodnoty se použijí, pokud není zadána jiná hodnota parametru.)\n",
    "\n",
    "Následující funkce je pravou stranou logistické rovnice\n",
    "$$\\frac{\\mathrm dy}{\\mathrm dt}=ry\\left(1-\\frac yK\\right).$$"
   ]
  },
  {
   "cell_type": "code",
   "execution_count": null,
   "id": "f8ff6171",
   "metadata": {
    "ExecuteTime": {
     "end_time": "2023-01-29T18:48:24.455196Z",
     "start_time": "2023-01-29T18:48:24.451819Z"
    }
   },
   "outputs": [],
   "source": [
    "def rovnice(t,y,r=1,K=1):\n",
    "    return r*y*(1-y/K)"
   ]
  },
  {
   "cell_type": "markdown",
   "id": "54b521fc",
   "metadata": {},
   "source": [
    "Nastavení počátečních podmínek je vhodné udělat mimo příkaz řešící rovnici, aby se případné modifikace dělaly vždy na jednom místě. Je vhodné sadu příkazů rozdělit do více buněk, aby se nepočítalo to, co není nutné počítat znovu. "
   ]
  },
  {
   "cell_type": "code",
   "execution_count": null,
   "id": "1638109f",
   "metadata": {
    "ExecuteTime": {
     "end_time": "2023-01-29T18:48:25.062613Z",
     "start_time": "2023-01-29T18:48:25.058327Z"
    }
   },
   "outputs": [],
   "source": [
    "pocatecni_podminka = [0.1]\n",
    "meze = [0,10]\n",
    "t = np.linspace(0,10,100)"
   ]
  },
  {
   "cell_type": "markdown",
   "id": "6964f3e8",
   "metadata": {},
   "source": [
    "## Varianta 1: Chceme funkční předpis\n",
    "\n",
    "Při volání funkce `solve_ivp` rovnou použijeme metodu `sol`. Výsledkem je funkce, do keré můžeme dosazovat libovolný čas mezi dolní a horní mezí a získáme hodnotu řešení v daném čase. Můžeme také dosazovat několik hodnot času současně a získáme funkční hodnotu pro každý časový okamžik."
   ]
  },
  {
   "cell_type": "code",
   "execution_count": null,
   "id": "54bd8ce6",
   "metadata": {
    "ExecuteTime": {
     "end_time": "2023-01-29T20:56:40.853067Z",
     "start_time": "2023-01-29T20:56:40.844352Z"
    }
   },
   "outputs": [],
   "source": [
    "reseni_spojite = solve_ivp(\n",
    "                   rovnice,\n",
    "                   meze,\n",
    "                   pocatecni_podminka,\n",
    "                   dense_output=True,\n",
    "                   ).sol"
   ]
  },
  {
   "cell_type": "code",
   "execution_count": null,
   "id": "85ea4707",
   "metadata": {
    "ExecuteTime": {
     "end_time": "2023-01-29T20:56:43.050956Z",
     "start_time": "2023-01-29T20:56:43.045506Z"
    }
   },
   "outputs": [],
   "source": [
    "reseni_spojite(1)"
   ]
  },
  {
   "cell_type": "code",
   "execution_count": null,
   "id": "e30a1799",
   "metadata": {
    "ExecuteTime": {
     "end_time": "2023-01-29T20:56:43.515246Z",
     "start_time": "2023-01-29T20:56:43.508516Z"
    }
   },
   "outputs": [],
   "source": [
    "reseni_spojite(t).shape"
   ]
  },
  {
   "cell_type": "code",
   "execution_count": null,
   "id": "28670155",
   "metadata": {
    "ExecuteTime": {
     "end_time": "2023-01-29T20:56:44.706211Z",
     "start_time": "2023-01-29T20:56:44.700106Z"
    }
   },
   "outputs": [],
   "source": [
    "reseni_spojite(t)[0].shape"
   ]
  },
  {
   "cell_type": "code",
   "execution_count": null,
   "id": "668bbe66",
   "metadata": {
    "ExecuteTime": {
     "end_time": "2023-01-29T18:49:30.978342Z",
     "start_time": "2023-01-29T18:49:30.787568Z"
    }
   },
   "outputs": [],
   "source": [
    "plt.plot(t,reseni_spojite(t)[0])\n",
    "ax = plt.gca()\n",
    "ax.set(ylim=(0,None));"
   ]
  },
  {
   "cell_type": "markdown",
   "id": "010348fa",
   "metadata": {},
   "source": [
    "## Varianta 2: Chceme data pro předem známé časy\n",
    "\n",
    "Hodnoty času, pro které se má určit funkční hodnota řešení, se zadají při volání příkazu `solve_ivp` pomocí parametru `t_eval`."
   ]
  },
  {
   "cell_type": "code",
   "execution_count": null,
   "id": "197ead47",
   "metadata": {
    "ExecuteTime": {
     "end_time": "2023-01-29T21:09:56.301368Z",
     "start_time": "2023-01-29T21:09:56.290209Z"
    }
   },
   "outputs": [],
   "source": [
    "reseni_data = solve_ivp(\n",
    "                   rovnice,\n",
    "                   meze,\n",
    "                   pocatecni_podminka,\n",
    "                   t_eval=t,\n",
    "                   ).y\n",
    "reseni_data.shape\n"
   ]
  },
  {
   "cell_type": "code",
   "execution_count": null,
   "id": "b673a3c9",
   "metadata": {
    "ExecuteTime": {
     "end_time": "2023-01-29T21:09:57.927769Z",
     "start_time": "2023-01-29T21:09:57.738475Z"
    }
   },
   "outputs": [],
   "source": [
    "plt.plot(t,reseni_data[0])\n",
    "ax = plt.gca()\n",
    "ax.set(ylim=(0,None));"
   ]
  },
  {
   "cell_type": "markdown",
   "id": "c6212bee",
   "metadata": {},
   "source": [
    "## Různé hodnoty parametrů\n",
    "\n",
    "Pokud chceme určit chování řešení pro různé hodnoty parametrů, je nejvýhodnější řešit rovnici v každém případě pro stejné hodnoty času a výsledek uspořádat jako sloupce tabulky. Vytvoříme tedy seznam obsahující jednotlivé funkční hodnoty, sestavíme z nich tabulku a přidáme sloupec s časem. Poté můžeme dělat cokoliv, například řešení vykreslit."
   ]
  },
  {
   "cell_type": "code",
   "execution_count": null,
   "id": "37dfa3fe",
   "metadata": {
    "ExecuteTime": {
     "end_time": "2023-01-29T21:15:34.038786Z",
     "start_time": "2023-01-29T21:15:34.012752Z"
    }
   },
   "outputs": [],
   "source": [
    "parametry_r = [1,0.5,0.25]\n",
    "meze_2 = [0,20]\n",
    "t_2 = np.linspace(0,20,100)\n",
    "reseni_data = [\n",
    "                solve_ivp(\n",
    "                   lambda t,x: rovnice(t,x,r=r),\n",
    "                   meze_2,\n",
    "                   pocatecni_podminka,\n",
    "                   t_eval=t_2,\n",
    "                   ).y[0]\n",
    "                for r in parametry_r\n",
    "            ]\n",
    "reseni_data = pd.DataFrame(np.array(reseni_data).T,columns=parametry_r)\n",
    "reseni_data.index = t_2\n",
    "reseni_data"
   ]
  },
  {
   "cell_type": "code",
   "execution_count": null,
   "id": "c78357e3",
   "metadata": {
    "ExecuteTime": {
     "end_time": "2023-01-29T21:15:34.930784Z",
     "start_time": "2023-01-29T21:15:34.640326Z"
    }
   },
   "outputs": [],
   "source": [
    "ax = reseni_data.plot()\n",
    "plt.legend(title=r\"Parametr $r$\")\n",
    "ax.set(ylim=(0,None))\n",
    "ax.grid()"
   ]
  },
  {
   "cell_type": "code",
   "execution_count": null,
   "id": "8a877b9d",
   "metadata": {},
   "outputs": [],
   "source": []
  }
 ],
 "metadata": {
  "kernelspec": {
   "display_name": "Python 3 (ipykernel)",
   "language": "python",
   "name": "python3"
  },
  "language_info": {
   "codemirror_mode": {
    "name": "ipython",
    "version": 3
   },
   "file_extension": ".py",
   "mimetype": "text/x-python",
   "name": "python",
   "nbconvert_exporter": "python",
   "pygments_lexer": "ipython3",
   "version": "3.10.10"
  }
 },
 "nbformat": 4,
 "nbformat_minor": 5
}
