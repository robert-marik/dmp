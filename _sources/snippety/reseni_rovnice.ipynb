{
 "cells": [
  {
   "attachments": {},
   "cell_type": "markdown",
   "id": "6858ff78",
   "metadata": {},
   "source": [
    "# Numerické řešení rovnice\n",
    "\n",
    "Ukážeme si, jak je možné numericky vyřešit rovnici. Použijeme funkci [fsolve](https://docs.scipy.org/doc/scipy/reference/generated/scipy.optimize.fsolve.html) z knihovny scipy. Ukážeme si základní použití a upozorníme na dvě záludnosti."
   ]
  },
  {
   "cell_type": "code",
   "execution_count": null,
   "id": "00700696",
   "metadata": {
    "ExecuteTime": {
     "end_time": "2023-04-02T06:27:49.507129Z",
     "start_time": "2023-04-02T06:27:49.503684Z"
    }
   },
   "outputs": [],
   "source": [
    "import numpy as np\n",
    "import matplotlib.pyplot as plt\n",
    "import pandas as pd\n",
    "from scipy import optimize"
   ]
  },
  {
   "attachments": {},
   "cell_type": "markdown",
   "id": "8962ba67",
   "metadata": {},
   "source": [
    "Vyřešíme rovnici $$x^2=2.$$ Rovnici je nutné převést tak, aby se hledal nulový bod funkce, tj. do tvaru $$x^2-2=0.$$ Poté stačí zvolit počáteční odhad řešení a získáme výsledek. Ten je možné zkontrolovat dosazením nebo graficky. Vidíme první záludnost, že ze dvou řešení numerická procedura najde jen jedno, odmocninu ze dvou. Druhé řešení by se dalo najít zvolením počátečního odhadu blízko čísla $-\\sqrt{2}.$"
   ]
  },
  {
   "cell_type": "code",
   "execution_count": null,
   "id": "64868ea0",
   "metadata": {
    "ExecuteTime": {
     "end_time": "2023-04-02T06:31:54.819473Z",
     "start_time": "2023-04-02T06:31:54.813091Z"
    }
   },
   "outputs": [],
   "source": [
    "reseni = optimize.fsolve(lambda x:x**2-2,1)\n",
    "reseni"
   ]
  },
  {
   "cell_type": "code",
   "execution_count": null,
   "id": "8acdf820",
   "metadata": {
    "ExecuteTime": {
     "end_time": "2023-04-02T06:31:58.957872Z",
     "start_time": "2023-04-02T06:31:58.953269Z"
    }
   },
   "outputs": [],
   "source": [
    "reseni**2"
   ]
  },
  {
   "cell_type": "code",
   "execution_count": null,
   "id": "482bd990",
   "metadata": {
    "ExecuteTime": {
     "end_time": "2023-04-02T06:34:09.429019Z",
     "start_time": "2023-04-02T06:34:09.161995Z"
    }
   },
   "outputs": [],
   "source": [
    "x = np.linspace(0,2)\n",
    "plt.plot(x,x**2-2)\n",
    "plt.plot(reseni,reseni**2-2,\"o\")\n",
    "plt.grid()"
   ]
  },
  {
   "attachments": {},
   "cell_type": "markdown",
   "id": "4d931df1",
   "metadata": {},
   "source": [
    "Ukážeme si, že může záležet na kvalitě počátečního odhadu řešení. Pokusíme se najít nulové body funkce kosinus. S nulovou výchozí hodnotou výsledek nedopadne dobře. Vyjde nesmírně velké číslo. To proto, že v nule funkce kosinus ani neroste ani neklesá a procedura tak nemá spolehlivé vodítko, jestli nulový bod hledat vlevo nebo vpravo a ani odhad, jak by tento nulový bod mohl být daleko."
   ]
  },
  {
   "cell_type": "code",
   "execution_count": null,
   "id": "023cff3f",
   "metadata": {
    "ExecuteTime": {
     "end_time": "2023-04-02T06:39:02.080911Z",
     "start_time": "2023-04-02T06:39:02.075186Z"
    }
   },
   "outputs": [],
   "source": [
    "reseni1 = optimize.fsolve(lambda x:np.cos(x),0)\n",
    "reseni1"
   ]
  },
  {
   "cell_type": "markdown",
   "id": "7d734cb3",
   "metadata": {},
   "source": [
    "S lepším výchozím odhadem je situace lepší, vyjde nám první nulový bod funkce kosinus, což můžeme zkontrolovat na obrázku."
   ]
  },
  {
   "cell_type": "code",
   "execution_count": null,
   "id": "1d9db38d",
   "metadata": {
    "ExecuteTime": {
     "end_time": "2023-04-02T06:39:06.052813Z",
     "start_time": "2023-04-02T06:39:06.047059Z"
    }
   },
   "outputs": [],
   "source": [
    "reseni2 = optimize.fsolve(lambda x:np.cos(x),1)\n",
    "reseni2"
   ]
  },
  {
   "cell_type": "code",
   "execution_count": null,
   "id": "43ce6cb6",
   "metadata": {
    "ExecuteTime": {
     "end_time": "2023-04-02T06:38:35.930355Z",
     "start_time": "2023-04-02T06:38:35.672764Z"
    }
   },
   "outputs": [],
   "source": [
    "x = np.linspace(-10,10,200)\n",
    "plt.plot(x,np.cos(x))\n",
    "plt.plot(reseni2,np.cos(reseni2),\"o\")\n",
    "plt.grid()"
   ]
  }
 ],
 "metadata": {
  "kernelspec": {
   "display_name": "Python 3 (ipykernel)",
   "language": "python",
   "name": "python3"
  },
  "language_info": {
   "codemirror_mode": {
    "name": "ipython",
    "version": 3
   },
   "file_extension": ".py",
   "mimetype": "text/x-python",
   "name": "python",
   "nbconvert_exporter": "python",
   "pygments_lexer": "ipython3",
   "version": "3.9.7"
  }
 },
 "nbformat": 4,
 "nbformat_minor": 5
}
