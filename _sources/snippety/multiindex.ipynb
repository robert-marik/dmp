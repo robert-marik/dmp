{
 "cells": [
  {
   "attachments": {},
   "cell_type": "markdown",
   "id": "3f954abd",
   "metadata": {},
   "source": [
    "# Tabulky s hierarchickým indexem\n",
    "\n",
    "Tabulky s hierarchickým indexem umožňují v tabulce pracovat s daty, která mají složitější strukturu, než prosté dvourozměrné souhrny čísel. Například je možné pro různé scénáře (nastavení parametrů) řešit model s různými výchozími stavy (počátečními podmínkami) a vše zahrnout do jedné tabulky. Poté je možné například zpracovat všechny simulace s daným počátečním stavem (a libovolným nastavením dalších parametrů) nebo všechny simulace se s daným nastavením parametrů (a libovolnou počáteční podmínkou). \n",
    "\n",
    "Ukážeme si na rovnici logistického růstu s konstantním lovem.\n",
    "\n",
    "\n",
    "Rovnice $$\\frac{\\mathrm dn}{\\mathrm dt}=rn\\left(1-\\frac nK\\right)-h$$\n",
    "popisuje vývoj populace o velikosti $n$ v prostředí s nosnou kapacitou $K$. Budeme pro různou intenzitu lovu vždy sledovat řešení pro několik počátečních podmínek. Všechno zaznamenáme do tabulky a data z tabulky poté vykreslíme. Sloupec bude identifikován pomocí trojice hodnot, udávajících že jde o velikosti populací (a ne čas), dále intenzitu lovu a počáteční podmínku. "
   ]
  },
  {
   "cell_type": "code",
   "execution_count": null,
   "id": "87334bda",
   "metadata": {
    "ExecuteTime": {
     "end_time": "2023-03-16T07:30:04.564277Z",
     "start_time": "2023-03-16T07:30:03.405061Z"
    }
   },
   "outputs": [],
   "source": [
    "import numpy as np\n",
    "import matplotlib.pyplot as plt\n",
    "import pandas as pd\n",
    "from scipy.integrate import solve_ivp\n"
   ]
  },
  {
   "cell_type": "code",
   "execution_count": null,
   "id": "aa5cb2b6",
   "metadata": {
    "ExecuteTime": {
     "end_time": "2023-03-16T07:30:04.613185Z",
     "start_time": "2023-03-16T07:30:04.567882Z"
    }
   },
   "outputs": [],
   "source": [
    "pocatecni_podminka = [0.4]\n",
    "meze = [0,10]\n",
    "\n",
    "def rovnice(t, x, r=1, K=1, h=0):\n",
    "    return r*x*(1-x/K) - h\n",
    "\n",
    "def destrukce_populace(t,x,r=1,K=1,h=0):  # Pokud x klesne na nulu, zastavíme výpočet\n",
    "    return x\n",
    "destrukce_populace.terminal = True\n",
    "\n",
    "t=np.linspace(*meze,101)  \n",
    "seznam_h = [0,0.1,0.15,0.2,0.25,0.28]\n",
    "seznam_pp = np.round(np.arange(0.1,1.2,0.05),2)\n",
    "\n",
    "### Definice tabulky s víceúrovňovými nadpisy sloupců, MultiIndex\n",
    "### https://pandas.pydata.org/docs/user_guide/advanced.html\n",
    "iterables = [seznam_h,seznam_pp]\n",
    "my_index = pd.MultiIndex.from_product(iterables, names=['lov', 'poč.podm.'])\n",
    "df = pd.DataFrame(columns=my_index, dtype='float64', index=t)\n",
    "df.index.name = \"Čas\"\n",
    "df"
   ]
  },
  {
   "attachments": {},
   "cell_type": "markdown",
   "id": "3e9749bb",
   "metadata": {},
   "source": [
    "Dále ve dvojitém cyklu pro každou počáteční podmínku a úroveň lovu najdeme\n",
    "řešení. Hledání řešení ukončíme při dosažení konce časového intervalu, nebo při\n",
    "dosažení nulové hodnoty pro velikost populace. Proto jsme tabulku založili\n",
    "rovnou se sloupci, které mají nedefinované hodnoty\n",
    "`np.nan`. Nyní vyměníme tolik položek ze začátku sloupce, kolik máme k\n",
    "dispozici vypočtených hodnot. \n",
    "\n",
    "Tabulku vytiskneme, pro lepší přehlednost naležato. "
   ]
  },
  {
   "cell_type": "code",
   "execution_count": null,
   "id": "c8380ca5",
   "metadata": {
    "ExecuteTime": {
     "end_time": "2023-03-16T07:30:05.186237Z",
     "start_time": "2023-03-16T07:30:04.672422Z"
    }
   },
   "outputs": [],
   "source": [
    "for h in seznam_h:\n",
    "    for pp in seznam_pp:\n",
    "        reseni = solve_ivp(\n",
    "                   lambda t,x:rovnice(t,x,h=h),\n",
    "                   meze,\n",
    "                   [pp],\n",
    "                   t_eval=t, \n",
    "                   events=destrukce_populace,            \n",
    "                   )\n",
    "        df.loc[reseni.t,(h,pp)] = reseni.y.reshape(-1) # poté hodnoty zaměníme za vypočtené od začátku až po konec řešení\n",
    "df.T   # vytiskneme tabulku naležato     "
   ]
  },
  {
   "cell_type": "markdown",
   "id": "97196996",
   "metadata": {},
   "source": [
    "Na závěr tabulku vykreslíme. Například všechny křivky odpovídající stejné intenzitě lovu vykreslíme stejnou barvou."
   ]
  },
  {
   "cell_type": "code",
   "execution_count": null,
   "id": "81450d42",
   "metadata": {
    "ExecuteTime": {
     "end_time": "2023-03-16T07:30:06.949193Z",
     "start_time": "2023-03-16T07:30:05.728401Z"
    }
   },
   "outputs": [],
   "source": [
    "for i,h in enumerate(seznam_h):        \n",
    "    plt.plot(df.index,df[h],color=f\"C{i}\",label=h,alpha=0.4,lw=1) \n",
    "\n",
    "ax = plt.gca()\n",
    "ax.set(\n",
    "    title = \"Dynamika populace\\n v závislosti na intenzitě lovu a počáteční podmínce\",\n",
    "    xlabel=\"Čas\",\n",
    "    ylabel=\"Velikost populace\",\n",
    ")\n",
    "# Návod jak seskupit položky legendy je na https://stackoverflow.com/questions/26337493/pyplot-combine-multiple-line-labels-in-legend\n",
    "handles, labels = ax.get_legend_handles_labels()\n",
    "labels, ids = np.unique(labels, return_index=True)\n",
    "handles = [handles[i] for i in ids]\n",
    "ax.legend(handles, labels, title=\"Intenzita lovu\");"
   ]
  },
  {
   "attachments": {},
   "cell_type": "markdown",
   "id": "ac2f943e",
   "metadata": {},
   "source": [
    "Na závěr ukázka, jak snadno z tabulky vybereme všechna řešení s počáteční podmínkou 0.2. Jde vidět, že tři hodnoty lovu vedou k destrukci populace v konečném čase. Jako obvykle, je několik možností jak cíle dosáhnout, ukážeme si dvě z nich."
   ]
  },
  {
   "cell_type": "code",
   "execution_count": null,
   "id": "581816a9",
   "metadata": {
    "ExecuteTime": {
     "end_time": "2023-03-16T07:30:11.675394Z",
     "start_time": "2023-03-16T07:30:11.658118Z"
    }
   },
   "outputs": [],
   "source": [
    "df.loc[:,(slice(None),0.2)]"
   ]
  },
  {
   "cell_type": "code",
   "execution_count": null,
   "id": "344d9067",
   "metadata": {},
   "outputs": [],
   "source": [
    "df.xs(level=\"poč.podm.\", key=0.2, axis=1)"
   ]
  },
  {
   "cell_type": "code",
   "execution_count": null,
   "id": "7c33a5dc",
   "metadata": {},
   "outputs": [],
   "source": []
  }
 ],
 "metadata": {
  "kernelspec": {
   "display_name": "Python 3 (ipykernel)",
   "language": "python",
   "name": "python3"
  },
  "language_info": {
   "codemirror_mode": {
    "name": "ipython",
    "version": 3
   },
   "file_extension": ".py",
   "mimetype": "text/x-python",
   "name": "python",
   "nbconvert_exporter": "python",
   "pygments_lexer": "ipython3",
   "version": "3.10.10"
  }
 },
 "nbformat": 4,
 "nbformat_minor": 5
}
