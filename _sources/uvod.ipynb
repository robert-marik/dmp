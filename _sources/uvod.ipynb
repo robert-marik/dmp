{
 "cells": [
  {
   "cell_type": "markdown",
   "id": "02cb2357",
   "metadata": {},
   "source": [
    "# Úvodní slovo"
   ]
  },
  {
   "cell_type": "code",
   "execution_count": 1,
   "id": "5e955d37",
   "metadata": {},
   "outputs": [
    {
     "name": "stdout",
     "output_type": "stream",
     "text": [
      "Poslední aktualizace:  20. 5. 2024 10:08:11\n"
     ]
    }
   ],
   "source": [
    "from datetime import datetime\n",
    "from babel.dates import format_datetime\n",
    "now = datetime.now()\n",
    "print (\"Poslední aktualizace: \", format_datetime(now, locale='cs'))"
   ]
  },
  {
   "cell_type": "markdown",
   "id": "43a60e4c",
   "metadata": {},
   "source": [
    "## Motivace 1, záchrana Lišky ostrovní \n",
    "\n",
    "```{figure} ./pics/Urocyon_littoralis_santacruzae.jpg  \n",
    "*Liška ostrovní, poddruh žijící na ostrově Santa Cruz, foto: <https://wikimedia.org>*\n",
    "``` \n",
    "Na úvod jako motivaci uveďme jeden optimistický příběh.\n",
    "\n",
    "[Liška ostrovní](https://cs.wikipedia.org/wiki/Li%C5%A1ka_ostrovn%C3%AD)\n",
    "(*Urocyon littoralis*) je jedinečný živočišný druh, endemit žijící jenom na\n",
    "ostrůvcích okolo Kalifornie. Velká jako kočka, důvěřivá (díky absenci\n",
    "přirozených nepřátel), jako druh citlivá a zranitelná (malá genetická\n",
    "variabilita, malá odolnost vůči nemocem zavlečeným z pevniny). Jedna z\n",
    "nejmenších psovitých šelem. Umí šplhat po stromech. Vlivem činnosti člověka se\n",
    "dostala do velkých potíží. Na ostrově San Miguel klesla populace z 450 dospělých\n",
    "jedinců v roce 1994 na 15 v roce 1999\n",
    "([odkaz](https://www.iucnredlist.org/species/22781/13985603)). Podobná situace\n",
    "byla i na ostatních ostrovech, z nichž každý je osídlen samostatným poddruhem\n",
    "lišky ostrovní. Příčinou úhynu by celý řetězec událostí: produkce insekticidu\n",
    "DDT, farmaření a rozmnožení zdivočelých prasat, vytlačení orla bělohlavého\n",
    "(*Haliaeetus leucocephalus*) orlem skalním (*Aquila chrysaetos*). Dříve vrcholný\n",
    "predátor na ostrově se stal najednou kořistí a byl těsně před vyhubením.\n",
    "Naštěstí se podařilo situaci pro lišku zachránit, zajistit podmínky ve kterých\n",
    "je populace stabilní a populaci lišek opětovně rozmnožit. Nyní je liška ostrovní\n",
    "\"pouze\" téměř ohrožená. Jedná se o jeden z nejúspěšnějších záchranných programů\n",
    "pro savce. Komplexní program zahrnoval vybití divokých prasat, přesídlení orlů\n",
    "skalních, návrat orlů bělohlavých, umělé rozmnožení lišek, jejich návrat do\n",
    "přírody a jejich vakcinaci proti zavlečeným chorobám. To vše za jednu dekádu.\n",
    "\n",
    "* [Článek na idnes.cz](https://www.idnes.cz/cestovani/kolem-sveta/ostrovnim-liskam-kalifornske-rarite-hrozi-vyhynuti.A000706153420igsvet_cha)  z roku 2000 o hrozícím vyhubení.\n",
    "* [Youtube video](https://youtu.be/2AVRSGkartg) z roku 2018 o záchraně ostrovních lišek.\n",
    "* [Matematický model](https://www.pnas.org/doi/10.1073/pnas.012422499#F3)\n",
    "  interakce mezi liškami, orly, skunkem a zdivočelými prasaty.\n",
    "* [Řešení modelu v prostředí Jupyter notebooku](https://gist.github.com/robert-marik/b1466473f485e7218efda491064765a6)\n",
    "\n",
    "> Specifika ostrovní biogeografie si představíme ve [třetí přednášce](/prednaska/03). Modelům interakce živočišných druhů ve vztahu [konkurence](/prednaska/09) nebo [predace](/prednaska/10) se budeme věnovat koncem semestru. Jednoduchý Jupyter zápisník, ukazující, že umíte zkombinovat text s výpočty a umíte spustit model a nějakým způsobem vizualizovat řešení bude obsahem seminární práce, nutné pro ukončení předmětu."
   ]
  },
  {
   "cell_type": "markdown",
   "id": "4f3ab74c",
   "metadata": {},
   "source": [
    "## Motivace 2, záchrana populace želv\n",
    "\n",
    "```{figure} ./pics/Sea_turtles.jpg \n",
    "\n",
    "*Kareta obecná, foto: <https://wikimedia.org>*\n",
    "``` \n",
    "\n",
    "Mořské želvy obecně mají poměrně komplikovaný životní cyklus. Vylíhnutí\n",
    "z vajíček probíhá na souši, další vývoj v moři. Ochrana se tradičně\n",
    "soustřeďovala na ochranu pláží pro kladení vajíček a umožnění vylíhnutým\n",
    "želvičkám dostat se k vodě. To je efektní a snadno proveditelná činnost. Je to\n",
    "ale i efektivní? Je to opravdu účinná strategie pro podporu populace želv? \n",
    "\n",
    "Matematický\n",
    "rozbor přínosu jednotlivých životních fází k celkovému růstu populace ukázal, že\n",
    "pro udržení druhu ochrana vajíček a čerstvě vylíhnutých mláďat nestačí. Ukázal,\n",
    "že tato\n",
    "činnost má malý vliv. Želva se o svá mláďata nestará a jenom malý zlomek se\n",
    "dožije dospělosti. Ukázalo se, že pro podporu populace je důležité chránit\n",
    "dospělé jedince, na kterých stojí břímě rozmnožování. Je nutné snížit riziko, že\n",
    "tyto jedince z populace odstraníme například jako vedlejší efekt rybolovu.\n",
    "Protože se ukazuje, že tato aktivita je pro populaci podstatná (dospělí jedinci\n",
    "mají velkou takzvanou *reprodukční hodnotu*), má smysl hledat cesty a řešení. V\n",
    "případě rybářských sítí je to například zařízení zvané TED, [Turtle Excluder\n",
    "Device](https://www.worldwildlife.org/magazine/issues/summer-2016/articles/how-a-simple-technology-is-saving-turtles), které umožní dospělým želvám (a velkým rybám), na nichž závisí přežití\n",
    "druhu, uniknout z rybářských sítí. Protože se jedná se o poměrně jednoduché a\n",
    "levné zařízení, je poměr cena/užitek obrovský. \n",
    "\n",
    "> Model populace s různými životními etapami si představíme na [šesté přednášce](/prednaska/06).\n",
    "> Na [sedmé přednášce](/prednaska/07) si ukážeme nástroj na analýzu vlivu parametrů na celkový\n",
    "> růst populace a v [jednom ze cvičení](/cviceni/cviceni_07) se budeme blíže věnovat zmíněnému modelu populace karety."
   ]
  },
  {
   "cell_type": "markdown",
   "id": "449a8f67",
   "metadata": {},
   "source": [
    "## Co budeme dělat\n",
    "\n",
    "V předmětu si představíme základní metody modelování jevů a efektů známých z\n",
    "ekologie a populační biologie. Z těchto oblastí máme celou řadu poznatků. \n",
    "\n",
    "* Populace nerostou neomezeně, ale jenom do nosné kapacity prostředí (Verhulst, 1838).\n",
    "* Větší územní celky mají pestřejší druhové složení. (Mac Arthur, Wilson, 1967).\n",
    "* Malé populace mohou mít malou nebo zápornou rychlost růstu per capita (Allee, cca 1930–1940).\n",
    "* Věkově strukturovaná společenstva konvergují ke stabilní věkové skladbě (Leslie, 1945).\n",
    "* Při konkurenci dvou a více druhů dojde za určitých podmínek ke konkurenčnímu\n",
    "  vyloučení některých druhů (Gause, 1934).\n",
    "* Ve fragmentovaném prostředí je nutno chránit i migrační trasy mezi fragmenty a\n",
    "  také fragmenty, kde se daná populace nenachází (Levins, 1969).\n",
    "* V přírodě dochází k oscilacím, například ve společenstvech dravce a kořisti\n",
    "  (Lotka, Volterra, 1920), u dlouhověkých cikád, při některých chemických\n",
    "  reakcích (Bělousov, Žabotinski, 1951), při periodickém přemnožování obaleče v\n",
    "  kanadských lesích (Ludwig, Jones, Holling, 1978).\n",
    "* Organismy produkují enzymy a bílkoviny a jejich fungování je závislé na\n",
    "  rychlosti, s jakou dokáží syntetizovat potřebný enzym a na tom, jak dokáží\n",
    "  udržet jeho stabilní hladinu. Výhodnější než jednoduchá konstantní produkce\n",
    "  enzymu je, pokud si organismus vytvoří evolucí taktiku směřující ke zrychlení\n",
    "  syntézy a zvýšení robustnosti stacionárního stavu, tj. zvýšení odolnosti proti\n",
    "  narušení rovnováhy (viz {cite}`alon`). \n",
    "\n",
    "Ukážeme si, že uvedené efekty nejsou ničím jiným, než nevyhnutelným důsledkem\n",
    "principů, podle kterých funguje dané společenství. Matematickým modelováním\n",
    "převedeme představy o vztazích v populacích na pozorovatelná data. Zpravidla\n",
    "budeme sledovat velikost populace a její vývoj v čase. \n",
    "\n",
    "Pokud matematický model vykazuje shodu s pozorovanou skutečností, máme všechny\n",
    "důvody domnívat se, že naše představy o principech fungování společenství jsou\n",
    "správné a to nám umožní sledovat, jak se situace bude měnit při změně parametrů\n",
    "jako jsou změna prostředí nebo lov či sběr členů této populace. Matematika\n",
    "umožní levné, snadné, etické a bezpečné experimenty s danou populací."
   ]
  },
  {
   "cell_type": "markdown",
   "id": "4cd22fc3",
   "metadata": {},
   "source": [
    "## O metodách výuky\n",
    "\n",
    "Cvičení jsou z výpočetního hlediska zaměřeny na využití jazyka Python. To je\n",
    "moderní a perspektivní skriptovací jazyk,  vhodný pro manipulaci s daty a\n",
    "přístupný i neprogramátorům.\n",
    "\n",
    "* Díky Pythonu zpřístupníme možnosti řešení matematických modelů i\n",
    "  nematematikům. Vyhneme se obtížným výpočtům, kvůli kterým bychom se museli\n",
    "  naučit používat netriviální matematický aparát, jako jsou derivace a\n",
    "  integrály. \n",
    "* Nebojte se, nebudete programovat. Měli byste pasivně rozumět kódu z přednášek\n",
    "  a cvičení a umět jej přizpůsobit jinému modelu nebo jiné situaci.\n",
    "* Příklady pro **cvičení** jsou zápisníky prostředí Jupyter, ve kterém Python\n",
    "  budeme spouštět. Je možné otevřít v online prostředí nebo na svém lokálním PC.\n",
    "    * Ve výuce budeme preferovat server\n",
    "      [jupyter.mendelu.cz](https://jupyter.mendelu.cz). Přístup mají studenti předmětu.\n",
    "      Login je stejný jako do UIS (například `xnovak65`), přednastavené heslo\n",
    "      máte v UIS, návod jak heslo najít je na přihlašovací stránce JupyterHubu.\n",
    "    * S Jupyter zápisníky je možno pracovat ve službě [Colab](https://colab.research.google.com/) spojené s Google účtem.\n",
    "    * S Jupyter zápisníky je možno pracovat ve službě [Anaconda Cloud](https://anaconda.cloud/). Účet si můžete zřídit sami,\n",
    "      stačí free verze účtu a máte přístup i k umělé inteligenci, která Vám pomůže při psaní nebo ladění kódu.\n",
    "    * Offline práce je možná, pokud máte nainstalovaný Python, Jupyter a s tím\n",
    "      spojený ekosystém. Doporučenou volbou pro nejběžnější operační systémy\n",
    "      (Linux, Windows) je\n",
    "      [Anaconda](https://www.anaconda.com/products/distribution) a jako editor\n",
    "      buď Jupyter zápisník v prohlížeči nebo editor [Visual Studio\n",
    "      Code](https://code.visualstudio.com/) a pluginy Python, Pylance, Python\n",
    "      for VSCode, Jupyter.\n",
    "* **Přednášky** jsou psány jazykem [MyST](https://myst-parser.readthedocs.io/en/latest/) a je možné je otevřít v online prostředí, které tento jazyk podporuje. To je v zimě 2022 částečně Binder a JupyterHub z online služeb a Jupyter Notebook jako offline volba. (Nejsou renderovány definice, věty a některá další prostředí, ty se zobrazují jako programový kód.) Vývoj však jde rychle dopředu...\n",
    "\n",
    "```{warning}\n",
    "Pokud pracujete na lokálním počítači, máte data pod kontrolou a nikdo jiný je nevidí. Při práci na JupyterHubu na Mendelově univerzitě data může vidět i admin serveru. (Toho budeme využívat při práci na zápočtovém projektu.) Při práci na serverech jako Colab či Binder jdou data přes servery dalších vlastníků a nemáte data plně pod kontrolou. Proto není vhodné pracovat s osobními daty a citlivým obsahem. \n",
    "```"
   ]
  },
  {
   "cell_type": "markdown",
   "id": "1f26b179",
   "metadata": {},
   "source": [
    "## Troubleshooting\n",
    "\n",
    "\n",
    "### V příkazech je chyba a je těžké ji najít\n",
    "\n",
    "Příkazy pište po malých krůčcích a teprve poté vše spojte. Pokud vidíte dlouhou \n",
    "chybovou hlášku, je zpravidla nejinformativnější její konec. Pokud nevíte o co\n",
    "jde, můžete část chybového hlášení nakopírovat do vyhledávacího políčka google\n",
    "a pátrat po radách k uvedenému problému."
   ]
  },
  {
   "cell_type": "code",
   "execution_count": null,
   "id": "9413500b",
   "metadata": {},
   "outputs": [],
   "source": []
  }
 ],
 "metadata": {
  "jupytext": {
   "cell_metadata_filter": "-all",
   "formats": "md:myst",
   "text_representation": {
    "extension": ".md",
    "format_name": "myst",
    "format_version": 0.13,
    "jupytext_version": "1.16.0"
   }
  },
  "kernelspec": {
   "display_name": "Python 3 (ipykernel)",
   "language": "python",
   "name": "python3"
  },
  "language_info": {
   "codemirror_mode": {
    "name": "ipython",
    "version": 3
   },
   "file_extension": ".py",
   "mimetype": "text/x-python",
   "name": "python",
   "nbconvert_exporter": "python",
   "pygments_lexer": "ipython3",
   "version": "3.12.2"
  },
  "source_map": [
   14,
   18,
   23,
   61,
   95,
   132,
   168,
   181
  ]
 },
 "nbformat": 4,
 "nbformat_minor": 5
}