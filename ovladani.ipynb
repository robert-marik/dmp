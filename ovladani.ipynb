{
 "cells": [
  {
   "cell_type": "markdown",
   "id": "41cb2912-387e-4cde-8a5c-35179434f5f6",
   "metadata": {},
   "source": [
    "# Ovládání JupyterLab"
   ]
  },
  {
   "cell_type": "markdown",
   "id": "d6f609e2-6281-49cf-922e-b6c721a7c893",
   "metadata": {
    "execution": {
     "iopub.execute_input": "2024-02-14T07:13:56.258728Z",
     "iopub.status.busy": "2024-02-14T07:13:56.258352Z",
     "iopub.status.idle": "2024-02-14T07:13:56.922883Z",
     "shell.execute_reply": "2024-02-14T07:13:56.859400Z",
     "shell.execute_reply.started": "2024-02-14T07:13:56.258697Z"
    }
   },
   "source": [
    "Jedná se o překlad dokumentu publikovaného [zde](https://gist.github.com/discdiver/9e00618756d120a8c9fa344ac1c375ac).\n",
    "\n",
    "Na Mac počítači používejte `command` místo `control`. Znak _+_ znamená současný stisk kláves.\n",
    "\n",
    "Zkratky v _příkazovém režimu_ (vně buňky) i v _editačním režimu_ (uvnitř buňky):\n",
    "---\n",
    "- `Shift` + `Enter` spustit příkazy v buňce, pokud nenásleduje žádná další buňka, vložit prázdnou\n",
    "\n",
    "- `Ctrl` + `B` přepnutí zobrazení/skrytí levého panelu\n",
    "\n",
    "- `Ctrl` + `S` uložit\n",
    "- `Ctrl` + `Shift` + `S` uložit jako\n",
    "- `Ctrl` + `F` najít nebo nebo najít a nahradit "
   ]
  },
  {
   "cell_type": "markdown",
   "id": "ae3369da-b897-4bc4-9070-017e3f07631f",
   "metadata": {
    "execution": {
     "iopub.execute_input": "2024-02-14T07:13:56.258728Z",
     "iopub.status.busy": "2024-02-14T07:13:56.258352Z",
     "iopub.status.idle": "2024-02-14T07:13:56.922883Z",
     "shell.execute_reply": "2024-02-14T07:13:56.859400Z",
     "shell.execute_reply.started": "2024-02-14T07:13:56.258697Z"
    }
   },
   "source": [
    "Zkratky v _příkazovém režimu_ (vně buňky, kurzor není v žádné buňce, žádná buňka není aktivní):\n",
    "---\n",
    "- `Enter` vstoupit do _editačního režimu_ v aktivní buňce\n",
    "\n",
    "- Šipky nahoru a dolů pro pohyb příslušným směrem. \n",
    "\n",
    "- `A` vložit buňku nad aktivní buňku (Above)\n",
    "- `B` vložit buňku pod aktivní buňku (Below)\n",
    "\n",
    "- `M` přepnout buňku na typ Markdown (komentář)\n",
    "- `Y` přepnout buňku na typ Code (kód Python)\n",
    "\n",
    "- `Shift` + `Up Arrow` vybrat aktivní buňku a buňku nad\n",
    "- `Shift` + `Down Arrow` vybrat aktivní buňku a buňku pod\n",
    "- `Ctrl` + `A` vybrat všechny buňky\n",
    "\n",
    "- `X` vystřihnout aktivní buňku nebo vybrané buňky\n",
    "- `C` kopírovat akktivní buňku nebo vybrané buňky\n",
    "- `V` vložit vykpírované nebo vystřižené buňky\n",
    "\n",
    "- `Shift + M` spojit více buňek do jedné nebo spojit buňku s následující buňkou\n",
    "\n",
    "- `DD` (`D` dvakrát) smazat aktivní buňku\n",
    "- `00` (nula dvakrát) restartovat jádro interpretru\n",
    "\n",
    "- `Z` undo pro většinu operací"
   ]
  },
  {
   "cell_type": "markdown",
   "id": "3e670068-fddf-4412-a42f-f747461e8d8c",
   "metadata": {
    "execution": {
     "iopub.execute_input": "2024-02-14T07:13:56.258728Z",
     "iopub.status.busy": "2024-02-14T07:13:56.258352Z",
     "iopub.status.idle": "2024-02-14T07:13:56.922883Z",
     "shell.execute_reply": "2024-02-14T07:13:56.859400Z",
     "shell.execute_reply.started": "2024-02-14T07:13:56.258697Z"
    }
   },
   "source": [
    "Zkratky v _editačním režimu_ (uvnitř buňky, bliká kurzor):\n",
    "---\n",
    "\n",
    "- `Esc` přejít do _příkazového režimu_\n",
    "\n",
    "- `Tab` doplnit kód (pokud je za rozepsanou funkcí nebo proměnnou) nebo odsadit (pokud je na začátku řádku)\n",
    "- `Ctrl` + `Shift` + `-` rozdělit buňku na dvě v místě kurzoru\n",
    "\n",
    "\n",
    "- `Ctrl` + `]` odsadit\n",
    "- `Ctrl` + `[` zrušit odsazení\n",
    "\n",
    "- `Ctrl` + `/` zakomentovat nebo odkomentovat aktivní řádek nebo blok\n",
    "\n",
    "Plus obvyklé zkratky pro výběr, vyjmutí, kopírování, vložení, undo atd."
   ]
  },
  {
   "cell_type": "code",
   "execution_count": null,
   "id": "9cc80e24-9e2a-42c4-991c-196f939ca0c7",
   "metadata": {},
   "outputs": [],
   "source": []
  }
 ],
 "metadata": {
  "kernelspec": {
   "display_name": "Python 3 (ipykernel)",
   "language": "python",
   "name": "python3"
  },
  "language_info": {
   "codemirror_mode": {
    "name": "ipython",
    "version": 3
   },
   "file_extension": ".py",
   "mimetype": "text/x-python",
   "name": "python",
   "nbconvert_exporter": "python",
   "pygments_lexer": "ipython3",
   "version": "3.10.10"
  }
 },
 "nbformat": 4,
 "nbformat_minor": 5
}
