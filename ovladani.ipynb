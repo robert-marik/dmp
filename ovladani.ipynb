{
 "cells": [
  {
   "cell_type": "markdown",
   "id": "41cb2912-387e-4cde-8a5c-35179434f5f6",
   "metadata": {},
   "source": [
    "# Ovládání JupyterLab"
   ]
  },
  {
   "cell_type": "markdown",
   "id": "d6f609e2-6281-49cf-922e-b6c721a7c893",
   "metadata": {
    "execution": {
     "iopub.execute_input": "2024-02-14T07:13:56.258728Z",
     "iopub.status.busy": "2024-02-14T07:13:56.258352Z",
     "iopub.status.idle": "2024-02-14T07:13:56.922883Z",
     "shell.execute_reply": "2024-02-14T07:13:56.859400Z",
     "shell.execute_reply.started": "2024-02-14T07:13:56.258697Z"
    }
   },
   "source": [
    "Jedná se o překlad dokumentu publikovaného [zde](https://gist.github.com/discdiver/9e00618756d120a8c9fa344ac1c375ac).\n",
    "\n",
    "V zápisníku jsou buňky několika druhů. Budeme používat Code pro kód v Pythonu a Markdown pro doprovodné texty.  \n",
    "Můžete se nacházet buď v režimu editace obsahu buněk, tj. v takzvaném _editačním režimu_, nebo v _příkazovém režimu_.\n",
    "\n",
    "V editačním režimu píšete příkazy nebo doprovodný text, v příkazovém režimu nastavujete typ buněk, spouštíte příkazy v buňkách, kopírujete či přesunujete buňky, vkládáte nové nebo mažete nepotřebné buňky a podobně.\n",
    "\n",
    "Zkratky v _příkazovém režimu_ i v _editačním režimu_\n",
    "---\n",
    "\n",
    "(Znak plus znamená současný stisk kláves.)\n",
    "\n",
    "|Zkratka|Akce|\n",
    "|-|-|\n",
    "`Shift` + `Enter` | spustit příkazy v buňce a posunout se na následující buňku, pokud nenásleduje žádná další buňka, vložit prázdnou \n",
    "`Ctrl` + `Enter` | spustit příkazy v buňce a zůstat na aktivní buňce\n",
    "`Alt` + `Enter` | spustit příkazy v buňce, vložit práznou za ní a přesunout se na nově vloženou buňku\n",
    "`Ctrl` + `B` | přepnutí zobrazení/skrytí levého panelu\n",
    "`Ctrl` + `S` | uložit\n",
    "`Ctrl` + `Shift` + `S` | uložit jako\n",
    "`Ctrl` + `F` | najít nebo nebo najít a nahradit "
   ]
  },
  {
   "cell_type": "markdown",
   "id": "ae3369da-b897-4bc4-9070-017e3f07631f",
   "metadata": {
    "execution": {
     "iopub.execute_input": "2024-02-14T07:13:56.258728Z",
     "iopub.status.busy": "2024-02-14T07:13:56.258352Z",
     "iopub.status.idle": "2024-02-14T07:13:56.922883Z",
     "shell.execute_reply": "2024-02-14T07:13:56.859400Z",
     "shell.execute_reply.started": "2024-02-14T07:13:56.258697Z"
    }
   },
   "source": [
    "Zkratky v _příkazovém režimu_ \n",
    "---\n",
    "\n",
    "|Zkratka|Akce|\n",
    "|-|-|\n",
    "`Enter` | vstoupit do _editačního režimu_ v aktivní buňce\n",
    "Šipky nahoru a dolů|  pohyb příslušným směrem. \n",
    "`A`| vložit buňku nad aktivní buňku (Above)\n",
    "`B`| vložit buňku pod aktivní buňku (Below)\n",
    "`M` |přepnout buňku na typ Markdown (doprovodný text)\n",
    "`Y` |přepnout buňku na typ Code (kód Python)\n",
    "`Shift` + `Up Arrow`| vybrat aktivní buňku a buňku nad\n",
    "`Shift` + `Down Arrow`| vybrat aktivní buňku a buňku pod\n",
    "`Ctrl` + `A`| vybrat všechny buňky\n",
    "`X` |vystřihnout aktivní buňku nebo vybrané buňky\n",
    "`C` |kopírovat aktivní buňku nebo vybrané buňky\n",
    "`V` |vložit vykpírované nebo vystřižené buňky\n",
    "`Shift + M` |spojit více buňek do jedné nebo spojit buňku s následující buňkou\n",
    "`DD` (`D` dvakrát) |smazat aktivní buňku\n",
    "`00` (nula dvakrát) |restartovat jádro interpretru\n",
    "`Z` |undo pro většinu operací"
   ]
  },
  {
   "cell_type": "markdown",
   "id": "3e670068-fddf-4412-a42f-f747461e8d8c",
   "metadata": {
    "execution": {
     "iopub.execute_input": "2024-02-14T07:13:56.258728Z",
     "iopub.status.busy": "2024-02-14T07:13:56.258352Z",
     "iopub.status.idle": "2024-02-14T07:13:56.922883Z",
     "shell.execute_reply": "2024-02-14T07:13:56.859400Z",
     "shell.execute_reply.started": "2024-02-14T07:13:56.258697Z"
    }
   },
   "source": [
    "Zkratky v _editačním režimu_\n",
    "---\n",
    "\n",
    "|Zkratka|Akce|\n",
    "|-|-|\n",
    "`Esc` |přejít do _příkazového režimu_\n",
    "`Tab` |doplnit kód (pokud je za rozepsanou funkcí nebo proměnnou) nebo odsadit (pokud je na začátku řádku)\n",
    "`Ctrl` + `Shift` + `-` |rozdělit buňku na dvě v místě kurzoru\n",
    "`Ctrl` + `]` |odsadit, stejně funguje `Tab` na začátku řádku\n",
    "`Ctrl` + `[` |zrušit odsazení, stejně funguje `Shift`+`Tab` na začátku řádku\n",
    "`Ctrl` + `/` |zakomentovat nebo odkomentovat aktivní řádek nebo blok\n",
    "\n",
    "Plus je možné používat obvyklé klávesové zkratky pro výběr, vyjmutí, kopírování, vložení, undo atd."
   ]
  },
  {
   "cell_type": "code",
   "execution_count": null,
   "id": "9cc80e24-9e2a-42c4-991c-196f939ca0c7",
   "metadata": {},
   "outputs": [],
   "source": []
  }
 ],
 "metadata": {
  "kernelspec": {
   "display_name": "Python 3 (ipykernel)",
   "language": "python",
   "name": "python3"
  },
  "language_info": {
   "codemirror_mode": {
    "name": "ipython",
    "version": 3
   },
   "file_extension": ".py",
   "mimetype": "text/x-python",
   "name": "python",
   "nbconvert_exporter": "python",
   "pygments_lexer": "ipython3",
   "version": "3.10.10"
  }
 },
 "nbformat": 4,
 "nbformat_minor": 5
}
