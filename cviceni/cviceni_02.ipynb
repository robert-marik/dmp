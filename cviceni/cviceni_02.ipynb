{
 "cells": [
  {
   "cell_type": "markdown",
   "id": "0f2e5117",
   "metadata": {},
   "source": [
    "# Derivace a modely založené na derivaci"
   ]
  },
  {
   "cell_type": "code",
   "execution_count": null,
   "id": "df6dae0c",
   "metadata": {},
   "outputs": [],
   "source": [
    "import numpy as np\n",
    "import matplotlib.pyplot as plt\n",
    "import pandas as pd"
   ]
  },
  {
   "cell_type": "markdown",
   "id": "fa24a1ee",
   "metadata": {},
   "source": [
    "## Numerická simulace v rovnici ochlazování\n",
    "\n",
    "Studujeme úlohu $$\\frac{\\mathrm dT}{\\mathrm dt} = - k (T-T_\\infty), \\quad T(0)=T_0.$$ Pokusíme se odhadnout po malých krůčcích chování řešení. Uvnitř každého krůčku budeme rychlost považovat za konstantní a změnu teploty určíme jako součin rychlosti a času (délky časového intervalu)."
   ]
  },
  {
   "cell_type": "markdown",
   "id": "2b15aca2",
   "metadata": {},
   "source": [
    "### Srovnání přesného analytického řešení s numerickou simulací po krocích konečné délky."
   ]
  },
  {
   "cell_type": "code",
   "execution_count": null,
   "id": "14b9ae7b",
   "metadata": {},
   "outputs": [],
   "source": [
    "# Nastavení parametrů\n",
    "tmin, tmax = 0,10\n",
    "dt = 0.5  # delka kroku\n",
    "k = 0.5\n",
    "T0 = 100\n",
    "T_inf = 20\n",
    "\n",
    "# Pomocné proměnné\n",
    "N = int((tmax-tmin)/dt+1) # počet bodů pro simulaci\n",
    "t = np.linspace(tmin,tmax,N) # časová osa pro simlaci\n",
    "\n",
    "# Počáteční nastavení\n",
    "T = np.zeros(N)  # pole pro ukládání teplot\n",
    "T[0] = T0  # počáteční teplota\n",
    "\n",
    "# Simulace po časových krocích\n",
    "for i in range(1,N):\n",
    "    rozdil_teplot = T[i-1] - T_inf\n",
    "    rychlost_ochlazovani = k*rozdil_teplot\n",
    "    zmena_teploty = - dt*rychlost_ochlazovani\n",
    "    T[i] = T[i-1] + zmena_teploty\n",
    "\n",
    "# Uložení do tabulky\n",
    "df = pd.DataFrame()\n",
    "df[\"t\"] = t\n",
    "df[\"numericky\"] = T\n",
    "df[\"analyticky\"] = T_inf + (T0-T_inf)*np.exp(-k*t)   \n",
    "    \n",
    "# Vykreslení tabulky    \n",
    "df.plot(x=\"t\")\n",
    "plt.grid()\n",
    "plt.gca().set(\n",
    "    xlabel=\"čas\",\n",
    "    ylabel=\"teplota\",\n",
    "    title=\"Ochlazování rychlostí úměrnou teplotnímu rozdílu\",\n",
    "    ylim=(0,None)\n",
    ");\n"
   ]
  },
  {
   "cell_type": "markdown",
   "id": "78822da5",
   "metadata": {},
   "source": [
    "**Úkol** Experimentujte s délkou kroku `dt` a sledujte hladkost numerického řešení a jeho odchylku od přesného analytického řešení. \n",
    "\n",
    "V praxi musíme mít krok dostatečně malý, aby řešení bylo hladké a přesné, ale ne moc malý, aby nás to nestálo hodně paměti, výpočetního výkonu, času a aby nehrozilo, že se při mnoha výpočtech akumulují zaokrouhlovací chyby. Zpravidla nám toto obstarají procedury pro řešení automaticky."
   ]
  },
  {
   "cell_type": "markdown",
   "id": "733c0011",
   "metadata": {},
   "source": [
    "### Simulace pro více počátečních podmínek\n",
    "\n",
    "Vyjdeme z předchozí simulace, ale novou simulaci spustíme v cyklu. Jeden průběh cyklu pro každou počáteční podmínku. **Recyklujeme kód z předchozí buňky a změny označíme vykřičníkem.**"
   ]
  },
  {
   "cell_type": "code",
   "execution_count": null,
   "id": "344dfb71",
   "metadata": {},
   "outputs": [],
   "source": [
    "# Nastavení parametrů\n",
    "tmin, tmax = 0,10\n",
    "dt = 0.1 # !!! zmena, jemnejsi krok\n",
    "k = 0.5\n",
    "T0_seznam = [100, 80, 60, 40]  # !!! zmena\n",
    "T_inf = 20\n",
    "\n",
    "# Pomocné proměnné\n",
    "N = int((tmax-tmin)/dt+1) # počet bodů pro simulaci\n",
    "t = np.linspace(tmin,tmax,N) # časová osa pro simlaci\n",
    "\n",
    "# Uložení do tabulky   !!! Zmena, tabulka pred simulaci\n",
    "df = pd.DataFrame()\n",
    "df[\"t\"] = t\n",
    "\n",
    "for T0 in T0_seznam:\n",
    "    # Počáteční nastavení\n",
    "    T = np.zeros(N)  # pole pro ukládání teplot\n",
    "    T[0] = T0  # počáteční teplota\n",
    "\n",
    "    # Simulace po časových krocích\n",
    "    for i in range(1,N):\n",
    "        rozdil_teplot = T[i-1] - T_inf\n",
    "        rychlost_ochlazovani = k*rozdil_teplot\n",
    "        zmena_teploty = - dt*rychlost_ochlazovani\n",
    "        T[i] = T[i-1] + zmena_teploty\n",
    "\n",
    "    df[T0] = T # !!! zmena, dalsi sloupec tabulky\n",
    "\n",
    "# Tisk začátku tabulky    !!!\n",
    "print(df.head())    \n",
    "\n",
    "# Vykreslení tabulky    \n",
    "df.plot(x=\"t\")\n",
    "plt.grid()\n",
    "plt.gca().set(\n",
    "    xlabel=\"čas\",\n",
    "    ylabel=\"teplota\",\n",
    "    title=\"Ochlazování rychlostí úměrnou teplotnímu rozdílu\",\n",
    "    ylim=(0,None)\n",
    ")\n",
    "plt.legend(title=\"Počáteční podmínka\"); # !!! nadpis pro legendu"
   ]
  },
  {
   "cell_type": "markdown",
   "id": "31ea9627",
   "metadata": {},
   "source": [
    "#### Úkol - simulace pro měnící se koeficient úměrnosti\n",
    "\n",
    "Udělejte simulaci s jednou počáteční podmínkou a měnící se hodnotu koeficientu $k$. Nakopírujte si sem předchozí buňku a modifikujte tak, aby byla počáteční podmínka pořád stejná a měnil se koeficient $k$. Musíte sestavit seznam hodnot pro proměnnou $k$, změnit cyklování a změnit jméno sloupce v tabulce tak, aby zachycovalo hodnotu $k$."
   ]
  },
  {
   "cell_type": "code",
   "execution_count": null,
   "id": "b9b24ca5",
   "metadata": {},
   "outputs": [],
   "source": []
  },
  {
   "cell_type": "markdown",
   "id": "22359895",
   "metadata": {},
   "source": [
    "### Simulace pro model se zpožděním\n",
    "\n",
    "Uvedené simulace jsou naivní metodou řešení úlohy modelující pomocí derivací nějaký proces. Pro řešení modelů s derivacemi existují mnohem vyspělejší metody, které si představíme příště. V praxi se zpravidla spoléháme na tyto naprogramované profesionály. Dovednost umět si implementovat jednoduchý řešič může sloužit pro orientační první nástřel výpočtu, nebo při potřebě řešení nějaké speciální úlohy. Jedním takovým speciálním postupem může být snaha započítat do rovnice ochlazování zpoždění. To by mohlo odpovídat regulaci teploty, kdy se změna v nastavení neprojeví okamžitě. Všichni takovou situaci známe při nastavování teploty ve sprše."
   ]
  },
  {
   "cell_type": "code",
   "execution_count": null,
   "id": "6d8b32f1",
   "metadata": {},
   "outputs": [],
   "source": [
    "# Nastavení parametrů\n",
    "tmin, tmax = 0,20\n",
    "dt = 0.01 # !!! zmena, jemnejsi krok\n",
    "k = 0.5\n",
    "T0 = 100\n",
    "zpozdeni_seznam = [0, 10, 60, 100, 200]  # !!! zmena, zpozdeni v jednotkach delky kroku\n",
    "T_inf = 20\n",
    "\n",
    "# Pomocné proměnné\n",
    "N = int((tmax-tmin)/dt+1) # počet bodů pro simulaci\n",
    "t = np.linspace(tmin,tmax,N) # časová osa pro simlaci\n",
    "\n",
    "# Uložení do tabulky   \n",
    "df = pd.DataFrame()\n",
    "df[\"t\"] = t\n",
    "\n",
    "for zpozdeni in zpozdeni_seznam:  # !!! zmena v cyklu\n",
    "    # Počáteční nastavení\n",
    "    T = np.zeros(N)  # pole pro ukládání teplot\n",
    "    T[0] = T0  # počáteční teplota\n",
    "\n",
    "    # Simulace po časových krocích\n",
    "    for i in range(1,N):\n",
    "        rozdil_teplot = T[max(i-1-zpozdeni,0)] - T_inf  # !!! zmena, zapocitani zpozdeni\n",
    "        rychlost_ochlazovani = k*rozdil_teplot\n",
    "        zmena_teploty = - dt*rychlost_ochlazovani\n",
    "        T[i] = T[i-1] + zmena_teploty\n",
    "\n",
    "    df[zpozdeni] = T # !!! zmena, dalsi sloupec tabulky\n",
    "    \n",
    "# Vykreslení tabulky    \n",
    "df.plot(x=\"t\")\n",
    "plt.grid()\n",
    "plt.gca().set(\n",
    "    xlabel=\"čas\",\n",
    "    ylabel=\"teplota\",\n",
    "    title=\"Ochlazování rychlostí úměrnou teplotnímu rozdílu\",\n",
    "    ylim=(0,None)\n",
    ")\n",
    "plt.legend(title=\"Zpoždění\");"
   ]
  },
  {
   "cell_type": "code",
   "execution_count": null,
   "id": "8123a5aa",
   "metadata": {},
   "outputs": [],
   "source": []
  }
 ],
 "metadata": {
  "kernelspec": {
   "display_name": "Python 3.8.10 64-bit",
   "language": "python",
   "name": "python3"
  },
  "language_info": {
   "codemirror_mode": {
    "name": "ipython",
    "version": 3
   },
   "file_extension": ".py",
   "mimetype": "text/x-python",
   "name": "python",
   "nbconvert_exporter": "python",
   "pygments_lexer": "ipython3",
   "version": "3.10.6 (main, Nov 14 2022, 16:10:14) [GCC 11.3.0]"
  },
  "varInspector": {
   "cols": {
    "lenName": 16,
    "lenType": 16,
    "lenVar": 40
   },
   "kernels_config": {
    "python": {
     "delete_cmd_postfix": "",
     "delete_cmd_prefix": "del ",
     "library": "var_list.py",
     "varRefreshCmd": "print(var_dic_list())"
    },
    "r": {
     "delete_cmd_postfix": ") ",
     "delete_cmd_prefix": "rm(",
     "library": "var_list.r",
     "varRefreshCmd": "cat(var_dic_list()) "
    }
   },
   "types_to_exclude": [
    "module",
    "function",
    "builtin_function_or_method",
    "instance",
    "_Feature"
   ],
   "window_display": false
  },
  "vscode": {
   "interpreter": {
    "hash": "916dbcbb3f70747c44a77c7bcd40155683ae19c65e1c03b4aa3499c5328201f1"
   }
  }
 },
 "nbformat": 4,
 "nbformat_minor": 5
}
