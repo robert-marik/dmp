{
 "cells": [
  {
   "cell_type": "markdown",
   "id": "0f2e5117",
   "metadata": {},
   "source": [
    "# Derivace a modely založené na derivaci"
   ]
  },
  {
   "attachments": {},
   "cell_type": "markdown",
   "id": "c88a4d49",
   "metadata": {},
   "source": [
    "## Úvod\n",
    "\n",
    "Zopakujeme si vytváření tabulky a kreslení dat z tabulky z minulého cvičení.\n",
    "Poté si ukážeme, jak je možné definovat novou funkci.\n",
    "\n",
    "### Obrázek se třemi funkcemi"
   ]
  },
  {
   "cell_type": "code",
   "execution_count": null,
   "id": "df6dae0c",
   "metadata": {},
   "outputs": [],
   "source": [
    "import numpy as np\n",
    "import matplotlib.pyplot as plt\n",
    "import pandas as pd\n",
    "\n",
    "x = np.linspace(0,200,1000)\n",
    "seznam_parametru = [2,15,50]\n",
    "df = pd.DataFrame(index=x)\n",
    "for parametr in seznam_parametru:\n",
    "    df[parametr] = x/(parametr+x)\n",
    "\n",
    "ax = df.plot()\n",
    "ax.set(\n",
    "    title=\"Vliv Alleeho efektu na růst populace\",\n",
    "    xlabel=\"velikost populace\",\n",
    "    ylabel=\"relativní fitness\")\n",
    "plt.legend(title = \"Hodnota parametru\")    \n",
    "\n"
   ]
  },
  {
   "attachments": {},
   "cell_type": "markdown",
   "id": "d9f9ca12",
   "metadata": {},
   "source": [
    "### Definice vlastní funkce\n",
    "\n",
    "Delší úseky kódu zpravidla kumulujeme do funkcí. Tím se výsledný skript\n",
    "zjednoduší a je lépe srozumitelný.\n",
    "\n",
    "Příklad definice funkce s povinnými a nepovinnými parametry"
   ]
  },
  {
   "cell_type": "code",
   "execution_count": null,
   "id": "8c53888f",
   "metadata": {},
   "outputs": [],
   "source": [
    "def mocnina(zaklad,n=2):\n",
    "    vysledek = zaklad**n\n",
    "    return vysledek"
   ]
  },
  {
   "attachments": {},
   "cell_type": "markdown",
   "id": "7f0e3bae",
   "metadata": {},
   "source": [
    "Ukázky volání. V prvním případě se použije přednastavená hodnota exponentu, ve\n",
    "druhém případě se umocňuje na čtvrtou."
   ]
  },
  {
   "cell_type": "code",
   "execution_count": null,
   "id": "f025b5d2",
   "metadata": {},
   "outputs": [],
   "source": [
    "mocnina(5)"
   ]
  },
  {
   "cell_type": "code",
   "execution_count": null,
   "id": "4f83822f",
   "metadata": {},
   "outputs": [],
   "source": [
    "mocnina(5,n=4)"
   ]
  },
  {
   "attachments": {},
   "cell_type": "markdown",
   "id": "81b0c88f",
   "metadata": {},
   "source": [
    "Následující volání je zapoznámkováno, protože vyvolá chybu. Nebyl zadán základ a\n",
    "ten je povinným parametrem. Můžete zrušit zapoznámkování a příkaz si zkusit."
   ]
  },
  {
   "cell_type": "code",
   "execution_count": null,
   "id": "2689c6f7",
   "metadata": {},
   "outputs": [],
   "source": [
    "#mocnina()"
   ]
  },
  {
   "attachments": {},
   "cell_type": "markdown",
   "id": "73452800",
   "metadata": {},
   "source": [
    "Pokud zadáváme všechny volitelné parametry, není nutné psát jejich jméno. Níže\n",
    "je $6^7$ (šest na sedmou)."
   ]
  },
  {
   "cell_type": "code",
   "execution_count": null,
   "id": "96c58800",
   "metadata": {},
   "outputs": [],
   "source": [
    "mocnina(6,7)"
   ]
  },
  {
   "attachments": {},
   "cell_type": "markdown",
   "id": "fa24a1ee",
   "metadata": {},
   "source": [
    "## Numerická simulace v rovnici ochlazování\n",
    "\n",
    "Studujme úlohu ochlazování kávy o teplotě $T$ z počáteční teploty $T_0$ v\n",
    "prostředí s teplotou $T_\\infty$ a koeficientem $k$ charakterizujícím intenzitu tepelné\n",
    "výměny podle Newtonova zákona tepelné výměny. Matematický model děje má tvar ve tvaru $$\\frac{\\mathrm dT}{\\mathrm dt} = - k (T-T_\\infty), \\quad T(0)=T_0.$$\n",
    "Pokusíme se odhadnout po malých krůčcích chování řešení. Uvnitř každého krůčku\n",
    "budeme rychlost považovat za konstantní a změnu teploty určíme jako součin\n",
    "rychlosti a času (délky časového intervalu)."
   ]
  },
  {
   "attachments": {},
   "cell_type": "markdown",
   "id": "42028c6d",
   "metadata": {},
   "source": [
    "### Jednoduchá numerická simulace\n",
    "Vyřešíme rovnici pro počáteční teplotu $T_0=100^\\circ\\mathrm{C}$,\n",
    "okolní teplotu $T_\\infty=20^\\circ\\mathrm{C}$, koeficient přímé úměrnosti\n",
    "$k=0.1 \\,\\mathrm{min}^{-1}$ a časový krok $\\Delta t=2\\,\\mathrm\n",
    "{min}.$\n",
    "\n",
    "Data budeme sestavovat do tabulky s časem a teplotou. První řádek je dán\n",
    "počáteční teplotou, časový sloupec je dán časovým krokem a musíme dopočítat teplotu.\n",
    "\n",
    "|t|T|\n",
    "|-:|-:|\n",
    "|0|100|\n",
    "|2||\n",
    "|4||\n",
    "|6||\n",
    "|8||\n",
    "|...||\n"
   ]
  },
  {
   "attachments": {},
   "cell_type": "markdown",
   "id": "e0a120e8",
   "metadata": {},
   "source": [
    "\n",
    "* Výpočet teploty v čase $2\\,\\mathrm {min}$ \n",
    "  * Rozdíl teplot je $$\\Delta T = 100^{\\circ}\\mathrm C - 20^{\\circ}\\mathrm C =\n",
    "    80^{\\circ}\\mathrm C.$$\n",
    "  * Rychlost ochlazování je $$k(T-T_\\infty)=0.1\\,\\mathrm{min}^{-1} \\times\n",
    "    80^{\\circ}\\mathrm C = 8^{\\circ}\\mathrm C/\\mathrm{min}.$$\n",
    "  * Změna teploty je $$\\Delta T = - k (T-T_\\infty)\\Delta t = -\n",
    "    8^{\\circ}\\mathrm C/\\mathrm{min} \\times 2\\,\\mathrm {min} =\n",
    "    -16^{\\circ}\\mathrm C.$$ \n",
    "  * Teplota v čase $t=2\\,\\mathrm{min}$ je součtem teploty v předešlém čase a\n",
    "    změny teploty, tj. \n",
    "    $$T(2) = T(0)+\\Delta T = 100^{\\circ}\\mathrm C - 16^{\\circ}\\mathrm C = 84^{\\circ}\\mathrm C.$$\n",
    "\n",
    "    Nová tabulka je následující\n",
    "\n",
    "    |t|T|\n",
    "    |-:|-:|\n",
    "    |0|100|\n",
    "    |2|84|\n",
    "    |4||\n",
    "    |6||\n",
    "    |8||\n",
    "    |...||\n",
    "\n",
    "* Výpočet teploty v čase $4\\,\\mathrm {min}$ \n",
    "  * Rozdíl teplot je $$\\Delta T = 84^{\\circ}\\mathrm C - 20^{\\circ}\\mathrm C =\n",
    "    64^{\\circ}\\mathrm C.$$\n",
    "  * Rychlost ochlazování je $$k(T-T_\\infty)=0.1\\,\\mathrm{min}^{-1} \\times\n",
    "    64^{\\circ}\\mathrm C = 6.4^{\\circ}\\mathrm C/\\mathrm{min}.$$\n",
    "  * Změna teploty je $$\\Delta T = - k (T-T_\\infty)\\Delta t = -\n",
    "    6.4^{\\circ}\\mathrm C/\\mathrm{min} \\times 12\\,\\mathrm {min} =\n",
    "    -12.8^{\\circ}\\mathrm C.$$ \n",
    "  * Teplota v čase $t=4\\mathrm{min}$ je součtem teploty v předešlém čase a\n",
    "    změny teploty, tj. \n",
    "    $$T(4) = T(2)+\\Delta T = 84^{\\circ}\\mathrm C - 12.8^{\\circ}\\mathrm C = 71.2^{\\circ}\\mathrm C.$$\n",
    "\n",
    "    Nová tabulka je následující\n",
    "\n",
    "    |t|T|\n",
    "    |-:|-:|\n",
    "    |0|100|\n",
    "    |2|84|\n",
    "    |4|71.2|\n",
    "    |6||\n",
    "    |8||\n",
    "    |...||\n",
    "* Analogicky pokračujeme a dopočítáváme teplotu v dalších časech."
   ]
  },
  {
   "attachments": {},
   "cell_type": "markdown",
   "id": "2b15aca2",
   "metadata": {},
   "source": [
    "### Numerická simulace po krocích konečné délky a srovnání s přesným řešením"
   ]
  },
  {
   "cell_type": "code",
   "execution_count": null,
   "id": "14b9ae7b",
   "metadata": {},
   "outputs": [],
   "source": [
    "# Nastavení parametrů\n",
    "tmin = 0\n",
    "tmax = 20\n",
    "N = 11\n",
    "k = 0.1\n",
    "T0 = 100\n",
    "T_inf = 20\n",
    "\n",
    "# Pomocné proměnné\n",
    "t = np.linspace(tmin,tmax,N) # časová osa pro simulaci\n",
    "dt = t[1]-t[0]\n",
    "\n",
    "# Počáteční nastavení\n",
    "T = np.zeros(N)  # pole pro ukládání teplot\n",
    "T[0] = T0  # počáteční teplota\n",
    "\n",
    "# Simulace po časových krocích\n",
    "for i in range(1,N):\n",
    "    rozdil_teplot = T[i-1] - T_inf\n",
    "    rychlost_ochlazovani = k*rozdil_teplot\n",
    "    zmena_teploty = - dt*rychlost_ochlazovani\n",
    "    T[i] = T[i-1] + zmena_teploty\n",
    "\n",
    "# Uložení do tabulky\n",
    "df = pd.DataFrame(index=t)\n",
    "df[\"T\"] = T\n",
    "df.head()\n"
   ]
  },
  {
   "attachments": {},
   "cell_type": "markdown",
   "id": "6ed5ae68",
   "metadata": {},
   "source": [
    "V tomto případě máme k dispozici i analytické řešení. To má tvar \n",
    "$$T(t)=T_\\infty + (T_0-T_\\infty)e^{-kt}.$$"
   ]
  },
  {
   "cell_type": "code",
   "execution_count": null,
   "id": "d6781414",
   "metadata": {},
   "outputs": [],
   "source": [
    "# Analytické přesné řešení\n",
    "df[\"analyticky\"] = T_inf + (T0-T_inf)*np.exp(-k*t)   \n",
    "    \n",
    "# Vykreslení tabulky    \n",
    "df.plot()\n",
    "plt.gca().set(\n",
    "    xlabel=\"čas\",\n",
    "    ylabel=\"teplota\",\n",
    "    title=\"Ochlazování rychlostí úměrnou teplotnímu rozdílu\",\n",
    "    ylim=(0,None)\n",
    ")\n",
    "plt.legend(['numericky','analyticky'],title=\"Výpočet\");\n"
   ]
  },
  {
   "attachments": {},
   "cell_type": "markdown",
   "id": "e42e5907",
   "metadata": {},
   "source": [
    "Abychom mohli pohodlně řešit modely pro různé parametry, můžeme příkazy z buňky,\n",
    "kde se v cyklu `for` počítají teploty pro jednotlivé okamžiky, seskupit do\n",
    "funkce a poté volat jedním příkazem. Modifikace spočívá v následujícím.\n",
    "\n",
    "* Definice hlavičky funkce a popis činnosti funkce. Hlavička obsahuje volitelné\n",
    "  parametry s přednastavenými hodnotami.\n",
    "* Odsazení bloku s tělem funkce (označit blok a všechny řádky posunout naráz tabelátorem).  \n",
    "* Klíčové slovo `return` definující výstup.  "
   ]
  },
  {
   "cell_type": "code",
   "execution_count": null,
   "id": "9ce530c3",
   "metadata": {},
   "outputs": [],
   "source": [
    "def numericke_reseni(\n",
    "    tmin = 0,\n",
    "    tmax = 10,\n",
    "    N = 10,\n",
    "    k = 0.5,\n",
    "    T0 = 100,\n",
    "    T_inf = 20,\n",
    "):\n",
    "    \"\"\"\n",
    "    Naivní simulace Newtonova modelu ochlazování. Derivace je nahrazena\n",
    "    dopřednou diferencí.\n",
    "\n",
    "    Na vstupu funkce jsou volitelné parametry nastavující časový interval\n",
    "    pro simulaci, dělení intervalu udávající jemnost skoků, koeficient \n",
    "    úměrnosti, počáteční teplota a koncová teplota.\n",
    "\n",
    "    Výstupem je tabulka (pandas.DataFrame) se sloupci t a T pro čas a teplotu.\n",
    "    \"\"\"\n",
    "    t = np.linspace(tmin,tmax,N) # časová osa pro simulaci\n",
    "    dt = t[1]-t[0]\n",
    "\n",
    "    # Počáteční nastavení\n",
    "    T = np.zeros(N)  # pole pro ukládání teplot\n",
    "    T[0] = T0        # počáteční teplota\n",
    "\n",
    "    # Simulace po časových krocích\n",
    "    for i in range(1,N):\n",
    "        rozdil_teplot = T[i-1] - T_inf\n",
    "        rychlost_ochlazovani = k*rozdil_teplot\n",
    "        zmena_teploty = - dt*rychlost_ochlazovani\n",
    "        T[i] = T[i-1] + zmena_teploty\n",
    "\n",
    "    # Uložení do tabulky\n",
    "    df = pd.DataFrame(index=t)\n",
    "    df[\"T\"] = T\n",
    "\n",
    "    return df\n"
   ]
  },
  {
   "attachments": {},
   "cell_type": "markdown",
   "id": "8407af8e",
   "metadata": {},
   "source": [
    "Ukázka volání, všechny parametry necháme na defaultních hodnotách."
   ]
  },
  {
   "cell_type": "code",
   "execution_count": null,
   "id": "815ad5d0",
   "metadata": {},
   "outputs": [],
   "source": [
    "\n",
    "numericke_reseni()\n"
   ]
  },
  {
   "attachments": {},
   "cell_type": "markdown",
   "id": "78822da5",
   "metadata": {},
   "source": [
    "**Úkol** Experimentujte s počtem bodů $N$ a tím i s délkou kroku. Sledujte hladkost numerického řešení a jeho odchylku od přesného analytického řešení. \n",
    "\n",
    "V praxi musíme mít krok dostatečně malý, aby řešení bylo hladké a přesné, ale ne\n",
    "moc malý, aby nás to nestálo hodně paměti, výpočetního výkonu, času a aby\n",
    "nehrozilo, že se při mnoha výpočtech akumulují zaokrouhlovací chyby. Zpravidla\n",
    "nám toto obstarají procedury pro řešení automaticky.\n"
   ]
  },
  {
   "cell_type": "code",
   "execution_count": null,
   "id": "39a84167",
   "metadata": {},
   "outputs": [],
   "source": [
    "# Měňte délku kroku a sledujte výstup (méně zdatní), nebo vykreslete do jednoho\n",
    "# obrázku průběh pro více kroků (zdatnější - stačí opakovat tři řádky s\n",
    "# jinou hodnotou N, s výpočtem řešení a vykreslením)\n",
    "\n",
    "# Nastavení parametrů\n",
    "k = 0.5\n",
    "tmin = 0\n",
    "tmax = 10\n",
    "T0 = 100\n",
    "T_inf = 20\n",
    "\n",
    "\n",
    "# Numerické řešení\n",
    "N = 10\n",
    "r = numericke_reseni(N=N, k=k, tmin=tmin, tmax=tmax, T0=T0, T_inf=T_inf)  # vyřešení modelu\n",
    "plt.plot(r.index,r[\"T\"], label=f\"{N} kroků\")     # vykreslení řešení\n",
    "\n",
    "# Analytické řešení\n",
    "t = np.linspace(tmin,tmax)\n",
    "plt.plot(t,T_inf + (T0-T_inf)*np.exp(-k*t), label=\"analyticky\")\n",
    "\n",
    "# Úpravy grafu\n",
    "ax = plt.gca()              # uložení souřadné soustavy do vlastní proměnné pro kosmetiku\n",
    "ax.set(                     # modifikace souřadné soustavy, kosmetické úpravy\n",
    "    xlabel=\"čas\",\n",
    "    ylabel=\"teplota\",\n",
    "    title=\"Ochlazování rychlostí úměrnou teplotnímu rozdílu\",\n",
    "    ylim=(0,None)\n",
    ")\n",
    "plt.legend(title=\"Výpočet\");\n"
   ]
  },
  {
   "attachments": {},
   "cell_type": "markdown",
   "id": "733c0011",
   "metadata": {},
   "source": [
    "## Simulace pro více počátečních podmínek\n",
    "\n",
    "Vyjdeme z předchozí simulace, ale novou simulaci spustíme v cyklu. Jeden průběh\n",
    "cyklu pro každou počáteční podmínku. Výstup budeme ukládat do nové tabulky a tu\n",
    "potom vykreslíme."
   ]
  },
  {
   "cell_type": "code",
   "execution_count": null,
   "id": "344dfb71",
   "metadata": {},
   "outputs": [],
   "source": [
    "# Tip: vygenerovaný obrázek nepotřebuje legendu ani změnu barev. Zkuste legendu\n",
    "# vypnout a zakreslit všechny křivky stejnou barvou. Například barvou C0\n",
    "# (základní barva pro první křivku obrázku).\n",
    "# https://pandas.pydata.org/docs/reference/api/pandas.DataFrame.plot.html\n",
    "# https://matplotlib.org/stable/api/_as_gen/matplotlib.pyplot.plot.html\n",
    "\n",
    "# Příprava proměnných\n",
    "T0_seznam = [100, 80, 60, 40] \n",
    "\n",
    "# Výpočet\n",
    "output = [numericke_reseni(T0=T0, N=100) for T0 in T0_seznam]\n",
    "\n",
    "df_data = [i[\"T\"] for i in output]\n",
    "\n",
    "df = pd.DataFrame(np.array(df_data).T , index=output[0].index, columns=T0_seznam)\n",
    "\n",
    "# Vykreslení tabulky    \n",
    "df.plot()\n",
    "\n",
    "# Kosmetika\n",
    "ax = plt.gca()\n",
    "ax.set(\n",
    "    xlabel=\"čas\",\n",
    "    ylabel=\"teplota\",\n",
    "    title=\"Ochlazování rychlostí úměrnou teplotnímu rozdílu\",\n",
    "    ylim=(0,None)\n",
    ")\n",
    "plt.legend(title=\"Počáteční podmínka\"); # nadpis pro legendu"
   ]
  },
  {
   "attachments": {},
   "cell_type": "markdown",
   "id": "31ea9627",
   "metadata": {},
   "source": [
    "### Úkol: simulace pro měnící se koeficient úměrnosti\n",
    "\n",
    "Udělejte simulaci s jednou počáteční podmínkou a měnící se hodnotu koeficientu $k$. Nakopírujte si sem předchozí buňku a modifikujte tak, aby byla počáteční podmínka pořád stejná a měnil se koeficient $k$. Musíte sestavit seznam hodnot pro proměnnou $k$, změnit cyklování a změnit jméno sloupce v tabulce tak, aby zachycovalo hodnotu $k$."
   ]
  },
  {
   "cell_type": "code",
   "execution_count": null,
   "id": "b9b24ca5",
   "metadata": {},
   "outputs": [],
   "source": [
    "# Jako výchozí sem nakopírujte obsah buňky, která kreslí řešení pro různé\n",
    "# počáteční podmínky. Tento kód modifikujte tak, aby počáteční podmínka byla\n",
    "# stále stejná, ale měnila se hodnota k."
   ]
  },
  {
   "attachments": {},
   "cell_type": "markdown",
   "id": "22359895",
   "metadata": {},
   "source": [
    "## Simulace pro model se zpožděním\n",
    "\n",
    "Uvedené simulace jsou naivní metodou řešení úlohy modelující pomocí derivací\n",
    "nějaký proces. Pro řešení modelů s derivacemi existují mnohem vyspělejší metody,\n",
    "které si představíme příště. V praxi se zpravidla spoléháme na tyto metody,\n",
    "které jsou naprogramované profesionály. \n",
    "\n",
    "Dovednost umět si implementovat jednoduchý řešič může sloužit pro orientační \n",
    "první nástřel výpočtu, nebo při potřebě řešení\n",
    "nějaké speciální úlohy. Jedním takovým speciálním postupem může být snaha\n",
    "započítat do rovnice ochlazování zpoždění. V  takovém případě rychlost změny\n",
    "není dána aktuálními hodnotami, ale hodnotami ve minulosti. To by mohlo odpovídat regulaci\n",
    "teploty, kdy se změna v nastavení neprojeví okamžitě. Všichni takovou situaci\n",
    "známe při nastavování teploty ve sprše.\n",
    "\n",
    "Model ochlazování se zpožděním $\\theta$ má tvar\n",
    "$$\\frac{\\mathrm dT}{\\mathrm dt} = - k (T(t-\\theta)-T_\\infty), \\quad T(0)=T_0$$\n",
    "a při numerickém řešení je jediný rozdíl v tom, že rychlost nestanovujeme podle\n",
    "teploty na předešlém řádku tabulky, ale používáme některý z předešlých řádků, v\n",
    "závislosti na velikosti zpoždění.\n"
   ]
  },
  {
   "cell_type": "code",
   "execution_count": null,
   "id": "243ea4cd",
   "metadata": {},
   "outputs": [],
   "source": [
    "def numericke_reseni_se_zpozdenim(  # !!! jiné jméno funkce\n",
    "    tmin = 0,\n",
    "    tmax = 10,\n",
    "    N = 10,\n",
    "    k = 0.5,\n",
    "    T0 = 100,\n",
    "    T_inf = 20,\n",
    "    zpozdeni = 0     # !!! další parametr\n",
    "):\n",
    "    \"\"\"\n",
    "    Stejná funkce jako numericke_reseni s dodatečným parametrem pro zpoždění.\n",
    "    Rozdíly jsou vyznačeny třemi vykřičníky.\n",
    "    \"\"\"\n",
    "    t = np.linspace(tmin,tmax,N) # časová osa pro simulaci\n",
    "    dt = t[1]-t[0]\n",
    "    zpozdeni_index = int(zpozdeni/dt) # !!! převod času na počet hodnot zpět\n",
    "\n",
    "    # Počáteční nastavení\n",
    "    T = np.zeros(N)  # pole pro ukládání teplot\n",
    "    T[0] = T0        # počáteční teplota\n",
    "\n",
    "    # Simulace po časových krocích\n",
    "    for i in range(1,N):\n",
    "        # Teplota nemusí být teplota v předchozím bodě, ale teplota dříve v\n",
    "        # historii. Musíme ošetřit, aby se index nedostal do záporných hodnot.\n",
    "        # (To nastane pro několik prvních hodnot.)\n",
    "        predchozi_index = max(i-1-zpozdeni_index ,0) # !!!\n",
    "        rozdil_teplot = T[predchozi_index] - T_inf   # !!!\n",
    "        rychlost_ochlazovani = k*rozdil_teplot\n",
    "        zmena_teploty = - dt*rychlost_ochlazovani\n",
    "        T[i] = T[i-1] + zmena_teploty\n",
    "\n",
    "    # Uložení do tabulky\n",
    "    df = pd.DataFrame(index.t)\n",
    "    df[\"T\"] = T\n",
    "\n",
    "    return df"
   ]
  },
  {
   "cell_type": "code",
   "execution_count": null,
   "id": "8123a5aa",
   "metadata": {},
   "outputs": [],
   "source": [
    "seznam_zpozdeni = [0,0.1,0.5,1,2]\n",
    "df3 = pd.DataFrame()\n",
    "\n",
    "for zpozdeni in seznam_zpozdeni:\n",
    "    reseni = numericke_reseni_se_zpozdenim(zpozdeni=zpozdeni,N=1000)\n",
    "    df3[zpozdeni] = reseni[\"T\"]\n",
    "df3[\"t\"] = reseni[\"t\"]\n",
    "\n",
    "df3"
   ]
  },
  {
   "cell_type": "code",
   "execution_count": null,
   "id": "224d2b54",
   "metadata": {},
   "outputs": [],
   "source": [
    "df3.plot(x=\"t\")\n",
    "plt.legend(title=\"Zpoždění\")\n",
    "plt.title(\"Rovnice ochlazování se zpožděním\")"
   ]
  },
  {
   "attachments": {},
   "cell_type": "markdown",
   "id": "65af21b5",
   "metadata": {},
   "source": [
    "**Úkol** Předchozí buňky vytvoří tabulku s daty a poté vykreslí graf. To dá přehled o\n",
    "tom, že opravdu vzniká tabulka tak jak má. Pokud chceme sledovat, jaký mají\n",
    "změny dalších parametrů vliv na graf, je lepší obě buňky spojit, aby se\n",
    "generování tabulky i grafu spouštělo současně. Vyzkoušete to. Například tak, že\n",
    "se nastavíte na horní buňku a stisknete Shift+M. (Pozor na to, bez shiftu byste\n",
    "buňku přepnuli na textovou.)"
   ]
  },
  {
   "cell_type": "code",
   "execution_count": null,
   "id": "5366957c",
   "metadata": {},
   "outputs": [],
   "source": []
  }
 ],
 "metadata": {
  "kernelspec": {
   "display_name": "jupyter",
   "language": "python",
   "name": "python3"
  },
  "language_info": {
   "codemirror_mode": {
    "name": "ipython",
    "version": 3
   },
   "file_extension": ".py",
   "mimetype": "text/x-python",
   "name": "python",
   "nbconvert_exporter": "python",
   "pygments_lexer": "ipython3",
   "version": "3.11.0"
  },
  "varInspector": {
   "cols": {
    "lenName": 16,
    "lenType": 16,
    "lenVar": 40
   },
   "kernels_config": {
    "python": {
     "delete_cmd_postfix": "",
     "delete_cmd_prefix": "del ",
     "library": "var_list.py",
     "varRefreshCmd": "print(var_dic_list())"
    },
    "r": {
     "delete_cmd_postfix": ") ",
     "delete_cmd_prefix": "rm(",
     "library": "var_list.r",
     "varRefreshCmd": "cat(var_dic_list()) "
    }
   },
   "types_to_exclude": [
    "module",
    "function",
    "builtin_function_or_method",
    "instance",
    "_Feature"
   ],
   "window_display": false
  },
  "vscode": {
   "interpreter": {
    "hash": "44789aa31bc08579881d996cd09876ea8af3ab09ee5b66b40aee952be8d87024"
   }
  }
 },
 "nbformat": 4,
 "nbformat_minor": 5
}
