{
 "cells": [
  {
   "cell_type": "markdown",
   "id": "0f2e5117",
   "metadata": {},
   "source": [
    "# Derivace a modely založené na derivaci"
   ]
  },
  {
   "cell_type": "code",
   "execution_count": null,
   "id": "df6dae0c",
   "metadata": {},
   "outputs": [],
   "source": [
    "import numpy as np\n",
    "import matplotlib.pyplot as plt\n",
    "import pandas as pd"
   ]
  },
  {
   "cell_type": "markdown",
   "id": "d9f9ca12",
   "metadata": {},
   "source": [
    "Příklad definice funkce s povinnými a nepovinnými parametry"
   ]
  },
  {
   "cell_type": "code",
   "execution_count": null,
   "id": "8c53888f",
   "metadata": {},
   "outputs": [],
   "source": [
    "def mocnina(zaklad,n=2):\n",
    "    vysledek = zaklad**n\n",
    "    return vysledek"
   ]
  },
  {
   "cell_type": "code",
   "execution_count": null,
   "id": "f025b5d2",
   "metadata": {},
   "outputs": [],
   "source": [
    "mocnina(5)"
   ]
  },
  {
   "cell_type": "code",
   "execution_count": null,
   "id": "4f83822f",
   "metadata": {},
   "outputs": [],
   "source": [
    "mocnina(5,n=4)"
   ]
  },
  {
   "cell_type": "code",
   "execution_count": null,
   "id": "2689c6f7",
   "metadata": {},
   "outputs": [],
   "source": [
    "mocnina()"
   ]
  },
  {
   "cell_type": "markdown",
   "id": "fa24a1ee",
   "metadata": {},
   "source": [
    "## Numerická simulace v rovnici ochlazování\n",
    "\n",
    "Studujeme úlohu $$\\frac{\\mathrm dT}{\\mathrm dt} = - k (T-T_\\infty), \\quad T(0)=T_0.$$ Pokusíme se odhadnout po malých krůčcích chování řešení. Uvnitř každého krůčku budeme rychlost považovat za konstantní a změnu teploty určíme jako součin rychlosti a času (délky časového intervalu)."
   ]
  },
  {
   "cell_type": "markdown",
   "id": "2b15aca2",
   "metadata": {},
   "source": [
    "### Srovnání přesného analytického řešení s numerickou simulací po krocích konečné délky."
   ]
  },
  {
   "cell_type": "code",
   "execution_count": null,
   "id": "14b9ae7b",
   "metadata": {},
   "outputs": [],
   "source": [
    "# Nastavení parametrů\n",
    "tmin = 0\n",
    "tmax = 10\n",
    "N = 10\n",
    "k = 0.5\n",
    "T0 = 100\n",
    "T_inf = 20\n",
    "\n",
    "# Pomocné proměnné\n",
    "t = np.linspace(tmin,tmax,N) # časová osa pro simulaci\n",
    "dt = t[1]-t[0]\n",
    "\n",
    "# Počáteční nastavení\n",
    "T = np.zeros(N)  # pole pro ukládání teplot\n",
    "T[0] = T0  # počáteční teplota\n",
    "\n",
    "# Simulace po časových krocích\n",
    "for i in range(1,N):\n",
    "    rozdil_teplot = T[i-1] - T_inf\n",
    "    rychlost_ochlazovani = k*rozdil_teplot\n",
    "    zmena_teploty = - dt*rychlost_ochlazovani\n",
    "    T[i] = T[i-1] + zmena_teploty\n",
    "\n",
    "# Uložení do tabulky\n",
    "df = pd.DataFrame()\n",
    "df[\"t\"] = t\n",
    "df[\"T\"] = T\n",
    "df\n"
   ]
  },
  {
   "cell_type": "code",
   "execution_count": null,
   "id": "d6781414",
   "metadata": {},
   "outputs": [],
   "source": [
    "# Analytické přesné řešení\n",
    "df[\"analyticky\"] = T_inf + (T0-T_inf)*np.exp(-k*t)   \n",
    "    \n",
    "# Vykreslení tabulky    \n",
    "df.plot(x=\"t\")\n",
    "plt.gca().set(\n",
    "    xlabel=\"čas\",\n",
    "    ylabel=\"teplota\",\n",
    "    title=\"Ochlazování rychlostí úměrnou teplotnímu rozdílu\",\n",
    "    ylim=(0,None)\n",
    ");\n"
   ]
  },
  {
   "cell_type": "markdown",
   "id": "e42e5907",
   "metadata": {},
   "source": [
    "**Úkol** Abychom mohli pohodlně řešit modely pro různé parametry, můžeme obsah buňky s cyklem `for` použít ve volání funkce."
   ]
  },
  {
   "cell_type": "code",
   "execution_count": null,
   "id": "9ce530c3",
   "metadata": {},
   "outputs": [],
   "source": [
    "def numericke_reseni(\n",
    "    tmin = 0,\n",
    "    tmax = 10,\n",
    "    N = 10,\n",
    "    k = 0.5,\n",
    "    T0 = 100,\n",
    "    T_inf = 20,\n",
    "):\n",
    "    \"\"\"\n",
    "    Naivní simulace Newtonova modelu ochlazování. Derivace je nahrazena\n",
    "    dopřednou diferencí.\n",
    "\n",
    "    Na vstupu funkce jsou volitelné parametry nastavující časový interval\n",
    "    pro simulaci, dělení intervalu udávající jemnost skoků, koeficient \n",
    "    úměrnosti, počáteční teplota a koncová teplota.\n",
    "\n",
    "    Výstupem je tabulka (pandas.DataFrame) se sloupci t a T pro čas a teplotu.\n",
    "    \"\"\"\n",
    "    t = np.linspace(tmin,tmax,N) # časová osa pro simlaci\n",
    "    dt = t[1]-t[0]\n",
    "\n",
    "    # Počáteční nastavení\n",
    "    T = np.zeros(N)  # pole pro ukládání teplot\n",
    "    T[0] = T0  # počáteční teplota\n",
    "\n",
    "    # Simulace po časových krocích\n",
    "    for i in range(1,N):\n",
    "        rozdil_teplot = T[i-1] - T_inf\n",
    "        rychlost_ochlazovani = k*rozdil_teplot\n",
    "        zmena_teploty = - dt*rychlost_ochlazovani\n",
    "        T[i] = T[i-1] + zmena_teploty\n",
    "\n",
    "    # Uložení do tabulky\n",
    "    df = pd.DataFrame()\n",
    "    df[\"t\"] = t\n",
    "    df[\"T\"] = T\n",
    "\n",
    "    return df\n",
    "\n",
    "numericke_reseni()\n"
   ]
  },
  {
   "cell_type": "markdown",
   "id": "78822da5",
   "metadata": {},
   "source": [
    "**Úkol** Experimentujte s počtem bodů $N$ a tím i s délkou kroku. Sledujte hladkost numerického řešení a jeho odchylku od přesného analytického řešení. \n",
    "\n",
    "V praxi musíme mít krok dostatečně malý, aby řešení bylo hladké a přesné, ale ne moc malý, aby nás to nestálo hodně paměti, výpočetního výkonu, času a aby nehrozilo, že se při mnoha výpočtech akumulují zaokrouhlovací chyby. Zpravidla nám toto obstarají procedury pro řešení automaticky."
   ]
  },
  {
   "cell_type": "markdown",
   "id": "733c0011",
   "metadata": {},
   "source": [
    "### Simulace pro více počátečních podmínek\n",
    "\n",
    "Vyjdeme z předchozí simulace, ale novou simulaci spustíme v cyklu. Jeden průběh cyklu pro každou počáteční podmínku."
   ]
  },
  {
   "cell_type": "code",
   "execution_count": null,
   "id": "344dfb71",
   "metadata": {},
   "outputs": [],
   "source": [
    "\n",
    "T0_seznam = [100, 80, 60, 40] \n",
    "\n",
    "df = pd.DataFrame()\n",
    "\n",
    "for T0 in T0_seznam:\n",
    "    reseni = numericke_reseni(T0=T0, N=100)\n",
    "    df[T0] = reseni[\"T\"]\n",
    "df[\"t\"] = reseni[\"t\"]\n",
    "\n",
    "print(df.head())    \n",
    "\n",
    "\n",
    "# Vykreslení tabulky    \n",
    "df.plot(x=\"t\")\n",
    "plt.gca().set(\n",
    "    xlabel=\"čas\",\n",
    "    ylabel=\"teplota\",\n",
    "    title=\"Ochlazování rychlostí úměrnou teplotnímu rozdílu\",\n",
    "    ylim=(0,None)\n",
    ")\n",
    "plt.legend(title=\"Počáteční podmínka\"); # !!! nadpis pro legendu"
   ]
  },
  {
   "cell_type": "markdown",
   "id": "31ea9627",
   "metadata": {},
   "source": [
    "#### Úkol - simulace pro měnící se koeficient úměrnosti\n",
    "\n",
    "Udělejte simulaci s jednou počáteční podmínkou a měnící se hodnotu koeficientu $k$. Nakopírujte si sem předchozí buňku a modifikujte tak, aby byla počáteční podmínka pořád stejná a měnil se koeficient $k$. Musíte sestavit seznam hodnot pro proměnnou $k$, změnit cyklování a změnit jméno sloupce v tabulce tak, aby zachycovalo hodnotu $k$."
   ]
  },
  {
   "cell_type": "code",
   "execution_count": null,
   "id": "b9b24ca5",
   "metadata": {},
   "outputs": [],
   "source": []
  },
  {
   "cell_type": "markdown",
   "id": "22359895",
   "metadata": {},
   "source": [
    "### Simulace pro model se zpožděním\n",
    "\n",
    "Uvedené simulace jsou naivní metodou řešení úlohy modelující pomocí derivací nějaký proces. Pro řešení modelů s derivacemi existují mnohem vyspělejší metody, které si představíme příště. V praxi se zpravidla spoléháme na tyto naprogramované profesionály. Dovednost umět si implementovat jednoduchý řešič může sloužit pro orientační první nástřel výpočtu, nebo při potřebě řešení nějaké speciální úlohy. Jedním takovým speciálním postupem může být snaha započítat do rovnice ochlazování zpoždění. To by mohlo odpovídat regulaci teploty, kdy se změna v nastavení neprojeví okamžitě. Všichni takovou situaci známe při nastavování teploty ve sprše."
   ]
  },
  {
   "cell_type": "code",
   "execution_count": null,
   "id": "243ea4cd",
   "metadata": {},
   "outputs": [],
   "source": [
    "def numericke_reseni_se_zpozdenim(\n",
    "    tmin = 0,\n",
    "    tmax = 10,\n",
    "    N = 10,\n",
    "    k = 0.5,\n",
    "    T0 = 100,\n",
    "    T_inf = 20,\n",
    "    zpozdeni = 0\n",
    "):\n",
    "    t = np.linspace(tmin,tmax,N) # časová osa pro simlaci\n",
    "    dt = t[1]-t[0]\n",
    "    zpozdeni_index = int(zpozdeni/dt)\n",
    "\n",
    "    # Počáteční nastavení\n",
    "    T = np.zeros(N)  # pole pro ukládání teplot\n",
    "    T[0] = T0  # počáteční teplota\n",
    "\n",
    "    # Simulace po časových krocích\n",
    "    for i in range(1,N):\n",
    "        predchozi_index = max(i-1-zpozdeni_index ,0)\n",
    "        rozdil_teplot = T[predchozi_index] - T_inf\n",
    "        rychlost_ochlazovani = k*rozdil_teplot\n",
    "        zmena_teploty = - dt*rychlost_ochlazovani\n",
    "        T[i] = T[i-1] + zmena_teploty\n",
    "\n",
    "    # Uložení do tabulky\n",
    "    df = pd.DataFrame()\n",
    "    df[\"t\"] = t\n",
    "    df[\"T\"] = T\n",
    "\n",
    "    return df"
   ]
  },
  {
   "cell_type": "code",
   "execution_count": null,
   "id": "8123a5aa",
   "metadata": {},
   "outputs": [],
   "source": [
    "seznam_zpozdeni = [0,0.1,0.5,1,2]\n",
    "df = pd.DataFrame()\n",
    "for zpozdeni in seznam_zpozdeni:\n",
    "    reseni = numericke_reseni_se_zpozdenim(zpozdeni=zpozdeni,N=1000)\n",
    "    df[zpozdeni] = reseni[\"T\"]\n",
    "df[\"t\"] = reseni[\"t\"]\n",
    "df"
   ]
  },
  {
   "cell_type": "code",
   "execution_count": null,
   "id": "224d2b54",
   "metadata": {},
   "outputs": [],
   "source": [
    "df.plot(x=\"t\")"
   ]
  },
  {
   "cell_type": "code",
   "execution_count": null,
   "id": "5366957c",
   "metadata": {},
   "outputs": [],
   "source": []
  }
 ],
 "metadata": {
  "kernelspec": {
   "display_name": "Python 3.8.10 64-bit",
   "language": "python",
   "name": "python3"
  },
  "language_info": {
   "codemirror_mode": {
    "name": "ipython",
    "version": 3
   },
   "file_extension": ".py",
   "mimetype": "text/x-python",
   "name": "python",
   "nbconvert_exporter": "python",
   "pygments_lexer": "ipython3",
   "version": "3.8.10"
  },
  "varInspector": {
   "cols": {
    "lenName": 16,
    "lenType": 16,
    "lenVar": 40
   },
   "kernels_config": {
    "python": {
     "delete_cmd_postfix": "",
     "delete_cmd_prefix": "del ",
     "library": "var_list.py",
     "varRefreshCmd": "print(var_dic_list())"
    },
    "r": {
     "delete_cmd_postfix": ") ",
     "delete_cmd_prefix": "rm(",
     "library": "var_list.r",
     "varRefreshCmd": "cat(var_dic_list()) "
    }
   },
   "types_to_exclude": [
    "module",
    "function",
    "builtin_function_or_method",
    "instance",
    "_Feature"
   ],
   "window_display": false
  },
  "vscode": {
   "interpreter": {
    "hash": "916dbcbb3f70747c44a77c7bcd40155683ae19c65e1c03b4aa3499c5328201f1"
   }
  }
 },
 "nbformat": 4,
 "nbformat_minor": 5
}
