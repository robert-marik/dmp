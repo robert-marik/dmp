{
 "cells": [
  {
   "cell_type": "markdown",
   "id": "0f2e5117",
   "metadata": {},
   "source": [
    "# Levinsův model metapopulací\n",
    "\n",
    "Americký ekolog [Richard Levins](https://en.wikipedia.org/wiki/Richard_Levins) představil v roce 1969 model metapopulací. Jedná se o populace žijící ve fragmentovaném prostředí, které je možno studovat jako systém oddělených populací, které spolu komunikují díky možnosti migrace. Nejčastěji dochází k fragmentaci vlivem činnosti člověka. V hustě osídlených oblastech, jako je například Evropa, je fragmentace důležitým aspektem, ovlivňujícím vývoj životního prostředí. Proto je vhodné podrobně rozumět jeho souvislostem a uvědomovat si důsledky fragmentace i to, jak činnost člověka vývoj metapopulací ovlivňuje. \n"
   ]
  },
  {
   "cell_type": "markdown",
   "id": "7a4d63ca",
   "metadata": {},
   "source": [
    "## Populace ve fragmentovaném prostředí\n",
    "\n",
    "Uvažujme populaci žijící ve fragmentovaném prostředí.\n",
    "Tuto fragmentaci si můžeme představit jako systém ostrůvků, ve kterých\n",
    "se populace nachází. Tyto ostrůvky (fragmenty) jsou zřetelně odděleny.\n",
    "(Například louky nebo lesní palouky.) \n",
    "\n",
    "Některé z těchto podlokalit mohou být nevhodné pro trvalé osídlení a\n",
    "populace na nich může přežívat jen díky přistěhovalcům. \n",
    "\n",
    "Na některých podlokalitách zase může vlivem náhodných jevů populace\n",
    "zcela vymřít a za několik let se zde může znovu objevit, díky\n",
    "přenesení několika jedinců z jiné podlokality, kteří se zde rozmnoží.\n",
    "\n",
    "Předpokládejme, že míra migrace je tak malá, že není možné posuzovat\n",
    "populaci jako jedinou populaci, která se řídí logistickou nebo jinou\n",
    "obdobnou rovnicí.  Taková síť místních malých populací, které jsou\n",
    "propojeny občasnými náhodnými migracemi, se nazývá\n",
    "*metapopulace*.\n"
   ]
  },
  {
   "attachments": {},
   "cell_type": "markdown",
   "id": "4df0dd5c",
   "metadata": {},
   "source": [
    "## Matematický model\n",
    "\n",
    "Budeme sledovat, jaká část podlokalit (fragmentů) bude danou\n",
    "populací obsazena. \n",
    "\n",
    "Označme $n(t)$ počet fragmentů, které jsou v čase $t$ obsazeny\n",
    "sledovanou populací, $N$ celkový počet fragmentů, $d(n)$ rychlost\n",
    "vymírání lokálních populací, tj. počet lokálních populací které\n",
    "vyhynou za jednotku času v případě, že je obsazeno právě $n$ fragmentů\n",
    "a konečně označme $b(n)$ rychlost kolonizace nových fragmentů,\n",
    "tj. počet fragmentů prostředí, které jsou za jednotku času nově\n",
    "kolonizovány za předpokladu, že populace je rozdělena do $n$ fragmentů\n",
    "životního prostředí.\n",
    "\n",
    "Relativní četnost obsazených fragmentů v čase $t$ označme $x(t)$,\n",
    "platí tedy $x(t)=\\frac{n(t)}N$. Tato četnost se bude\n",
    "(podle předpokladů) řídit diferenciální rovnicí\n",
    "$$\n",
    "  \\frac{\\mathrm dx}{\\mathrm dt}=\\frac{1}N\\frac{\\mathrm dn}{\\mathrm dt}=\\frac{b(n)-d(n)}{N}.\n",
    "$$\n",
    "\n",
    "Funkce $b$ a $d$ musí splňovat přirozené podmínky $b(0)=b(N)=0$,\n",
    "$b(n)\\geq 0$ pro $n\\geq 0$, $d(0)=0$, $d(n)\\geq 0$.  Tyto podmínky\n",
    "vyjadřují, že pokud všechny fragmenty jsou prázdné nebo obsazené,\n",
    "nemůže dojít ke kolonizaci, protože buď nejsou žádní potenciální\n",
    "kolonizátoři, nebo není co kolonizovat a pokud není žádný fragment\n",
    "kolonizován, žádná populace nevymírá. Jednoduché funkce, splňující\n",
    "tyto podmínky, jsou\n",
    "$$\n",
    "  b(n)=an(N-n), \\quad d(n)=\\nu n.\n",
    "$$\n",
    "Po dosazení do\n",
    "rovnice \n",
    "$$\n",
    "\\frac{\\mathrm dx}{\\mathrm dt}=\\frac {an(N-n)-\\nu n}{N}\n",
    "=aNx(1-x)-\\nu x\n",
    "$$\n",
    "a po zavedení konstanty $\\mu=aN$,\n",
    "obdržíme matematický model\n",
    "$$\n",
    "\\frac{\\mathrm dx}{\\mathrm dt}=\\mu x(1-x)-\\nu x.\n",
    "$$\n",
    "Jediné realistické hodnoty veličiny $x$ jsou z intervalu $[0,1]$. Veličina $x$ navíc již je v bezrozměrných jednotkách."
   ]
  },
  {
   "cell_type": "markdown",
   "id": "b2cb83bc",
   "metadata": {},
   "source": [
    "## Důsledky modelu\n",
    "\n",
    "Často citované závěry z modelu jsou následující (viz {cite}`kalas`).\n",
    "\n",
    "* I když na jednotlivých fragmentech\n",
    "  životního prostředí může populace vymizet, díky občasné migraci může\n",
    "  populace jako celek trvale přežívat. \n",
    "* Za podmínek vhodných k přežívání populace se poměr obsazených a\n",
    "  neobsazených fragmentů životního prostředí ustálí na jisté\n",
    "  konstantní hodnotě, dané stabilním stacionárním stavem. Z tohoto\n",
    "  důvodu snížení počtu neobsazených fragmentů vede ve svém důsledku\n",
    "  k odpovídajícímu snížení počtu fragmentů obsazených. Proto pro zachování optimálních podmínek pro vývoj populace je nutno\n",
    "  chránit nejen fragmenty obsazené, ale i neobsazené, které slouží\n",
    "  jako jistá záloha. Do nich se může populace přenést při vyhynutí na\n",
    "  jiných fragmentech. Zničení volných fragmentů vede k tomu, že tyto\n",
    "  zálohy nejsou k dispozici a v případě vyhynutí populace na některém\n",
    "  z fragmentů se život nemá kam přenést a opět se nastolí rovnovážný\n",
    "  poměr mezi počtem fragmentů obsazených a neobsazených. Přitom\n",
    "  zničením fragmentu v tomto smyslu rozumíme jakékoliv zabránění\n",
    "  populaci, aby se díky migraci mohla na tento fragment přesunout.\n",
    "  Nemusí se tedy jednat pouze o fyzickou destrukci dané lokality, ale\n",
    "  i například o uzavření přirozeného koridoru, který\n",
    "  migraci umožňuje a kterým může být daná lokalita kolonizována.\n",
    "* Ve fragmentovaném prostředí podle výše uvedeného modelu\n",
    "  zůstávají vždy nějaké neobsazené lokality. To může být výhodou pro\n",
    "  jiné, konkurenčně slabší biologické druhy, které nemůžou s naším\n",
    "  uvažovaným druhem koexistovat, protože při vzájemné koexistenci\n",
    "  podlehnou konkurenčnímu boji a vyhynou (viz některé modely dále). \n",
    "  Vzhledem k tomu, že některé fragmenty jsou neobsazeny, stačí, aby\n",
    "  konkurenčně slabší druh byl schopný rychlejší migrace než\n",
    "  konkurenčně silnější druh, a může dojít k tomu, že oba druhy budou\n",
    "  koexistovat (nikoliv však na téže lokalitě). \n",
    "\n"
   ]
  },
  {
   "cell_type": "markdown",
   "id": "92736838",
   "metadata": {},
   "source": [
    "\n",
    "Levinsovu modelu je často vyčítáno přílišné zjednodušení (nerozlišování lokálních populací, konstantní parametry extinkce a kolonizace, ignorování prostorového rozložení fragmentů a jiné). Argumenty pro přijetí tohoto modelu však tyto námitky zpravidla vyvrací. Od poukázání na fakt, že kvůli zjednodušením modely vlastně děláme, až po sofistikovaný rozbor toho, že se model dá snadno při mírně modifikované interpretaci proměnných použít i v mnohem obecnějším pojetí. Viz například {cite}`etienne`. \n",
    "\n",
    "Klasickými příklady metapopulací jsou (podle {cite}`tkadlec`) lesní hmyz žijící na kmenech padlých stromů a hmyz obecně, dafnie ve skalních jezírkách, skokani v rybnících, brhlíci v remízcích obklopených zemědělskou krajinou. "
   ]
  },
  {
   "attachments": {},
   "cell_type": "markdown",
   "id": "74a684ef",
   "metadata": {},
   "source": [
    "## Možné úkoly\n",
    "\n",
    "1. Prozkoumejte dynamiku modelu. Nakreslete řešení pro různé hodnoty parametrů. Snažte se počet parametrů zredukovat zavedením bezrozměrného času (velikost populace již bezrozměrná je).\n",
    "2. Pro stejné hodnoty bezrozměrného parametru získaného v předchozím případě máme stejné chování (konvergenci do stejného stavu), ale liší se rychlost konvergence k tomuto stavu. Nakreslete pro rovnici $$ \\frac{\\mathrm dx}{\\mathrm dt}=\\mu x(1-x)-\\nu x $$ vývoj řešení v čase pro různé kombinace parametrů. Volte hodnoty tak, aby byla patrná konvergence do stejného stavu, ale jiná rychlost této konvergence.\n",
    "3. Jedno navrhované zobecnění Levinsova modelu je v {cite}`kalas` ve tvaru $$ \\frac{\\mathrm dx}{\\mathrm dt}=\\mu x^\\alpha(1-x)^\\beta-\\nu x^\\gamma. $$ Prozkoumejte tento model z hlediska závislosti na parametrech. Jeden z efektů zavedení parametrů $\\alpha$ a $\\gamma$ je jiné chování v okolí nuly v závislosti na vzájemné velikosti těchto parametrů. Pokuste se zjistit jak se liší chování pro $\\alpha>\\gamma$ a $\\alpha< \\gamma$ prozkoumáním růstových křivek. Potvrďte si hypotézu prozkoumáním řešení modelu při uvedeném nastavení parametrů.\n",
    "1. Další navrhované zobecnění je v {cite}`tkadlec` str. 345 ve tvaru $$\\frac{\\mathrm dx}{\\mathrm dt}=\\mu x(1-x)-\\nu_0e^{-mx}x.$$ Porovnejte\n",
    "   chování tohoto modelu a modelu původního, který je zde obsažen pro volbu $m=0$.\n",
    "1. Další možné modifikace Levinsova modelu jsou popsány na webu [EcoVirtual](http://ecovirtual.ib.usp.br/doku.php?id=en:ecovirt:roteiro:metap_uma:roteiros)"
   ]
  },
  {
   "cell_type": "markdown",
   "id": "4417f273",
   "metadata": {},
   "source": []
  }
 ],
 "metadata": {
  "kernelspec": {
   "display_name": "Python 3.8.10 64-bit",
   "language": "python",
   "name": "python3"
  },
  "language_info": {
   "codemirror_mode": {
    "name": "ipython",
    "version": 3
   },
   "file_extension": ".py",
   "mimetype": "text/x-python",
   "name": "python",
   "nbconvert_exporter": "python",
   "pygments_lexer": "ipython3",
   "version": "3.8.10"
  },
  "varInspector": {
   "cols": {
    "lenName": 16,
    "lenType": 16,
    "lenVar": 40
   },
   "kernels_config": {
    "python": {
     "delete_cmd_postfix": "",
     "delete_cmd_prefix": "del ",
     "library": "var_list.py",
     "varRefreshCmd": "print(var_dic_list())"
    },
    "r": {
     "delete_cmd_postfix": ") ",
     "delete_cmd_prefix": "rm(",
     "library": "var_list.r",
     "varRefreshCmd": "cat(var_dic_list()) "
    }
   },
   "types_to_exclude": [
    "module",
    "function",
    "builtin_function_or_method",
    "instance",
    "_Feature"
   ],
   "window_display": false
  },
  "vscode": {
   "interpreter": {
    "hash": "916dbcbb3f70747c44a77c7bcd40155683ae19c65e1c03b4aa3499c5328201f1"
   }
  }
 },
 "nbformat": 4,
 "nbformat_minor": 5
}
