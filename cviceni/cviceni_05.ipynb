{
 "cells": [
  {
   "attachments": {},
   "cell_type": "markdown",
   "id": "0f2e5117",
   "metadata": {},
   "source": [
    "# Diferenciální rovnice 3"
   ]
  },
  {
   "cell_type": "code",
   "execution_count": null,
   "id": "dc65f988",
   "metadata": {
    "ExecuteTime": {
     "end_time": "2023-02-09T06:39:20.500698Z",
     "start_time": "2023-02-09T06:39:19.359095Z"
    }
   },
   "outputs": [],
   "source": [
    "import numpy as np\n",
    "import matplotlib.pyplot as plt\n",
    "import pandas as pd\n",
    "from scipy.integrate import solve_ivp"
   ]
  },
  {
   "attachments": {},
   "cell_type": "markdown",
   "id": "69a5419d",
   "metadata": {},
   "source": [
    "## Lov v logistické rovnici\n",
    "\n",
    "\n"
   ]
  },
  {
   "attachments": {},
   "cell_type": "markdown",
   "id": "acb4459c",
   "metadata": {},
   "source": [
    "### Konstantní užitek\n",
    "\n",
    "V logistické rovnici nakreslíme pro tři různé intenzity lovu průběh řešení. Prorovnejte následující kód s kódem pro kreslení řešení jedné sady pro jednu intenzitu lovu."
   ]
  },
  {
   "attachments": {},
   "cell_type": "markdown",
   "id": "df83ddf3",
   "metadata": {},
   "source": [
    "Zpravidla netriviální kód nenapíšeme napoprvé, ale musíme příkazy ladit. V následujícím jsou rozděleny fáze řešení rovnice a vykreslení řešení. Pro potřeby spouštění je po odladění vhodné buňky sloučit. \n",
    "\n",
    "* Zkuste si v následující buňce rozdělit kód do dvou různých buněk. Tedy přepnete se do editace, najdete vhodný řádek a v menu vyberete \"Edit\" a \"Split Cell\". \n",
    "* Poté zkuste buňky co se mají spouštět společně spojit. V příkazovém modu buňky označte (například shift + šipka nahoru nebo dolů) a stisknout velké M, tj. Shift + M. Pozor, pokud byste stiskli malé \"m\", buňka by se změnila na Markdown buňku s textem. Zpět na buňku s kódem je klávesa \"y\"."
   ]
  },
  {
   "cell_type": "code",
   "execution_count": null,
   "id": "32934dba",
   "metadata": {
    "ExecuteTime": {
     "end_time": "2023-02-09T07:09:01.206656Z",
     "start_time": "2023-02-09T07:09:00.854651Z"
    }
   },
   "outputs": [],
   "source": [
    "pocatecni_podminka = np.linspace(0.1,1.2,50)\n",
    "meze = [0,10]\n",
    "t = np.linspace(*meze,100)\n",
    "\n",
    "def destrukce_populace(t,x):  # Pokud x klesne na nulu, zastavíme výpočet\n",
    "    return x\n",
    "destrukce_populace.terminal = True\n",
    "\n",
    "def rovnice(t, x, r=1, K=1, h=0.15):\n",
    "    return r*x*(1-x/K)-h\n",
    "\n",
    "lovy = [0.1,0.2,0.3]\n",
    "# Pro různé počáteční podmínky se bude lišit interval, \n",
    "# na kterém algoritmus najde řešení. Proto nemůžeme data\n",
    "# shrnout do jedné tabulky. Alternativou je tabulka s \n",
    "# nedefinovanými hodnotami, viz\n",
    "# https://robert-marik.github.io/dmp/snippety/tabulky_none.html\n",
    "# a https://robert-marik.github.io/dmp/snippety/multiindex.html\n",
    "reseni = [\n",
    "        [ solve_ivp(\n",
    "                   lambda t,x:rovnice(t,x,h=h),\n",
    "                   meze,\n",
    "                   [pp],\n",
    "                   t_eval=t,\n",
    "                   events=destrukce_populace,  # zastavení výpočtu při poklesu populace na nulu\n",
    "                   )\n",
    "          for pp in pocatecni_podminka]\n",
    "        for h in lovy]\n",
    "\n",
    "# GRAFICKA PREZENTACE VYSLEDKU\n",
    "fig,ax = plt.subplots()\n",
    "for i,r in enumerate(reseni):\n",
    "    for res in r:\n",
    "        ax.plot(res.t,res.y[0], color=f\"C{i}\", alpha=0.5, label=f\"lov {lovy[i]}\", lw=0.5)\n",
    "ax.set(\n",
    "  title=\"Logistická rovnice s konstantním lovem\",\n",
    "  xlabel=\"bezrozměrný čas\",\n",
    "  ylabel=\"bezrozměrná velikost populace\"\n",
    "  );\n",
    "\n",
    "# Návod jak seskupit položky legendy je na https://stackoverflow.com/questions/26337493/pyplot-combine-multiple-line-labels-in-legend\n",
    "handles, labels = ax.get_legend_handles_labels()\n",
    "labels, ids = np.unique(labels, return_index=True)\n",
    "handles = [handles[i] for i in ids]\n",
    "plt.legend(handles, labels);"
   ]
  },
  {
   "cell_type": "code",
   "execution_count": null,
   "id": "b8b77401",
   "metadata": {},
   "outputs": [],
   "source": [
    "fig,ax = plt.subplots()\n",
    "x = np.linspace(0,1)\n",
    "plt.plot(x,rovnice(0, x,h=0),label=\"růst bez lovu\",color='r')\n",
    "for h in lovy: \n",
    "    plt.plot(x,h+0*x,label=f\"lov {h}\")\n",
    "ax.set(\n",
    "    xlabel=\"velikost populace\",\n",
    "    ylabel=\"rychlost růstu a lovu\",\n",
    "    title=\"Srovnání dynamiky růstu a lovu\"\n",
    ")    \n",
    "plt.legend()    "
   ]
  },
  {
   "attachments": {},
   "cell_type": "markdown",
   "id": "6782c381",
   "metadata": {},
   "source": [
    "### Konstantní úsilí\n",
    "\n",
    "Modifikujte předchozí kód s vykreslením časového vývoje populace vystavené lovu.\n",
    "Lov konstantní intenzitou nahraďte lovem s konstantním úsilím. Zkuste nejprve minimální úprava kódu.\n",
    "Bez ohledu na efektivitu, vyjděte z předchozího a snažte se co nejméně\n",
    "modifikovat výchozí kód. Poté si prostudujte elegantnější přístup využívající\n",
    "toho, že žádné řešení neskončí v konečném čase."
   ]
  },
  {
   "cell_type": "code",
   "execution_count": null,
   "id": "f7c5b5ba",
   "metadata": {
    "ExecuteTime": {
     "end_time": "2023-02-09T07:53:12.533558Z",
     "start_time": "2023-02-09T07:53:12.530479Z"
    }
   },
   "outputs": [],
   "source": [
    "# sem napiste reseni"
   ]
  },
  {
   "attachments": {},
   "cell_type": "markdown",
   "id": "931e9d69",
   "metadata": {},
   "source": [
    "U konstantního úsilí není problém s tím, že by některá řešení končila dříve. Proto může být programový kód kratší a čistý. Například nemusíme pracovat s vnořenými cykly a můžeme příkazu `solve_ivp` poslat současně všechny počáteční podmínky. Pokusme se o to."
   ]
  },
  {
   "cell_type": "code",
   "execution_count": null,
   "id": "84e3bcf6",
   "metadata": {
    "ExecuteTime": {
     "end_time": "2023-02-09T07:53:29.989676Z",
     "start_time": "2023-02-09T07:53:29.391842Z"
    }
   },
   "outputs": [],
   "source": [
    "pocatecni_podminka = np.linspace(0.1,1.2,51).round(3)\n",
    "meze = [0,10]\n",
    "t = np.linspace(*meze,100)\n",
    "\n",
    "def rovnice(t, x, r=1, K=1, h=0.15):\n",
    "    return r*x*(1-x/K)-h*x\n",
    "\n",
    "lovy = [0.1,0.3,0.6]\n",
    "\n",
    "### Definice tabulky s víceúrovňovými nadpisy sloupců, MultiIndex\n",
    "### https://pandas.pydata.org/docs/user_guide/advanced.html\n",
    "iterables = [lovy,pocatecni_podminka]\n",
    "my_index = pd.MultiIndex.from_product(iterables, names=['lov', 'poč.podm.'])\n",
    "df = pd.DataFrame(columns=my_index)\n",
    "df[\"čas\"] = t\n",
    "for h in lovy:\n",
    "    r = solve_ivp(\n",
    "              lambda t,x:rovnice(t,x,h=h),\n",
    "              meze,\n",
    "              pocatecni_podminka,\n",
    "              t_eval=t,\n",
    "              ).y.T\n",
    "    df[[(h,i) for i in pocatecni_podminka]]=pd.DataFrame(r)\n",
    "\n",
    "df.set_index(\"čas\", inplace=True)\n",
    "df.T"
   ]
  },
  {
   "cell_type": "code",
   "execution_count": null,
   "id": "56bdd0d0",
   "metadata": {},
   "outputs": [],
   "source": [
    "fig,ax = plt.subplots()\n",
    "for i in range(len(lovy)): # tři čáry mimo obrázek kvůli legendě\n",
    "    ax.plot([0,1],[-1,-1],label=f\"none\")\n",
    "for i,h in enumerate(lovy):\n",
    "    ax.plot(df.index,df[h], color=f\"C{i}\", alpha=0.5)\n",
    "ax.set(\n",
    "  title=\"Logistická rovnice s lovem s konstantním úsilím\",\n",
    "  xlabel=\"bezrozměrný čas\",\n",
    "  ylabel=\"bezrozměrná velikost populace\",\n",
    "  ylim=[0,None]\n",
    "  )\n",
    "\n",
    "plt.legend([f\"lov {lov}\" for lov in lovy]);"
   ]
  },
  {
   "cell_type": "code",
   "execution_count": null,
   "id": "43bbfa0d",
   "metadata": {},
   "outputs": [],
   "source": [
    "fig,ax = plt.subplots()\n",
    "x = np.linspace(0,1)\n",
    "plt.plot(x,rovnice(0, x,h=0),label=\"růst bez lovu\")\n",
    "for a in lovy: \n",
    "    plt.plot(x,a*x,label=f\"lov {a}\")\n",
    "ax.set(\n",
    "    xlabel=\"velikost populace\",\n",
    "    ylabel=\"rychlost růstu a lovu\",\n",
    "    title=\"Srovnání dynamiky růstu a lovu\",\n",
    "    ylim=(0,0.3)\n",
    ")    \n",
    "plt.legend() "
   ]
  },
  {
   "attachments": {},
   "cell_type": "markdown",
   "id": "9c78dadc",
   "metadata": {},
   "source": [
    "## Alleeho efekt\n",
    "\n",
    "Nakreslete model řešení rovnice modelující lov konstantním úsilím v populaci s\n",
    "Alleeho efektem. Můžete uvažovat slabý Aleeho efekt (pro malé velikosti\n",
    "populace se dynamika růstu výrazně zpomalí) nebo silný Aleeho efekt  (pro malé\n",
    "velikosti populace vymírá). Můžete použít například rovnici\n",
    "$$\\frac{\\mathrm dx}{\\mathrm dt} = rx ^k\\left(1-\\frac xK\\right) -ax, \\quad k>1$$ \n",
    "pro slabý nebo \n",
    "$$\\frac{\\mathrm dx}{\\mathrm dt} = rx \\left(1-\\frac xK\\right)\\left(\\frac\n",
    "xA-1\\right) -ax, \\quad 0<A<K$$ \n",
    "pro silný Alleeho efekt. Nejprve si nakreslete křivky růstu a lovu, pro\n",
    "vytipování vhodných numerických hodnot pro parametry a poté nakreslete řešení\n",
    "diferenciální rovnice pro různé intenzity lovu a různé počáteční podmínky. "
   ]
  },
  {
   "cell_type": "code",
   "execution_count": null,
   "id": "e68aa2ec",
   "metadata": {},
   "outputs": [],
   "source": [
    "# sem napiste kod pro vykreslení krivek rustu a lovu"
   ]
  },
  {
   "cell_type": "code",
   "execution_count": null,
   "id": "e53a2a25",
   "metadata": {},
   "outputs": [],
   "source": [
    "# sem napiste kod pro vykreslení reseni diferenciální rovnice"
   ]
  },
  {
   "attachments": {},
   "cell_type": "markdown",
   "id": "2653dbab",
   "metadata": {},
   "source": [
    "## Populace pod predačním tlakem\n",
    "\n",
    "Vykreslete model pro populaci pro predačním tlakem <https://robert-marik.github.io/dmp/prednaska/05.html#populace-pod-predacnim-tlakem>. Použijte bezrozměnrou formulaci, tj. rovnici  $$\\frac{ \\mathrm dx}{ \\mathrm d\\tau}=\\alpha\\left(1-\\frac {x}{\\beta}\\right)x-\\frac\n",
    "   {x^2}{x^2+1}.$$\n",
    "Tři dvojice hodnot pro $\\alpha$ a $\\beta$ můžete použít z <https://robert-marik.github.io/dmp/prednaska/05.html#rustove-krivky>."
   ]
  },
  {
   "cell_type": "code",
   "execution_count": null,
   "id": "4210ac46",
   "metadata": {},
   "outputs": [],
   "source": [
    "# sem napiste reseni"
   ]
  }
 ],
 "metadata": {
  "kernelspec": {
   "display_name": "Python 3 (ipykernel)",
   "language": "python",
   "name": "python3"
  },
  "language_info": {
   "codemirror_mode": {
    "name": "ipython",
    "version": 3
   },
   "file_extension": ".py",
   "mimetype": "text/x-python",
   "name": "python",
   "nbconvert_exporter": "python",
   "pygments_lexer": "ipython3",
   "version": "3.10.10"
  },
  "varInspector": {
   "cols": {
    "lenName": 16,
    "lenType": 16,
    "lenVar": 40
   },
   "kernels_config": {
    "python": {
     "delete_cmd_postfix": "",
     "delete_cmd_prefix": "del ",
     "library": "var_list.py",
     "varRefreshCmd": "print(var_dic_list())"
    },
    "r": {
     "delete_cmd_postfix": ") ",
     "delete_cmd_prefix": "rm(",
     "library": "var_list.r",
     "varRefreshCmd": "cat(var_dic_list()) "
    }
   },
   "types_to_exclude": [
    "module",
    "function",
    "builtin_function_or_method",
    "instance",
    "_Feature"
   ],
   "window_display": false
  },
  "vscode": {
   "interpreter": {
    "hash": "44789aa31bc08579881d996cd09876ea8af3ab09ee5b66b40aee952be8d87024"
   }
  }
 },
 "nbformat": 4,
 "nbformat_minor": 5
}
