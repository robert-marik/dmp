{
 "cells": [
  {
   "cell_type": "markdown",
   "id": "550a1208",
   "metadata": {},
   "source": [
    "# Maticové modely"
   ]
  },
  {
   "cell_type": "code",
   "execution_count": null,
   "id": "ee43b4f4",
   "metadata": {
    "ExecuteTime": {
     "end_time": "2022-12-13T12:21:07.557169Z",
     "start_time": "2022-12-13T12:21:07.553890Z"
    }
   },
   "outputs": [],
   "source": [
    "import numpy as np\n",
    "import matplotlib.pyplot as plt\n",
    "import pandas as pd\n",
    "#from scipy.integrate import solve_ivp\n",
    "from scipy import optimize\n",
    "np.set_printoptions(suppress=True)"
   ]
  },
  {
   "cell_type": "markdown",
   "id": "18dc0cfd",
   "metadata": {},
   "source": [
    "Při práci s maticemi musíme dávat pozor, že když proměnnou uložíme do jiné\n",
    "proměnné a novou proměnnou poté modifikujeme, modifikuje se i původní objekt. To\n",
    "proto, že nevzniká nová matice, ale jenom nový odkaz na matici původní. \n",
    "\n",
    "Vyzkoušejte si následující kód."
   ]
  },
  {
   "cell_type": "code",
   "execution_count": null,
   "id": "afbd5d6f",
   "metadata": {},
   "outputs": [],
   "source": [
    "a = np.matrix([1,2,3,4]) # vytvoření matice a\n",
    "b = a  # uložení do matice b\n",
    "b[0,3] = -100  # změna jednoho prvku matice b\n",
    "print(a) # test jestli se změnila matice a\n",
    "print(b) # test jestli se změnila matice b"
   ]
  },
  {
   "cell_type": "markdown",
   "id": "df879ac4",
   "metadata": {},
   "source": [
    "Pokud je výše popsané chování nežádoucí, použijeme `copy`."
   ]
  },
  {
   "cell_type": "code",
   "execution_count": null,
   "id": "b7ccc975",
   "metadata": {},
   "outputs": [],
   "source": [
    "a = np.matrix([1,2,3,4]) # vytvoření matice a\n",
    "b = a.copy()   # uložení KOPIE do matice b\n",
    "b[0,3] = -100  # změna jednoho prvku matice b\n",
    "print(a) # test jestli se změnila matice a\n",
    "print(b) # test jestli se změnila matice b"
   ]
  },
  {
   "cell_type": "markdown",
   "id": "87c1104b",
   "metadata": {},
   "source": [
    "## Leslieho model\n",
    "\n",
    "Nejprve prozkoumáme Lesliseho model populace tuleňů z přednášky. \n",
    "Prvotní informace se týká vývoje populace. Rychlou představu soi uděláme z grafu sledujícího vývoj jednotlivých věkových skupin v čase."
   ]
  },
  {
   "cell_type": "code",
   "execution_count": null,
   "id": "98c2c976",
   "metadata": {
    "ExecuteTime": {
     "end_time": "2022-12-13T12:20:47.328151Z",
     "start_time": "2022-12-13T12:20:47.321929Z"
    }
   },
   "outputs": [],
   "source": [
    "L = np.matrix([\n",
    "    0, 1.26, 2.0,\n",
    "    0.614, 0, 0,\n",
    "    0, 0.808, 0.808\n",
    "]).reshape(3,3)\n",
    "L"
   ]
  },
  {
   "cell_type": "code",
   "execution_count": null,
   "id": "776f0756",
   "metadata": {
    "ExecuteTime": {
     "end_time": "2022-12-13T12:20:48.391710Z",
     "start_time": "2022-12-13T12:20:48.074957Z"
    }
   },
   "outputs": [],
   "source": [
    "N = 10\n",
    "X = np.zeros((3,N+1))\n",
    "X[:,0] = [10,5,12]\n",
    "for i in range(N):\n",
    "    X[:,[i+1]] = L*X[:,[i]]\n",
    "\n",
    "fig, ax = plt.subplots(1)\n",
    "cas = np.linspace(0,N,N+1) * 4 # časový krok v modelu jsou čtyři roky\n",
    "ax.plot(cas,X.T)     \n",
    "ax.legend(\n",
    "    [\"mláďata\",\"mladí tuleni\",\"staří tuleni\"],\n",
    "    title=\"Věková kategorie\"\n",
    "    )\n",
    "ax.set(\n",
    "    ylim=(0,None),\n",
    "    title=\"Počet jedinců podle věkových kategorií\",\n",
    "    ylabel=\"Počet jedinců\",\n",
    "    xlabel=\"Čas/rok\"\n",
    "    )\n",
    "\n",
    "ax.grid();"
   ]
  },
  {
   "cell_type": "markdown",
   "id": "994f8f1f",
   "metadata": {},
   "source": [
    "Ověříme, že věková struktura konverguje ke stálému složení populace."
   ]
  },
  {
   "cell_type": "code",
   "execution_count": null,
   "id": "1ea7b537",
   "metadata": {
    "ExecuteTime": {
     "end_time": "2022-12-13T12:20:48.740627Z",
     "start_time": "2022-12-13T12:20:48.394388Z"
    }
   },
   "outputs": [],
   "source": [
    "#https://stackoverflow.com/questions/61888227/numpy-2d-array-get-percentage-of-total\n",
    "soucet_sloupcu = X.sum(axis=0)\n",
    "podil = X/soucet_sloupcu * 100\n",
    "plt.plot(cas,podil.T)\n",
    "ax = plt.gca()\n",
    "ax.set(\n",
    "    ylim=(0,None),\n",
    "    title=\"Procentuální zastoupení jedinců podle věkových kategorií\",\n",
    "    ylabel=\"Procento jedinců\",\n",
    "    xlabel=\"Čas/rok\"\n",
    "    )\n",
    "ax.legend(\n",
    "    [\"nejmladší\",\"prostřední\",\"nejstarší\"],\n",
    "    title=\"Věková kategorie\"\n",
    "    );"
   ]
  },
  {
   "cell_type": "markdown",
   "id": "f69abb07",
   "metadata": {},
   "source": [
    "Numerické hodnoty určující procentuální zastoupení jednotlivých věkových skupin získáme z konce simulace."
   ]
  },
  {
   "cell_type": "code",
   "execution_count": null,
   "id": "fbffb62b",
   "metadata": {
    "ExecuteTime": {
     "end_time": "2022-12-13T12:20:48.846773Z",
     "start_time": "2022-12-13T12:20:48.841056Z"
    }
   },
   "outputs": [],
   "source": [
    "podil[:,-1]"
   ]
  },
  {
   "cell_type": "markdown",
   "id": "4cf7c04d",
   "metadata": {},
   "source": [
    "Lesliho matice má (za předpokladu, že alespoň dva po sobě jdoucí koeficienty v prvním řádku matice jsou nenulové) dominantní reálnou vlastní hodnotu. Vektor odpovídající této vlastní hodnotě určuje zastoupení jednotlivých věkových tříd. Tuto informaci můžeme porovnat s již zjištěnou strukturou populace. Obecně mohou být vlastní čísla a vlastní vektory i komplexní. "
   ]
  },
  {
   "cell_type": "code",
   "execution_count": null,
   "id": "ef71963f",
   "metadata": {
    "ExecuteTime": {
     "end_time": "2022-12-13T12:20:49.424965Z",
     "start_time": "2022-12-13T12:20:49.419085Z"
    }
   },
   "outputs": [],
   "source": [
    "v,P = np.linalg.eig(L)\n",
    "print(\"Vlastní čísla: \",v)\n",
    "print(\"Vlastní vektory jsou sloupce matice\\n\",P)"
   ]
  },
  {
   "cell_type": "markdown",
   "id": "04be1a90",
   "metadata": {},
   "source": [
    "Odfiltrujeme komplexní čísla. Kvůli numerickému zaokrouhlování nemá smysl u komplexních čísel testovat, zda je imaginární část přesně nulová. Namísto toho zvolíme jistý práh, od kterého budeme imaginární část považovat za nulovou. "
   ]
  },
  {
   "cell_type": "code",
   "execution_count": null,
   "id": "619b0320",
   "metadata": {
    "ExecuteTime": {
     "end_time": "2022-12-13T12:20:49.846970Z",
     "start_time": "2022-12-13T12:20:49.840952Z"
    },
    "scrolled": true
   },
   "outputs": [],
   "source": [
    "vh,vs = [ [i.real,j.real] for i,j in zip(v,P.T) if np.abs(i.imag)<1e-2 ][0]\n",
    "vs = vs.A1 # převod na vektor\n",
    "vs = vs/sum(vs) # normování aby součet komponent byl jedna\n",
    "print(\"Reálná vlastní hodnota/hodnoty je/jsou \",vh)\n",
    "print(\"Příslušný vlastní směr/směry je/jsou \", vs)"
   ]
  },
  {
   "cell_type": "code",
   "execution_count": null,
   "id": "7b013dcf",
   "metadata": {
    "ExecuteTime": {
     "end_time": "2022-12-13T12:20:50.342268Z",
     "start_time": "2022-12-13T12:20:50.337371Z"
    }
   },
   "outputs": [],
   "source": [
    "l_index = np.argmax(v)\n",
    "l = max(v).real\n",
    "l"
   ]
  },
  {
   "cell_type": "markdown",
   "id": "a9623e14",
   "metadata": {},
   "source": [
    "Poznámka: Při porovnávání komplexních čísel používá knihovna NumPy reálnou komponentu. Toto chování vyhovuje u vlastních čísel v případě, kdy víme, že dominantní vlastní hodnota je reálná. Leslieho matice je představitelem takové úlohy, kdy jistotu reálné vlastní hodnoty zpravidla máme."
   ]
  },
  {
   "cell_type": "code",
   "execution_count": null,
   "id": "8fcfe200",
   "metadata": {},
   "outputs": [],
   "source": [
    "# U komplexních čísel neexistuje relace uspořádání podle velikosti. \n",
    "# Pro porovnávání se v knihovně NumPy používá reálná část. \n",
    "np.max([0+300j, 2+0j, 1+4j])\n"
   ]
  },
  {
   "cell_type": "markdown",
   "id": "a338eb19",
   "metadata": {},
   "source": [
    "### Parametr pro zastavení růstu\n",
    "\n",
    "Budeme hledat, jak je potřeba změnit parametry populace tak, aby se růst populace zastavil. K zastavení vybereme vhodný parametr.  Například parametr ve druhém řádku a prvním sloupci. Tento parametr udává, jaká je pravděpodobnost, že se nejmladší věková kategorie dožije přestupu do starší kategorie. Budeme se tedy snažit lovit nejmladší jedince v populaci. Otázkou je, jak intenzivně musíme lovit, aby se růst populace zastavil."
   ]
  },
  {
   "cell_type": "code",
   "execution_count": null,
   "id": "3aea5c11",
   "metadata": {
    "ExecuteTime": {
     "end_time": "2022-12-13T12:21:13.059190Z",
     "start_time": "2022-12-13T12:21:13.050317Z"
    }
   },
   "outputs": [],
   "source": [
    "# musíme vytvořit kopii matice, aby se prvky původní matice neměnily\n",
    "L_fix = L.copy()\n",
    "# Potřebujeme, aby největší vlastní číslo bylo rovno jedné. \n",
    "# K tomu nadefinujeme funkci, která nám toto vlastní číslo vypočítá \n",
    "# v závislosti na tom, jak se změní prvek, se kterým manipulujeme. \n",
    "def nejvetsi_vlastni_cislo(x, M):\n",
    "    M[1,0] = x\n",
    "    v = np.linalg.eigvals(M)\n",
    "    return max(v).real\n",
    "# Nakonec určíme, pro jakou hodnotu je vlastní číslo rovno jedné.    \n",
    "oprava = optimize.fsolve(lambda x:nejvetsi_vlastni_cislo(x, L_fix)-1,0.6)\n",
    "L_fix"
   ]
  },
  {
   "cell_type": "markdown",
   "id": "addcb253",
   "metadata": {},
   "source": [
    "Kontrola vlatních čísel. Dominantní vlastní číslo musí mít reálnou část jednotkovou a komplexní část nulovou. Tedy `1+0j`."
   ]
  },
  {
   "cell_type": "code",
   "execution_count": null,
   "id": "e4eed027",
   "metadata": {
    "ExecuteTime": {
     "end_time": "2022-12-13T12:21:14.199245Z",
     "start_time": "2022-12-13T12:21:14.193952Z"
    }
   },
   "outputs": [],
   "source": [
    "np.linalg.eigvals(L_fix)\n"
   ]
  },
  {
   "cell_type": "markdown",
   "id": "a217cabb",
   "metadata": {},
   "source": [
    "Rychlá vizuální kontrola pro ty, co se nechtějí spoléhat na vlastní čísla. Také pomůže pro odhad, jak rychle se věkové složení ustálí."
   ]
  },
  {
   "cell_type": "code",
   "execution_count": null,
   "id": "ffe9197b",
   "metadata": {
    "ExecuteTime": {
     "end_time": "2022-12-13T12:21:15.005051Z",
     "start_time": "2022-12-13T12:21:14.706285Z"
    },
    "scrolled": false
   },
   "outputs": [],
   "source": [
    "ini = np.matrix([10,20,30]).reshape(3,1)\n",
    "k = 10\n",
    "model = np.zeros([3,k])\n",
    "model[:,[0]] = ini\n",
    "for i in range(k-1):\n",
    "    model[:,[i+1]] = L_fix * model[:,[i]]\n",
    "plt.plot(model.T)\n",
    "plt.xlabel(\"Časový krok\")\n",
    "plt.ylabel(\"Velikost populace\")\n",
    "plt.legend(\n",
    "    [\"nejmladší\",\"prostřední\",\"nejstarší\"],\n",
    "    title=\"Věková kategorie\"\n",
    "    )\n",
    "plt.title(\"Test stacionárnosti populace\");\n",
    "    "
   ]
  },
  {
   "cell_type": "markdown",
   "id": "f96deed6",
   "metadata": {},
   "source": [
    "### Matice sensitivity a elasticity"
   ]
  },
  {
   "cell_type": "markdown",
   "id": "3b88e88c",
   "metadata": {},
   "source": [
    "Výpočet matice elasticity pomocí levých a pravých vlastních vektorů. Pro násobení matic po složkách (Hadamardův součin) převedeme matice na dvourozměrná pole."
   ]
  },
  {
   "cell_type": "code",
   "execution_count": null,
   "id": "70ffe305",
   "metadata": {
    "ExecuteTime": {
     "end_time": "2022-12-13T12:10:03.329882Z",
     "start_time": "2022-12-13T12:10:03.320672Z"
    }
   },
   "outputs": [],
   "source": [
    "W = P[:,l_index].real # pravý sloupcový vlastni vektor příslušný maximální vlastní hodnotě\n",
    "V = (P**(-1))[l_index,:].real # levý řádkový vlastní vektor příslušný maximální vlastní hodnotě\n",
    "matice_elasticity = np.matrix(np.array(V.T*W.T)*np.array(L)/l)\n",
    "matice_elasticity"
   ]
  },
  {
   "cell_type": "markdown",
   "id": "a94d03bf",
   "metadata": {
    "ExecuteTime": {
     "end_time": "2022-12-13T11:00:24.252143Z",
     "start_time": "2022-12-13T11:00:24.247656Z"
    }
   },
   "source": [
    "Výpočet matice elasticity z definice pomocí parciálních derivací a centrální diference. Jedná se o výpočet přímo z definice. Výpočet je méně elegantní než výpočet z předchozího pole, ale nespoléhá se například na vztah mezi levými a pravými vlastními vektory. Podobné taktiky, kdy stejnou veličinu počítáme dvěma různými způsoby, se často používají k tomu, abychom ověřili, že programový kód neobsahuje logické chyby a že počítá to, co potřebujeme. "
   ]
  },
  {
   "cell_type": "code",
   "execution_count": null,
   "id": "c0937eb1",
   "metadata": {
    "ExecuteTime": {
     "end_time": "2022-12-13T12:10:06.677819Z",
     "start_time": "2022-12-13T12:10:06.665427Z"
    }
   },
   "outputs": [],
   "source": [
    "h = 0.01\n",
    "matice = np.zeros([3,3])\n",
    "matice\n",
    "for f1 in range(3):\n",
    "    for f2 in range(3):\n",
    "        if L[f1,f2] == 0:\n",
    "            matice[f1,f2] = 0\n",
    "        else:\n",
    "            L2 = L.copy()\n",
    "            L3 = L.copy()\n",
    "            L2[f1,f2] = L2[f1,f2] + h\n",
    "            L3[f1,f2] = L3[f1,f2] - h\n",
    "            v2 = np.linalg.eigvals(L2).max().real\n",
    "            v3 = np.linalg.eigvals(L3).max().real\n",
    "            matice[f1,f2] = ((v2-v3)/(2*h))*L[f1,f2]/l\n",
    "matice = np.matrix(matice)\n",
    "matice"
   ]
  },
  {
   "cell_type": "code",
   "execution_count": null,
   "id": "b4694e2d",
   "metadata": {
    "ExecuteTime": {
     "end_time": "2022-12-13T12:10:07.907660Z",
     "start_time": "2022-12-13T12:10:07.902669Z"
    }
   },
   "outputs": [],
   "source": [
    "np.sum(matice_elasticity)"
   ]
  },
  {
   "cell_type": "code",
   "execution_count": null,
   "id": "0bfdc3b1",
   "metadata": {
    "ExecuteTime": {
     "end_time": "2022-12-13T12:10:34.238806Z",
     "start_time": "2022-12-13T12:10:34.233692Z"
    }
   },
   "outputs": [],
   "source": [
    "np.sum(matice_elasticity, axis=1)"
   ]
  },
  {
   "cell_type": "code",
   "execution_count": null,
   "id": "2bac79ee",
   "metadata": {
    "ExecuteTime": {
     "end_time": "2022-12-13T12:10:34.430640Z",
     "start_time": "2022-12-13T12:10:34.425474Z"
    }
   },
   "outputs": [],
   "source": [
    "np.sum(matice_elasticity,axis=0)"
   ]
  },
  {
   "attachments": {},
   "cell_type": "markdown",
   "id": "813600b4",
   "metadata": {},
   "source": [
    "Levý vlastní vektor je **reprodukční hodnota** jednotlivých věkových kategorií.\n",
    "Udává očekávaný počet potomků na jedince v dané věkové kategorii a v kategoriích\n",
    "následujících. Počty jsou vyjádřeny relativně vzhledem k nejmladší kategorii,\n",
    "která má reprodukční hodnotu rovnu jedné. Přitom se nejedná o prostý součet, ale\n",
    "je zde zohledněn růst populace, tedy jestli se budoucí potomci rodí do větší či\n",
    "menší populace (viz Tkadlec strana 121)."
   ]
  },
  {
   "cell_type": "code",
   "execution_count": null,
   "id": "ac07d843",
   "metadata": {},
   "outputs": [],
   "source": [
    "V/V[0,0]"
   ]
  },
  {
   "attachments": {},
   "cell_type": "markdown",
   "id": "1f553ae4",
   "metadata": {},
   "source": [
    "## Model jelena evropského (red deer, *Cervus elaphus*)\n",
    "\n",
    "Model je představen a studován ve výukovém materiálu\n",
    "https://www.youtube.com/watch?v=cMQd-okvS_M\n",
    "Populace laní jelena evropského je rozdělena na rok staré laně, dva roky staré\n",
    "laně a starší laně. Projekční matice populace je následující. "
   ]
  },
  {
   "cell_type": "code",
   "execution_count": null,
   "id": "131cb91f",
   "metadata": {
    "ExecuteTime": {
     "end_time": "2022-12-13T12:11:42.386228Z",
     "start_time": "2022-12-13T12:11:42.379479Z"
    }
   },
   "outputs": [],
   "source": [
    "L = np.matrix([0, 0.2, 0.26,\n",
    "              0.93, 0, 0,\n",
    "              0, 0.97, 0.91]).reshape(3,3)\n",
    "L"
   ]
  },
  {
   "attachments": {},
   "cell_type": "markdown",
   "id": "c5e18a2b",
   "metadata": {},
   "source": [
    "Nejprve vypočteme vlastní čísla a najdeme dominantní vlastní číslo."
   ]
  },
  {
   "cell_type": "code",
   "execution_count": null,
   "id": "39f257c3",
   "metadata": {},
   "outputs": [],
   "source": [
    "vlastni_cisla, vlastni_vektory = np.linalg.eig(L)\n",
    "maximum_index = np.argmax(vlastni_cisla)\n",
    "vlastni_cisla[maximum_index]"
   ]
  },
  {
   "attachments": {},
   "cell_type": "markdown",
   "id": "ec1b4e7a",
   "metadata": {},
   "source": [
    "Pro jednoduché seznámení se s modelem je možné snížit jednu komponentu například\n",
    "o deset procent a sledovat odezvu, jak moc se změní dominantní vlastní hodnota."
   ]
  },
  {
   "cell_type": "code",
   "execution_count": null,
   "id": "425f4835",
   "metadata": {},
   "outputs": [],
   "source": [
    "L_redukce_porodnosti = L.copy()\n",
    "L_redukce_porodnosti[0,2] = 0.9*L_redukce_porodnosti[0,2]\n",
    "np.linalg.eigvals(L_redukce_porodnosti).max()\n"
   ]
  },
  {
   "cell_type": "code",
   "execution_count": null,
   "id": "1b8a1a00",
   "metadata": {},
   "outputs": [],
   "source": [
    "L_redukce_prezivani = L.copy()\n",
    "L_redukce_prezivani[2,2] = 0.9*L_redukce_prezivani[2,2]\n",
    "np.linalg.eigvals(L_redukce_prezivani).max()"
   ]
  },
  {
   "attachments": {},
   "cell_type": "markdown",
   "id": "1ee28850",
   "metadata": {},
   "source": [
    "Detailnější analýzu poskytne matice elasticity."
   ]
  },
  {
   "cell_type": "code",
   "execution_count": null,
   "id": "ae388d6f",
   "metadata": {
    "ExecuteTime": {
     "end_time": "2022-12-13T12:11:42.875462Z",
     "start_time": "2022-12-13T12:11:42.870559Z"
    }
   },
   "outputs": [],
   "source": [
    "W = vlastni_vektory[:,maximum_index]\n",
    "V = (vlastni_vektory**(-1))[maximum_index,:]\n",
    "\n",
    "matice_sensitivity = np.around(V.T*W.T,decimals=5).real\n",
    "matice_elasticity = (np.array(matice_sensitivity)*np.array(L)/max(vlastni_cisla)).real\n",
    "matice_elasticity"
   ]
  },
  {
   "cell_type": "code",
   "execution_count": null,
   "id": "64df4e25",
   "metadata": {
    "ExecuteTime": {
     "end_time": "2022-12-13T12:11:45.025003Z",
     "start_time": "2022-12-13T12:11:45.018990Z"
    }
   },
   "outputs": [],
   "source": [
    "matice_elasticity.sum(axis=0)"
   ]
  },
  {
   "attachments": {},
   "cell_type": "markdown",
   "id": "40ebaab9",
   "metadata": {},
   "source": [
    "Reprodukční hodnotu můžeme určit z levého vlastního vektoru příslušného\n",
    "dominantní vlastní hodnotě."
   ]
  },
  {
   "cell_type": "code",
   "execution_count": null,
   "id": "9fed3319",
   "metadata": {},
   "outputs": [],
   "source": [
    "(V/V[0,0]).real"
   ]
  },
  {
   "attachments": {},
   "cell_type": "markdown",
   "id": "09615c4c",
   "metadata": {},
   "source": [
    "Pro kontrolu můžeme vypočítat komponenty matice elasticity z definice, kdy\n",
    "parciální derivaci nahradíme centrální diferencí."
   ]
  },
  {
   "cell_type": "code",
   "execution_count": null,
   "id": "e1b9cd70",
   "metadata": {
    "ExecuteTime": {
     "end_time": "2022-12-13T12:11:46.206104Z",
     "start_time": "2022-12-13T12:11:46.195606Z"
    }
   },
   "outputs": [],
   "source": [
    "h = 0.001\n",
    "matice = np.zeros([3,3])\n",
    "matice\n",
    "for f1 in [0,1,2]:\n",
    "    for f2 in [0,1,2]:\n",
    "        if L[f1,f2] == 0:\n",
    "            matice[f1,f2] = 0\n",
    "        else:\n",
    "            L2 = L.copy()\n",
    "            L3 = L.copy()\n",
    "            L2[f1,f2] = L2[f1,f2] + h\n",
    "            L3[f1,f2] = L3[f1,f2] - h\n",
    "            v2,P2 = np.linalg.eig(L2)\n",
    "            v3,P3 = np.linalg.eig(L3)\n",
    "            matice[f1,f2] = ((max(v2)-max(v3))/(2*h)*L[f1,f2]/max(vlastni_cisla)).real\n",
    "matice = np.matrix(matice)\n",
    "matice"
   ]
  },
  {
   "cell_type": "markdown",
   "id": "940f9c39",
   "metadata": {},
   "source": [
    "## Tropický strom\n",
    "\n",
    "Model je studován ve výukovém materiálu https://www.youtube.com/watch?v=cMQd-okvS_M"
   ]
  },
  {
   "cell_type": "code",
   "execution_count": null,
   "id": "42f93b2e",
   "metadata": {
    "ExecuteTime": {
     "end_time": "2022-12-13T12:12:09.778788Z",
     "start_time": "2022-12-13T12:12:09.771636Z"
    }
   },
   "outputs": [],
   "source": [
    "L = np.matrix([0.3, 0, 0, 100, 150, \n",
    "               0.05, 0.4, 0, 0, 0,\n",
    "               0, 0.1, 0.6, 0, 0,\n",
    "               0, 0, 0.1, 0.7, 0,\n",
    "               0, 0, 0, 0.1, 0.99]).reshape(5,5)\n",
    "L"
   ]
  },
  {
   "cell_type": "code",
   "execution_count": null,
   "id": "0720ff2f",
   "metadata": {
    "ExecuteTime": {
     "end_time": "2022-12-13T12:12:10.562063Z",
     "start_time": "2022-12-13T12:12:10.555547Z"
    }
   },
   "outputs": [],
   "source": [
    "vlastni_cisla, vlastni_vektory = np.linalg.eig(L)\n",
    "maximum_index = np.argmax(vlastni_cisla)\n",
    "maximum_cislo = vlastni_cisla[maximum_index].real\n",
    "\n",
    "W = vlastni_vektory[:,maximum_index].real\n",
    "V = (vlastni_vektory**(-1))[maximum_index,:].real\n",
    "\n",
    "matice_sensitivity = np.around(V.T*W.T,decimals=5)"
   ]
  },
  {
   "cell_type": "code",
   "execution_count": null,
   "id": "7b20ab5e",
   "metadata": {
    "ExecuteTime": {
     "end_time": "2022-12-13T12:12:10.907255Z",
     "start_time": "2022-12-13T12:12:10.900107Z"
    }
   },
   "outputs": [],
   "source": [
    "matice_elasticity = np.array(matice_sensitivity)*np.array(L)/maximum_cislo\n",
    "matice_elasticity"
   ]
  },
  {
   "cell_type": "code",
   "execution_count": null,
   "id": "49337228",
   "metadata": {
    "ExecuteTime": {
     "end_time": "2022-12-13T12:12:11.816610Z",
     "start_time": "2022-12-13T12:12:11.811555Z"
    }
   },
   "outputs": [],
   "source": [
    "matice_elasticity.sum(axis=0)"
   ]
  },
  {
   "cell_type": "code",
   "execution_count": null,
   "id": "175a122c",
   "metadata": {
    "ExecuteTime": {
     "end_time": "2022-12-13T12:12:13.562828Z",
     "start_time": "2022-12-13T12:12:13.556441Z"
    }
   },
   "outputs": [],
   "source": [
    "pW = 100*W/np.linalg.norm(W,1)\n",
    "pW"
   ]
  },
  {
   "cell_type": "code",
   "execution_count": null,
   "id": "cadead8a",
   "metadata": {},
   "outputs": [],
   "source": [
    "sum(pW)"
   ]
  },
  {
   "cell_type": "code",
   "execution_count": null,
   "id": "34635e7b",
   "metadata": {},
   "outputs": [],
   "source": [
    "V/V[0,0]"
   ]
  },
  {
   "attachments": {},
   "cell_type": "markdown",
   "id": "686cac46",
   "metadata": {},
   "source": [
    "## Kareta obecná (Loggerhead sea turtle)\n",
    "\n",
    "Model života Karety obecné je podle [publikace](https://www.jstor.org/stable/1939225)  Deborah T. Crouse, Larry B.\n",
    "Crowder, Hal Caswell: A Stage-Based Population Model for Loggerhead Sea Turtles\n",
    "and Implications for Conservation, Ecology, Vol. 68, No. 5 (Oct., 1987), pp.\n",
    "1412-1423.\n",
    "\n",
    "V tomto modelu autoři studují dříve publikovaný model založený na matici o\n",
    "velikosti $54\\times54$ (Frazer) a místo stáří dělí populaci do vývojových\n",
    "stadií. Tím dosáhnou při zachování přesnosti modelu výrazného snížení řádu\n",
    "matice, což umožňuje detailnější analýzu.\n",
    "\n",
    "Jendotlivé třídy jsou (podle {cite}`tkadlec`) (1) vajíčka a vylíhlá mláďata,\n",
    "(2) mladší juvenilní jedinci, (3) starší juvenilní jedinci, (4) subadultní jedinci,\n",
    "(5) poprvé se množící, (6) jednoletí migranti a\n",
    "(7) dospělí. Třídy 5, 6 a 7 jsou uvažovány samostatně kvůli velkým rozdílům ve\n",
    "fertilitě (Frazer 1984). Přibližný věk v jednotlivých kategoriích je pod jeden\n",
    "rok, 1 až 7 let, 8 až 15 let, 16 až 21 let, 22 let, 23 let a 24 až 54 let."
   ]
  },
  {
   "cell_type": "code",
   "execution_count": null,
   "id": "0ca143ec",
   "metadata": {},
   "outputs": [],
   "source": [
    "np.set_printoptions(suppress=True, linewidth=100);"
   ]
  },
  {
   "cell_type": "code",
   "execution_count": null,
   "id": "bfef3596",
   "metadata": {},
   "outputs": [],
   "source": [
    "N = 7\n",
    "M = np.zeros([N,N])\n",
    "M[[0],:] = [0,0,0,0,127,4,80]\n",
    "M[np.arange(N),np.arange(N)] = [0,0.7370,0.6610, 0.6907, 0,0,0.8089]\n",
    "M[np.arange(1,N),np.arange(N-1)] = [0.6747, 0.0486, 0.0147, 0.0518, 0.8091, 0.8091]\n",
    "M = np.matrix(M)\n",
    "M"
   ]
  },
  {
   "cell_type": "code",
   "execution_count": null,
   "id": "31a81e89",
   "metadata": {},
   "outputs": [],
   "source": [
    "vlastni_cisla, vlastni_vektory = np.linalg.eig(M)\n",
    "\n",
    "maximum_index = vlastni_cisla.argmax()\n",
    "vlastni_cisla[maximum_index]"
   ]
  },
  {
   "cell_type": "code",
   "execution_count": null,
   "id": "690b9e8c",
   "metadata": {},
   "outputs": [],
   "source": [
    "w = vlastni_vektory[:,[vlastni_cisla.argmax()]].real\n",
    "w = w/sum(w)*100\n",
    "w"
   ]
  },
  {
   "cell_type": "code",
   "execution_count": null,
   "id": "06b6e946",
   "metadata": {},
   "outputs": [],
   "source": [
    "np.log(vlastni_cisla[maximum_index].real)"
   ]
  },
  {
   "attachments": {},
   "cell_type": "markdown",
   "id": "02cc85f1",
   "metadata": {},
   "source": [
    "Levý vlastní vektor příslušný dominantní vlastní hodnotě *reprodukční hodnota*\n",
    "příslušné třídy. Jedná se o celkový příspěvek třídy a všech pozdějších tříd k\n",
    "populačnímu růstu vyjádřený počtem potomků uvažovaných různou vahou podle toho,\n",
    "zda se rodí do velké či malé populace a vyjádřený v násobcích reprodukční\n",
    "hodnoty nejmladší kategorie. (vektor je normalizovaný tak, aby první komponenta\n",
    "byla rovna jedné)."
   ]
  },
  {
   "cell_type": "code",
   "execution_count": null,
   "id": "d342b3b8",
   "metadata": {},
   "outputs": [],
   "source": [
    "leve_vlastni_vektory = vlastni_vektory**(-1)\n",
    "(leve_vlastni_vektory[maximum_index]/leve_vlastni_vektory[maximum_index,0]).real"
   ]
  },
  {
   "cell_type": "code",
   "execution_count": null,
   "id": "3f2b22b7",
   "metadata": {},
   "outputs": [],
   "source": [
    "W = vlastni_vektory[:,maximum_index].real\n",
    "V = (vlastni_vektory**(-1)).conjugate()[maximum_index,:].T.real\n",
    "\n",
    "matice_sensitivity = np.around(V*W.T,decimals=5)\n",
    "matice_elasticity = np.array(matice_sensitivity)*np.array(M)/vlastni_cisla[maximum_index]\n",
    "matice_elasticity = matice_elasticity.real\n",
    "matice_elasticity"
   ]
  },
  {
   "cell_type": "code",
   "execution_count": null,
   "id": "8266623d",
   "metadata": {},
   "outputs": [],
   "source": [
    "matice_elasticity.sum(axis=0)*100"
   ]
  },
  {
   "attachments": {},
   "cell_type": "markdown",
   "id": "ca10f28e",
   "metadata": {},
   "source": [
    "V původní publikaci, kde se objevil tento model, je vliv jednotlivých komponent\n",
    "matice vyjádřen i graficky. Pokusíme se tento obrázek zreprodukovat."
   ]
  },
  {
   "cell_type": "code",
   "execution_count": null,
   "id": "a6aca7be",
   "metadata": {},
   "outputs": [],
   "source": [
    "stav = np.arange(1,N+1)\n",
    "plt.plot(stav, matice_elasticity[0,:],\"o-\",label = \"plodnost\")\n",
    "plt.plot(stav, matice_elasticity[np.arange(N),np.arange(N)], \"^-\", label=\"přežívání v současném stadiu\")\n",
    "plt.plot(stav[:-1], matice_elasticity[np.arange(1,N),np.arange(N-1)], \"s-\", label=\"růst do dalšího stadia\")\n",
    "\n",
    "plt.legend()\n",
    "plt.title(\"Relativní vliv komponent matice na celkový růst populace\");"
   ]
  },
  {
   "attachments": {},
   "cell_type": "markdown",
   "id": "8501111b",
   "metadata": {},
   "source": [
    "Výstupem z modelu je skutečnost, že při snaze zachránit populaci karety má\n",
    "ochrana vajíček, na kterou se tradičně zaměřovala pozornost, jenom malý vliv na\n",
    "celkovou kondici populace. Účelnější je zaměřit se na přežívání dospívajících a\n",
    "dospělých želv. Toho je možné dosáhnout úpravou rybářských sítí tak, aby z nich\n",
    "želvy mohly uniknout. Viz [Turtle Excluder Device](https://youtu.be/jyhumLE7B40)."
   ]
  },
  {
   "cell_type": "code",
   "execution_count": null,
   "id": "b9a9a16b",
   "metadata": {},
   "outputs": [],
   "source": []
  }
 ],
 "metadata": {
  "kernelspec": {
   "display_name": "jupyter",
   "language": "python",
   "name": "python3"
  },
  "language_info": {
   "codemirror_mode": {
    "name": "ipython",
    "version": 3
   },
   "file_extension": ".py",
   "mimetype": "text/x-python",
   "name": "python",
   "nbconvert_exporter": "python",
   "pygments_lexer": "ipython3",
   "version": "3.11.0"
  },
  "vscode": {
   "interpreter": {
    "hash": "44789aa31bc08579881d996cd09876ea8af3ab09ee5b66b40aee952be8d87024"
   }
  }
 },
 "nbformat": 4,
 "nbformat_minor": 5
}
