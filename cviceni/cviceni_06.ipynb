{
 "cells": [
  {
   "cell_type": "markdown",
   "id": "0f2e5117",
   "metadata": {},
   "source": [
    "# LaTeX"
   ]
  },
  {
   "cell_type": "markdown",
   "id": "b0e79566",
   "metadata": {},
   "source": [
    "V tomto cvičení se naučíme psát texty obsahující matematiku. \n",
    "Pravidla jsou následující.\n",
    "\n",
    "1. Každá věta začíná velkým písmenem, končí tečkou a nikdy není odstavec rozdělen uvnitř věty. Aby bylo snadné toto pravidlo dodržet nezačínáme nikdy větu matematickým výrazem. Interpunkci používáme dle pravidel českého jazyka a to i v případě, že matematický výraz stojí na samostatném řádku. \n",
    "    * Špatně: $k$ je konstanta úměrnosti.\n",
    "    * Správně: Konstanta $k$ je konstanta úměrnosti.\n",
    "    * Špatně: Obsah kruhu o poloměru $r$ je dán vztahem $$S=\\pi r^2$$\n",
    "    * Správně: Obsah kruhu o poloměru $r$ je dán vztahem $$S=\\pi r^2.$$\n",
    "    * Špatně: Obsah kruhu je dán vztahem $$S=\\pi r^2$$ kde $r$ je poloměr kruhu. \n",
    "    * Správně: Obsah kruhu je dán vztahem $$S=\\pi r^2,$$ kde $r$ je poloměr kruhu. \n",
    "1. Každá matematická proměnná se označuje jako matematický výraz. Editor poté použije automaticky předvolený font, zpravidla matematickou kurzívu nebo kurzívu. \n",
    "    * V MS Word je toto pod klávesovou zkratkou `Alt=`. \n",
    "    * V systému LaTeX se začátek a konec matematického výrazu vyznačuje dle interpretru dolary, znaky `\\(`, `\\)`, `\\[` a `\\]` nebo speciálními tagy (Wikipedie).\n",
    "1. Důležité matematické vzorce píšeme na samostatný řádek a dle typografie buď centrujeme nebo zarovnáváme na levý okraj. Přitom nekončíme odstavec uvnitř první věty (pravidlo 1). Viz příklad v prvním bodě. V LaTeXu pro vzorec na samostatném řádku používáme dvojdolar nebo hranatou závorku, pro vzorec uvnitř řádku jednoduchý dolar a kulatou závorku. Ve Wordu vzorec na samostatný řádek umístíme pravým tlačítkem a výběrem odpovídající položky v menu.\n",
    "1. Matematické funkce zapisujeme jiným fontem než proměnné. Toto zařídí software automaticky, pokud dodržujeme nastavená pravidla. \n",
    "    * Špatně: `sin(x)+cos(x)` dává $sin(x)+cos(x)$\n",
    "    * Správně: `\\sin(x)+\\cos(x)` dává $\\sin(x)+\\cos(x)$"
   ]
  },
  {
   "cell_type": "markdown",
   "id": "04d7a6f9",
   "metadata": {},
   "source": [
    "Další výrazy zapisujeme smluvenými značkami. Například kód pro derivaci $\\frac{\\mathrm dx}{\\mathrm dt}$ si zobrazíte kliknutím na tento text."
   ]
  },
  {
   "cell_type": "markdown",
   "id": "0dbd1d3d",
   "metadata": {},
   "source": []
  }
 ],
 "metadata": {
  "kernelspec": {
   "display_name": "Python 3.8.10 64-bit",
   "language": "python",
   "name": "python3"
  },
  "language_info": {
   "codemirror_mode": {
    "name": "ipython",
    "version": 3
   },
   "file_extension": ".py",
   "mimetype": "text/x-python",
   "name": "python",
   "nbconvert_exporter": "python",
   "pygments_lexer": "ipython3",
   "version": "3.10.6 (main, Nov 14 2022, 16:10:14) [GCC 11.3.0]"
  },
  "varInspector": {
   "cols": {
    "lenName": 16,
    "lenType": 16,
    "lenVar": 40
   },
   "kernels_config": {
    "python": {
     "delete_cmd_postfix": "",
     "delete_cmd_prefix": "del ",
     "library": "var_list.py",
     "varRefreshCmd": "print(var_dic_list())"
    },
    "r": {
     "delete_cmd_postfix": ") ",
     "delete_cmd_prefix": "rm(",
     "library": "var_list.r",
     "varRefreshCmd": "cat(var_dic_list()) "
    }
   },
   "types_to_exclude": [
    "module",
    "function",
    "builtin_function_or_method",
    "instance",
    "_Feature"
   ],
   "window_display": false
  },
  "vscode": {
   "interpreter": {
    "hash": "916dbcbb3f70747c44a77c7bcd40155683ae19c65e1c03b4aa3499c5328201f1"
   }
  }
 },
 "nbformat": 4,
 "nbformat_minor": 5
}
