{
 "cells": [
  {
   "cell_type": "markdown",
   "id": "0f2e5117",
   "metadata": {},
   "source": [
    "# LaTeX"
   ]
  },
  {
   "cell_type": "markdown",
   "id": "b0e79566",
   "metadata": {},
   "source": [
    "V tomto cvičení se naučíme psát texty obsahující matematiku. \n",
    "Pravidla jsou následující.\n",
    "\n",
    "1. Každá věta začíná velkým písmenem, končí tečkou a nikdy není odstavec rozdělen uvnitř věty. Aby bylo snadné toto pravidlo dodržet nezačínáme nikdy větu matematickým výrazem. Interpunkci používáme dle pravidel českého jazyka a to i v případě, že matematický výraz stojí na samostatném řádku. \n",
    "    * Špatně: $k$ je konstanta úměrnosti.\n",
    "    * Správně: Konstanta $k$ je konstanta úměrnosti.\n",
    "    * Špatně: Obsah kruhu o poloměru $r$ je dán vztahem $$S=\\pi r^2$$\n",
    "    * Správně: Obsah kruhu o poloměru $r$ je dán vztahem $$S=\\pi r^2.$$\n",
    "    * Špatně: Obsah kruhu je dán vztahem $$S=\\pi r^2$$ kde $r$ je poloměr kruhu. \n",
    "    * Správně: Obsah kruhu je dán vztahem $$S=\\pi r^2,$$ kde $r$ je poloměr kruhu. \n",
    "1. Každá matematická proměnná se označuje jako matematický výraz. Editor poté použije automaticky předvolený font, zpravidla matematickou kurzívu nebo kurzívu. \n",
    "    * V MS Word je toto pod klávesovou zkratkou `Alt=`. \n",
    "    * V systému LaTeX se začátek a konec matematického výrazu vyznačuje dle interpretru dolary, znaky `\\(`, `\\)`, `\\[` a `\\]` nebo speciálními tagy (Wikipedie).\n",
    "1. Důležité matematické vzorce píšeme na samostatný řádek a dle typografie buď centrujeme nebo zarovnáváme na levý okraj. Přitom nekončíme odstavec uvnitř první věty (pravidlo 1). Viz příklad v prvním bodě. V LaTeXu pro vzorec na samostatném řádku používáme dvojdolar nebo hranatou závorku, pro vzorec uvnitř řádku jednoduchý dolar a kulatou závorku. Ve Wordu vzorec na samostatný řádek umístíme pravým tlačítkem a výběrem odpovídající položky v menu.\n",
    "1. Matematické funkce zapisujeme jiným fontem než proměnné. Toto zařídí software automaticky, pokud dodržujeme nastavená pravidla. \n",
    "    * Špatně: `sin(x)+cos(x)` dává $sin(x)+cos(x)$\n",
    "    * Správně: `\\sin(x)+\\cos(x)` dává $\\sin(x)+\\cos(x)$"
   ]
  },
  {
   "cell_type": "markdown",
   "id": "04d7a6f9",
   "metadata": {},
   "source": [
    "Další výrazy zapisujeme smluvenými značkami. Například kód pro derivaci $\\frac{\\mathrm dx}{\\mathrm dt}$ si zobrazíte kliknutím na tento text."
   ]
  },
  {
   "attachments": {},
   "cell_type": "markdown",
   "id": "176c6d84",
   "metadata": {},
   "source": [
    "## Rozcestník\n",
    "\n",
    "* Pro psaní textů v Jupyter notebooku používáme Markdown, https://cs.wikipedia.org/wiki/Markdown\n",
    "* Pro psaní matematiky v Markdownu používáme LaTeX, https://cs.wikipedia.org/wiki/LaTeX\n",
    "* Je mnoho ukázek jak se LaTeXem zapisují vzorcem, například\n",
    "  https://robert-marik.github.io/latex \n",
    "* LaTeX se dá použít i v prostředí MS Word, v moderních verzích (2016 ještě ne,\n",
    "  Office365 už ano), viz https://www.youtube.com/watch?v=IOx3iy3rsRY\n",
    "* Převod mezi Markdownem, Wiki, Wordem atd zajistí program pandoc, viz např\n",
    "  online služba https://pandoc.org/try/  "
   ]
  },
  {
   "attachments": {},
   "cell_type": "markdown",
   "id": "0dbd1d3d",
   "metadata": {},
   "source": [
    "## Upravte následující text\n",
    " \n",
    "Upravte následující text tak, aby byl typograficky správně."
   ]
  },
  {
   "attachments": {},
   "cell_type": "markdown",
   "id": "a27e95cf",
   "metadata": {},
   "source": [
    "```\n",
    "Řešením kvadratické rovnice\n",
    "\n",
    "ax^2+bx+c = 0\n",
    " \n",
    "s neznámou x a koeficienty a, b a c je dvojice čísel\n",
    "\n",
    "x1,2 = (-b plusminus sqrt(b^2-4ac))/(2a)\n",
    "```"
   ]
  },
  {
   "attachments": {},
   "cell_type": "markdown",
   "id": "7aae1ceb",
   "metadata": {},
   "source": [
    "## Najděte chyby\n",
    "\n",
    "1. Najděte typografické prohřešky v hesle Logistická funkce na české Wikipedii.\n",
    "   <https://cs.wikipedia.org/wiki/Logistick%C3%A1_funkce>\n",
    "1. Zobrazte si zdrojový kód ve wikijazyku a na webu <https://pandoc.org/try/>\n",
    "   jej převeďte z mediawiki na markdown.\n",
    "1. Měli byste dostat text níže (jenom jsem změnil úrovně nadpisů). Opravte v něm typografické prohřešky.  (Odkazy\n",
    "   nebudou mimo wiki fungovat, ty neopravujte)\n",
    "   * Každá věta musí končit tečkou.\n",
    "   * Žádný odstavec nesmí začínat uprostřed věty. (Źádné prázdné řádky uvnitř věty.) \n",
    "   * Každý matematický výraz musí být zapsaný matematickou kurzívou. Ta je\n",
    "     odlišná od textové kurzívy.\n",
    "   * Číslo rovnice opravte, použijte příkaz `\\tag{znacka}`.\n",
    "   * Přidejte počáteční podmínku $P(0)=\\frac 12$ na řádek s rovnicí, ať máme v\n",
    "     display módu celou počáteční úlohu. Přeformulujte okolní text tak, aby toto dávalo\n",
    "     smysl. "
   ]
  },
  {
   "attachments": {},
   "cell_type": "markdown",
   "id": "20885696",
   "metadata": {},
   "source": [
    "### Logistická funkce\n",
    "\n",
    "**Logistická funkce** nebo též **logistická křivka** je reálná\n",
    "[funkce](funkce_(matematika) \"wikilink\") definovaná jako\n",
    "\n",
    "$$f(t;a,m,n,\\tau) = a\\frac{1 + m e^{-t/\\tau}}{1 + n e^{-t/\\tau}} \\!$$\n",
    "\n",
    "kde *f* je funkční hodnota, *a, m, n,* a *τ* reálné parametry. Nezávisle\n",
    "proměnná se označuje *t*, protože logistická funkce se často používá pro\n",
    "modelování vývoje v čase. V počáteční fázi je růst přibližně\n",
    "exponenciální, později s rostoucím nasycením se zpomaluje, a nakonec se\n",
    "[asymptoticky](asymptota \"wikilink\") zastaví. Logistická funkce se často\n",
    "používá v empirických vědách například pro modelování růstu populací a\n",
    "koncentrací.\n",
    "\n",
    "### Sigmoida\n",
    "\n",
    "Významným příkladem logistické funkce je speciální případ s parametry\n",
    "*a* = 1, *m* = 0, *n* = 1, τ = 1, tedy\n",
    "\n",
    "$$P(t) = \\frac{1}{1 + e^{-t}}\\!$$\n",
    "\n",
    "Tato logistická funkce se pro svůj tvar někdy označuje též jako\n",
    "sigmoida. Je řešením nelineární [diferenciální\n",
    "rovnice](diferenciální_rovnice \"wikilink\") prvního řádu\n",
    "\n",
    "$$\\frac{\\mathrm{d}P}{\\mathrm{d}t}=P(1-P),  \\quad\\mbox{(2)}$$\n",
    "\n",
    "s okrajovou podmínkou P(0) = 1/2. Používá se často jako sponová funkce\n",
    "(link function) ve statistických modelech ([logistická\n",
    "regrese](logistická_regrese \"wikilink\")) pro transformaci vstupních\n",
    "hodnost do intervalu $(0, 1)$, což umožňuje přímý převod na procenta\n",
    "(např. úspěšnost nalezené shody při analýze obrazu, zvuku, textu atp.).\n",
    "\n",
    "### Význam\n",
    "\n",
    "Logistické křivky se objevují jako řešení různých modelů například v\n",
    "[demografii](demografie \"wikilink\"), [biologii](biologie \"wikilink\") a\n",
    "[ekonomii](ekonomie \"wikilink\")."
   ]
  },
  {
   "cell_type": "markdown",
   "id": "84f39ad1",
   "metadata": {},
   "source": []
  }
 ],
 "metadata": {
  "kernelspec": {
   "display_name": "Python 3 (ipykernel)",
   "language": "python",
   "name": "python3"
  },
  "language_info": {
   "codemirror_mode": {
    "name": "ipython",
    "version": 3
   },
   "file_extension": ".py",
   "mimetype": "text/x-python",
   "name": "python",
   "nbconvert_exporter": "python",
   "pygments_lexer": "ipython3",
   "version": "3.10.10"
  },
  "varInspector": {
   "cols": {
    "lenName": 16,
    "lenType": 16,
    "lenVar": 40
   },
   "kernels_config": {
    "python": {
     "delete_cmd_postfix": "",
     "delete_cmd_prefix": "del ",
     "library": "var_list.py",
     "varRefreshCmd": "print(var_dic_list())"
    },
    "r": {
     "delete_cmd_postfix": ") ",
     "delete_cmd_prefix": "rm(",
     "library": "var_list.r",
     "varRefreshCmd": "cat(var_dic_list()) "
    }
   },
   "types_to_exclude": [
    "module",
    "function",
    "builtin_function_or_method",
    "instance",
    "_Feature"
   ],
   "window_display": false
  },
  "vscode": {
   "interpreter": {
    "hash": "916dbcbb3f70747c44a77c7bcd40155683ae19c65e1c03b4aa3499c5328201f1"
   }
  }
 },
 "nbformat": 4,
 "nbformat_minor": 5
}
