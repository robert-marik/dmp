{
 "cells": [
  {
   "cell_type": "markdown",
   "id": "0f2e5117",
   "metadata": {},
   "source": [
    "# Diferenciální rovnice 2"
   ]
  },
  {
   "cell_type": "markdown",
   "id": "0654dbdc",
   "metadata": {},
   "source": [
    "## Exponenciální růst\n",
    "\n",
    "Namodelujeme exponenciální růst \n",
    "$$\\frac{\\mathrm dx}{\\mathrm dt}=kx$$\n",
    "pro tři různé parametry $k$. Protože po transformaci do bezrozměrného času $\\tau = kt$ má rovnice tvar \n",
    "$$\\frac{\\mathrm dx}{\\mathrm d\\tau }=x$$\n",
    "nezávislý na $k$, ověříme, že všechna řešení po transformaci do bezrozměrného času splývají.\n"
   ]
  },
  {
   "cell_type": "markdown",
   "id": "e9588137",
   "metadata": {},
   "source": [
    "Nejprve růst pro tři různé hodnoty koeficientu $k$. Vidíme, že čím vyšší je $k$, tím rychleji velikost populace roste v čase."
   ]
  },
  {
   "cell_type": "code",
   "execution_count": null,
   "id": "20e1b6f0",
   "metadata": {},
   "outputs": [],
   "source": [
    "import matplotlib.pyplot as plt\n",
    "import numpy as np\n",
    "import pandas as pd\n",
    "from scipy.integrate import solve_ivp\n",
    "\n",
    "pocatecni_podminka = np.array([0.1])\n",
    "meze = np.array([0,10])\n",
    "ks = [1,1.5,2]\n",
    "def rovnice(t, x, k=1):\n",
    "    return k*x\n",
    "t = np.linspace(*meze)\n",
    "\n",
    "reseni = [\n",
    "    solve_ivp(lambda t,x:rovnice(t,x,k=k),\n",
    "           meze,\n",
    "           pocatecni_podminka,\n",
    "           t_eval=t\n",
    "           ).y[0]\n",
    "    for k in ks\n",
    "   ]\n",
    "\n",
    "for k,r in zip(ks,reseni):\n",
    "    plt.plot(t,r,label=k)\n",
    "ax = plt.gca()\n",
    "ax.set(\n",
    "    ylim=(0,100),\n",
    "    xlim=(0,8),\n",
    "    xlabel=\"čas\",\n",
    "    ylabel=\"velikost populace\",\n",
    "    title=\"Růst rychlostí úměrnou velikosti\"\n",
    ")\n",
    "plt.legend(title=r\"Parametr $k$\");"
   ]
  },
  {
   "cell_type": "markdown",
   "id": "abca1a15",
   "metadata": {},
   "source": [
    "Po transformaci do bezrozměrného času by měly křivky splynout. Abychom to viděli graficky, budeme postupně snižovat jejich tloušťku a nastavíme částečnou průhlednost. To zajistíme volbami `lw` (zkratka za `linewidth`) a `alpha`."
   ]
  },
  {
   "cell_type": "code",
   "execution_count": null,
   "id": "d1ad16e4",
   "metadata": {},
   "outputs": [],
   "source": [
    "t = np.linspace(*meze)\n",
    "for k,r,lw in zip(ks,reseni,[8,5,2]):\n",
    "    plt.plot(t*k,r,lw=lw,label=k,alpha=0.5)  # Na vodorovne ose neni cas ale bezrozmerny cas\n",
    "ax = plt.gca()\n",
    "ax.set(\n",
    "    ylim=(0,100),\n",
    "    xlim=(0,10),\n",
    "    xlabel=\"bezrozměrný čas\",\n",
    "    ylabel=\"velikost populace\",\n",
    "    title=\"Růst rychlostí úměrnou velikosti v bezrozměrném čase\"\n",
    ")\n",
    "plt.legend(title=r\"Hodnota $k$\");"
   ]
  },
  {
   "cell_type": "markdown",
   "id": "aa0e9b80",
   "metadata": {},
   "source": [
    "## Exponenciální růst k vodorovné asymptotě\n",
    "\n",
    "### Úkol\n",
    "\n",
    "Nakreslete řešení rovnice růstu k vodorovné asymptotě (von Bertalanffyho růst)\n",
    "$$\\frac{\\mathrm dL}{\\mathrm dt}=k(L_\\infty-L)$$\n",
    "pro tři různé hodnoty parametru $L_\\infty$."
   ]
  },
  {
   "cell_type": "code",
   "execution_count": null,
   "id": "1cb88933",
   "metadata": {},
   "outputs": [],
   "source": [
    "# Sem vložte řešení."
   ]
  },
  {
   "cell_type": "markdown",
   "id": "a599a2f6",
   "metadata": {},
   "source": [
    "## Logistický růst"
   ]
  },
  {
   "attachments": {},
   "cell_type": "markdown",
   "id": "0ded1c0b",
   "metadata": {},
   "source": [
    "### Úkol\n",
    "\n",
    "Vykreslete řešení logistické rovnice $$\\frac{\\mathrm dx}{\\mathrm dt}=rx\\left\n",
    "(1-\\frac xK\\right)$$\n",
    "pro cca deset počátečních podmínek rovnoměrně rozmístěných mezi $0$ a $K$."
   ]
  },
  {
   "cell_type": "code",
   "execution_count": null,
   "id": "eafc86a9",
   "metadata": {},
   "outputs": [],
   "source": [
    "# Sem vložte řešení. Můžete jej rozdělit do více buněk, které si sem vložíte."
   ]
  },
  {
   "attachments": {},
   "cell_type": "markdown",
   "id": "7c46509f",
   "metadata": {},
   "source": [
    "### Logistická rovnice v bezrozměrném tvaru "
   ]
  },
  {
   "cell_type": "markdown",
   "id": "377934af",
   "metadata": {},
   "source": [
    "Nyní si ukážeme, že v určitém smyslu stačí bez újmy na obecnosti studovat případ $K=1$ a $r=1$. Na rovnici \n",
    "$$\\frac{\\mathrm dy}{\\mathrm d\\tau}=y(1-y)$$\n",
    "se totiž logistická rovnice transformuje při přechodu od rovnice \n",
    "$$\\frac{\\mathrm dx}{\\mathrm d t}=rx\\left(1-\\frac xK\\right)$$\n",
    "s použitím substituce $y=\\frac xK$ a $\\tau = rt$. Najdeme $y(\\tau)$ jako řešení bezrozměrné rovnice s jednotkovými parametry a $x(t)$ jako řešení rovnice s náhodnými parametry $r$ a $K$. Poté ukážeme na několika numerických hodnotách, že platí $$y(t) = K x(rt).$$\n",
    "\n",
    "\n"
   ]
  },
  {
   "cell_type": "code",
   "execution_count": null,
   "id": "11d55bf0",
   "metadata": {},
   "outputs": [],
   "source": [
    "pocatecni_podminka = np.array([0.1])\n",
    "meze = np.array([0,10])\n",
    "def rovnice(t, x, r=1, K=1):\n",
    "    return r*x*(1-x/K)\n",
    "\n",
    "# r a K budou náhodná čísla z intervalu (0,0.2) a (0,10).\n",
    "K,r = np.array([10,0.2])*np.random.random(2)\n",
    "print(r,K)\n",
    "t = np.linspace(*meze,12)\n",
    "\n",
    "reseni_plne_rovnice = solve_ivp(\n",
    "                   lambda t,x:rovnice(t,x,r=r,K=K),\n",
    "                   meze,\n",
    "                   pocatecni_podminka,\n",
    "                   t_eval=t\n",
    "                   )\n",
    "\n",
    "reseni_bezrozmerne_rovnice = solve_ivp(\n",
    "                   rovnice,\n",
    "                   r*meze,  # převod mezí na bezrozměrný čas\n",
    "                   pocatecni_podminka/K,  # převod na bezrozměrnou velikost populace\n",
    "                   t_eval=r*t # vyhodnoceni v bezrozmernem case\n",
    "                   )\n",
    "\n",
    "df = pd.DataFrame()\n",
    "df[\"t\"] = t\n",
    "df[\"plnohodnotna\"] = reseni_plne_rovnice.y[0]\n",
    "bezrozmerna_velikost = reseni_bezrozmerne_rovnice.y[0] \n",
    "velikost_populace = K*bezrozmerna_velikost\n",
    "df[\"bezrozmerna\"] = velikost_populace\n",
    "df[\"rozdil\"] = np.abs(df[\"bezrozmerna\"]-df[\"plnohodnotna\"])\n",
    "df[\"relativni rozdil\"] = df[\"rozdil\"]/df[\"plnohodnotna\"]\n",
    "df    "
   ]
  },
  {
   "cell_type": "code",
   "execution_count": null,
   "id": "02aca234",
   "metadata": {},
   "outputs": [],
   "source": [
    "df.rozdil.max()"
   ]
  },
  {
   "cell_type": "code",
   "execution_count": null,
   "id": "86b6f014",
   "metadata": {},
   "outputs": [],
   "source": [
    "df[\"relativni rozdil\"].max()"
   ]
  },
  {
   "cell_type": "code",
   "execution_count": null,
   "id": "9d8f109a",
   "metadata": {},
   "outputs": [],
   "source": []
  }
 ],
 "metadata": {
  "kernelspec": {
   "display_name": "Python 3",
   "language": "python",
   "name": "python3"
  },
  "language_info": {
   "codemirror_mode": {
    "name": "ipython",
    "version": 3
   },
   "file_extension": ".py",
   "mimetype": "text/x-python",
   "name": "python",
   "nbconvert_exporter": "python",
   "pygments_lexer": "ipython3",
   "version": "3.9.7"
  },
  "varInspector": {
   "cols": {
    "lenName": 16,
    "lenType": 16,
    "lenVar": 40
   },
   "kernels_config": {
    "python": {
     "delete_cmd_postfix": "",
     "delete_cmd_prefix": "del ",
     "library": "var_list.py",
     "varRefreshCmd": "print(var_dic_list())"
    },
    "r": {
     "delete_cmd_postfix": ") ",
     "delete_cmd_prefix": "rm(",
     "library": "var_list.r",
     "varRefreshCmd": "cat(var_dic_list()) "
    }
   },
   "types_to_exclude": [
    "module",
    "function",
    "builtin_function_or_method",
    "instance",
    "_Feature"
   ],
   "window_display": false
  },
  "vscode": {
   "interpreter": {
    "hash": "4073845fb37e5e91a7e4a5aa5d982e60b118e70ad895c083f27423fb55749714"
   }
  }
 },
 "nbformat": 4,
 "nbformat_minor": 5
}
