{
 "cells": [
  {
   "attachments": {},
   "cell_type": "markdown",
   "metadata": {
    "id": "ipkYKsIQbJF5"
   },
   "source": [
    "# Úvod do jazyka Python\n",
    "\n",
    "Python patří mezi nástroje pro dávkové zpracování dat. V tomto případě se nepostupuje interaktivně jako například v MS Excel, ale uživatel sestaví posloupnost příkazů a interpreter provede tyto příkazy podobně, jako spuštění programu. Výhody jsou následující.\n",
    "\n",
    "* Možnost pracovat s daty neomezené velikosti.\n",
    "* Snadná reprodukovatelnost.\n",
    "* Lepší přehlednost v rozsáhlejších projektech.\n",
    "* Možnost zařazení datové analýzy jako stavebního kamene delšího řetězce.\n",
    "* Možnost neomezeného opakování stejné analýzy v cyklu nad jinými daty.\n",
    "\n",
    "Nevýhoda dávkového zpracování je, že si nemůžeme požadované výstupy zajistit klikáním v menu. Jedná se však o nástroje s širokou uživatelskou základnou a v době kvalitního vyhledávání na Internetu není těžké \"vygooglit\" na webech s dotazy a odpověďmi příkazy nutné pro kreslení grafů různých typů a další dílčí úkoly spojené se zpracováním dat. Výhodou jsou mnohem větší možnosti, než má Excel. Srovnatelný se skriptováním v jazyce Python je jedině program Matlab, který je na univerzitě dostupný, ale vzhledem k vysoké ceně nebývá dostupný mimo univerzity a mimo velké firmy."
   ]
  },
  {
   "cell_type": "markdown",
   "metadata": {},
   "source": [
    "## Ke způsobu práce\n",
    "\n",
    "* Učíme se na příkladech.\n",
    "* Začínáme s modifikací hotových modelů. Experimentujte. Zkoušejte příklady z nápovědy, z přednášek a cvičení.\n",
    "* Model stavíme z hotových bloků, málo modelů píšeme od nuly. Často najdeme podobný problém a ten si přizpůsobíme. Například najdeme obrázek podobný našemu zamýšlenému v [galerii](https://pandas.pydata.org/pandas-docs/stable/user_guide/visualization.html) a odsud vidíme, jaké příkazy a volby je potřeba použít.\n",
    "* Detaily k nastavení a volbám při volání funkcí hledáme v manuálu. Pro rychlou orientaci slouží [cheatsheety](https://www.datacamp.com/cheat-sheet/category/python).\n",
    "* Spousta dotazů s kvalitními odpověďmi je na serveru StackExchange nebo jinde. Popište hesly problém ve vyhledávacím políčku Google a zkuste vyhledat podobné dotazy a odpovědi na ně. Totéž s chybovými hláškami, pokud jim nerozumíte."
   ]
  },
  {
   "cell_type": "markdown",
   "metadata": {},
   "source": [
    "## Co googlit\n",
    "\n",
    "Klíčová slova, která se hodí pro dotazy pro vyhledávací službu. Pro potřeby nalezení návodů, tutorilálů, tipů, uživatelského manuálu apod.\n",
    "\n",
    "|Slovo, fráze|Použití|\n",
    "|-|-|\n",
    "|Python|Programovací jazyk, který budeme používat|\n",
    "|Jupyter, JupterLab|Prostředí, ve kterém budeme Python používat nejčastěji. Prostředí pro práci je mnoho, volíme takové, které nevyžaduje instalaci na lokální PC.|\n",
    "|NumPy|Knihovna numerické výpočty.|\n",
    "|SciPy|Knihovna pro řešení diferenciálních rovnic a mnoho dalšího.|\n",
    "|`solve_ivp`|Příkaz z knihovny SciPy pro řešení diferenciálních rovnic.|\n",
    "|Matplotlib|Knihovna pro kreslení obrázků, grafů. Nejčastěji použijeme pro vizualizaci výstupu přkazu `solve_ivp`.|\n",
    "|Pandas|Knihovna pro práci s tabulkami.|\n",
    "|dataframe|Název pro tabulky používaný při práci s knihovnou Pandas.|"
   ]
  },
  {
   "cell_type": "markdown",
   "metadata": {},
   "source": [
    "## K syntaxi v jazyce Python\n",
    "\n",
    "* záleží na mezerách na začátku řádku\n",
    "   * příkazy tvořící hlavní tělo začínají na začátku řádku\n",
    "   * bloky uvnitř cyklů a podmínek jsou odsazeny o pevný počet mezer (doporučené jsou čtyři pro jednotlivé úrovně)\n",
    "* zlom řádku může být uvnitř závorek s argumentem funkce a uvnitř závorek pro seznamy, potom nezáleží na odsazení\n",
    "* komentáře jsou jednořádkové a uvozeny znakem #\n",
    "* doporučený styl podle [Style guide](https://peps.python.org/pep-0008/)"
   ]
  },
  {
   "cell_type": "code",
   "execution_count": null,
   "metadata": {},
   "outputs": [],
   "source": [
    "pocet_opakovani = 10 # promenne pojmenovavame tak, aby nazev vypovidal o obsahu dat\n",
    "pocet_velkych_cisel = 0\n",
    "\"\"\"\n",
    "Při práci nemusíme vypisovat celé jméno proměnné, ale můžeme používat \n",
    "doplňování kódu, kdy napíšeme jenom prvních několik písmen a po stisku \n",
    "domluvené klávesy (zpravidla tabelátor) se název buď doplní, nebo, \n",
    "je-li více variant, se nabídnou možná doplnění pomocí menu.\n",
    "V tomto textu též vidíte možnost víceřádkových komentářů. Stačí je \n",
    "napsat jako víceřádkové řetězce, tj. řetězce uvozené a ukončené třemi \n",
    "uvozovkami.\n",
    "\"\"\"\n",
    "for i in range(pocet_opakovani):\n",
    "    if i<5:\n",
    "        # tisk informace o cisle i\n",
    "        print(\"Číslo\",i,\"je malé\")\n",
    "    else:\n",
    "        print(\n",
    "            \"Číslo\",\n",
    "            i,\n",
    "            \"je velké\"\n",
    "            )\n",
    "        pocet_velkych_cisel = pocet_velkych_cisel + 1\n",
    "print(\n",
    "    \"Vyskytlo se celkem\",\n",
    "    pocet_velkych_cisel,\n",
    "    \"velkych cisel\"\n",
    ")        \n"
   ]
  },
  {
   "cell_type": "markdown",
   "metadata": {},
   "source": [
    "Všimněte si mimo jiné, že Python počítá a indexuje od nuly, podobně jako JavaScript a některé další jazyky. První položka v seznamu má index nula, druhá jedna atd."
   ]
  },
  {
   "cell_type": "markdown",
   "metadata": {
    "id": "QmDaZU7iki_O"
   },
   "source": [
    "## Aritmetika s čísly"
   ]
  },
  {
   "cell_type": "code",
   "execution_count": null,
   "metadata": {
    "colab": {
     "base_uri": "https://localhost:8080/"
    },
    "id": "ocyvF71N72Gx",
    "outputId": "95e8b371-7ddb-4984-db29-221dabc9770c"
   },
   "outputs": [],
   "source": [
    "a = 4 # promenna a obsahuje nastavenou hodnotu\n",
    "b = a + 2  # promenna b bude o dve vetsi nez promenna a\n",
    "a = b**2   # promenna a se nahradi druhou mocninnou promenne b, promenna b zustava na sve hodnote\n",
    "a  # tisk hodnoty promenne, vystup posledniho vypoctu se tiskne, neni nutne pouzivat print"
   ]
  },
  {
   "cell_type": "markdown",
   "metadata": {
    "id": "k6u7R_P915wP"
   },
   "source": [
    "Proměnné si udrží hodnoty i v dalších políčkách. V dalším políčku zmenšíme hodnotu $a$ o 30."
   ]
  },
  {
   "cell_type": "code",
   "execution_count": null,
   "metadata": {
    "colab": {
     "base_uri": "https://localhost:8080/"
    },
    "id": "Eh4O4KTT6WGY",
    "outputId": "21e151dd-9690-421c-f65e-eedca47e3625"
   },
   "outputs": [],
   "source": [
    "a-30"
   ]
  },
  {
   "cell_type": "markdown",
   "metadata": {
    "id": "xlTJDwdgk2Il"
   },
   "source": [
    "Operace se zapisují běžným způsobem jako například v Excelu, pouze umocňování se označuje dvojicí hvězdiček. Takto vypadá druhá mocnina trojky."
   ]
  },
  {
   "cell_type": "code",
   "execution_count": null,
   "metadata": {
    "id": "i1_m650Akzve"
   },
   "outputs": [],
   "source": [
    "3**2"
   ]
  },
  {
   "cell_type": "markdown",
   "metadata": {
    "id": "K0XOGDkBlHWg"
   },
   "source": [
    "### Úkol 1\n",
    "\n",
    "Následující políčko s kódem `1**2 + 2**2 + 3**2 + 4**2`\n",
    "sčítá druhé mocniny přirozených čísel až do čísla 4. Opravte políčko tak, aby sečetlo druhou mocninu přirozených čísel až do čísla 6."
   ]
  },
  {
   "cell_type": "code",
   "execution_count": null,
   "metadata": {
    "colab": {
     "base_uri": "https://localhost:8080/"
    },
    "id": "PAk5a9OMlG5T",
    "outputId": "00319a04-7ba5-494b-f00e-e7fc9cd83ba8"
   },
   "outputs": [],
   "source": [
    "1**2 + 2**2 + 3**2 + 4**2"
   ]
  },
  {
   "cell_type": "markdown",
   "metadata": {},
   "source": [
    "A pokud se vám úkol povedl, podívejme se, jak by úlohu řešil zkušenější zpracovatel dat. Následující kód je sice o něco delší, ale dá se snadno modifikovat pro sečtení mnohem obsáhlejšího seznamu čísel."
   ]
  },
  {
   "cell_type": "code",
   "execution_count": null,
   "metadata": {},
   "outputs": [],
   "source": [
    "import numpy as np # nacteni knihovny\n",
    "data = np.arange(1,7) # vytvoreni seznamu s cisly od 1 do 6\n",
    "print(data) # tisk pro kontrolu\n",
    "sum(data**2) # součet druhých mocnin"
   ]
  },
  {
   "cell_type": "markdown",
   "metadata": {
    "id": "J3C7h3Rn6gxo"
   },
   "source": [
    "## Hrátky s textem\n",
    "\n",
    "Textový řetezec se bere jako seznam znaků a je možné ho ukládat do proměnná, přistupovat k prvnímu nebo poslednímu znaku, k několika prvním nebo několika posledním znakům, ke skupině znaků uprostřed atd. Pozor na to, že Python indexuje od nuly a první znak má tedy index nulový. Pokud je index záporný, znamená to pořadí od konce."
   ]
  },
  {
   "cell_type": "code",
   "execution_count": null,
   "metadata": {
    "colab": {
     "base_uri": "https://localhost:8080/",
     "height": 36
    },
    "id": "nF0Adnda6hOX",
    "outputId": "d40d9168-2024-4acf-aace-d4ebb5c96553"
   },
   "outputs": [],
   "source": [
    "retezec=\"MENDELU\"\n",
    "retezec"
   ]
  },
  {
   "cell_type": "code",
   "execution_count": null,
   "metadata": {
    "colab": {
     "base_uri": "https://localhost:8080/",
     "height": 36
    },
    "id": "xMewcMvb6_zW",
    "outputId": "adef4288-bc49-4bc4-dc1b-757c2bdf87d1"
   },
   "outputs": [],
   "source": [
    "retezec[0]"
   ]
  },
  {
   "cell_type": "code",
   "execution_count": null,
   "metadata": {
    "colab": {
     "base_uri": "https://localhost:8080/",
     "height": 36
    },
    "id": "0MJoGW9i7Crv",
    "outputId": "422087f4-5153-4a64-af4e-bd42a903c74d"
   },
   "outputs": [],
   "source": [
    "retezec[-2]"
   ]
  },
  {
   "cell_type": "code",
   "execution_count": null,
   "metadata": {
    "colab": {
     "base_uri": "https://localhost:8080/",
     "height": 36
    },
    "id": "Y37bYfFc6rP0",
    "outputId": "8186dcf0-1256-4dce-fe9c-d8b66580aeda"
   },
   "outputs": [],
   "source": [
    "retezec[:4]"
   ]
  },
  {
   "cell_type": "code",
   "execution_count": null,
   "metadata": {
    "colab": {
     "base_uri": "https://localhost:8080/",
     "height": 36
    },
    "id": "hm5HFmI86wmG",
    "outputId": "a5d2247d-ea87-4f67-9d07-8aa111c51df8"
   },
   "outputs": [],
   "source": [
    "retezec[-3:]"
   ]
  },
  {
   "cell_type": "code",
   "execution_count": null,
   "metadata": {
    "colab": {
     "base_uri": "https://localhost:8080/",
     "height": 36
    },
    "id": "BU58KUQP65RY",
    "outputId": "04735ffe-42b2-4763-e5ce-94dbfce8c5cb"
   },
   "outputs": [],
   "source": [
    "retezec[2:4]"
   ]
  },
  {
   "cell_type": "code",
   "execution_count": null,
   "metadata": {
    "colab": {
     "base_uri": "https://localhost:8080/",
     "height": 36
    },
    "id": "SDFfyMub7JB2",
    "outputId": "e105684a-86ba-4870-8a21-6ba4ea2d79ce"
   },
   "outputs": [],
   "source": [
    "retezec + \" je prostě \" + retezec + \".\""
   ]
  },
  {
   "cell_type": "code",
   "execution_count": null,
   "metadata": {
    "colab": {
     "base_uri": "https://localhost:8080/",
     "height": 36
    },
    "id": "JIJEMBxg7SgO",
    "outputId": "6c75eb7e-ed6f-4d58-bd8e-960d17fb3309"
   },
   "outputs": [],
   "source": [
    "veta = \"\".join([retezec,\" je prostě \",retezec,\".\"])\n",
    "veta"
   ]
  },
  {
   "cell_type": "code",
   "execution_count": null,
   "metadata": {},
   "outputs": [],
   "source": [
    "len(veta)"
   ]
  },
  {
   "cell_type": "code",
   "execution_count": null,
   "metadata": {
    "colab": {
     "base_uri": "https://localhost:8080/",
     "height": 36
    },
    "id": "v_4Z-aZ37yNe",
    "outputId": "4c4e1084-0caf-43f3-b5d5-cc6481fa94ec"
   },
   "outputs": [],
   "source": [
    "veta[:-5]"
   ]
  },
  {
   "cell_type": "code",
   "execution_count": null,
   "metadata": {
    "colab": {
     "base_uri": "https://localhost:8080/",
     "height": 36
    },
    "id": "uv3XO0aoly4a",
    "outputId": "fe216543-640e-41ad-badf-549197c4c0d8"
   },
   "outputs": [],
   "source": [
    "(10*(retezec+\"-\"))[:-1]"
   ]
  },
  {
   "cell_type": "code",
   "execution_count": null,
   "metadata": {
    "colab": {
     "base_uri": "https://localhost:8080/",
     "height": 36
    },
    "id": "c5Yl5JJJl5VQ",
    "outputId": "22868cd4-6b38-4575-fcac-a53b7ad7f817"
   },
   "outputs": [],
   "source": [
    "\"-\".join([retezec for i in range(10)])"
   ]
  },
  {
   "cell_type": "code",
   "execution_count": null,
   "metadata": {},
   "outputs": [],
   "source": [
    "\"-\".join([retezec for i in range(10)]).lower().replace(\"m\",\"M\")"
   ]
  },
  {
   "cell_type": "markdown",
   "metadata": {},
   "source": [
    "> *Tyto techniky s přístupem k obsahu podle indexu využijeme, když budeme mít data v seznamu a budeme chtít přistupovat například k první nebo poslední hodnotě, nebo k několika prvním či\n",
    "několika posledním hodnotám.* "
   ]
  },
  {
   "cell_type": "markdown",
   "metadata": {
    "jp-MarkdownHeadingCollapsed": true
   },
   "source": [
    "### Úkol 2\n",
    "\n",
    "* Vložte pod toto políčko klávesou B (nebo pomocí menu) políčko pro vložení příkazů. Můžete také jít na následující políčko a vložit nové políčko klávesou A. Musíte být v příkazovém módu, tj. needitovat žádné pole. Před aktuálním políčkem musí být modrá čára.\n",
    "* Do proměnné `muj_pokus` uložte řetězec \"LDF je nejlepší\".\n",
    "* Určete délku řetězce pomocí funkce `len`."
   ]
  },
  {
   "cell_type": "markdown",
   "metadata": {
    "id": "ccvyn4Fy6nFo"
   },
   "source": [
    "## Knihovny"
   ]
  },
  {
   "cell_type": "markdown",
   "metadata": {},
   "source": [
    "Jenom základní funkce jsou v Pythonu přístupny přímo. Další funkce načítáme ve formě knihoven. Pro práci s daty zpravidla nejprve importujeme knihovny pro numeriku, práci s datovými tabulkami a pro kreslení grafů. Přitom používáme pro knihovny obvyklé zkratky, například `np` namísto `numpy`."
   ]
  },
  {
   "cell_type": "code",
   "execution_count": null,
   "metadata": {
    "id": "j1wTKsdkAtT9"
   },
   "outputs": [],
   "source": [
    "import matplotlib.pyplot as plt\n",
    "import numpy as np\n",
    "import pandas as pd"
   ]
  },
  {
   "cell_type": "markdown",
   "metadata": {},
   "source": [
    "## Práce se seznamem hodnot"
   ]
  },
  {
   "cell_type": "markdown",
   "metadata": {},
   "source": [
    "Následující kód ukazuje\n",
    "\n",
    "* jak se vytvoří seznam zadáním hodnot\n",
    "* jak se vytvoří nový seznam na základě předchozího seznamu\n",
    "* jak se vykreslí funkce, pokud máme seznam hodnot pro vodorovnou a svislou osu."
   ]
  },
  {
   "cell_type": "code",
   "execution_count": null,
   "metadata": {},
   "outputs": [],
   "source": [
    "parametry = [0,1,2,4,6,10,15]\n",
    "seznam = [i**3 for i in parametry]\n",
    "plt.plot(parametry, seznam, \"o-\")\n",
    "print(seznam)"
   ]
  },
  {
   "cell_type": "markdown",
   "metadata": {
    "id": "yg6YWG4__3hS"
   },
   "source": [
    "## Práce s poli `np.array`\n",
    "\n",
    "S poli typu `np.array` se pracuje podobně jako se seznamy ale dokážeme s nimi dělat rovnou matematické operace a zápis je pohodlnější."
   ]
  },
  {
   "cell_type": "code",
   "execution_count": null,
   "metadata": {},
   "outputs": [],
   "source": [
    "# S polem typu array je možné provést většinu matematickcýh operací najednou pro všechny prvky.\n",
    "# Pole můžeme vygenerovat pomocí prvního a posledního prvku a příkazu np.linspace.\n",
    "# Jinou možnost pomocí np.array jsme viděli dříve.\n",
    "N = 1\n",
    "x = np.linspace(0,N)\n",
    "y = x**2 \n",
    "plt.plot(x,y)\n",
    "plt.grid()"
   ]
  },
  {
   "cell_type": "markdown",
   "metadata": {},
   "source": [
    "### Úkol 3\n",
    "\n",
    "Nakreslete graf třetí mocniny na intervalu $(-1,1)$."
   ]
  },
  {
   "cell_type": "code",
   "execution_count": null,
   "metadata": {},
   "outputs": [],
   "source": [
    "# Sem vložte příkazy pro nakreslení grafu funkce x**3 na intervalu od -1 do 1."
   ]
  },
  {
   "cell_type": "markdown",
   "metadata": {},
   "source": [
    "### Hollingova funkce\n",
    "\n",
    "Můžeme nakreslit funkce $$y=\\frac{ax}{x+b}$$ pro různé hodnoty $a$. Vyzkoušejte se následující příkazy. Pokuste se modifikovat kód tak, aby kreslil funkci $$y=\\frac{ax^2}{x^2+b}.$$ Abyste zachovali i přednastavené příkazy, pole si nejdřív překopírujte.\n"
   ]
  },
  {
   "cell_type": "code",
   "execution_count": null,
   "metadata": {},
   "outputs": [],
   "source": [
    "a_seznam = [1,2,3]\n",
    "b = 1\n",
    "x = np.linspace(0,2)\n",
    "for a in a_seznam:\n",
    "    plt.plot(x,a*x/(x+b))\n",
    "plt.legend(a_seznam, title=\"Hodnota a\")"
   ]
  },
  {
   "cell_type": "markdown",
   "metadata": {
    "id": "ei9hzP_BBXSf"
   },
   "source": [
    "## Tabulky, pandas"
   ]
  },
  {
   "cell_type": "code",
   "execution_count": null,
   "metadata": {
    "colab": {
     "base_uri": "https://localhost:8080/",
     "height": 394
    },
    "id": "rmR4okn39rhg",
    "outputId": "4ecfb1a2-dee9-4867-c930-e450d5011142"
   },
   "outputs": [],
   "source": [
    "x = np.linspace(0,5,1001)\n",
    "df = pd.DataFrame(index=x)\n",
    "df[\"Holling-I\"] = np.minimum(x,1)\n",
    "df[\"Holling-II\"] = x/(x+1)\n",
    "df[\"Holling-III\"] = x**2/(x**2+1)\n",
    "df[\"prumer\"] = (df[\"Holling-I\"] + df[\"Holling-II\"] + df[\"Holling-III\"])/3\n",
    "df.head()"
   ]
  },
  {
   "cell_type": "code",
   "execution_count": null,
   "metadata": {
    "colab": {
     "base_uri": "https://localhost:8080/",
     "height": 394
    },
    "id": "Ub4ff822-CYF",
    "outputId": "86dd4a37-e715-425c-ea6a-6dbd4e176b72"
   },
   "outputs": [],
   "source": [
    "df.plot()"
   ]
  },
  {
   "attachments": {},
   "cell_type": "markdown",
   "metadata": {},
   "source": [
    "Tabulky je možno použít k operacím se sloupci podobně jako to znáte z Excelu,\n",
    "ale přehledněji. \n",
    "\n",
    "> *Tabulky využijeme k ukládání stejně dlouhých datových řad. Výhodou je, že\n",
    "> tabulky mají mnoho nástrojů na kreslení, manipulaci se sloupci a podobně.\n",
    "> Využijeme u modelů, kde řešením dostaneme časový průběh pro více nastavení. Nemusíme kreslit každou křivku samostatně, ale nakreslíme je jedním příkazem.*"
   ]
  },
  {
   "cell_type": "markdown",
   "metadata": {},
   "source": [
    "## Dva obrázky pod sebou, data z tabulky"
   ]
  },
  {
   "cell_type": "markdown",
   "metadata": {},
   "source": [
    "Někdy chceme nakreslit do jednoho obrázku dvě funkce se společným definičním\n",
    "oborem, ale značně rozdílnými funkčními hodnotami. Řešením je buď nakreslit\n",
    "obrázky pod sebe a se sdílenou vodorovnou osou (viz níže), nebo nakreslit do\n",
    "jednoho obrázku obě funkce, ale každou s jiným měřítkem na svislé ose, tedy\n",
    "použít v jednom obrázku dvě svislé osy (viz Google a hesla `matplotlib` a `twinx`)."
   ]
  },
  {
   "cell_type": "code",
   "execution_count": null,
   "metadata": {
    "colab": {
     "base_uri": "https://localhost:8080/",
     "height": 298
    },
    "id": "HKSNfA-O9Arv",
    "outputId": "211ed24f-595a-4daa-9646-1d0b9de606f5"
   },
   "outputs": [],
   "source": [
    "# Tisk začátku tabulky pro kontrolu\n",
    "print(df.head())\n",
    "\n",
    "# vykresleni dat do obrazku\n",
    "ax = df[[\"Holling-II\",\"Holling-III\"]].plot(subplots=True)\n",
    "\n",
    "# # dekorace grafu\n",
    "ax[0].grid() # vykresleni mrizky\n",
    "ax[1].grid() # vykresleni mrizky\n"
   ]
  },
  {
   "cell_type": "code",
   "execution_count": null,
   "metadata": {},
   "outputs": [],
   "source": []
  }
 ],
 "metadata": {
  "colab": {
   "collapsed_sections": [
    "iHJ52XaQ4gF1",
    "E59ljJKTj5K3",
    "9aCn2S3sapGS",
    "ALuwqdYv4R7-",
    "hT5IVnRzbaH6",
    "DFLfg61T9ZsO",
    "dX1q5vqC9fwj"
   ],
   "name": "00_Uvod_Python.ipynb",
   "provenance": []
  },
  "kernelspec": {
   "display_name": "Python 3 (ipykernel)",
   "language": "python",
   "name": "python3"
  },
  "language_info": {
   "codemirror_mode": {
    "name": "ipython",
    "version": 3
   },
   "file_extension": ".py",
   "mimetype": "text/x-python",
   "name": "python",
   "nbconvert_exporter": "python",
   "pygments_lexer": "ipython3",
   "version": "3.10.10"
  },
  "varInspector": {
   "cols": {
    "lenName": 16,
    "lenType": 16,
    "lenVar": 40
   },
   "kernels_config": {
    "python": {
     "delete_cmd_postfix": "",
     "delete_cmd_prefix": "del ",
     "library": "var_list.py",
     "varRefreshCmd": "print(var_dic_list())"
    },
    "r": {
     "delete_cmd_postfix": ") ",
     "delete_cmd_prefix": "rm(",
     "library": "var_list.r",
     "varRefreshCmd": "cat(var_dic_list()) "
    }
   },
   "types_to_exclude": [
    "module",
    "function",
    "builtin_function_or_method",
    "instance",
    "_Feature"
   ],
   "window_display": false
  },
  "vscode": {
   "interpreter": {
    "hash": "916dbcbb3f70747c44a77c7bcd40155683ae19c65e1c03b4aa3499c5328201f1"
   }
  }
 },
 "nbformat": 4,
 "nbformat_minor": 4
}
