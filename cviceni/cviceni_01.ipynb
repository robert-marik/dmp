{
 "cells": [
  {
   "attachments": {},
   "cell_type": "markdown",
   "metadata": {
    "id": "ipkYKsIQbJF5"
   },
   "source": [
    "# Úvod do jazyka Python\n",
    "\n",
    "Python patří mezi nástroje pro dávkové zpracování dat. V tomto případě se nepostupuje interaktivně jako například v MS Excel, ale uživatel sestaví posloupnost příkazů a interpreter provede tyto příkazy podobně, jako spuštění programu. Výhody jsou následující.\n",
    "\n",
    "* Možnost pracovat s daty neomezené velikosti.\n",
    "* Snadná reprodukovatelnost.\n",
    "* Lepší přehlednost v rozsáhlejších projektech.\n",
    "* Možnost zařazení datové analýzy jako stavebního kamene delšího řetězce.\n",
    "* Možnost neomezeného opakování stejné analýzy v cyklu nad jinými daty.\n",
    "\n",
    "Nevýhoda dávkového zpracování je, že si nemůžeme požadované výstupy zajistit klikáním v menu. Jedná se však o nástroje s širokou uživatelskou základnou a v době kvalitního vyhledávání na Internetu není těžké \"vygooglit\" na webech s dotazy a odpověďmi příkazy nutné pro kreslení grafů různých typů a další dílčí úkoly spojené se zpracováním dat. Výhodou jsou mnohem větší možnosti, než má Excel. Srovnatelný se skriptováním v jazyce Python je jedině program Matlab, který je na univerzitě dostupný, ale vzhledem k vysoké ceně nebývá dostupný mimo univerzity a mimo velké firmy."
   ]
  },
  {
   "cell_type": "markdown",
   "metadata": {},
   "source": [
    "## Ke způsobu práce\n",
    "\n",
    "* Učíme se na příkladech.\n",
    "* Začínáme s modifikací hotových modelů. Experimentujte. Zkoušejte příklady z nápovědy, z přednášek a cvičení.\n",
    "* Model stavíme z hotových bloků, málo modelů píšeme od nuly. Často najdeme podobný problém a ten si přizpůsobíme. Například najdeme obrázek podobný našemu zamýšlenému v [galerii](https://pandas.pydata.org/pandas-docs/stable/user_guide/visualization.html) a odsud vidíme, jaké příkazy a volby je potřeba použít.\n",
    "* Detaily k nastavení a volbám při volání funkcí hledáme v manuálu. Pro rychlou orientaci slouží [cheatsheety](https://www.datacamp.com/cheat-sheet/category/python).\n",
    "* Spousta dotazů s kvalitními odpověďmi je na serveru StackExchange nebo jinde. Popište hesly problém ve vyhledávacím políčku Google a zkuste vyhledat podobné dotazy a odpovědi na ně. Totéž s chybovými hláškami, pokud jim nerozumíte."
   ]
  },
  {
   "cell_type": "markdown",
   "metadata": {},
   "source": [
    "## K syntaxi v jazyce Python\n",
    "\n",
    "* záleží na mezerách na začátku řádku\n",
    "   * příkazy tvořící hlavní tělo začínají na začátku řádku\n",
    "   * bloky uvnitř cyklů a podmínek jsou odsazeny o pevný počet mezer (doporučené jsou čtyři pro jednotlivé úrovně)\n",
    "* zlom řádku může být uvnitř závorek s argumentem funkce a uvnitř závorek pro seznamy, potom nezáleží na odsazení\n",
    "* komentáře jsou jednořádkové a uvozeny znakem #\n",
    "* doporučený styl podle [Style guide](https://peps.python.org/pep-0008/)"
   ]
  },
  {
   "cell_type": "code",
   "execution_count": null,
   "metadata": {},
   "outputs": [],
   "source": [
    "pocet_opakovani = 10 # promenne pojmenovavame tak, aby nazev vypovidal o obsahu dat\n",
    "pocet_velkych_cisel = 0\n",
    "\"\"\"\n",
    "Při práci nemusíme vypisovat celé jméno proměnné, ale můžeme používat \n",
    "doplňování kódu, kdy napíšeme jenom prvních několik písmen a po stisku \n",
    "domluvené klávesy (zpravidla tabelátor) se název buď doplní, nebo, \n",
    "je-li více variant, se nabídnou možná doplnění pomocí menu.\n",
    "V tomto textu též vidíte možnost víceřádkových komentářů. Stačí je \n",
    "napsat jako víceřádkové řetězce, tj. řetězce uvozené a ukončené třemi \n",
    "uvozovkami.\n",
    "\"\"\"\n",
    "for i in range(pocet_opakovani):\n",
    "    if i<5:\n",
    "        # tisk informace o cisle i\n",
    "        print(\"Číslo\",i,\"je malé\")\n",
    "    else:\n",
    "        print(\n",
    "            \"Číslo\",\n",
    "            i,\n",
    "            \"je velké\"\n",
    "            )\n",
    "        pocet_velkych_cisel = pocet_velkych_cisel + 1\n",
    "print(\n",
    "    \"Vyskytlo se celkem\",\n",
    "    pocet_velkych_cisel,\n",
    "    \"velkych cisel\"\n",
    ")        \n"
   ]
  },
  {
   "cell_type": "markdown",
   "metadata": {},
   "source": [
    "Všimněte si mimo jiné, že Python počítá a indexuje od nuly, podobně jako JavaScript a některé další jazyky. První položka v seznamu má index nula, druhá jedna atd."
   ]
  },
  {
   "cell_type": "markdown",
   "metadata": {
    "id": "QmDaZU7iki_O"
   },
   "source": [
    "## Aritmetika s čísly"
   ]
  },
  {
   "cell_type": "code",
   "execution_count": null,
   "metadata": {
    "colab": {
     "base_uri": "https://localhost:8080/"
    },
    "id": "ocyvF71N72Gx",
    "outputId": "95e8b371-7ddb-4984-db29-221dabc9770c"
   },
   "outputs": [],
   "source": [
    "a = 4 # promenna a obsahuje nastavenou hodnotu\n",
    "b = a + 2  # promenna b bude o dve vetsi nez promenna a\n",
    "a = b**2   # promenna a se nahradi druhou mocninnou promenne b, promenna b zustava na sve hodnote\n",
    "a  # tisk hodnoty promenne, vystup posledniho vypoctu se tiskne, neni nutne pouzivat print"
   ]
  },
  {
   "cell_type": "markdown",
   "metadata": {
    "id": "k6u7R_P915wP"
   },
   "source": [
    "Proměnné si udrží hodnoty i v dalších políčkách. V dalším políčku zmenšíme hodnotu $a$ o 30."
   ]
  },
  {
   "cell_type": "code",
   "execution_count": null,
   "metadata": {
    "colab": {
     "base_uri": "https://localhost:8080/"
    },
    "id": "Eh4O4KTT6WGY",
    "outputId": "21e151dd-9690-421c-f65e-eedca47e3625"
   },
   "outputs": [],
   "source": [
    "a-30"
   ]
  },
  {
   "cell_type": "markdown",
   "metadata": {
    "id": "xlTJDwdgk2Il"
   },
   "source": [
    "Operace se zapisují běžným způsobem jako například v Excelu, pouze umocňování se označuje dvojicí hvězdiček. Takto vypadá druhá mocnina trojky."
   ]
  },
  {
   "cell_type": "code",
   "execution_count": null,
   "metadata": {
    "id": "i1_m650Akzve"
   },
   "outputs": [],
   "source": [
    "3**2"
   ]
  },
  {
   "cell_type": "markdown",
   "metadata": {
    "id": "K0XOGDkBlHWg"
   },
   "source": [
    "### Úkol 1\n",
    "\n",
    "Následující políčko s kódem `1**2 + 2**2 + 3**2 + 4**2`\n",
    "sčítá druhé mocniny přirozených čísel až do čísla 4. Opravte políčko tak, aby sečetlo druhou mocninu přirozených čísel až do čísla 8."
   ]
  },
  {
   "cell_type": "code",
   "execution_count": null,
   "metadata": {
    "colab": {
     "base_uri": "https://localhost:8080/"
    },
    "id": "PAk5a9OMlG5T",
    "outputId": "00319a04-7ba5-494b-f00e-e7fc9cd83ba8"
   },
   "outputs": [],
   "source": [
    "1**2 + 2**2 + 3**2 + 4**2"
   ]
  },
  {
   "cell_type": "markdown",
   "metadata": {
    "id": "J3C7h3Rn6gxo"
   },
   "source": [
    "## Hrátky s textem\n",
    "\n",
    "Textový řetezec se bere jako seznam znaků a je možné ho ukládat do proměnná, přistupovat k prvnímu nebo poslednímu znaku, k několika prvním nebo několika posledním znakům, ke skupině znaků uprostřed atd. Pozor na to, že Python indexuje od nuly a první znak má tedy index nulový. Pokud je index záporný, znamená to pořadí od konce."
   ]
  },
  {
   "cell_type": "code",
   "execution_count": null,
   "metadata": {
    "colab": {
     "base_uri": "https://localhost:8080/",
     "height": 36
    },
    "id": "nF0Adnda6hOX",
    "outputId": "d40d9168-2024-4acf-aace-d4ebb5c96553"
   },
   "outputs": [],
   "source": [
    "retezec=\"MENDELU\"\n",
    "retezec"
   ]
  },
  {
   "cell_type": "code",
   "execution_count": null,
   "metadata": {
    "colab": {
     "base_uri": "https://localhost:8080/",
     "height": 36
    },
    "id": "xMewcMvb6_zW",
    "outputId": "adef4288-bc49-4bc4-dc1b-757c2bdf87d1"
   },
   "outputs": [],
   "source": [
    "retezec[0]"
   ]
  },
  {
   "cell_type": "code",
   "execution_count": null,
   "metadata": {
    "colab": {
     "base_uri": "https://localhost:8080/",
     "height": 36
    },
    "id": "0MJoGW9i7Crv",
    "outputId": "422087f4-5153-4a64-af4e-bd42a903c74d"
   },
   "outputs": [],
   "source": [
    "retezec[-2]"
   ]
  },
  {
   "cell_type": "code",
   "execution_count": null,
   "metadata": {
    "colab": {
     "base_uri": "https://localhost:8080/",
     "height": 36
    },
    "id": "Y37bYfFc6rP0",
    "outputId": "8186dcf0-1256-4dce-fe9c-d8b66580aeda"
   },
   "outputs": [],
   "source": [
    "retezec[:4]"
   ]
  },
  {
   "cell_type": "code",
   "execution_count": null,
   "metadata": {
    "colab": {
     "base_uri": "https://localhost:8080/",
     "height": 36
    },
    "id": "hm5HFmI86wmG",
    "outputId": "a5d2247d-ea87-4f67-9d07-8aa111c51df8"
   },
   "outputs": [],
   "source": [
    "retezec[-3:]"
   ]
  },
  {
   "cell_type": "code",
   "execution_count": null,
   "metadata": {
    "colab": {
     "base_uri": "https://localhost:8080/",
     "height": 36
    },
    "id": "BU58KUQP65RY",
    "outputId": "04735ffe-42b2-4763-e5ce-94dbfce8c5cb"
   },
   "outputs": [],
   "source": [
    "retezec[2:4]"
   ]
  },
  {
   "cell_type": "code",
   "execution_count": null,
   "metadata": {
    "colab": {
     "base_uri": "https://localhost:8080/",
     "height": 36
    },
    "id": "SDFfyMub7JB2",
    "outputId": "e105684a-86ba-4870-8a21-6ba4ea2d79ce"
   },
   "outputs": [],
   "source": [
    "retezec + \" je prostě \" + retezec + \".\""
   ]
  },
  {
   "cell_type": "code",
   "execution_count": null,
   "metadata": {
    "colab": {
     "base_uri": "https://localhost:8080/",
     "height": 36
    },
    "id": "JIJEMBxg7SgO",
    "outputId": "6c75eb7e-ed6f-4d58-bd8e-960d17fb3309"
   },
   "outputs": [],
   "source": [
    "veta = \"\".join([retezec,\" je prostě \",retezec,\".\"])\n",
    "veta"
   ]
  },
  {
   "cell_type": "code",
   "execution_count": null,
   "metadata": {},
   "outputs": [],
   "source": [
    "len(veta)"
   ]
  },
  {
   "cell_type": "code",
   "execution_count": null,
   "metadata": {
    "colab": {
     "base_uri": "https://localhost:8080/",
     "height": 36
    },
    "id": "v_4Z-aZ37yNe",
    "outputId": "4c4e1084-0caf-43f3-b5d5-cc6481fa94ec"
   },
   "outputs": [],
   "source": [
    "veta[:-5]"
   ]
  },
  {
   "cell_type": "code",
   "execution_count": null,
   "metadata": {
    "colab": {
     "base_uri": "https://localhost:8080/",
     "height": 36
    },
    "id": "uv3XO0aoly4a",
    "outputId": "fe216543-640e-41ad-badf-549197c4c0d8"
   },
   "outputs": [],
   "source": [
    "(10*(retezec+\"-\"))[:-1]"
   ]
  },
  {
   "cell_type": "code",
   "execution_count": null,
   "metadata": {
    "colab": {
     "base_uri": "https://localhost:8080/",
     "height": 36
    },
    "id": "c5Yl5JJJl5VQ",
    "outputId": "22868cd4-6b38-4575-fcac-a53b7ad7f817"
   },
   "outputs": [],
   "source": [
    "\"-\".join([retezec for i in range(10)])"
   ]
  },
  {
   "cell_type": "code",
   "execution_count": null,
   "metadata": {},
   "outputs": [],
   "source": [
    "\"-\".join([retezec for i in range(10)]).lower().replace(\"m\",\"M\")"
   ]
  },
  {
   "cell_type": "markdown",
   "metadata": {},
   "source": [
    "> *Tyto techniky s přístupem k obsahu podle indexu využijeme, když budeme mít data v seznamu a budeme chtít přistupovat například k první nebo poslední hodnotě, nebo k několika prvním či\n",
    "několika posledním hodnotám.* "
   ]
  },
  {
   "cell_type": "markdown",
   "metadata": {},
   "source": [
    "### Úkol 2\n",
    "\n",
    "* Vložte pod toto políčko klávesou B (nebo pomocí menu) políčko pro vložení příkazů. Můžete také jít na následující políčko a vložit nové políčko klávesou A. Musíte být v příkazovém módu, tj. needitovat žádné pole. Kolem aktuálního políčka musí být modrý rámeček.\n",
    "* Do proměnné `muj_pokus` uložte řetězec \"LDF je nejlepší\".\n",
    "* Určete délku řetězce pomocí funkce `len`."
   ]
  },
  {
   "cell_type": "markdown",
   "metadata": {
    "id": "ccvyn4Fy6nFo"
   },
   "source": [
    "## Knihovny"
   ]
  },
  {
   "cell_type": "markdown",
   "metadata": {},
   "source": [
    "Jenom základní funkce jsou v Pythonu přístupny přímo. Další funkce načítáme ve formě knihoven. Pro práci s daty zpravidla nejprve importujeme knihovny pro numeriku, práci s datovými tabulkami a pro kreslení grafů. Přitom používáme pro knihovny obvyklé zkratky, například `np` namísto `numpy`. Snipet pro vložení těchto knihoven najdete v rozbalovacím menu Snipets."
   ]
  },
  {
   "cell_type": "code",
   "execution_count": null,
   "metadata": {
    "id": "j1wTKsdkAtT9"
   },
   "outputs": [],
   "source": [
    "import matplotlib.pyplot as plt\n",
    "import numpy as np\n",
    "import pandas as pd"
   ]
  },
  {
   "cell_type": "markdown",
   "metadata": {},
   "source": [
    "## Práce se seznamem hodnot"
   ]
  },
  {
   "cell_type": "markdown",
   "metadata": {},
   "source": [
    "### Zadání hodnot přímo do seznamu\n",
    "\n",
    "Pro nakreslení grafu vyzkoušejte následující kód."
   ]
  },
  {
   "cell_type": "code",
   "execution_count": null,
   "metadata": {
    "colab": {
     "base_uri": "https://localhost:8080/",
     "height": 283
    },
    "id": "-nVRNkm88vm1",
    "outputId": "f42e29ce-6e77-4877-f4de-33f94b6f363d"
   },
   "outputs": [],
   "source": [
    "x = [0, 1, 2, 3, 4, 5, 6]\n",
    "y = [0, 1, 4, 9, 16, 25, 36]\n",
    "plt.plot(x,y);"
   ]
  },
  {
   "cell_type": "markdown",
   "metadata": {},
   "source": [
    "Grafy je možno modifikovat dle potřeby. Následující dvojice příkazů vykreslí dva grafy předvolenými barvami. Jeden graf je složen z teček, druhý z teček a lomené čáry."
   ]
  },
  {
   "cell_type": "code",
   "execution_count": null,
   "metadata": {},
   "outputs": [],
   "source": [
    "plt.plot(x,x, \"o\", color=\"green\")\n",
    "plt.plot(x,y, \"o-\", color=\"red\");\n",
    "\n"
   ]
  },
  {
   "cell_type": "markdown",
   "metadata": {},
   "source": [
    "### Vygenerování položek v seznamu\n",
    "\n",
    "V předchozím jsme zadali funkční hodnoty přímo. Často se funkční hodnoty počítají. Například zde vypočteme druhé mocniny prvních několika přirozených čísel."
   ]
  },
  {
   "cell_type": "code",
   "execution_count": null,
   "metadata": {
    "colab": {
     "base_uri": "https://localhost:8080/"
    },
    "id": "0XZ1lCQtATEG",
    "outputId": "adc45985-a7fa-4a83-d8e6-19ae13eb29fb"
   },
   "outputs": [],
   "source": [
    "y = [i**2 for i in range(9)]\n",
    "y"
   ]
  },
  {
   "cell_type": "code",
   "execution_count": null,
   "metadata": {
    "colab": {
     "base_uri": "https://localhost:8080/"
    },
    "id": "Z5A7gUSY_f-8",
    "outputId": "564e9bfc-1e94-4763-9a3e-075f8d50068c"
   },
   "outputs": [],
   "source": [
    "sum(y)"
   ]
  },
  {
   "cell_type": "code",
   "execution_count": null,
   "metadata": {
    "colab": {
     "base_uri": "https://localhost:8080/",
     "height": 283
    },
    "id": "5_1l2QEmAa6X",
    "outputId": "b6505459-2be0-4832-edb3-3ce38975bba6"
   },
   "outputs": [],
   "source": [
    "plt.plot(y)"
   ]
  },
  {
   "cell_type": "markdown",
   "metadata": {},
   "source": [
    "Uvnitř hranatých závorek může být přechod na nový řádek. Na počtu mezer na\n",
    "začátku v tomto případě nezáleží. \n",
    "\n",
    "> *Tuto techniku využijeme například, pokud\n",
    "budeme chtít vyřešit model pro různé parametry a výstupy uložit pro další práci.*"
   ]
  },
  {
   "cell_type": "code",
   "execution_count": null,
   "metadata": {},
   "outputs": [],
   "source": [
    "parametry = [0,1,2,4,6,15]\n",
    "seznam = [\n",
    "    i**3\n",
    "    for i in parametry\n",
    "]\n",
    "seznam"
   ]
  },
  {
   "cell_type": "markdown",
   "metadata": {
    "id": "yg6YWG4__3hS"
   },
   "source": [
    "## Práce s poli `np.array`\n",
    "\n",
    "S poli typu `np.array` se pracuje podobně jako se seznamy ale dokážeme s nimi dělat rovnou matematické operace a zápis je pohodlnější."
   ]
  },
  {
   "cell_type": "code",
   "execution_count": null,
   "metadata": {},
   "outputs": [],
   "source": [
    "# S polem typu array je možné provést operaci umocnění rovnou\n",
    "# Pole můžeme vygenerovat pomocí prvního a posledního prvku a příkazu np.linspace\n",
    "N = 1\n",
    "x = np.linspace(0,N)\n",
    "y = x**2 \n",
    "plt.plot(x,y)\n",
    "plt.grid()"
   ]
  },
  {
   "cell_type": "markdown",
   "metadata": {},
   "source": [
    "### Úkol 3\n",
    "\n",
    "Nakreslete graf třetí mocniny na intervalu $(-1,1)$. Jako výchozí bod použijte\n",
    "snippet `Graf funkce, Numpy` (horní menu, rozbalovací položka `Snippets`). "
   ]
  },
  {
   "cell_type": "code",
   "execution_count": null,
   "metadata": {},
   "outputs": [],
   "source": [
    "# Sem vložte příkazy pro nakreslení grafu funkce x**3 na intervalu od -1 do 1."
   ]
  },
  {
   "cell_type": "markdown",
   "metadata": {
    "id": "ei9hzP_BBXSf"
   },
   "source": [
    "## Tabulky, pandas"
   ]
  },
  {
   "cell_type": "code",
   "execution_count": null,
   "metadata": {
    "colab": {
     "base_uri": "https://localhost:8080/",
     "height": 394
    },
    "id": "rmR4okn39rhg",
    "outputId": "4ecfb1a2-dee9-4867-c930-e450d5011142"
   },
   "outputs": [],
   "source": [
    "x = np.linspace(0,10,1001)\n",
    "y = x**2\n",
    "df = pd.DataFrame()\n",
    "df[\"x\"] = x\n",
    "df[\"y\"] = y\n",
    "#df[\"suma\"] = df[\"x\"] + df[\"y\"]\n",
    "# Kratsi alternativa: df[\"suma\"] = df.x + df.y\n",
    "df"
   ]
  },
  {
   "cell_type": "code",
   "execution_count": null,
   "metadata": {
    "colab": {
     "base_uri": "https://localhost:8080/",
     "height": 394
    },
    "id": "Ub4ff822-CYF",
    "outputId": "86dd4a37-e715-425c-ea6a-6dbd4e176b72"
   },
   "outputs": [],
   "source": [
    "df[\"soucin\"] = df[\"x\"] * df[\"y\"]\n",
    "df"
   ]
  },
  {
   "cell_type": "markdown",
   "metadata": {},
   "source": [
    "Tabulky je možno použít k operacím se sloupci podobně jako to znáte z Excelu,\n",
    "ale přehledněji. \n",
    "\n",
    "> *Tabulky využijeme k ukládání stejně dlouhých datových řad. Výhodou je, že\n",
    "> tabulky mají mnoho nástrojů na kreslení, manipulaci se sloupci a podobně.*"
   ]
  },
  {
   "cell_type": "code",
   "execution_count": null,
   "metadata": {
    "colab": {
     "base_uri": "https://localhost:8080/",
     "height": 297
    },
    "id": "fuiU1v9L-aGG",
    "outputId": "359a6621-982e-4303-d617-5712af8ee91e"
   },
   "outputs": [],
   "source": [
    "df.plot(x=\"x\")"
   ]
  },
  {
   "cell_type": "code",
   "execution_count": null,
   "metadata": {
    "colab": {
     "base_uri": "https://localhost:8080/",
     "height": 424
    },
    "id": "gLPp7aolB2Tr",
    "outputId": "557a1c00-7df5-4a45-f7e7-83bac7b78f7a"
   },
   "outputs": [],
   "source": [
    "x = np.linspace(0,2*np.pi,100)\n",
    "df = pd.DataFrame(index=x)\n",
    "df[\"sin\"] = np.sin(x)\n",
    "df[\"cos\"] = np.cos(x)\n",
    "df[\"soucet mocnin\"] = df[\"sin\"]**2 + df[\"cos\"]**2\n",
    "df"
   ]
  },
  {
   "cell_type": "markdown",
   "metadata": {
    "id": "dX1q5vqC9fwj"
   },
   "source": [
    "## Obrázky"
   ]
  },
  {
   "cell_type": "code",
   "execution_count": null,
   "metadata": {
    "colab": {
     "base_uri": "https://localhost:8080/",
     "height": 314
    },
    "id": "p6ga1NxT8t8f",
    "outputId": "f044a3a6-bc2f-4dc7-91aa-337b3d5a6215"
   },
   "outputs": [],
   "source": [
    "# vypocet dat\n",
    "x = np.linspace(0,6*np.pi,1000) # data na vstupu, definicni obor funkce\n",
    "y = np.sin(x) # funkcni hodnoty\n",
    "\n",
    "# vykresleni dat do obrazku\n",
    "fig,ax = plt.subplots(figsize=(10,3))\n",
    "plt.plot(x, y, color='red')\n",
    "\n",
    "# kosmeticke upravy\n",
    "ax.set(\n",
    "    title='Graf',\n",
    "    ylabel='Sinus',\n",
    "    xlabel='Nezávislá proměnná',\n",
    "    ylim=(-2,2)\n",
    ");\n"
   ]
  },
  {
   "attachments": {},
   "cell_type": "markdown",
   "metadata": {},
   "source": [
    "## Vykreslení dvourozměného pole\n",
    "\n",
    "Pokud druhý argument není pole čísel, ale pole složené z polí, kreslí se\n",
    "příslušný počet křivek. "
   ]
  },
  {
   "cell_type": "code",
   "execution_count": null,
   "metadata": {},
   "outputs": [],
   "source": [
    "x = np.linspace(0,1.5)\n",
    "seznam_funkci = [ [i**2,i+1,2-i**2] for i in x ]\n",
    "popisek = [\"parabola\",\"přímka\", \"otočená parabola\"]\n",
    "plt.plot(x,seznam_funkci, label=popisek)\n",
    "plt.legend();"
   ]
  },
  {
   "attachments": {},
   "cell_type": "markdown",
   "metadata": {},
   "source": [
    "Body do každé křivky se berou ze sloupců. Pokud tedy\n",
    "vytvoříme pole ze seznamu křivek, musíme jej transponovat, tj. řádky přepsat do\n",
    "sloupců. Aby se dalo pole transponovat, je nutné jej mít jako `np.array`."
   ]
  },
  {
   "cell_type": "code",
   "execution_count": null,
   "metadata": {},
   "outputs": [],
   "source": [
    "x = np.linspace(0,1.5)\n",
    "seznam_funkci = np.array([x**2,x+1,2-x**2])\n",
    "popisek = [\"parabola\", \"přímka\", \"otočená parabola\"]\n",
    "plt.plot(x,seznam_funkci.T, label=popisek)\n",
    "plt.legend();"
   ]
  },
  {
   "attachments": {},
   "cell_type": "markdown",
   "metadata": {},
   "source": [
    "> *Uvedený postup využijeme u modelů, kde řešením dostaneme časový průběh více\n",
    "neznámých, například při modelování interakce mezi dvěma a více populacemi.\n",
    "Nemusíme kreslit každou křivku samostatně, ale nakreslíme je jedním příkazem.*"
   ]
  },
  {
   "cell_type": "markdown",
   "metadata": {},
   "source": [
    "## Dva obrázky pod sebou, data z tabulky"
   ]
  },
  {
   "cell_type": "markdown",
   "metadata": {},
   "source": [
    "Někdy chceme nakreslit do jednoho obrázku dvě funkce se společným definičním\n",
    "oborem, ale značně rozdílnými funkčními hodnotami. Řešením je buď nakreslit\n",
    "obrázky pod sebe a se sdílenou vodorovnou osou (viz níže), nebo nakreslit do\n",
    "jednoho obrázku obě funkce, ale každou s jiným měřítkem na svislé ose, tedy\n",
    "použít v jednom obrázku dvě svislé osy (viz Google a hesla `matplotlib` a `twinx`)."
   ]
  },
  {
   "cell_type": "code",
   "execution_count": null,
   "metadata": {
    "colab": {
     "base_uri": "https://localhost:8080/",
     "height": 298
    },
    "id": "HKSNfA-O9Arv",
    "outputId": "211ed24f-595a-4daa-9646-1d0b9de606f5"
   },
   "outputs": [],
   "source": [
    "# tabulka funkcnich hodnot pro sinus a kosinus\n",
    "x = np.linspace(0,6*np.pi,100)\n",
    "df = pd.DataFrame(index=x)\n",
    "df[\"sin\"] = np.sin(x)\n",
    "df[\"cos\"] = np.cos(x)\n",
    "\n",
    "# Tisk začátku tabulky pro kontrolu\n",
    "print(df.head())\n",
    "\n",
    "# vykresleni dat do obrazku\n",
    "fig,ax = plt.subplots(2,1,figsize=(8,4),sharex=True) # zalozeni obrazku se dvema soustavami souradnic pod sebou\n",
    "df.plot(y=\"sin\",ax=ax[0], legend=False)# prvni graf\n",
    "df.plot(y=\"cos\",ax=ax[1], legend=False)# druhy graf\n",
    "\n",
    "# dekorace grafu\n",
    "ax[0].grid() # vykresleni mrizky\n",
    "ax[1].grid() # vykresleni mrizky\n",
    "ax[0].set(ylabel=\"Sinus\")\n",
    "ax[1].set(ylabel=\"Kosinus\");"
   ]
  },
  {
   "cell_type": "markdown",
   "metadata": {},
   "source": [
    "## Extra: Růst populace v prostředí s omezenou nosnou kapacitou\n",
    "\n",
    "Kód simuluje pro různé hodnoty parametru $r$ chování modelu populace, vyvíjející se v prostředí s omezenou nosnou kapacitou podle vztahu $$x_{k+1}=rx_k(1-x_k).$$ O matematických souvislostech se budeme bavit během semestru. Tento příklad ukazuje, že v rekurentních vzorcích se může objevit chaos. Pěkný model růstu populace pro malé hodnoty parametru je pro velké hodnoty nahrazen cykly přeskakujícími mezi několika hodnotami nebo dokonce chaosem. Viz [Logistic map](https://en.wikipedia.org/wiki/Logistic_map) na Wikipedii."
   ]
  },
  {
   "cell_type": "code",
   "execution_count": null,
   "metadata": {},
   "outputs": [],
   "source": [
    "N = 50\n",
    "df = pd.DataFrame()\n",
    "seznam_r = [1.5,2, 2.5, 2.8, 3, 3.5, 3.8,3.9]\n",
    "\n",
    "for r in seznam_r:\n",
    "    x = np.zeros(N) # vytvoření seznamu potřebné délky\n",
    "    x[0]=0.1\n",
    "    for i in range(N-1):\n",
    "      x[i+1] = r*x[i]*(1-x[i])\n",
    "    df[r] = x\n",
    "\n",
    "fig,ax = plt.subplots(figsize=(20,8))\n",
    "df.plot(ax=ax,style=\"o-\")\n",
    "plt.legend(title=r\"parametr $r$\");\n"
   ]
  },
  {
   "cell_type": "markdown",
   "metadata": {},
   "source": [
    "Obrázky můžeme nakreslit také přehledněji do mřížky se sdílenými hodnotami na osách."
   ]
  },
  {
   "cell_type": "code",
   "execution_count": null,
   "metadata": {},
   "outputs": [],
   "source": [
    "fig,axs = plt.subplots(int(len(seznam_r)/2),2,sharex=True, sharey=True)\n",
    "ax = axs.flatten()\n",
    "for i,r in enumerate(seznam_r):\n",
    "    ax[i].plot(df[r],label=r, color=\"C\"+str(i))\n",
    "fig.legend(title=r\"Hodnota $r$\")\n",
    "fig.suptitle(\"Řešení diskrétní logistické rovnice\");"
   ]
  },
  {
   "attachments": {},
   "cell_type": "markdown",
   "metadata": {},
   "source": [
    "## Každá věc se dá udělat více způsoby ..."
   ]
  },
  {
   "attachments": {},
   "cell_type": "markdown",
   "metadata": {},
   "source": [
    "Do mřížky umí grafy uspořádat i přímo příkaz pro kreslení proměnné obsahující tabulku."
   ]
  },
  {
   "cell_type": "code",
   "execution_count": null,
   "metadata": {},
   "outputs": [],
   "source": [
    "df.plot(\n",
    "    subplots=True, \n",
    "    layout=(int(len(seznam_r)/2),2), \n",
    "    sharex=True, \n",
    "    sharey=True);"
   ]
  },
  {
   "attachments": {},
   "cell_type": "markdown",
   "metadata": {},
   "source": [
    "Je také možné počítat pro všechny hodnoty parametru $r$ současně. Potom stačí\n",
    "jeden cyklus. Nemusí se dělat cyklus pro každou hodnotu parametru samostatně."
   ]
  },
  {
   "cell_type": "code",
   "execution_count": null,
   "metadata": {},
   "outputs": [],
   "source": [
    "N = 50\n",
    "df = pd.DataFrame()\n",
    "seznam_r = [1.5,2, 2.5, 2.8, 3, 3.5, 3.8,3.9]\n",
    "\n",
    "x = np.zeros([N, len(seznam_r)]) # vytvoření seznamu potřebné délky\n",
    "x [0,:] = 0.1\n",
    "for i in range(N-1):\n",
    "    x[i+1,:] = seznam_r*x[i,:]*(1-x[i,:])\n",
    "\n",
    "fig,ax = plt.subplots(figsize=(15,4))\n",
    "plt.plot(x,\"o-\")\n",
    "plt.legend(seznam_r,title=r\"parametr $r$\");"
   ]
  },
  {
   "cell_type": "code",
   "execution_count": null,
   "metadata": {},
   "outputs": [],
   "source": []
  }
 ],
 "metadata": {
  "colab": {
   "collapsed_sections": [
    "iHJ52XaQ4gF1",
    "E59ljJKTj5K3",
    "9aCn2S3sapGS",
    "ALuwqdYv4R7-",
    "hT5IVnRzbaH6",
    "DFLfg61T9ZsO",
    "dX1q5vqC9fwj"
   ],
   "name": "00_Uvod_Python.ipynb",
   "provenance": []
  },
  "kernelspec": {
   "display_name": "Python 3 (ipykernel)",
   "language": "python",
   "name": "python3"
  },
  "language_info": {
   "codemirror_mode": {
    "name": "ipython",
    "version": 3
   },
   "file_extension": ".py",
   "mimetype": "text/x-python",
   "name": "python",
   "nbconvert_exporter": "python",
   "pygments_lexer": "ipython3",
   "version": "3.10.10"
  },
  "varInspector": {
   "cols": {
    "lenName": 16,
    "lenType": 16,
    "lenVar": 40
   },
   "kernels_config": {
    "python": {
     "delete_cmd_postfix": "",
     "delete_cmd_prefix": "del ",
     "library": "var_list.py",
     "varRefreshCmd": "print(var_dic_list())"
    },
    "r": {
     "delete_cmd_postfix": ") ",
     "delete_cmd_prefix": "rm(",
     "library": "var_list.r",
     "varRefreshCmd": "cat(var_dic_list()) "
    }
   },
   "types_to_exclude": [
    "module",
    "function",
    "builtin_function_or_method",
    "instance",
    "_Feature"
   ],
   "window_display": false
  },
  "vscode": {
   "interpreter": {
    "hash": "916dbcbb3f70747c44a77c7bcd40155683ae19c65e1c03b4aa3499c5328201f1"
   }
  }
 },
 "nbformat": 4,
 "nbformat_minor": 4
}
