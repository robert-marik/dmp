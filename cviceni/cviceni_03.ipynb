{
 "cells": [
  {
   "cell_type": "markdown",
   "id": "0f2e5117",
   "metadata": {},
   "source": [
    "# Diferenciální rovnice 1"
   ]
  },
  {
   "cell_type": "code",
   "execution_count": null,
   "id": "5bdf147f",
   "metadata": {
    "tags": []
   },
   "outputs": [],
   "source": [
    "import matplotlib.pyplot as plt\n",
    "import pandas as pd\n",
    "import numpy as np\n",
    "from scipy.integrate import solve_ivp"
   ]
  },
  {
   "cell_type": "markdown",
   "id": "30be4c98",
   "metadata": {},
   "source": [
    "* Ve cvičení začínáme částí A, řešení modelu dynamické rovnováhy druhů z\n",
    "  přednášky.\n",
    "* Kdo je schopen postupovat podle textu a řešit úkoly samostatně, může pracovat\n",
    "  dopředu a pokračovat částí B, kde jsou na modelu ochlazování kávy možnosti\n",
    "  příkazu pro řešení diferenciálních rovnic.\n",
    "* Část C se vrací k modelu dynamické rovnováhy, ukazuje příklad, jak je možné\n",
    "  nakreslit křivky řídící rychlosti kolonizace a vymírání a jak je možné\n",
    "  prozkoumat chování modelu při různých počátečních podmínkách a různých\n",
    "  hodnotách parametru. Zájemci by měli být schopni si tyto pasáže projít sami. "
   ]
  },
  {
   "cell_type": "markdown",
   "id": "4ac3ae94-dd5d-4c7a-b31c-11f05e620ecd",
   "metadata": {},
   "source": [
    "## Část A: Řešení diferenciální rovnice (modifikace existujícího kódu)"
   ]
  },
  {
   "cell_type": "markdown",
   "id": "39c67939-c413-42e9-bcdd-fe88ba10a450",
   "metadata": {},
   "source": [
    "Pokud jste rychlejší, řešte samostatně a pokračujte samostatně k části B s\n",
    "detailnějším popisem příkazu `solve_ivp`.\n",
    "\n",
    "\n",
    "### Řešení rovnice a vizualizace řešení. \n",
    "\n",
    "Následující kód vyřeší rovnici $$\\frac{\\mathrm dN}{\\mathrm dt}= \\frac\n",
    "b{D(N+\\beta)}-a\\frac {N^k}S$$ dynamické rovnováhy na ostrově s nulovou počáteční\n",
    "podmínkou. \n",
    "\n",
    "\n",
    "#### Úkoly:\n",
    "\n",
    "1. Prohlédnout si kód, ujasnit si co dělá, spustit.\n",
    "1. Vyzkoušejte si zadání více počátečních podmínek, například \n",
    "  řádek `pocatecni_podminka = [0]` vyměňte za `pocatecni_podminka = [0,5,10,20]`. Tím získáte řešení pro několik počátečních podmínek současně.\n",
    "1. Vyzkoušejte si změnit úlohu.\n",
    "  Vykopírujte text do nové buňky (můžete duplikovat buňku a kopii potom upravovat) a opravte tak, aby zobrazoval řešení počáteční\n",
    "  úlohy $$\\frac{\\mathrm dT}{\\mathrm dt}=-0.1(T-20), \\quad T(0)=100$$ s\n",
    "  ochlazováním kávy. I zde zkuste více počátečních podmínek.\n",
    "1. Vyzkoušejte si do půodního modelu ostrovní biodiverzity doplnit křivku odpovídající řešení pro ostrov ve dvojnásobné vzdálenosti od pevniny. Zkontrolujte, že kód kreslí dvě funkce a že se pro vzdálenější ostrov řešení chová tak, jak očekáváte. Pro začátek můžete recyklovat kód kde se řeší jedna rovnice a řetezit výpočty za sebe. Později si ukážeme lepší řešení. Pokud chcete všechny výstupy příkazu `plot` mít v jednom obrázku, musíte je volat ve stejné buňce. Možná se bude hodit si nadefinovat funkci `model2` nějak takto.\n",
    "``` python\n",
    "def model2(t,N):\n",
    "    return model(t,N,D=1)\n",
    "```\n",
    "\n"
   ]
  },
  {
   "cell_type": "code",
   "execution_count": null,
   "id": "49414265",
   "metadata": {
    "tags": []
   },
   "outputs": [],
   "source": [
    "### Příprava funkcí a parametrů\n",
    "pocatecni_podminka = [0]  # počáteční podmínka nebo podmínky\n",
    "meze = [0,15]  # interval, na kterém hledáme řešení\n",
    "n = 100 # počet dělících bodů\n",
    "\n",
    "def model(t, N, a=1, b=8, beta=0.2, D=0.5, k=1.3, S=20):\n",
    "    \"\"\"\n",
    "    Funkce z pravé strany modelu dynamické rovnováhy počtu druhů na ostrovech, \n",
    "    podle McArthura a Wilsona. \n",
    "    \n",
    "    Vstup:\n",
    "    -----\n",
    "    Povinnými parametry jsou čas a počet druhů, volitelnými vzdálenost \n",
    "    D od pevniny, rozloha ostrova S, další parametry modelu a konstanty \n",
    "    úměrnosti. Přednastavené hodnoty jsou pouze ilustrační, závisí na volbě\n",
    "    jednotek a konkrétním použití.\n",
    "    \n",
    "    Výstup:\n",
    "    ------\n",
    "    Hodnota funkce.\n",
    "    \"\"\"\n",
    "    kolonizace = b/(D*(N+beta))\n",
    "    vymirani = a*N**k/S \n",
    "    return  kolonizace - vymirani \n",
    "\n",
    "### Řešení modelu\n",
    "t=np.linspace(*meze, n)  # definiční obor, v těchto bodech budeme hledat řešení\n",
    "reseni = solve_ivp(\n",
    "                   model,\n",
    "                   meze,\n",
    "                   pocatecni_podminka,\n",
    "                   t_eval=t\n",
    "                   )\n",
    "\n",
    "### Vizualizace řešení\n",
    "fig,ax = plt.subplots(1)\n",
    "ax.plot(t,reseni.y.T)\n",
    "ax.set(\n",
    "    ylim = (0,None),\n",
    "    title = \"Dynamická rovnováha počtu druhů na ostrově\",\n",
    "    xlabel=\"čas\",\n",
    "    ylabel=\"počet druhů\",\n",
    ");"
   ]
  },
  {
   "cell_type": "code",
   "execution_count": null,
   "id": "f78a7ca2-edb4-4f58-947e-21964fcf4d66",
   "metadata": {
    "tags": []
   },
   "outputs": [],
   "source": [
    "?model"
   ]
  },
  {
   "cell_type": "markdown",
   "id": "70e8487d",
   "metadata": {},
   "source": [
    "### Řešení pro sadu parametrů\n",
    "\n",
    "Následující kód řeší vícekrát rovnici dynamické rovnováhy pro několik různých\n",
    "vzdálenosti ostrova od pevniny optimálním způsobem, kdy parametry získáme z předdefinovaného seznamu, nejprve vypočteme všechna řešení a data uložíme do tabulky a teprve poté data vykreslíme. Tím je jasně daná struktura, kde se připravují výpočty, kde se počítají data a kde se data prezentují. Pro malé projekty toto není tak důležité, při delším kódu to značně zvýsí přehlednost s udržovatelnost.\n",
    "\n",
    "V čem se kód změní od předchozího? Prohlédněgte si [diff](https://gist.github.com/robert-marik/186cb003476f88526455af53d0121adc/revisions?diff=split&w=) obou kódů.\n",
    "\n",
    "* Používá se proměnná se seznamem parametrů.\n",
    "* Data se ukládají do tabulky, protože místo jednoho řešení budeme mít řešení několik.\n",
    "* Ve volání příkazu `solve_ivp` se předává hodnota parametru.\n",
    "* Příkazy pro řešení rovnice a uložení do tabulky jsou volány v cyklu.\n",
    "* Pro kreslení se dá použít metoda `plot` pro tabulky."
   ]
  },
  {
   "cell_type": "code",
   "execution_count": null,
   "id": "ded12b61",
   "metadata": {},
   "outputs": [],
   "source": [
    "### Příprava funkcí a parametrů\n",
    "pocatecni_podminka = [0]  # počáteční podmínka\n",
    "meze = [0,15]  # interval, na kterém hledáme řešení\n",
    "n = 100 # počet dělících bodů\n",
    "parametry = [0.25,0.5,1,2] # seznam parametrů\n",
    "\n",
    "\n",
    "def model(t, N, a=1, b=8, beta=0.2, D=0.5, k=1.3, S=20):\n",
    "    \"\"\"\n",
    "    Funkce z pravé strany modelu dynamické rovnováhy počtu druhů na ostrovech, \n",
    "    podle McArthura a Wilsona. \n",
    "    \n",
    "    Vstup:\n",
    "    -----\n",
    "    Povinnými parametry jsou čas a počet druhů, volitelnými vzdálenost \n",
    "    D od pevniny, rozloha ostrova S, další parametry modelu a konstanty \n",
    "    úměrnosti. Přednastavené hodnoty jsou pouze ilustrační, závisí na volbě\n",
    "    jednotek a konkrétním použití.\n",
    "    \n",
    "    Výstup:\n",
    "    ------\n",
    "    Hodnota funkce.\n",
    "    \"\"\"\n",
    "    kolonizace = b/(D*(N+beta))\n",
    "    vymirani = a*N**k/S \n",
    "    return  kolonizace - vymirani \n",
    "\n",
    "### Řešení modelu\n",
    "t=np.linspace(*meze, n)  # definiční obor, v těchto bodech budeme hledat řešení\n",
    "df = pd.DataFrame(index=t, columns=parametry)      # tabulka pro výstup\n",
    "\n",
    "for parametr in parametry:\n",
    "    reseni = solve_ivp(\n",
    "                       lambda t,x:model(t,x,D=parametr),\n",
    "                       meze,\n",
    "                       pocatecni_podminka,\n",
    "                       t_eval=t\n",
    "                       )\n",
    "    df[parametr] = reseni.y.T # další sloupec tabulky\n",
    "    # lambda funkce viz https://www.w3schools.com/python/python_lambda.asp\n",
    "    # (dočasná nepojmenovaná funkce)\n",
    "\n",
    "### Vizualizace řešení\n",
    "ax = df.plot()\n",
    "ax.set(\n",
    "    ylim = (0,None),\n",
    "    title = \"Dynamická rovnováha počtu druhů na ostrově\",\n",
    "    xlabel=\"čas\",\n",
    "    ylabel=\"počet druhů\",\n",
    ")\n",
    "plt.legend(title=\"Vzdálenost ostrova\");"
   ]
  },
  {
   "cell_type": "markdown",
   "id": "673fdb45",
   "metadata": {},
   "source": [
    "#### Úkoly\n",
    "\n",
    "* Vyzkoušejte si kód.\n",
    "* V nové buňce sledujte vliv rozlohy ostrova (vzdálenost je stejná) na druhovu\n",
    "  skladbu. Vykopírujte si kód a proveďte příslušnou modifikaci.\n",
    "* Před každou buňku s výpočty vložte textovou buňku popisující, co se ve výpočtu\n",
    "  odehrává, co se snažíme ukázat. Musíte vložit buňku, změnit typ z Code na\n",
    "  Markdown (vybrat buňku a stisknout M, nebo použít rozbalovací menu v toolbaru a vepsat komentář.\n",
    "* Pokud jsou veličiny $S$ a $D$ ve stále stejném poměru, je stejná i hodnota, ke\n",
    "  které konverguje řešení (viz přednáška). \n",
    "  * Znamená to, že se budou populace\n",
    "  vyvíjet stejně na daném ostrově a na ostrově, který je dvakrát větší a\n",
    "  dvakrát dále? V čem se bude situace lišit a v čem bude stejná? \n",
    "  * Odhadněte\n",
    "  odpověď a potvrďte si  hypotézu tak, že budete modelovat plnou\n",
    "  diferenciální rovnici pro obě uvažované situace. Můžete použít něco jako\n",
    "  `lambda t,x:model(t,x,D=0.5*nasobek,S=20*nasobek)` a proměnnou `nasobek` nechat iterovat přes seznam `[1,2]` (případně delší seznam)."
   ]
  },
  {
   "cell_type": "markdown",
   "id": "594fcf72-3157-4350-940b-b05f4f489046",
   "metadata": {},
   "source": [
    "Vyzkoušejte si i následující kód (s nastavením funkce model jako v původní buňce). Vodorovně je velikost populace, svisle rychlost kolonizace resp. vymírání. Využíváme toho, že jeden z členů ve funkci z pravé strany rovnice lze eliminivat tak, že konstanta, která tento člen násobí, bude nulová."
   ]
  },
  {
   "cell_type": "code",
   "execution_count": 8,
   "id": "ffc10025-cd8e-4662-a48f-bae5173f0e46",
   "metadata": {
    "execution": {
     "iopub.execute_input": "2024-03-04T17:54:34.801496Z",
     "iopub.status.busy": "2024-03-04T17:54:34.800595Z",
     "iopub.status.idle": "2024-03-04T17:54:35.625769Z",
     "shell.execute_reply": "2024-03-04T17:54:35.624913Z",
     "shell.execute_reply.started": "2024-03-04T17:54:34.801458Z"
    },
    "tags": []
   },
   "outputs": [
    {
     "data": {
      "text/plain": [
       "<matplotlib.legend.Legend at 0x7fac64dd3730>"
      ]
     },
     "execution_count": 8,
     "metadata": {},
     "output_type": "execute_result"
    },
    {
     "data": {
      "image/png": "[encoded data removed]",
      "text/plain": [
       "<Figure size 640x480 with 1 Axes>"
      ]
     },
     "metadata": {},
     "output_type": "display_data"
    }
   ],
   "source": [
    "def model(t, N, a=1, b=8, beta=0.2, D=0.5, k=1.3, S=20):\n",
    "    kolonizace = b/(D*(N+beta))\n",
    "    vymirani = a*N**k/S \n",
    "    return  kolonizace - vymirani \n",
    "\n",
    "N = np.linspace(2,30)\n",
    "plt.plot(N,model(0,N,a=0),N,-model(0,N,b=0))\n",
    "plt.legend(['kolonizace','vymírání'])"
   ]
  },
  {
   "cell_type": "markdown",
   "id": "a6bd09a6-1b40-4b37-8607-236d3a985899",
   "metadata": {
    "jp-MarkdownHeadingCollapsed": true,
    "tags": []
   },
   "source": [
    "## Část B: Řešení diferenciální rovnice (podrobnější pohled pod kapotu)"
   ]
  },
  {
   "cell_type": "markdown",
   "id": "bc16df96-58f2-47fe-b179-aa82d58363f1",
   "metadata": {
    "jp-MarkdownHeadingCollapsed": true
   },
   "source": [
    "Příkaz `solve_ivp` dokáže vyřešit zadanou diferenciální rovnici pro několik počátečních podmínek. Použití je možné vidět na následujícím příkladě. Pro tři počáteční podmínky $y(0)=2$, $y(0)=4$ a $y(0)=8$  řešíme rovnici $$\\frac{\\mathrm dy}{\\mathrm dt}=-0.5 y,$$\n",
    "kterou je možno chápat jako rovnici ochlazování, nebo jako rovnici radioaktivního rozpadu. Výstupem je objekt, který v sobě obsahuje kromě vypočtených dat i další informace, například zda se podařilo rovnici vyřešit. "
   ]
  },
  {
   "cell_type": "code",
   "execution_count": null,
   "id": "01b3fffb",
   "metadata": {},
   "outputs": [],
   "source": [
    "pocatecni_podminky = [2, 4, 8]\n",
    "meze = [0,10]\n",
    "def rovnice(t, y): \n",
    "    return -0.5 * y\n",
    "sol = solve_ivp(rovnice, meze, pocatecni_podminky)\n",
    "sol\n"
   ]
  },
  {
   "cell_type": "markdown",
   "id": "6c2b28cc",
   "metadata": {},
   "source": [
    "Následující příkazy vytisknou časy ve kterých bylo vypočteno řešení a hodnotu každého z řešení v daném čase."
   ]
  },
  {
   "cell_type": "code",
   "execution_count": null,
   "id": "30a86b87",
   "metadata": {},
   "outputs": [],
   "source": [
    "print(sol.t)\n",
    "print(sol.y)"
   ]
  },
  {
   "cell_type": "markdown",
   "id": "e4d75b6b",
   "metadata": {},
   "source": [
    "Pro pohodnější práci je možné data zadat do tabulky, kde v prvním sloupci bude čas a v dalších sloupcích budou vypočtená řešení. Název sloupce bude dán počáteční podmínkou. Je vidět, že tímto číslem každé řešení i začíná."
   ]
  },
  {
   "cell_type": "code",
   "execution_count": null,
   "id": "f9650ef6",
   "metadata": {},
   "outputs": [],
   "source": [
    "df = pd.DataFrame()\n",
    "df.index = sol.t\n",
    "for i,j in zip(pocatecni_podminky, sol.y):\n",
    "    df[i] = j\n",
    "df"
   ]
  },
  {
   "cell_type": "markdown",
   "id": "69af9333",
   "metadata": {},
   "source": [
    "Po vykreslení vidíme, že graf je z lomených čar. Pro výraznost jsme přidali i tečky v bodech zlomu. To proto, že řešení byla vypočtena a v několika málo bodech."
   ]
  },
  {
   "cell_type": "code",
   "execution_count": null,
   "id": "eb302826",
   "metadata": {},
   "outputs": [],
   "source": [
    "df.plot(style=\"o-\");"
   ]
  },
  {
   "cell_type": "markdown",
   "id": "c2ba68e4",
   "metadata": {},
   "source": [
    "### Úkol\n",
    "\n",
    "Vyzkoušejte si následující elegantnější příkazy. Pomocí nich nemusíme dělat cyklus přes jednotlivá řešení při sestavování tabulky a můžeme nakreslit všechna tři řešení jedním příkazem i bez sestavování tabulky. Snažte se zjistit, co dělá operátor `T`."
   ]
  },
  {
   "cell_type": "code",
   "execution_count": null,
   "id": "d993a25b",
   "metadata": {},
   "outputs": [],
   "source": [
    "plt.plot(sol.t,sol.y.T,\"o-\");"
   ]
  },
  {
   "cell_type": "code",
   "execution_count": null,
   "id": "81caae36",
   "metadata": {},
   "outputs": [],
   "source": [
    "df = pd.DataFrame(sol.y.T,columns=pocatecni_podminky)\n",
    "df.index = sol.t\n",
    "df"
   ]
  },
  {
   "cell_type": "code",
   "execution_count": null,
   "id": "d4c7a5d8",
   "metadata": {},
   "outputs": [],
   "source": [
    "pd.DataFrame(sol.y)"
   ]
  },
  {
   "cell_type": "code",
   "execution_count": null,
   "id": "f00c3063",
   "metadata": {},
   "outputs": [],
   "source": [
    "pd.DataFrame(sol.y.T)"
   ]
  },
  {
   "cell_type": "markdown",
   "id": "b13cceb0",
   "metadata": {},
   "source": [
    "### Řešení hladšími křivkami \n",
    "\n",
    "Řešení z minulých ukázek se skládalo z lomených čar. Nemělo spojitou derivaci, nebylo hladké. Pro hladší řešení je možné provést jednu nebo více z následujících vylepšení.\n",
    "\n",
    "* Zvolit menší krok, aby se vygenerovalo více hodnot pro čas $t$, \n",
    "* Nastavit proměnnou `t_eval` na dostatečně hustou posloupnost bodů. Toto jsme si vyzkoušeli v úvodní části.\n",
    "* Nastavit hodnotu `dense_output` na True a řešení poté kreslit na husté množině bodů. Toto si vyzkoušíme níže.\n",
    "\n",
    "Volba kroku také bývá základním testem korektnosti numerického řešení. Příliš velký krok může způsobit nepřesnosti v řešení, příliš malý krok je náročný na paměť i výpočetní výkon a také může vést k nepřesnostem. Obvyklým testem je porovnat řešení se zvoleným a s polovičním krokem. Pokud se shodují, je rozumné výsledek přijmout jako dobrou aproximaci přesného řešení."
   ]
  },
  {
   "cell_type": "code",
   "execution_count": null,
   "id": "3e7994de",
   "metadata": {},
   "outputs": [],
   "source": [
    "sol = solve_ivp(\n",
    "    rovnice, \n",
    "    meze, \n",
    "    pocatecni_podminky,\n",
    "    dense_output=True,\n",
    "    # max_step=np.Inf, # defaultní nastavení je krok libovolné délky\n",
    "    )\n",
    "sol"
   ]
  },
  {
   "cell_type": "code",
   "execution_count": null,
   "id": "6f106a15",
   "metadata": {},
   "outputs": [],
   "source": [
    "t = np.linspace(*meze,500)\n",
    "df = pd.DataFrame(np.array(sol.sol(t)).T,columns=pocatecni_podminky)\n",
    "df.index = t\n",
    "\n",
    "print(df.shape)\n",
    "print(df.head())\n",
    "\n",
    "ax = df.plot()\n",
    "ax.legend(title=\"Počáteční podmínka\");"
   ]
  },
  {
   "cell_type": "markdown",
   "id": "c866d21f",
   "metadata": {},
   "source": [
    "### Řešení rovnice pro různé hodnoty parametru\n",
    "\n",
    "Někdy potřebujeme řešit rovnici a sledovat, jak se chová řešení při změně parametru. Vyjdeme ze stejné počáteční podmínky a pro nastavené hodnoty parametru najdeme řešení. "
   ]
  },
  {
   "cell_type": "code",
   "execution_count": null,
   "id": "30745d67-ce87-4f25-8f51-358bbdc2e0fb",
   "metadata": {},
   "outputs": [],
   "source": [
    "def rovnice_r(t, y, r=1):  \n",
    "    return -r*y # prava strana rovnice zavisi na parametru r\n",
    "\n",
    "meze = [0,10]\n",
    "hodnoty_r = [0.5,1,2,3]\n",
    "pocatecni_podminka = [100] # Jedna pocatecni podminka\n",
    "\n",
    "t = np.linspace(*meze,500) # hvezdicka rozbali pole na dve hodnoty pro dolni a horni mez\n",
    "\n",
    "reseni = [solve_ivp(\n",
    "                    rovnice_r, \n",
    "                    meze, \n",
    "                    pocatecni_podminka,\n",
    "                    t_eval=t,\n",
    "                    args=[r]\n",
    "                    ).y[0]\n",
    "            for r in hodnoty_r]\n",
    "        # vygenerovani reseni pro ruzne hodnoty parametru r    |\n",
    "df = pd.DataFrame(\n",
    "                    np.array(reseni).T,\n",
    "                    columns=hodnoty_r\n",
    "                )\n",
    "df.index = t\n",
    "\n",
    "print(df.shape) # tisk informaci o tabulce a graf\n",
    "print(df.head())\n",
    "\n",
    "ax = df.plot()\n",
    "\n",
    "ax.legend(title=r\"Koeficient $r$\");"
   ]
  },
  {
   "cell_type": "markdown",
   "id": "11c28563",
   "metadata": {},
   "source": [
    "Někdy se může hodit si funkci definující pravou stranu nepojmenovávat a nepředávat jí parametry. Například, pokud je její použití jednorázové. Potom je možno použít metodiku práce s [nepojmenovanými funkcemi](https://www.w3schools.com/python/python_lambda.asp), takzvané `lambda` funkce. Ta umožňuje zadat pravou stranu rovnice přímo v příkazu `solve_ivp`."
   ]
  },
  {
   "cell_type": "code",
   "execution_count": null,
   "id": "f654c6ec",
   "metadata": {},
   "outputs": [],
   "source": [
    "hodnoty_r = [0.5,1,2,3]\n",
    "pocatecni_podminka = [100] # Jedna pocatecni podminka\n",
    "\n",
    "reseni = [solve_ivp(\n",
    "                    lambda t,y: -r*y, \n",
    "                    meze, \n",
    "                    pocatecni_podminka,\n",
    "                    t_eval=t\n",
    "                    ).y[0]\n",
    "            for r in hodnoty_r]\n",
    "        # vygenerovani reseni pro ruzne hodnoty parametru r    \n",
    "\n",
    "t = np.linspace(*meze,500) # hvezdicka rozbali pole na dve hodnoty pro dolni a horni mez\n",
    "df = pd.DataFrame(np.array(reseni).T, columns=hodnoty_r, index=t)\n",
    "\n",
    "ax = df.plot()\n",
    "ax.legend(title=r\"Koeficient $r$\");"
   ]
  },
  {
   "cell_type": "markdown",
   "id": "ae13e37f-3e4d-48f0-a1c1-b1adde316109",
   "metadata": {
    "jp-MarkdownHeadingCollapsed": true,
    "tags": []
   },
   "source": [
    "## Část C: Model rovnováhy počtu druhů na ostrovech (volitelně, kdo je rychlejší a samostatný)"
   ]
  },
  {
   "cell_type": "markdown",
   "id": "af9f06ee-74c5-4bce-b3ae-7b9e6844f248",
   "metadata": {},
   "source": [
    "V této části již nebude nic nového, ale je to ukázka, jak získané znalosti\n",
    "využít při studiu modelů.\n",
    "\n",
    "Budeme studovat Mc Arthurův a Wilsonův model vývoje ostrovního společenství ve tvaru\n",
    "$$\n",
    "  \\frac{\\mathrm dN}{\\mathrm dt}= \\frac b{D(N+\\beta)}-a\\frac {N^k}S,\n",
    "$$\n",
    "kde $N$ je počet druhů na ostrově o velikosti $S$ ve vzdálenosti $D$ od pevniny. Všechny parametry $a$, $b$, $\\beta$ a $k$ jsou kladné, parametr $k$ splňuje $k>1$.\n",
    "\n",
    "První člen na pravé straně charakterizuje rychlost kolonizace, druhý člen\n",
    "rychlost vymírání. \n",
    "\n",
    "* Nakreslíme si křivky kolonizace a vymírání. \n",
    "  * Nejprve překreslíme obrázek, který se často vyskytuje v publikacích k\n",
    "    problematice. Dvě křivky vymírání pro dvě rozlohy ostrova, dvě křivky\n",
    "    kolonizace pro dvě vzdálenosti ostrova od pevniny. Z jejich průsečíků je\n",
    "    možné odhalit, při jakém počtu druhů nastane dynamická rovnováha.\n",
    "  * V předchozím obrázku je příliš informací, což je někdy na škodu. Ve druhém\n",
    "    obrázku necháme jenom jednu z křivek kolonizace, ať je lépe možné sledovat\n",
    "    rovnovážnou polohu v závislosti na rozloze ostrova. \n",
    "  * Dále vyřešíme model pro různé počáteční podmínky. Není překvapení, že vždy\n",
    "    se nastolí rovnováha. \n",
    "  * Nakonec vyřešíme model pro různé hodnoty parametru. "
   ]
  },
  {
   "cell_type": "markdown",
   "id": "01213236",
   "metadata": {},
   "source": [
    "### Grafy rychlostí kolonizace a vymírání\n",
    "\n",
    "Vykreslíme křivky kolonizace a vymírání (přesněji, rychlostíi těchto dějů) v závislosti na velikosti populace. Pokud některým detailům nerozumíte, hledejte vysvětlení u vyučujícího, u kolegů, pomocí Google nebo pomocí umělé inteligence. [Takto](https://chat.openai.com/share/fc696529-1e8f-4429-9d8c-33e5d801ffd5) chatboot vysvětlí obrat s `\"k--\"` při kreslení jedné z křivek."
   ]
  },
  {
   "cell_type": "code",
   "execution_count": null,
   "id": "5f89d460",
   "metadata": {},
   "outputs": [],
   "source": [
    "def kolonizace(N,b=10,beta=1,D=1):\n",
    "    return b/(D*(N+beta))\n",
    "\n",
    "def vymirani (N, S=1, a=1, k=1.5):\n",
    "    return a*N**(k)/S\n",
    "\n",
    "N = np.linspace(0,10,100)\n",
    "plt.plot(N,kolonizace(N, D=1),\"k-\",label=\"kolonizace, blízký ostrov\")\n",
    "plt.plot(N,kolonizace(N, D=2),\"k--\",label=\"kolonizace, vzdálený ostrov\")\n",
    "\n",
    "plt.plot(N,vymirani(N, S = 10),\"r-\",label=r\"vymírání, velký ostrov\")\n",
    "plt.plot(N,vymirani(N, S = 2),\"r--\",label=r\"vymírání, malý ostrov\")\n",
    "plt.legend()\n",
    "ax = plt.gca()\n",
    "ax.set(\n",
    "    ylim=(0,10), \n",
    "    xlim=(0,10),\n",
    "    title=\"Dynamika vývoje počtu druhů na ostrově\",\n",
    "    xlabel=\"počet druhů\",\n",
    "    ylabel=\"rychlost kolonizace a vymírání\",\n",
    "    xticks=[],\n",
    "    yticks=[]\n",
    "    );\n",
    "    "
   ]
  },
  {
   "cell_type": "markdown",
   "id": "fe6ad158",
   "metadata": {},
   "source": [
    "Zkusíme zafixovat rychlost kolonizace a sledovat vymírání jako funkci obsahu ostrova. Měli bychom vidět, že pro menší ostrov je větší rychlost vymírání. Rovnovážný počet druhů najdeme jako průsečík křivky vymírání s čárkovanou křivkou kolonizace. Měli bychom vidět, že první souřadnice průsečíku je pro menší ostrov menší."
   ]
  },
  {
   "cell_type": "code",
   "execution_count": null,
   "id": "91c38d60",
   "metadata": {},
   "outputs": [],
   "source": [
    "# def kolonizace(N,b=10,beta=1,D=1):\n",
    "#     return b/(D*(N+beta))\n",
    "# def vymirani (N, S=1, a=1, k=1.4):\n",
    "#     return a*N**(k)/S\n",
    "meze = [0,10]\n",
    "obsahy = [2,4,8]\n",
    "\n",
    "N = np.linspace(*meze,100)\n",
    "df = pd.DataFrame()\n",
    "df[\"N\"] = N    \n",
    "for S in obsahy:\n",
    "    df[S] = vymirani(N, k=1.5, S = S)\n",
    "\n",
    "fig,ax = plt.subplots(1)\n",
    "ax.plot(N,kolonizace(N),\"--\",label=\"_nolegend_\") \n",
    "df.plot(x=\"N\", ax=ax)   \n",
    "\n",
    "ax.legend(title=\"Obsah ostrova\", loc=\"upper left\")\n",
    "ax.text(N[-1], kolonizace(N[-1]), \"kolonizace\", color=\"C0\", ha=\"right\", va=\"top\")\n",
    "ax.set(\n",
    "    ylim=(0,10), \n",
    "    xlim=meze,\n",
    "    title=\"Dynamika vývoje počtu druhů na ostrově\",\n",
    "    xlabel=\"počet druhů\",\n",
    "    ylabel=\"rychlost kolonizace a vymírání\",\n",
    "    xticks=[],\n",
    "    yticks=[]\n",
    "    );\n"
   ]
  },
  {
   "cell_type": "markdown",
   "id": "a7fc07f2",
   "metadata": {},
   "source": [
    "### Řešení diferenciální rovnice "
   ]
  },
  {
   "cell_type": "markdown",
   "id": "6401b85d",
   "metadata": {},
   "source": [
    "Nyní budeme diferenciální rovnici řešit. Použijeme bezrozměrný tvar $$ \\frac{\\mathrm dn}{\\mathrm d\\tau}=\\frac{1}{n+1}-\\alpha n^k,$$ kde $\\alpha = \\frac{a\\beta ^k}{S}\\frac{\\beta D}{b}$, $n=\\frac N\\beta$ a $\\tau = \\frac{b}{\\beta D} \\frac t\\beta$. Tedy parametr $\\alpha$ je nepřímo úměrný obsahu ostrova a přímo úměrný vzdálenosti od ostrova, velikost populace měříme v násobcích parametru $\\beta$ a rychlost plynutí času se mění se vzdáleností od ostrova.\n"
   ]
  },
  {
   "cell_type": "markdown",
   "id": "207dc1f9",
   "metadata": {},
   "source": [
    "### Závislost na počáteční podmínce"
   ]
  },
  {
   "cell_type": "markdown",
   "id": "e45f9348",
   "metadata": {},
   "source": [
    "Využijeme toho, že je možné zadat celou sadu počátečních podmínek a že nemusíme\n",
    "řešit rovnici pro každou počáteční podmínku samostatně. Kromě toho zafixujeme\n",
    "barvu kreslení na první barvu v sadě (`C0`), protože nemá smysl jednotlivá\n",
    "řešení odlišovat barevně. Protože křivek je hodně, změníme tloušťku čáry."
   ]
  },
  {
   "cell_type": "code",
   "execution_count": null,
   "id": "12dd5ce3",
   "metadata": {},
   "outputs": [],
   "source": [
    "pocatecni_podminka = np.arange(0,1,0.1)\n",
    "meze = [0,5]\n",
    "def rovnice(t, n, alpha=1, k=1.4):\n",
    "    return 1/(n+1) - alpha*n**k\n",
    "\n",
    "t = np.linspace(*meze, 100)  # definicni obor pro reseni\n",
    "reseni = solve_ivp(rovnice, meze, pocatecni_podminka, t_eval=t)\n",
    "\n",
    "fig,ax = plt.subplots(1)\n",
    "ax.plot(t,reseni.y.T,color=\"C0\",lw=1)\n",
    "ax.set(\n",
    "    ylim=(0,None),\n",
    "    title=\"Diferenciální rovnice ostrovní dynamiky\",\n",
    "    xlabel=\"bezrozměrný čas\",\n",
    "    ylabel=\"bezrozměrný počet druhů\",\n",
    ");"
   ]
  },
  {
   "cell_type": "markdown",
   "id": "48e60560",
   "metadata": {},
   "source": [
    "### Závislost na parametru $\\alpha$"
   ]
  },
  {
   "cell_type": "code",
   "execution_count": null,
   "id": "d90a87d7",
   "metadata": {},
   "outputs": [],
   "source": [
    "pocatecni_podminka = [0]\n",
    "meze = [0,5]\n",
    "alphas = [2,4,6,8]\n",
    "k = 1.4\n",
    "\n",
    "t = np.linspace(*meze, 100) # časy ve kterých určíme hodnotu řešení\n",
    "def rovnice(n, alpha=1, k=1.4):\n",
    "    return 1/(n+1) - alpha*n**k\n",
    "# Trochu jiná taktika určení řešení. Budeme ukládat rovnou hodnoty \n",
    "# řešení v uvedených bodech, tj. za příkazem pro \n",
    "# řešení použijeme .y[0]    \n",
    "reseni = [\n",
    "            solve_ivp(lambda t,n: rovnice(n,alpha=alpha, k=k), \n",
    "                      meze, \n",
    "                      pocatecni_podminka, \n",
    "                      t_eval=t,\n",
    "                     ).y[0]\n",
    "            for alpha in alphas\n",
    "         ]\n",
    "df = pd.DataFrame(np.array(reseni).T, columns=alphas)\n",
    "df.index = t\n",
    "ax = df.plot(\n",
    "    title=\"Diferenciální rovnice ostrovní dynamiky\",\n",
    "    xlabel=\"bezrozměrný čas\",\n",
    "    ylabel=\"bezrozměrný počet druhů\",\n",
    ")\n",
    "ax.legend(title=r\"Parametr $\\alpha$\");"
   ]
  },
  {
   "cell_type": "code",
   "execution_count": null,
   "id": "c6b88a20-ede6-4b0f-9403-ff03508c513e",
   "metadata": {},
   "outputs": [],
   "source": []
  }
 ],
 "metadata": {
  "kernelspec": {
   "display_name": "Python 3 (ipykernel)",
   "language": "python",
   "name": "python3"
  },
  "language_info": {
   "codemirror_mode": {
    "name": "ipython",
    "version": 3
   },
   "file_extension": ".py",
   "mimetype": "text/x-python",
   "name": "python",
   "nbconvert_exporter": "python",
   "pygments_lexer": "ipython3",
   "version": "3.10.6"
  },
  "varInspector": {
   "cols": {
    "lenName": 16,
    "lenType": 16,
    "lenVar": 40
   },
   "kernels_config": {
    "python": {
     "delete_cmd_postfix": "",
     "delete_cmd_prefix": "del ",
     "library": "var_list.py",
     "varRefreshCmd": "print(var_dic_list())"
    },
    "r": {
     "delete_cmd_postfix": ") ",
     "delete_cmd_prefix": "rm(",
     "library": "var_list.r",
     "varRefreshCmd": "cat(var_dic_list()) "
    }
   },
   "types_to_exclude": [
    "module",
    "function",
    "builtin_function_or_method",
    "instance",
    "_Feature"
   ],
   "window_display": false
  },
  "vscode": {
   "interpreter": {
    "hash": "4073845fb37e5e91a7e4a5aa5d982e60b118e70ad895c083f27423fb55749714"
   }
  }
 },
 "nbformat": 4,
 "nbformat_minor": 5
}
