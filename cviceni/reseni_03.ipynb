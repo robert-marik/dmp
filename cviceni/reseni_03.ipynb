{
 "cells": [
  {
   "cell_type": "code",
   "execution_count": 1,
   "id": "21e98e98",
   "metadata": {
    "ExecuteTime": {
     "end_time": "2022-11-20T09:03:57.276794Z",
     "start_time": "2022-11-20T09:03:56.090890Z"
    }
   },
   "outputs": [],
   "source": [
    "import numpy as np\n",
    "import matplotlib.pyplot as plt\n",
    "import pandas as pd\n",
    "from scipy.integrate import solve_ivp"
   ]
  },
  {
   "cell_type": "markdown",
   "id": "0f2931c8",
   "metadata": {},
   "source": [
    "Bezrozměrná diferencální rovnice dynamické rovnováhy druhů je \n",
    "$$ \\frac{\\mathrm dn}{\\mathrm dt}=\\frac{1}{n+1}-\\alpha n^k,$$\n",
    "kde $n=\\frac N\\beta$ je bezrozměrný počet druhů, $\\tau = \\frac{b}{\\beta D} \\frac\n",
    "t\\beta$ je bezrozměrný čas, a $k$ a $\\alpha = \\frac{a\\beta ^k}{S}\\frac{\\beta\n",
    "D}{b}$ jsou bezrozměrné parametry. \n",
    "\n",
    "Pokud se zdvojnásobí vzdálenost i rozloha, je rovnice stejná, ale změní se definice bezrozměrného času. Skutečný čas daný vztahem $$t=\\frac{\\beta^2 D}{b}\\tau$$ bude dvojnásobný při zdvojnásobení vzdálenosti ostrova od pevniny. To znamená, že se dynamika ostrova, který je dále, bude pomalejší."
   ]
  },
  {
   "cell_type": "markdown",
   "id": "e8092d01",
   "metadata": {},
   "source": [
    "Doměnku z předchozího odstavce potvrdíme numerickou simulací pro plnou rovnici $$\\frac{\\mathrm dN}{\\mathrm dt}= \\frac b{D(N+\\beta)}-a\\frac {N^k}S.$$"
   ]
  },
  {
   "cell_type": "code",
   "execution_count": null,
   "id": "74986393",
   "metadata": {
    "ExecuteTime": {
     "end_time": "2022-11-20T09:06:05.611815Z",
     "start_time": "2022-11-20T09:06:05.592621Z"
    }
   },
   "outputs": [],
   "source": [
    "pocatecni_podminka = [0]\n",
    "meze = [0,20]\n",
    "\n",
    "t = np.linspace(*meze, 100) # časy ve kterých určíme hodnotu řešení\n",
    "def rovnice(t, n, a=1, b=1, beta=1, D=1, k=1.4, S=1):\n",
    "    return b/(D*(n+beta)) - a*n**k/S\n",
    "parametry = [\n",
    "    [1,1,100,1,1.4,1],\n",
    "    [1,1,100,2,1.4,2]\n",
    "]\n",
    "reseni = [\n",
    "            solve_ivp(rovnice, \n",
    "                      meze, \n",
    "                      pocatecni_podminka, \n",
    "                      args=i,\n",
    "                      t_eval=t,\n",
    "                     ).y[0]\n",
    "            for i in parametry\n",
    "         ]\n",
    "df = pd.DataFrame(np.array(reseni).T, columns=[\"menší a blízko\",\"větší a daleko\"])\n",
    "df[\"t\"] = t\n"
   ]
  },
  {
   "cell_type": "code",
   "execution_count": null,
   "id": "de1439b2",
   "metadata": {
    "ExecuteTime": {
     "end_time": "2022-11-20T09:06:06.494805Z",
     "start_time": "2022-11-20T09:06:06.192242Z"
    }
   },
   "outputs": [],
   "source": [
    "ax = df.plot(x=\"t\")\n",
    "ax.legend(title=\"Parametry ostrova\")\n",
    "ax.set(\n",
    "    xlabel=\"čas\",\n",
    "    ylabel=\"počet druhů\",\n",
    "    title=\"Dynamika počtu druhů na ostrově\"\n",
    ");"
   ]
  },
  {
   "cell_type": "code",
   "execution_count": null,
   "id": "a912c508",
   "metadata": {},
   "outputs": [],
   "source": []
  }
 ],
 "metadata": {
  "kernelspec": {
   "display_name": "Python 3.9.13 ('base')",
   "language": "python",
   "name": "python3"
  },
  "language_info": {
   "codemirror_mode": {
    "name": "ipython",
    "version": 3
   },
   "file_extension": ".py",
   "mimetype": "text/x-python",
   "name": "python",
   "nbconvert_exporter": "python",
   "pygments_lexer": "ipython3",
   "version": "3.9.7"
  },
  "varInspector": {
   "cols": {
    "lenName": 16,
    "lenType": 16,
    "lenVar": 40
   },
   "kernels_config": {
    "python": {
     "delete_cmd_postfix": "",
     "delete_cmd_prefix": "del ",
     "library": "var_list.py",
     "varRefreshCmd": "print(var_dic_list())"
    },
    "r": {
     "delete_cmd_postfix": ") ",
     "delete_cmd_prefix": "rm(",
     "library": "var_list.r",
     "varRefreshCmd": "cat(var_dic_list()) "
    }
   },
   "types_to_exclude": [
    "module",
    "function",
    "builtin_function_or_method",
    "instance",
    "_Feature"
   ],
   "window_display": false
  },
  "vscode": {
   "interpreter": {
    "hash": "b1b44ac196aec03961a590c564987356f28fad8fa125f4f985c8cf126cba4013"
   }
  }
 },
 "nbformat": 4,
 "nbformat_minor": 5
}
