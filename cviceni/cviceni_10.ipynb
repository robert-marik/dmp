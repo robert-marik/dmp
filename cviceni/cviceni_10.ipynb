{
 "cells": [
  {
   "cell_type": "markdown",
   "id": "0f2e5117",
   "metadata": {},
   "source": [
    "# Modely dravce a kořisti"
   ]
  },
  {
   "cell_type": "code",
   "execution_count": 1,
   "id": "b2f3b364",
   "metadata": {},
   "outputs": [],
   "source": [
    "import numpy as np\n",
    "import matplotlib.pyplot as plt\n",
    "import pandas as pd\n",
    "from scipy.integrate import solve_ivp"
   ]
  },
  {
   "attachments": {},
   "cell_type": "markdown",
   "id": "65d71c18",
   "metadata": {},
   "source": [
    "## Lotkův a Volterrův model dravce a kořisti\n",
    "\n",
    "Nakreslete řešení Lotkova a Volterrova modelu dravce a kořisti. \n",
    "\n",
    "Pokud pro nějaké nastavení parametrů není přehledné kreslit křivky pro kořist\n",
    "obě do jednoho grafu, můžeme každou křivku nakreslit do samostatného grafu.\n",
    "Modifikujte následující kód a použijte pro kreslení parametry příkazu\n",
    "`subplots`, viz [ukázka](../snippety/python_grafy.html). Výsledkem nechť je\n",
    "dvojice grafů, v jednom nechť je graf vývoje populace dravce, ve druhém graf\n",
    "vývoje populace kořisti. Časová osa nechť je sdílená pro oba grafy."
   ]
  },
  {
   "cell_type": "code",
   "execution_count": null,
   "id": "10802f86",
   "metadata": {},
   "outputs": [],
   "source": [
    "## Prostor pro řešení\n",
    "\n",
    "def prey(x,y,a=1,b=1):\n",
    "    return a*x - b*x*y\n",
    "\n",
    "def predator(x,y,c=1,d=0.5):\n",
    "    return -c*y+d*x*y\n",
    "\n",
    "def model(t,X,a=1,b=1,c=1,d=0.5):\n",
    "    x,y = X\n",
    "    return [prey(x,y,a,b),predator(x,y,c,d)]\n",
    "\n",
    "meze = [0,12]\n",
    "pocatecni_podminka = [2,3]\n",
    "xmax = 6\n",
    "ymax = 3\n",
    "\n",
    "fig,ax = plt.subplots()\n",
    "\n",
    "t = np.linspace(*meze, 300)\n",
    "sol = solve_ivp(\n",
    "    lambda t,X:model(t,X, a=2, b=2, c=3, d=.5), \n",
    "    meze, # interval pro reseni\n",
    "    pocatecni_podminka, # pocatecni podminka\n",
    "    t_eval=t\n",
    ")\n",
    "\n",
    "ax.plot(t, sol.y.T)\n",
    "\n",
    "ax.set(xlabel = 'čas')\n",
    "ax.legend(['kořist', 'dravec'])\n",
    "plt.show()\n"
   ]
  },
  {
   "attachments": {},
   "cell_type": "markdown",
   "id": "a50131f5",
   "metadata": {},
   "source": [
    "Modifikujte předchozí kód tak, aby byla populace dravce i kořisti ve stejném\n",
    "obrázku, ale každá funkce měla svou svislou osu. Ukázka této techniky a využití\n",
    "příkazu `twinx` je v přednášce s [numerickou derivací](../prednaska/02.html#numericky-vypocet-derivace)."
   ]
  },
  {
   "cell_type": "code",
   "execution_count": null,
   "id": "ec67bdc1",
   "metadata": {},
   "outputs": [],
   "source": [
    "## Prostor pro řešení"
   ]
  },
  {
   "attachments": {},
   "cell_type": "markdown",
   "id": "430b2d6c",
   "metadata": {},
   "source": [
    "Pokuste se obrázky doplnit tak, aby z nich bylo zřejmé, jestli perioda řešení\n",
    "souvisí či nesouvisí s počáteční podmínkou. Nakreslete do stejného obrázku\n",
    "řešení s další počáteční podmínkou. "
   ]
  },
  {
   "attachments": {},
   "cell_type": "markdown",
   "id": "eba7fbfd",
   "metadata": {},
   "source": [
    "## Model dravce a kořisti s Hollingovou trofickou funkcí\n",
    "\n",
    "Zopakujte předchozí kroky pro Rosenzweigův a MacArthurův model s Hollingovou\n",
    "trofickou funkcí."
   ]
  },
  {
   "cell_type": "code",
   "execution_count": null,
   "id": "1af72307",
   "metadata": {},
   "outputs": [],
   "source": [
    "def predator(x,y):\n",
    "    return -0.04*y + .1*x*y/(4+x)\n",
    "\n",
    "def prey(x,y):\n",
    "    return (1-x/10)*x-.3*x*y/(4+x)\n",
    "\n",
    "def model(t,X):\n",
    "    x,y = X\n",
    "    return [prey(x,y),predator(x,y)]\n",
    "\n",
    "meze = [0,100]\n",
    "pocatecni_podminka = [2,12]\n",
    "xmax = 10\n",
    "ymax = 20\n",
    "\n",
    "## atd .... Prostor pro řešení\n",
    "\n"
   ]
  },
  {
   "attachments": {},
   "cell_type": "markdown",
   "id": "9c548b97",
   "metadata": {},
   "source": [
    "## Model dravce a dvou populací kořisti \n",
    "\n",
    "Pokuste se namodelovat následující situaci. \n",
    "\n",
    "* V ekosystému dochází ke konkurenci dvou populací a jedna z populací je\n",
    "  konkurencí vyloučena. \n",
    "* Přítomnost predátora redukuje velikosti obou populací tak, že se dominance\n",
    "  silnější populace neprojeví. Tím predátor zprostředkovává přežití populace,\n",
    "  která mu současně slouží jako kořist. Odstranění predátora z ekosystému by\n",
    "  paradoxně způsobilo vymření jeho kořisti.\n",
    "* Snažte se o co nejjednodušší model. Například modifikujte model z přednášky\n",
    "  pro konkurenci tří populací tak, aby třetí populace nebyla konkurentem, ale predátorem."
   ]
  },
  {
   "cell_type": "code",
   "execution_count": null,
   "id": "7c55196c",
   "metadata": {},
   "outputs": [],
   "source": [
    "## Prostor pro řešení"
   ]
  }
 ],
 "metadata": {
  "kernelspec": {
   "display_name": "Python 3.8.10 64-bit",
   "language": "python",
   "name": "python3"
  },
  "language_info": {
   "codemirror_mode": {
    "name": "ipython",
    "version": 3
   },
   "file_extension": ".py",
   "mimetype": "text/x-python",
   "name": "python",
   "nbconvert_exporter": "python",
   "pygments_lexer": "ipython3",
   "version": "3.10.9"
  },
  "varInspector": {
   "cols": {
    "lenName": 16,
    "lenType": 16,
    "lenVar": 40
   },
   "kernels_config": {
    "python": {
     "delete_cmd_postfix": "",
     "delete_cmd_prefix": "del ",
     "library": "var_list.py",
     "varRefreshCmd": "print(var_dic_list())"
    },
    "r": {
     "delete_cmd_postfix": ") ",
     "delete_cmd_prefix": "rm(",
     "library": "var_list.r",
     "varRefreshCmd": "cat(var_dic_list()) "
    }
   },
   "types_to_exclude": [
    "module",
    "function",
    "builtin_function_or_method",
    "instance",
    "_Feature"
   ],
   "window_display": false
  },
  "vscode": {
   "interpreter": {
    "hash": "916dbcbb3f70747c44a77c7bcd40155683ae19c65e1c03b4aa3499c5328201f1"
   }
  }
 },
 "nbformat": 4,
 "nbformat_minor": 5
}
