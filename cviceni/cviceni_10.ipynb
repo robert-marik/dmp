{
 "cells": [
  {
   "cell_type": "markdown",
   "id": "0f2e5117",
   "metadata": {},
   "source": [
    "# Modely dravce a kořisti"
   ]
  },
  {
   "cell_type": "markdown",
   "id": "65d71c18",
   "metadata": {},
   "source": [
    "## Lotkův a Volterrův mode dravce a kořisti"
   ]
  },
  {
   "cell_type": "markdown",
   "id": "eba7fbfd",
   "metadata": {},
   "source": [
    "## Model dravce a kořisti s Hollingovou trofickou funkcí\n"
   ]
  },
  {
   "cell_type": "markdown",
   "id": "9c548b97",
   "metadata": {},
   "source": [
    "## Model dravce a dvou populací kořisti "
   ]
  },
  {
   "cell_type": "markdown",
   "id": "fd338d95",
   "metadata": {},
   "source": [
    "## Model dravce a kořisti s kanibalismem dravce"
   ]
  }
 ],
 "metadata": {
  "kernelspec": {
   "display_name": "Python 3.8.10 64-bit",
   "language": "python",
   "name": "python3"
  },
  "language_info": {
   "codemirror_mode": {
    "name": "ipython",
    "version": 3
   },
   "file_extension": ".py",
   "mimetype": "text/x-python",
   "name": "python",
   "nbconvert_exporter": "python",
   "pygments_lexer": "ipython3",
   "version": "3.10.6 (main, Nov 14 2022, 16:10:14) [GCC 11.3.0]"
  },
  "varInspector": {
   "cols": {
    "lenName": 16,
    "lenType": 16,
    "lenVar": 40
   },
   "kernels_config": {
    "python": {
     "delete_cmd_postfix": "",
     "delete_cmd_prefix": "del ",
     "library": "var_list.py",
     "varRefreshCmd": "print(var_dic_list())"
    },
    "r": {
     "delete_cmd_postfix": ") ",
     "delete_cmd_prefix": "rm(",
     "library": "var_list.r",
     "varRefreshCmd": "cat(var_dic_list()) "
    }
   },
   "types_to_exclude": [
    "module",
    "function",
    "builtin_function_or_method",
    "instance",
    "_Feature"
   ],
   "window_display": false
  },
  "vscode": {
   "interpreter": {
    "hash": "916dbcbb3f70747c44a77c7bcd40155683ae19c65e1c03b4aa3499c5328201f1"
   }
  }
 },
 "nbformat": 4,
 "nbformat_minor": 5
}
