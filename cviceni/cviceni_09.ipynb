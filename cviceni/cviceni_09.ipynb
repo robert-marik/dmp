{
 "cells": [
  {
   "attachments": {},
   "cell_type": "markdown",
   "id": "0f2e5117",
   "metadata": {},
   "source": [
    "# Modely konkurence populací\n"
   ]
  },
  {
   "cell_type": "code",
   "execution_count": null,
   "id": "beedb4c4",
   "metadata": {},
   "outputs": [],
   "source": [
    "import numpy as np\n",
    "import matplotlib.pyplot as plt\n",
    "import pandas as pd\n",
    "from scipy.integrate import solve_ivp"
   ]
  },
  {
   "attachments": {},
   "cell_type": "markdown",
   "id": "fe9c666c",
   "metadata": {},
   "source": [
    "## Lotkův--Volterrův model konkurence dvou populací\n",
    "\n",
    "Namodelujte jednotlivé situace ve společenství dvou kořistí. Využijte tabulky s\n",
    "hierarchickými jmény sloupců [podle\n",
    "ukázky](../snippety/multiindex-pokrocili.ipynb). Kód je přepsán níže.\n",
    "\n",
    "* Prostudujte kód a poté vyplňte následující úkoly. (Ukázky, co by mělo být výstupem a některé rady najdete níže.)\n",
    "* **Úkol 1** spočívá v nahrazení případu neovlivňujících se populací případem silné konkurence dvou populací. Změna bude na dvou místech: nadpis grafu a parametry mezidruhové konkurence. \n",
    "* **Úkol 2** spočívá v demonstraci toho, že silná konkurence se odlišuje od ostatních v tom, že různé počáteční hustoty soupeřících populací moou vést ke konkurečnímu vyloučení různých populací. Nejlépe to ukážete tak, že najdete dvě řešení stejného systému, ale s různými počátečními podmínkami tak, aby u silné konkurence jednou byla vyloučena jedna a podruhé druhá populace. \n",
    "\n"
   ]
  },
  {
   "cell_type": "code",
   "execution_count": null,
   "id": "79037be1",
   "metadata": {},
   "outputs": [],
   "source": [
    "def konkurence(t,X,a=1,b=1,c=0.4,alpha=1,beta=.2,gamma=1):\n",
    "    x,y = X\n",
    "    return [(a-b*x-c*y)*x, (alpha-beta*x-gamma*y)*y]\n",
    "\n",
    "meze = [0,30]\n",
    "pocatecni_podminka = [0.2,0.3]\n",
    "t = np.linspace(*meze,500)"
   ]
  },
  {
   "cell_type": "code",
   "execution_count": null,
   "id": "5d40b9d9",
   "metadata": {},
   "outputs": [],
   "source": [
    "my_index = pd.MultiIndex.from_tuples([], names=['dataset', 'populace'])\n",
    "df = pd.DataFrame(columns=my_index, index=t)\n",
    "datasets = [\"nezávislé populace\",\"slabá konkurence\",\"dominance x\",\"dominance y\"]  # Názvy datasetů\n",
    "druhy = [\"x\",\"y\"] # Názvy druhů\n",
    "\n",
    "for c,beta,d in zip( \n",
    "                [0,0.4,0.4,1.5],   # hodnoty pro koeficient c \n",
    "                [0,0.2,1.3,0.8],   # hodnoty pro koeficient beta\n",
    "                datasets  # názvy datasetů\n",
    "        ):\n",
    "    reseni = solve_ivp(\n",
    "                       lambda t,X:konkurence(t,X,c=c,beta=beta),\n",
    "                       meze,\n",
    "                       pocatecni_podminka,\n",
    "                       t_eval=t \n",
    "                       ).y.T   # řešení ve sloupcích\n",
    "    df[[(d,druh) for druh in druhy]]=reseni # uložení do tabulky\n",
    "df.tail() # tisk konce tabulky pro kontrolu"
   ]
  },
  {
   "cell_type": "code",
   "execution_count": null,
   "id": "2b991b99",
   "metadata": {},
   "outputs": [],
   "source": [
    "fig,axs = plt.subplots(2,2,sharex=True, sharey=True)  # obrázek se čtyřmi podobrázky ve dou řadách a sloupcích\n",
    "axs = axs.ravel()  # abychom se nemuseli na podobrázky odkazovat dvojitým indexem, seřadíme je lineárně\n",
    "for ax,dataset in zip(axs,datasets):  # cyklus přes podobrázky a datasety\n",
    "    ax.plot(df.xs(key=(dataset,\"x\"),level=(0,1),axis=1))  # vykreslení datasetu do podobrázku, populace x\n",
    "    ax.plot(df.xs(key=(dataset,\"y\"),level=(0,1),axis=1))  # vykreslení datasetu do podobrázku, populace y\n",
    "    ax.set(  # nastavení nadpisu\n",
    "        title=dataset.capitalize()\n",
    "        )\n",
    "    ax.grid()\n",
    "axs[0].set(ylim=(0,1.05))    # rozsah pro svislou osu\n",
    "axs[0].legend([f\"Druh {i}\" for i in druhy])  # legenda\n",
    "plt.tight_layout()  # automatické upravení mezer mezi obrázky"
   ]
  },
  {
   "attachments": {},
   "cell_type": "markdown",
   "id": "3f87ccc7",
   "metadata": {},
   "source": [
    "### K Úkolu 1.\n",
    "Změňte první scénář (nezávislé populace) na silnou konkurenci. Měli byste dostat něco jako následující obrázek. \n",
    "\n",
    "  ![](cviceni09_a.png)\n",
    "\n",
    "\n",
    "### K Úkolu 2.\n",
    "Rozšiřte kód tak, aby dokázal zpracovat dvě počáteční podmínky. Ukažte, že pro jiné počáteční podmínky ve třech případech konverguje systém do stejného stavu, ale u silné konkurence může dojít k vymření populace, která při jiných počátečních podmínkách dominuje. Kreslete každou populaci jiným druhem čáry a stejné simulace (ze stejné počáteční podmínky) stejnou barvou. Měli byste dostat něco jako následující obrázek.\n",
    " \n",
    "  ![](cviceni09_b.png)\n",
    "\n",
    "* Rozšíření udělejte v cyklu tak, aby se dal simulovat libovolný počet počátečních podmínek. Budete tedy muset udělat následující. \n",
    "    * Počáteční podmínky je vhodné umístit do jednoho seznamu, například `pocatecni_podminky = [[0.2,0.3],[0.6,0.3]]`.\n",
    "    * Je nutné rozšířit nadpis sloupců o další úroveň zachycující počáteční podmínku. Předřaďte například jako úroveň pojmenovanou `pocatecni podminka` jako první. Příkazy pro ukládání do tabulky a pro kreslení je potom nutno upravit tak, aby pracovaly se správnými daty (přibyla jedna úroveň sloupcového indexu), aby se kreslilo potřebnou čarou a správnými barvami. \n",
    "    * Cyklus \n",
    "      ```\n",
    "      for c,beta,d in ... \n",
    "          reseni = ...\n",
    "          df[[(d,druh) for druh in druhy]]=reseni\n",
    "      ``` \n",
    "      je nutné zaměnit za něco jako \n",
    "      ```\n",
    "      for c,beta,d in ... \n",
    "          for i,pocatecni_podminka in enumerate(pocatecni_podminky):\n",
    "              reseni = ...\n",
    "              df[[(i,d,druh) for druh in druhy]]=reseni\n",
    "      ``` \n",
    "      Tím se bude tvořit tabulka, která má simulace pro více počátečních podmínek odlišených v první úrovni nadpisu sloupců.\n",
    "* Pro nadpis nad obrázkem použijte například `plt.suptitle(\"Nadpis ...\")` \n",
    "* Pro komentář pod třetí souřadnou soustavou (vlevo dole) použijte například `plt.annotate(\"$x$ plná čára, $y$ čárkovaná čára, jednotlivé simulace jsou odlišeny barevně\",xy=(10,5),xycoords='figure points',fontsize=8);`.      Vložte až pod příkaz `tight_layout`.\n",
    "* Čárkované čáry se dají udělat pomocí `linestyle` nebo zkráceně `ls`. Například \n",
    "  ```\n",
    "  x = np.linspace(0,10)\n",
    "  plt.plot(x,x**2,ls=\"--\")\n",
    "  ```\n",
    "* Přerušení cyklování barev a návrat na začátek cyklu se dá zařídit například následovně pomocí `set_prop_cycle`.\n",
    "  ```\n",
    "  x = np.linspace(0,1)\n",
    "  fig,ax = plt.subplots()\n",
    "  ax.plot(x,x**2) # první barva\n",
    "  ax.plot(x,x**2-0.2) # druhá barva\n",
    "  ax.plot(x,x**2+0.2) # třetí barva\n",
    "  ax.set_prop_cycle(None)           # reset cyklovače barev\n",
    "  ax.plot(x,x) # opět první barva\n",
    "  ax.plot(x,x-0.1) # opět druhá barva\n",
    "  ```\n"
   ]
  },
  {
   "attachments": {},
   "cell_type": "markdown",
   "id": "872ca786",
   "metadata": {},
   "source": [
    "## Konkurence tří populací"
   ]
  },
  {
   "cell_type": "code",
   "execution_count": null,
   "id": "cc17bfa3",
   "metadata": {},
   "outputs": [],
   "source": [
    "meze = [0,200]\n",
    "def konkurence_tri(t,X,\n",
    "                   a=1,b=1,c=0.4,d=0.4,\n",
    "                   alpha=1,beta=0.5,gamma=1,delta=0.5,\n",
    "                   m=1,n=0.7,o=0.2,p=1\n",
    "                   ):\n",
    "    x,y,z = X # Rozbalení vektoru na tři populace\n",
    "    return [\n",
    "        (a-b*x-c*y-d*z)*x, # Vývoj populace x\n",
    "        (alpha-beta*x-gamma*y-delta*z)*y, # Vývoj populace y\n",
    "        (m-n*x-o*y-p*z)*z # Vývoj populace z\n",
    "        ]\n",
    "\n",
    "# Hodnoty parametrů a,b,c,d,...\n",
    "parametry = (1, 1,   0.3, 1.6,\n",
    "             1, 1.8, 1,   0.2,\n",
    "             1, 0.3, 1.8, 1  )\n",
    "\n",
    "pocatecni_podminky = [ [.2,.5,0.8],\n",
    "                       [0,.5,0.8],\n",
    "                     ]\n",
    "populace = [\"x\",\"y\",\"z\"]\n",
    "idx = pd.MultiIndex.from_tuples([],names=[\"pocatecni_podminka\",\"populace\"])\n",
    "t = np.linspace(*meze,400)\n",
    "df = pd.DataFrame(columns=idx, index=t)\n",
    "\n",
    "for i,pocatecni_podminka in enumerate(pocatecni_podminky):\n",
    "    reseni = solve_ivp(\n",
    "        lambda t,X: konkurence_tri(t,X,*parametry),\n",
    "        meze,\n",
    "        pocatecni_podminka,\n",
    "        t_eval=t,\n",
    "        ).y.T\n",
    "    df[[(i,p) for p in populace]] = reseni\n",
    "df\n"
   ]
  },
  {
   "cell_type": "code",
   "execution_count": null,
   "id": "38141ad5",
   "metadata": {},
   "outputs": [],
   "source": [
    "\n",
    "fig,ax = plt.subplots(len(populace),sharex=True) # Tři obrázky se sdílenou časovou osou\n",
    "for a,kdo in zip(ax,populace): # Cyklus přes dvojice obrázek+populace\n",
    "    a.plot(df.xs(level=1,key=kdo,axis=1))  # Grafy pro obě počáteční podmínky\n",
    "    a.set(ylabel=f\"Populace ${kdo}$\") # Popisek na svislou osu\n",
    "\n",
    "# Kosmetika: nadpis obrázku, text legendy v jednom z obrázků a mezerování mezi obrázky\n",
    "plt.suptitle(\"Konkurence tří populací pro dvě různé počáteční podmínky\")        \n",
    "ax[-1].legend(\n",
    "    [\"Koexistence všech tří populací\",\n",
    "     \"Bez přítomnosti $x$ druh $y$ dominuje\"],loc=\"upper right\")\n",
    "plt.tight_layout()"
   ]
  },
  {
   "attachments": {},
   "cell_type": "markdown",
   "id": "ed1103b6",
   "metadata": {},
   "source": [
    "### Úkol\n",
    "\n",
    "1. Zkuste v systému nasadit ještě silnější míru konkurence. Všechny koeficienty\n",
    "mezidruhové konkurence, které jsou větší než jedna, zkuste dále navyšovat a sledovat, jestli neuvidíte\n",
    "nějaké další zajímavé chování. \n",
    "1. Zkuste snížit koeficienty charakterizující mezidruhovou konkurenci tak, aby\n",
    "   systém konvergoval ke stacionárnímu řešení. Poté zkuste jedné z populací\n",
    "   podpořit růst a sledujte, jestli má systém odezvu, která odpovídá provedené modifikaci.\n",
    "2. Vyzkoušejte si [ukázky selekce sloupců v tabulce s\n",
    "   multiindexem](../snippety/multiindex-pokrocili.ipynb). Zkuste pro systém s\n",
    "   koeficienty nastavující oscilatorické chování zakreslit časový průběh všech\n",
    "   populací do jednoho obrázku."
   ]
  },
  {
   "attachments": {},
   "cell_type": "markdown",
   "id": "8b26ac23",
   "metadata": {},
   "source": []
  }
 ],
 "metadata": {
  "kernelspec": {
   "display_name": "Python 3",
   "language": "python",
   "name": "python3"
  },
  "language_info": {
   "codemirror_mode": {
    "name": "ipython",
    "version": 3
   },
   "file_extension": ".py",
   "mimetype": "text/x-python",
   "name": "python",
   "nbconvert_exporter": "python",
   "pygments_lexer": "ipython3",
   "version": "3.11.0"
  },
  "varInspector": {
   "cols": {
    "lenName": 16,
    "lenType": 16,
    "lenVar": 40
   },
   "kernels_config": {
    "python": {
     "delete_cmd_postfix": "",
     "delete_cmd_prefix": "del ",
     "library": "var_list.py",
     "varRefreshCmd": "print(var_dic_list())"
    },
    "r": {
     "delete_cmd_postfix": ") ",
     "delete_cmd_prefix": "rm(",
     "library": "var_list.r",
     "varRefreshCmd": "cat(var_dic_list()) "
    }
   },
   "types_to_exclude": [
    "module",
    "function",
    "builtin_function_or_method",
    "instance",
    "_Feature"
   ],
   "window_display": false
  },
  "vscode": {
   "interpreter": {
    "hash": "4073845fb37e5e91a7e4a5aa5d982e60b118e70ad895c083f27423fb55749714"
   }
  }
 },
 "nbformat": 4,
 "nbformat_minor": 5
}
