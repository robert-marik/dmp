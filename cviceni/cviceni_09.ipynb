{
 "cells": [
  {
   "cell_type": "markdown",
   "id": "0f2e5117",
   "metadata": {},
   "source": [
    "# Modely konkurence populací\n"
   ]
  },
  {
   "cell_type": "code",
   "execution_count": null,
   "id": "beedb4c4",
   "metadata": {},
   "outputs": [],
   "source": [
    "import numpy as np\n",
    "import matplotlib.pyplot as plt\n",
    "import pandas as pd\n",
    "from scipy.integrate import solve_ivp"
   ]
  },
  {
   "attachments": {},
   "cell_type": "markdown",
   "id": "fe9c666c",
   "metadata": {},
   "source": [
    "## Lotkův--Volterrův model konkurence dvou populací\n",
    "\n",
    "Namodelujte jednotlivé situace ve společenství dvou kořistí. Využijte tabulky s\n",
    "hierarchickými jmény sloupců [podle\n",
    "ukázky](../snippety/multiindex-pokrocili.ipynb) a přidejte pátý scénář se silnou konkurencí. "
   ]
  },
  {
   "cell_type": "code",
   "execution_count": null,
   "id": "5d40b9d9",
   "metadata": {},
   "outputs": [],
   "source": [
    "# Sem vložte svůj kód."
   ]
  },
  {
   "cell_type": "markdown",
   "id": "872ca786",
   "metadata": {},
   "source": [
    "## Konkurence tří populací"
   ]
  },
  {
   "cell_type": "code",
   "execution_count": null,
   "id": "cc17bfa3",
   "metadata": {},
   "outputs": [],
   "source": [
    "meze = [0,200]\n",
    "def konkurence_tri(t,X,\n",
    "                   a=1,b=1,c=0.4,d=0.4,\n",
    "                   alpha=1,beta=0.5,gamma=1,delta=0.5,\n",
    "                   m=1,n=0.7,o=0.2,p=1\n",
    "                   ):\n",
    "    x,y,z = X # Rozbalení vektoru na tři populace\n",
    "    return [\n",
    "        (a-b*x-c*y-d*z)*x, # Vývoj populace x\n",
    "        (alpha-beta*x-gamma*y-delta*z)*y, # Vývoj populace y\n",
    "        (m-n*x-o*y-p*z)*z # Vývoj populace z\n",
    "        ]\n",
    "\n",
    "# Hodnoty parametrů a,b,c,d,...\n",
    "parametry = (1, 1,   0.3, 1.6,\n",
    "             1, 1.8, 1,   0.2,\n",
    "             1, 0.3, 1.8, 1  )\n",
    "\n",
    "pocatecni_podminky = [ [.2,.5,0.8],\n",
    "                       [0,.5,0.8],\n",
    "                     ]\n",
    "populace = [\"x\",\"y\",\"z\"]\n",
    "idx = pd.MultiIndex.from_tuples([],names=[\"pocatecni_podminka\",\"populace\"])\n",
    "df = pd.DataFrame(columns=idx)\n",
    "t = np.linspace(*meze,400)\n",
    "df[\"t\"] = t\n",
    "\n",
    "for i,pocatecni_podminka in enumerate(pocatecni_podminky):\n",
    "    reseni = solve_ivp(\n",
    "        lambda t,X: konkurence_tri(t,X,*parametry),\n",
    "        meze,\n",
    "        pocatecni_podminka,\n",
    "        t_eval=t,\n",
    "        ).y.T\n",
    "    df[[(i,p) for p in populace]] = reseni\n",
    "df\n"
   ]
  },
  {
   "cell_type": "code",
   "execution_count": null,
   "id": "38141ad5",
   "metadata": {},
   "outputs": [],
   "source": [
    "\n",
    "fig,ax = plt.subplots(len(populace),sharex=True) # Tři obrázky se sdílenou časovou osou\n",
    "for a,kdo in zip(ax,populace): # Cyklus přes dvojice obrázek+populace\n",
    "    a.plot(df[\"t\"],df.xs(level=1,key=kdo,axis=1))  # Grafy pro obě počáteční podmínky\n",
    "    a.set(ylabel=f\"Populace ${kdo}$\") # Popisek na svislou osu\n",
    "\n",
    "# Kosmetika: nadpis obrázku, text legendy v jednom z obrázků a mezerování mezi obrázky\n",
    "plt.suptitle(\"Konkurence tří populací pro dvě různé počáteční podmínky\")        \n",
    "ax[-1].legend(\n",
    "    [\"Koexistence všech tří populací\",\n",
    "     \"Bez přítomnosti $x$ druh $y$ dominuje\"],loc=\"upper right\")\n",
    "plt.tight_layout()"
   ]
  },
  {
   "attachments": {},
   "cell_type": "markdown",
   "id": "ed1103b6",
   "metadata": {},
   "source": [
    "### Úkol\n",
    "\n",
    "1. Zkuste v systému nasadit ještě silnější míru konkurence. Všechny koeficienty\n",
    "mezidruhové konkurence, které jsou větší než jedna, zkuste dále navyšovat a sledovat, jestli neuvidíte\n",
    "nějaké další zajímavé chování. \n",
    "1. Zkuste snížit koeficienty charakterizující mezidruhovou konkurenci tak, aby\n",
    "   systém konvergoval ke stacionárnímu řešení. Poté zkuste jedné z populací\n",
    "   podpořit růst a sledujte, jestli má systém odezvu, která odpovídá provedené modifikaci.\n",
    "2. Vyzkoušejte si [ukázky selekce sloupců v tabulce s\n",
    "   multiindexem](../snippety/multiindex-pokrocili.ipynb). Zkuste pro systém s\n",
    "   koeficienty nastavující oscilatorické chování zakreslit časový průběh všech\n",
    "   populací do jednoho obrázku."
   ]
  },
  {
   "cell_type": "markdown",
   "id": "8b26ac23",
   "metadata": {},
   "source": []
  }
 ],
 "metadata": {
  "kernelspec": {
   "display_name": "Python 3",
   "language": "python",
   "name": "python3"
  },
  "language_info": {
   "codemirror_mode": {
    "name": "ipython",
    "version": 3
   },
   "file_extension": ".py",
   "mimetype": "text/x-python",
   "name": "python",
   "nbconvert_exporter": "python",
   "pygments_lexer": "ipython3",
   "version": "3.10.9"
  },
  "varInspector": {
   "cols": {
    "lenName": 16,
    "lenType": 16,
    "lenVar": 40
   },
   "kernels_config": {
    "python": {
     "delete_cmd_postfix": "",
     "delete_cmd_prefix": "del ",
     "library": "var_list.py",
     "varRefreshCmd": "print(var_dic_list())"
    },
    "r": {
     "delete_cmd_postfix": ") ",
     "delete_cmd_prefix": "rm(",
     "library": "var_list.r",
     "varRefreshCmd": "cat(var_dic_list()) "
    }
   },
   "types_to_exclude": [
    "module",
    "function",
    "builtin_function_or_method",
    "instance",
    "_Feature"
   ],
   "window_display": false
  },
  "vscode": {
   "interpreter": {
    "hash": "4073845fb37e5e91a7e4a5aa5d982e60b118e70ad895c083f27423fb55749714"
   }
  }
 },
 "nbformat": 4,
 "nbformat_minor": 5
}
