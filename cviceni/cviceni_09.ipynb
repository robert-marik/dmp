{
 "cells": [
  {
   "cell_type": "markdown",
   "id": "0f2e5117",
   "metadata": {},
   "source": [
    "# Modely konkurence populací\n"
   ]
  },
  {
   "cell_type": "code",
   "execution_count": null,
   "id": "beedb4c4",
   "metadata": {},
   "outputs": [],
   "source": [
    "import numpy as np\n",
    "import matplotlib.pyplot as plt\n",
    "import pandas as pd\n",
    "from scipy.integrate import solve_ivp"
   ]
  },
  {
   "cell_type": "markdown",
   "id": "fe9c666c",
   "metadata": {},
   "source": [
    "## Lotkův--Volterrův model konkurence dvou populací"
   ]
  },
  {
   "cell_type": "code",
   "execution_count": null,
   "id": "5d40b9d9",
   "metadata": {},
   "outputs": [],
   "source": []
  },
  {
   "cell_type": "markdown",
   "id": "872ca786",
   "metadata": {},
   "source": [
    "## Konkurence tří populací"
   ]
  },
  {
   "cell_type": "code",
   "execution_count": null,
   "id": "cc17bfa3",
   "metadata": {},
   "outputs": [],
   "source": [
    "meze = [0,200]\n",
    "def konkurence_tri(t,X,a=1,b=1,c=0.4,d=1.4,alpha=1,beta=1.5,gamma=1,delta=0.5,m=1,n=0.7,o=1.2,p=1):\n",
    "    x,y,z = X\n",
    "    return [(a-b*x-c*y-d*z)*x, (alpha-beta*x-gamma*y-delta*z)*y,(m-n*x-o*y-p*z)*z]\n",
    "parametry = (1, 1,   0.3, 1.6,\n",
    "             1, 1.8, 1,   0.2,\n",
    "             1, 0.3, 1.8, 1  )\n",
    "\n",
    "pocatecni_podminky = [ [.2,.5,0.8],\n",
    "                       [0,.5,0.8],\n",
    "                     ]\n",
    "reseni = [\n",
    "    solve_ivp(\n",
    "        konkurence_tri,\n",
    "        meze,\n",
    "        pocatecni_podminka,\n",
    "        dense_output=True,\n",
    "        args=parametry\n",
    "        )\n",
    "    for pocatecni_podminka in pocatecni_podminky];"
   ]
  },
  {
   "cell_type": "code",
   "execution_count": null,
   "id": "2cbe4c1f",
   "metadata": {},
   "outputs": [],
   "source": [
    "t = np.linspace(*meze,400)\n",
    "popisky=[rf\"Populace ${i}$\" for i in [\"x\",\"y\",\"z\"]]\n",
    "fig,ax = plt.subplots(3,1,sharex=True)    \n",
    "\n",
    "for barva,res in enumerate(reseni):\n",
    "    for i in range(len(ax)):\n",
    "        ax[i].plot(t,res.sol(t)[i],color=\"C\"+str(barva),lw=2)\n",
    "        ax[i].set(\n",
    "            ylim=(-0.02,1.02),\n",
    "            ylabel=popisky[i],\n",
    "        )\n",
    "plt.suptitle(\"Konkurence tří populací pro dvě různé počáteční podmínky\")        \n",
    "ax[0].legend([\"Koexistence všech tří populací\",r\"Bez přítomnosti $x$ druh $y$ dominuje\"]);"
   ]
  },
  {
   "cell_type": "markdown",
   "id": "ed1103b6",
   "metadata": {},
   "source": [
    "### Úkol\n",
    "\n",
    "1. Zaujalo vás oscilatorické chování systému? Chová se takto systém skutečně, nebo\n",
    "jde jenom o nějakou zaokrouhlovací a numerickou chybu. Navrhněte postup, jak\n",
    "toto zjistit. Návod: pročtěte si parametry příkazu `solve_ivp` a promyslete, který\n",
    "má vliv na přesnost aproximace řešení.\n",
    "2. Zkuste v systému nasadit ještě silnější míru konkurence. Všechny koeficienty\n",
    "   mezidruhové konkurence, které jsou větší než jedna, zkuste dále navyšovat a sledovat, jestli neuvidíte\n",
    "   nějaké další zajímavé chování."
   ]
  },
  {
   "cell_type": "markdown",
   "id": "8b26ac23",
   "metadata": {},
   "source": []
  }
 ],
 "metadata": {
  "kernelspec": {
   "display_name": "Python 3.8.10 64-bit",
   "language": "python",
   "name": "python3"
  },
  "language_info": {
   "codemirror_mode": {
    "name": "ipython",
    "version": 3
   },
   "file_extension": ".py",
   "mimetype": "text/x-python",
   "name": "python",
   "nbconvert_exporter": "python",
   "pygments_lexer": "ipython3",
   "version": "3.8.10"
  },
  "varInspector": {
   "cols": {
    "lenName": 16,
    "lenType": 16,
    "lenVar": 40
   },
   "kernels_config": {
    "python": {
     "delete_cmd_postfix": "",
     "delete_cmd_prefix": "del ",
     "library": "var_list.py",
     "varRefreshCmd": "print(var_dic_list())"
    },
    "r": {
     "delete_cmd_postfix": ") ",
     "delete_cmd_prefix": "rm(",
     "library": "var_list.r",
     "varRefreshCmd": "cat(var_dic_list()) "
    }
   },
   "types_to_exclude": [
    "module",
    "function",
    "builtin_function_or_method",
    "instance",
    "_Feature"
   ],
   "window_display": false
  },
  "vscode": {
   "interpreter": {
    "hash": "916dbcbb3f70747c44a77c7bcd40155683ae19c65e1c03b4aa3499c5328201f1"
   }
  }
 },
 "nbformat": 4,
 "nbformat_minor": 5
}
