{
 "cells": [
  {
   "cell_type": "markdown",
   "id": "1bfe0f62-a897-437e-8815-deaa8e88b92f",
   "metadata": {},
   "source": [
    "# Model populace s Alleeho efektem\n",
    "\n",
    "## Matematická formulace\n",
    "\n",
    "V některých případech může nastat situace, kdy rychlost růstu malé populace je menší, než rychlost růstu v logistickém modelu. Rozeznáváme silný a slabý efekt. Při silném Alleeho efektu je rychlost růstu malé populace záporná a malá populace vymírá. Při slabém Alleeho efektu je rychlost růstu vždy kladná. Matematickým modelem takového růstu může být rovnice\n",
    "$$\n",
    "\\frac{\\mathrm dN}{\\mathrm dt} = rN^{1+a}\\left(1-\\frac NK\\right),\n",
    "$$\n",
    "kde $N$ je velikost populace, koeficienty $r$ a $K$ jsou stejné jako v logistické rovnici a parametr $a$ definuje intenzitu Alleeho efektu. Pro $a=0$ se rovnice redukuje na klasickou logistickou rovnici.\n",
    "\n",
    "## Numerické simulace\n",
    "\n",
    "Model byl prozkoumán pro nulovou a dvě kladné hodnoty parametru $a$. Parametry $r$ a $K$ byly nastaveny na jednotkové hodnoty. Následující obrázek ukazuje, že\n",
    "pro $a>0$ je rychlost růstu populace nižší."
   ]
  },
  {
   "cell_type": "code",
   "execution_count": null,
   "id": "b2a0b0a8-1cc4-48af-bea0-85264ce90a6e",
   "metadata": {
    "tags": []
   },
   "outputs": [],
   "source": [
    "import numpy as np\n",
    "import pandas as pd\n",
    "import matplotlib.pyplot as plt\n",
    "from scipy.integrate import solve_ivp\n",
    "plt.rcParams['text.usetex'] = True  # stejny tvar matematickych vyrazu v obrazcich i textu\n",
    "\n",
    "n = 500\n",
    "N = np.linspace(0,1,n)\n",
    "seznam_a = [0,0.5,1]\n",
    "meze = [0,30]\n",
    "pocatecni_podminky = [.05]\n",
    "\n",
    "def model(t,N,r=1,K=1,a=0):\n",
    "    return r*N**(1+a)*(1-N/K)\n",
    "\n",
    "data = {a: model(0,N,a=a) for a in seznam_a}\n",
    "df = pd.DataFrame(data, index=N)\n",
    "ax = df.plot()\n",
    "ax.set(ylabel=\"Rychlost růstu\", xlabel=\"Velikost populace\")\n",
    "ax.legend([rf\"$a={a:.1f}$\" for a in seznam_a], title=\"Intenzita Alleeho efektu\");"
   ]
  },
  {
   "cell_type": "markdown",
   "id": "333b7ec3-fd7e-46e2-98fd-b99195a69c81",
   "metadata": {},
   "source": [
    "V důsledku nižší rychlosti růstu jsou růstové křivky populace pozvolnější. I s Alleeho efektem populace doroste do nosné kapacity prostředí $K$, ovšem za delší čas."
   ]
  },
  {
   "cell_type": "code",
   "execution_count": null,
   "id": "e13c0130-e4a1-4a00-ada5-487d25e01f94",
   "metadata": {
    "tags": []
   },
   "outputs": [],
   "source": [
    "t=np.linspace(*meze, n)  # definiční obor, v těchto bodech budeme hledat řešení\n",
    "reseni = {a: solve_ivp(\n",
    "                   lambda t,N:model(t,N,a=a),\n",
    "                   meze,\n",
    "                   pocatecni_podminky,\n",
    "                   t_eval=t\n",
    "                   ).y[0] for a in seznam_a}\n",
    "df_reseni = pd.DataFrame(reseni, index=t)\n",
    "ax = df_reseni.plot()\n",
    "ax.set(xlabel=\"čas\", ylabel=\"velikost populace\", title=\"Růst populace s Alleeho efektem\")\n",
    "ax.legend([rf\"$a={a:.1f}$\" for a in seznam_a], title=r\"Intenzita Alleeho efektu\");"
   ]
  },
  {
   "cell_type": "markdown",
   "id": "f65b3162-785a-4934-b4de-af201b91d6e9",
   "metadata": {},
   "source": [
    "*Poznámka:* \n",
    "\n",
    "* Toto je ukázka požadavků na zápočtovou písemku a současně na seminární práci pro náhradu docházky. \n",
    "* Rozsah odpovídá tomu, co bude nutné udělat během zápočtové písemky, rozsah pro použití jako  náhrady za docházku se domluví individuálně podle toho, kolik zaměškaných hodin bude potřeba nahradit. \n",
    "* Cílem je ukázat, že umíte napsat dokument obsahující matematické značky a že umíte nasimulovat chování nějakého modelu relevantního v evoluční ekologii."
   ]
  }
 ],
 "metadata": {
  "kernelspec": {
   "display_name": "Python 3 (ipykernel)",
   "language": "python",
   "name": "python3"
  },
  "language_info": {
   "codemirror_mode": {
    "name": "ipython",
    "version": 3
   },
   "file_extension": ".py",
   "mimetype": "text/x-python",
   "name": "python",
   "nbconvert_exporter": "python",
   "pygments_lexer": "ipython3",
   "version": "3.10.10"
  }
 },
 "nbformat": 4,
 "nbformat_minor": 5
}
